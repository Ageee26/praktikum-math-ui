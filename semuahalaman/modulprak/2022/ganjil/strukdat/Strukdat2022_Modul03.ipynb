{
 "cells": [
  {
   "cell_type": "markdown",
   "metadata": {},
   "source": [
    "# Modul 3 | Pengenalan `class`"
   ]
  },
  {
   "cell_type": "markdown",
   "metadata": {},
   "source": [
    "Pada praktikum kali ini, kita akan membahas tentang `class`, yang nantinya akan kita gunakan untuk membuat berbagai jenis struktur data."
   ]
  },
  {
   "cell_type": "markdown",
   "metadata": {},
   "source": [
    "## Class"
   ]
  },
  {
   "cell_type": "markdown",
   "metadata": {},
   "source": [
    "Class dapat digambarkan sebagai pabrik dari suatu objek. Dengan kata lain, class mengandung *blueprint* yang menggambarkan cara membuat objek tersebut. Setiap objek (atau instansi) akan mempunyai atribut dan *method*. Atribut adalah variabel yang menggambarkan karakteristik dari objek tersebut, dan *method* adalah fungsi yang dapat dilakukan oleh objek tersebut."
   ]
  },
  {
   "cell_type": "markdown",
   "metadata": {},
   "source": [
    "Syntax untuk membuat class pada Python adalah:\n",
    "\n",
    "```{.python}\n",
    "class ClassName:\n",
    "    <statement>\n",
    "    <statement>\n",
    "    .\n",
    "    .\n",
    "    .\n",
    "    <statement>\n",
    "```"
   ]
  },
  {
   "cell_type": "markdown",
   "metadata": {},
   "source": [
    "Sebagai contoh, kita akan membuat suatu class kosong menggunakan syntax `pass`."
   ]
  },
  {
   "cell_type": "code",
   "execution_count": 1,
   "metadata": {},
   "outputs": [],
   "source": [
    "class MyClass:\n",
    "    pass"
   ]
  },
  {
   "cell_type": "markdown",
   "metadata": {},
   "source": [
    "Pada contoh di atas, `MyClass` adalah nama dari class, dan `pass` adalah salah satu statement pada class tersebut. Untuk membuat suatu instansi dari class yang telah kita buat, mirip seperti memanggil fungsi:"
   ]
  },
  {
   "cell_type": "code",
   "execution_count": 3,
   "metadata": {},
   "outputs": [
    {
     "name": "stdout",
     "output_type": "stream",
     "text": [
      "<__main__.MyClass object at 0x1058f6cb0>\n",
      "<__main__.MyClass object at 0x1057cebc0>\n"
     ]
    }
   ],
   "source": [
    "obj_1 = MyClass()\n",
    "print(obj_1)\n",
    "obj_2 = MyClass()\n",
    "print(obj_2)"
   ]
  },
  {
   "cell_type": "markdown",
   "metadata": {},
   "source": [
    "Kedua variabel tersebut adalah instansi dari `MyClass` yang telah kita buat. Kode hex di akhir print adalah *address* dari instansi tersebut pada memori."
   ]
  },
  {
   "cell_type": "markdown",
   "metadata": {},
   "source": [
    "Sekarang kita akan mendefinisikan variabel pada kelas `MyClass`:"
   ]
  },
  {
   "cell_type": "code",
   "execution_count": 4,
   "metadata": {},
   "outputs": [],
   "source": [
    "class MyClass:\n",
    "    var = 9"
   ]
  },
  {
   "cell_type": "markdown",
   "metadata": {},
   "source": [
    "Untuk memanggil variabel tersebut, kita panggil instansi yang telah dibuat, diikuti dengan titik, lalu nama variabel tersebut"
   ]
  },
  {
   "cell_type": "code",
   "execution_count": 5,
   "metadata": {},
   "outputs": [
    {
     "name": "stdout",
     "output_type": "stream",
     "text": [
      "9\n",
      "9\n"
     ]
    }
   ],
   "source": [
    "obj_1 = MyClass()\n",
    "print(obj_1.var)\n",
    "\n",
    "obj_2 = MyClass()\n",
    "print(obj_2.var)"
   ]
  },
  {
   "cell_type": "markdown",
   "metadata": {},
   "source": [
    "## *Method* Instansi"
   ]
  },
  {
   "cell_type": "markdown",
   "metadata": {},
   "source": [
    "Suatu fungsi yang didefinisikan pada class disebut *method*. Suatu *method* dari instansi membutuhkan instansi tersebut agar bisa dipanggil. Dalam membuat method, parameter pertama selalu `self`. `self` adalah parameter dari instansi yang dibuat."
   ]
  },
  {
   "cell_type": "code",
   "execution_count": null,
   "metadata": {},
   "outputs": [],
   "source": []
  }
 ],
 "metadata": {
  "kernelspec": {
   "display_name": "Python 3",
   "language": "python",
   "name": "python3"
  },
  "language_info": {
   "codemirror_mode": {
    "name": "ipython",
    "version": 3
   },
   "file_extension": ".py",
   "mimetype": "text/x-python",
   "name": "python",
   "nbconvert_exporter": "python",
   "pygments_lexer": "ipython3",
   "version": "3.10.11"
  },
  "orig_nbformat": 4
 },
 "nbformat": 4,
 "nbformat_minor": 2
}
