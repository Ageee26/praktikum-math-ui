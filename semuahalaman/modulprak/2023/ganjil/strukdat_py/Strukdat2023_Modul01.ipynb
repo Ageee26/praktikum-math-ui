{
 "cells": [
  {
   "cell_type": "markdown",
   "metadata": {},
   "source": [
    "# Modul 1 Struktur Data: Tipe Data di Python"
   ]
  },
  {
   "cell_type": "markdown",
   "metadata": {},
   "source": [
    "Kembali ke [Struktur Data (dengan Python)](strukdat2023.qmd)"
   ]
  },
  {
   "cell_type": "markdown",
   "metadata": {},
   "source": [
    "Selamat datang di praktikum Struktur Data! Sesuai nama mata kuliahnya, kita akan mempelajari cara mengimplementasikan (membuat) berbagai jenis struktur data dengan bahasa pemrograman Python. Nantinya, berbagai struktur data akan dibentuk \"di atas\" struktur data *array* dan yang namanya *linked list*, tetapi yang lebih mendasar lagi daripada keduanya adalah **tipe data**.\n",
    "\n",
    "Di pertemuan pertama ini, kita akan membahas tentang berbagai tipe data yang ada di Python, baik yang sudah kita kenal di mata kuliah Algoritma dan Pemrograman (pasti tersedia di semua bahasa pemrograman) maupun beberapa tipe data khusus yang ada di Python tetapi belum tentu ada di bahasa pemrograman lain. Tujuannya agar kalian lebih mahir dan lebih mudah ketika menggunakan Python untuk menyelesaikan berbagai masalah dalam kehidupan sehari-hari :D\n",
    "\n",
    "Kita juga akan membahas tentang *array* dari `numpy` di Python (bisa disebut *static homogeneous array* atau biasa disebut *array* saja), dan bedanya dengan `list` di Python (*dynamic heterogeneous array*)."
   ]
  },
  {
   "cell_type": "markdown",
   "metadata": {},
   "source": [
    "## Review Tipe Data\n",
    "Pada AlProg, ada beberapa jenis tipe data yang kalian pelajari, yaitu:\n",
    "\n",
    "- Numerik: `int`, `float`\n",
    "- Teks: `string`\n",
    "- List, Tuple"
   ]
  },
  {
   "cell_type": "markdown",
   "metadata": {},
   "source": [
    "### Tipe Numerik"
   ]
  },
  {
   "cell_type": "code",
   "execution_count": 1,
   "metadata": {},
   "outputs": [
    {
     "name": "stdout",
     "output_type": "stream",
     "text": [
      "<class 'int'>\n",
      "<class 'int'>\n"
     ]
    }
   ],
   "source": [
    "# Tipe Data Integer\n",
    "a1 = 5\n",
    "a2 = -180\n",
    "\n",
    "# Mengecek tipe data menggunakan syntax type\n",
    "print(type(a1))\n",
    "print(type(a2))"
   ]
  },
  {
   "cell_type": "code",
   "execution_count": 2,
   "metadata": {},
   "outputs": [
    {
     "name": "stdout",
     "output_type": "stream",
     "text": [
      "<class 'float'>\n",
      "<class 'float'>\n",
      "<class 'float'>\n"
     ]
    }
   ],
   "source": [
    "# Tipe data float\n",
    "b1 = 2.54\n",
    "b2 = -3.141592\n",
    "b3 = float('inf') # memasukkan infinity sebagai float\n",
    "\n",
    "# Mengecek tipe data\n",
    "print(type(b1))\n",
    "print(type(b2))\n",
    "print(type(b3))"
   ]
  },
  {
   "cell_type": "code",
   "execution_count": 3,
   "metadata": {},
   "outputs": [
    {
     "name": "stdout",
     "output_type": "stream",
     "text": [
      "-175\n",
      "-7.979643680000001\n",
      "59.618879710940476\n",
      "3.141592\n",
      "<class 'float'>\n"
     ]
    }
   ],
   "source": [
    "# Operasi pada numerik\n",
    "print(a1 + a2)\n",
    "print(b1 * b2)\n",
    "print(a1 ** b1)\n",
    "print(abs(b2))\n",
    "\n",
    "# Jika int bertemu float, maka tipe datanya akan menjadi float,\n",
    "# walaupun float nya sebenarnya bulat\n",
    "print(type(a1 ** b1))"
   ]
  },
  {
   "cell_type": "markdown",
   "metadata": {},
   "source": [
    "### Tipe Teks"
   ]
  },
  {
   "cell_type": "code",
   "execution_count": 4,
   "metadata": {},
   "outputs": [
    {
     "name": "stdout",
     "output_type": "stream",
     "text": [
      "<class 'str'>\n",
      "<class 'str'>\n"
     ]
    }
   ],
   "source": [
    "# Tipe Data String\n",
    "c1 = 'string biasa'\n",
    "c2 = '''string\n",
    "sampe\n",
    "bawah'''\n",
    "\n",
    "# Mengecek Tipe Data\n",
    "print(type(c1))\n",
    "print(type(c2))"
   ]
  },
  {
   "cell_type": "markdown",
   "metadata": {},
   "source": [
    "Pada `string` dapat dilakukan penggabungan (`s + s`), penggandaan (`s * n`), *slicing* (`s[a:b]`), cari panjang (`len`), maksimum-minimum (max-min di sini diliat dari urutannya di ASCII), dll."
   ]
  },
  {
   "cell_type": "code",
   "execution_count": 5,
   "metadata": {},
   "outputs": [
    {
     "name": "stdout",
     "output_type": "stream",
     "text": [
      "ayamgeprek\n",
      "es jerukes jerukes jerukes jerukes jeruk\n"
     ]
    }
   ],
   "source": [
    "print('ayam' + 'geprek')\n",
    "print(5 * 'es jeruk') # dia ga nambahin whitespace yaa"
   ]
  },
  {
   "cell_type": "markdown",
   "metadata": {},
   "source": [
    "## List, Tuple, dan Set"
   ]
  },
  {
   "cell_type": "markdown",
   "metadata": {},
   "source": [
    "Ketiganya dapat digunakan untuk menyimpan banyak item sekaligus."
   ]
  },
  {
   "cell_type": "code",
   "execution_count": 2,
   "metadata": {},
   "outputs": [
    {
     "name": "stdout",
     "output_type": "stream",
     "text": [
      "[10, -1, 13.7]\n",
      "['apel', 'pisang', 'mangga']\n",
      "[-75, 'kartu', True]\n",
      "['r', 'u', 'm', 'p', 'u', 't']\n"
     ]
    }
   ],
   "source": [
    "# Membuat list\n",
    "list1 = [10, -1, 13.7]\n",
    "list2 = [\"apel\", \"pisang\", \"mangga\"]\n",
    "list3 = [-75, \"kartu\", True]\n",
    "list4 = list(\"rumput\")\n",
    "\n",
    "print(list1)\n",
    "print(list2)\n",
    "print(list3)\n",
    "print(list4)"
   ]
  },
  {
   "cell_type": "markdown",
   "metadata": {},
   "source": [
    "Perhatikan bahwa kita dapat menyimpan berbagai tipe data yang berbeda-beda di dalam `list` yang sama. Kita juga dapat memodifikasi `list`:"
   ]
  },
  {
   "cell_type": "code",
   "execution_count": 3,
   "metadata": {},
   "outputs": [
    {
     "name": "stdout",
     "output_type": "stream",
     "text": [
      "[100, 75, 55, 60]\n"
     ]
    }
   ],
   "source": [
    "nilai = [100, 75, 30, 60]\n",
    "nilai[2] = 55\n",
    "\n",
    "print(nilai)"
   ]
  },
  {
   "cell_type": "markdown",
   "metadata": {},
   "source": [
    "Bahkan, kita dapat dengan mudah menambahkan elemen di belakang `list`:"
   ]
  },
  {
   "cell_type": "code",
   "execution_count": 4,
   "metadata": {},
   "outputs": [
    {
     "name": "stdout",
     "output_type": "stream",
     "text": [
      "['merah', 'hijau', 'biru', 'kuning', 'putih', 'hitam']\n"
     ]
    }
   ],
   "source": [
    "warna = [\"merah\", \"hijau\", \"biru\"]\n",
    "warna.append(\"kuning\")\n",
    "warna.append(\"putih\")\n",
    "warna.append(\"hitam\")\n",
    "\n",
    "print(warna)"
   ]
  },
  {
   "cell_type": "markdown",
   "metadata": {},
   "source": [
    "Selanjutnya, mari kita coba membuat `tuple`."
   ]
  },
  {
   "cell_type": "code",
   "execution_count": 6,
   "metadata": {},
   "outputs": [
    {
     "name": "stdout",
     "output_type": "stream",
     "text": [
      "('k', 'a', 'c', 'a', 'n', 'g')\n"
     ]
    }
   ],
   "source": [
    "# Membuat tuple\n",
    "t1 = (2, 3)\n",
    "t2 = (4, 'abc')\n",
    "t3 = tuple('kacang')\n",
    "\n",
    "print(t1)\n",
    "print(t2)\n",
    "print(t3)"
   ]
  },
  {
   "cell_type": "markdown",
   "metadata": {},
   "source": [
    "Tuple dapat dianggap sebagai list yang isinya tidak bisa diganti, ditambah, ataupun dihapus. Namun masih berlaku operasi list yang tidak termasuk editing. Kelebihan tuple adalah bisa menjadi key untuk dict (akan dijelaskan kemudian)"
   ]
  },
  {
   "cell_type": "code",
   "execution_count": 7,
   "metadata": {},
   "outputs": [
    {
     "name": "stdout",
     "output_type": "stream",
     "text": [
      "{'bebek', 'ayam', 'kuda'}\n",
      "{'a', 'c', 'g', 'n', 'k'}\n"
     ]
    }
   ],
   "source": [
    "# Membuat set\n",
    "s1 = {'ayam', 'bebek', 'ayam', 'kuda'}\n",
    "s2 = set(list('kacang'))\n",
    "\n",
    "print(s1)\n",
    "print(s2)"
   ]
  },
  {
   "cell_type": "markdown",
   "metadata": {},
   "source": [
    "Set dianggap sebagai list yang tidak mempunyai urutan, sehingga tidak ada indexing dan slicing. Kelebihan utamanya adalah set hanya bisa mempunyai elemen yang unik (tidak bisa ada elemen yang sama di set). Hal ini berguna jika kalian mempunyai list yang kalian ingin hilangkan dobel-dobelnya (efek sampingnya, indeksnya jadi hilang sehingga bisa saja isinya tak beraturan)."
   ]
  },
  {
   "cell_type": "markdown",
   "metadata": {},
   "source": [
    "Beberapa operator himpunan matematika juga ada di set, seperti subset, superset, disjoint, union, intersection, dll."
   ]
  },
  {
   "cell_type": "code",
   "execution_count": 8,
   "metadata": {},
   "outputs": [
    {
     "name": "stdout",
     "output_type": "stream",
     "text": [
      "{'m', 'i', 'e', 'a', 't', 'k'}\n",
      "{'i', 's', 'a', 't', 'k'}\n",
      "{'i', 'a', 't', 'u', 'r', 'k'}\n"
     ]
    }
   ],
   "source": [
    "s3 = set('matematika')\n",
    "s4 = set('statistika')\n",
    "s5 = set('aktuaria')\n",
    "\n",
    "print(s3)\n",
    "print(s4)\n",
    "print(s5)"
   ]
  },
  {
   "cell_type": "code",
   "execution_count": 9,
   "metadata": {},
   "outputs": [
    {
     "name": "stdout",
     "output_type": "stream",
     "text": [
      "{'k', 'a', 't', 'i'}\n",
      "{'m', 'i', 'e', 's', 'a', 't', 'k'}\n"
     ]
    }
   ],
   "source": [
    "print(s3 & s4) # Irisan\n",
    "print(s3 | s4) # Gabungan"
   ]
  },
  {
   "cell_type": "markdown",
   "metadata": {},
   "source": [
    "## List Comprehension"
   ]
  },
  {
   "cell_type": "markdown",
   "metadata": {},
   "source": [
    "Terkadang kita membangun list menggunakan `for` loop, dan for loop tersebut bisa saja memakan beberapa *line* dari kode kalian. Dengan list comprehension, kita dapat membangun list tersebut hanya menggunakan 1 line dan bisa saja kode kita menjadi lebih enak untuk dibaca."
   ]
  },
  {
   "cell_type": "markdown",
   "metadata": {},
   "source": [
    "Sebagai contoh, kita ingin membuat list yang berisi nilai dari $2^x$:"
   ]
  },
  {
   "cell_type": "code",
   "execution_count": 10,
   "metadata": {},
   "outputs": [
    {
     "name": "stdout",
     "output_type": "stream",
     "text": [
      "[1, 2, 4, 8, 16, 32]\n"
     ]
    }
   ],
   "source": [
    "expo = []\n",
    "for i in range(6):\n",
    "    expo.append(2**i)\n",
    "\n",
    "print(expo)"
   ]
  },
  {
   "cell_type": "markdown",
   "metadata": {},
   "source": [
    "Jika menggunakan list comprehension, akan menjadi seperti ini:"
   ]
  },
  {
   "cell_type": "code",
   "execution_count": 11,
   "metadata": {},
   "outputs": [
    {
     "name": "stdout",
     "output_type": "stream",
     "text": [
      "[1, 2, 4, 8, 16, 32]\n"
     ]
    }
   ],
   "source": [
    "expo = [2 ** i for i in range(6)]\n",
    "\n",
    "print(expo)"
   ]
  },
  {
   "cell_type": "markdown",
   "metadata": {},
   "source": [
    "List comprehension dibuat dengan membuat list yang berisi suatu ekspresi lalu diikuti dengan `for`, dan jika diinginkan, bisa ditambah lagi for atau if. Hasilnya akan membuat seolah kita menjalankan `for` loop untuk membuat list tersebut, namun hanya menggunakan satu line.\n",
    "\n",
    "Seperti disinggung sebelumnya, list comprehension dapat menggunakan lebih dari satu variabel pada ekspresinya. Hal ini ekivalen dengan jika kita menggunakan nested `for` loop untuk membuat list tersebut."
   ]
  },
  {
   "cell_type": "markdown",
   "metadata": {},
   "source": [
    "Sebagai contoh:"
   ]
  },
  {
   "cell_type": "code",
   "execution_count": 12,
   "metadata": {},
   "outputs": [
    {
     "name": "stdout",
     "output_type": "stream",
     "text": [
      "[(1, 2), (1, 4), (1, 6), (3, 2), (3, 4), (3, 6), (5, 2), (5, 4), (5, 6)]\n"
     ]
    }
   ],
   "source": [
    "crossprod = [(x, y) for x in [1, 3, 5] for y in [2, 4, 6]]\n",
    "print(crossprod)"
   ]
  },
  {
   "cell_type": "markdown",
   "metadata": {},
   "source": [
    "Potongan kode di atas ekivalen dengan:"
   ]
  },
  {
   "cell_type": "code",
   "execution_count": 13,
   "metadata": {},
   "outputs": [
    {
     "name": "stdout",
     "output_type": "stream",
     "text": [
      "[(1, 2), (1, 4), (1, 6), (3, 2), (3, 4), (3, 6), (5, 2), (5, 4), (5, 6)]\n"
     ]
    }
   ],
   "source": [
    "crossprod = []\n",
    "for x in [1, 3, 5]:\n",
    "    for y in [2, 4, 6]:\n",
    "        crossprod.append((x, y))\n",
    "\n",
    "print(crossprod)"
   ]
  },
  {
   "cell_type": "markdown",
   "metadata": {},
   "source": [
    "Ingat bahwa urutan pembacaan setiap ekspresi `for` dan `if` pada list comprehension adalah dari kiri ke kanan."
   ]
  },
  {
   "cell_type": "markdown",
   "metadata": {},
   "source": [
    "List comprehension pun juga bisa di-nesting."
   ]
  },
  {
   "cell_type": "code",
   "execution_count": 14,
   "metadata": {},
   "outputs": [
    {
     "name": "stdout",
     "output_type": "stream",
     "text": [
      "[[1, 4, 7], [2, 5, 8], [3, 6, 9]]\n"
     ]
    }
   ],
   "source": [
    "mat = [[1, 2, 3],\n",
    "       [4, 5, 6],\n",
    "       [7, 8, 9]]\n",
    "\n",
    "mattr = [[ro[i] for ro in mat] for i in range(len(mat))]\n",
    "print(mattr)"
   ]
  },
  {
   "cell_type": "markdown",
   "metadata": {},
   "source": [
    "## Dictionary"
   ]
  },
  {
   "cell_type": "markdown",
   "metadata": {},
   "source": [
    "Dictionary dapat dianggap sebagai set yang tiap elemennya memiliki 2 jenis nilai, yaitu key dan value. Strukturnya adalah `{key1:value1, key2:value2, ....}`."
   ]
  },
  {
   "cell_type": "code",
   "execution_count": 15,
   "metadata": {},
   "outputs": [],
   "source": [
    "# Membuat dictionary\n",
    "d1 = {'a': 1, 'b': 2, 'c': 3}\n",
    "d2 = {'kopi': 6000, 'teh': 5000, 'susu': 7000}"
   ]
  },
  {
   "cell_type": "markdown",
   "metadata": {},
   "source": [
    "Tidak seperti list yang diindeks menggunakan suatu range bilangan, dictionary diindeks meenggunakan key. Tipe data dari value boleh bebas, namun untuk key harus yang immutable (agak oversimplification tapi artinya tidak bisa diubah), sehingga tuple juga berguna untuk menjadi key dari dictionary"
   ]
  },
  {
   "cell_type": "code",
   "execution_count": 16,
   "metadata": {},
   "outputs": [
    {
     "name": "stdout",
     "output_type": "stream",
     "text": [
      "{(2, 3): 6, (3, 4): 12}\n"
     ]
    }
   ],
   "source": [
    "d3 = {(2, 3): 6, (3, 4): 12}\n",
    "print(d3)"
   ]
  },
  {
   "cell_type": "markdown",
   "metadata": {},
   "source": [
    "Untuk memanggil suatu value, panggil layaknya list, namun indeksnya menggunakan key"
   ]
  },
  {
   "cell_type": "code",
   "execution_count": 17,
   "metadata": {},
   "outputs": [
    {
     "name": "stdout",
     "output_type": "stream",
     "text": [
      "12\n"
     ]
    }
   ],
   "source": [
    "print(d3[(3, 4)])"
   ]
  },
  {
   "cell_type": "markdown",
   "metadata": {},
   "source": [
    "Untuk meneambah suatu pasangan key:value baru, cukup menggunakan `d[key] = value`, dan akan masuk ke dict tersebut."
   ]
  },
  {
   "cell_type": "code",
   "execution_count": 18,
   "metadata": {},
   "outputs": [
    {
     "name": "stdout",
     "output_type": "stream",
     "text": [
      "{(2, 3): 6, (3, 4): 12, (3, 5): 15}\n"
     ]
    }
   ],
   "source": [
    "d3[(3, 5)] = 15\n",
    "print(d3)"
   ]
  },
  {
   "cell_type": "markdown",
   "metadata": {},
   "source": [
    "Jika ingin menghapus elemen pada dict, dapat menggunakan `del`"
   ]
  },
  {
   "cell_type": "code",
   "execution_count": 19,
   "metadata": {},
   "outputs": [
    {
     "name": "stdout",
     "output_type": "stream",
     "text": [
      "{(3, 4): 12, (3, 5): 15}\n"
     ]
    }
   ],
   "source": [
    "del d3[(2, 3)]\n",
    "print(d3)"
   ]
  },
  {
   "cell_type": "markdown",
   "metadata": {},
   "source": [
    "## Bagaimana dengan *array*?"
   ]
  },
  {
   "cell_type": "markdown",
   "metadata": {},
   "source": [
    "Sebenarnya, `list` yang ada di Python itu sedikit berbeda dengan *array* (larik) yang biasa dibahas di Alprog. Suatu *array*:\n",
    "\n",
    "* harus statis, yaitu ukurannya tidak dapat berubah;\n",
    "* harus homogen, yaitu tipe datanya harus sama semua.\n",
    "\n",
    "Di Python, kita bisa menggunakan *array* melalui `numpy`. Mari kita coba, import `numpy` dulu:"
   ]
  },
  {
   "cell_type": "code",
   "execution_count": 5,
   "metadata": {},
   "outputs": [],
   "source": [
    "import numpy as np"
   ]
  },
  {
   "cell_type": "markdown",
   "metadata": {},
   "source": [
    "Ada \"cara cepat\" untuk membuat *array* yang berisi nol semua atau berisi satu semua, yaitu dengan `numpy.zeros` dan `numpy.ones`:"
   ]
  },
  {
   "cell_type": "code",
   "execution_count": 6,
   "metadata": {},
   "outputs": [
    {
     "name": "stdout",
     "output_type": "stream",
     "text": [
      "[0. 0. 0. 0. 0.]\n",
      "[1. 1. 1.]\n"
     ]
    }
   ],
   "source": [
    "array1 = np.zeros(5)\n",
    "array2 = np.ones(3)\n",
    "\n",
    "print(array1)\n",
    "print(array2)"
   ]
  },
  {
   "cell_type": "markdown",
   "metadata": {},
   "source": [
    "## Selanjutnya bahas apa?"
   ]
  },
  {
   "cell_type": "markdown",
   "metadata": {},
   "source": [
    "Sekian praktikum Struktur Data minggu ini. Di pertemuan selanjutnya, kita akan belajar tentang `class`, di mana kita seolah-olah bisa membuat tipe data sendiri lho! Selain itu, fitur `class` ini akan sering kita gunakan untuk membuat berbagai struktur data ke depannya. Sekalian, kita akan membahas juga tentang *object-oriented programming* atau biasa disingkat OOP, yaitu semacam \"paradigma pemrograman\" atau \"gaya pemrograman\" di mana kita sering berurusan dengan `class`. Sampai jumpa!"
   ]
  }
 ],
 "metadata": {
  "kernelspec": {
   "display_name": "Python 3",
   "language": "python",
   "name": "python3"
  },
  "language_info": {
   "codemirror_mode": {
    "name": "ipython",
    "version": 3
   },
   "file_extension": ".py",
   "mimetype": "text/x-python",
   "name": "python",
   "nbconvert_exporter": "python",
   "pygments_lexer": "ipython3",
   "version": "3.10.11"
  },
  "orig_nbformat": 4
 },
 "nbformat": 4,
 "nbformat_minor": 2
}
