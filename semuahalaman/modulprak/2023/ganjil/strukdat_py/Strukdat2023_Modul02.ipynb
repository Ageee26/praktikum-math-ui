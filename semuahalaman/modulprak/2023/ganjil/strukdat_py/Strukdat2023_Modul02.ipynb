{
 "cells": [
  {
   "cell_type": "markdown",
   "metadata": {},
   "source": [
    "# Modul 2 Struktur Data: Pengantar OOP"
   ]
  },
  {
   "cell_type": "markdown",
   "metadata": {},
   "source": [
    "Kembali ke [Struktur Data (dengan Python)](strukdat2023.qmd)"
   ]
  },
  {
   "cell_type": "markdown",
   "metadata": {},
   "source": [
    "Pada praktikum kali ini, kita akan membahas tentang `class`, yang nantinya akan kita gunakan untuk membuat berbagai jenis struktur data. Sekaligus, kita juga akan membahas tentang *object-oriented programming* atau OOP (pemrograman berorientasi objek atau PBO), yaitu semacam \"paradigma pemrograman\" (gaya pemrograman) di mana kita sering berurusan dengan `class`.\n",
    "\n",
    "Intinya, hari ini kita akan membahas tentang `class` dan serba-serbi (filosofi) penggunaannya."
   ]
  },
  {
   "cell_type": "markdown",
   "metadata": {},
   "source": [
    "## Apa itu `class`? Apa itu OOP?"
   ]
  },
  {
   "cell_type": "markdown",
   "metadata": {},
   "source": [
    "Di pertemuan sebelumnya, ketika belajar tentang tipe data di Python, kita sering menjumpai nama tipe data disertai istilah `class`. Sebelum memahami apa itu `class`, kita bisa paham dulu tentang konsep \"objek\"."
   ]
  },
  {
   "cell_type": "markdown",
   "metadata": {},
   "source": [
    "Di Python (dan banyak bahasa pemrograman lainnya yang \"mendukung OOP\"), sebuah \"objek\" adalah sesuatu yang bisa memiliki variabel-variabel tersendiri (disebut atribut) serta fungsi-fungsi tersendiri (disebut *method*) di bawah satu nama yang sama (yaitu objek tersebut)."
   ]
  },
  {
   "cell_type": "markdown",
   "metadata": {},
   "source": [
    "Kemudian, sebuah `class` adalah semacam *blueprint* untuk membuat objek. Ketika kita ingin membuat objek, kita harus membuat definisi `class` nya terlebih dahulu sebagai *blueprint* untuk objek tersebut. Barulah, setelah definisi `class` nya ada, kita bisa membuat objek sebanyak-banyaknya dari `class` yang sama."
   ]
  },
  {
   "cell_type": "markdown",
   "metadata": {},
   "source": [
    "Sebagai *blueprint* untuk membuat objek, suatu definisi `class` mencakupi atribut serta *method* yang akan terdefinisi untuk objek yang akan dibuat. Artinya, semua objek yang dibuat dari `class` yang sama itu akan memiliki \"struktur\" yang sama, baik variabel-variabel maupun fungsi-fungsi yang terkandung di dalam tiap objek."
   ]
  },
  {
   "cell_type": "markdown",
   "metadata": {},
   "source": [
    "(Itulah mengapa tipe data dianggap sebagai `class` di Python. Misalnya, untuk tipe data `str`, yaitu `<class 'str'>`, semua *string* di Python tentunya \"memiliki sifat yang sama\", seperti bisa di-*format* dengan *method* `.format`)"
   ]
  },
  {
   "cell_type": "markdown",
   "metadata": {},
   "source": [
    "Agar lebih paham, mari kita coba membuat `class` pertama kita, yaitu `class Orang`, untuk menyimpan data orang yang terdiri dari nama dan umur. Kemudian, kita akan membuat beberapa objek, yaitu beberapa `Orang`, yang masing-masing bisa memiliki data nama dan umur tersendiri."
   ]
  },
  {
   "cell_type": "code",
   "execution_count": 1,
   "metadata": {},
   "outputs": [],
   "source": [
    "class Orang:\n",
    "    def __init__(self, nama, umur):\n",
    "        self.nama = nama\n",
    "        self.umur = umur"
   ]
  },
  {
   "cell_type": "markdown",
   "metadata": {},
   "source": [
    "Pada definisi `class Orang` di atas, kita baru merancang atribut apa saja yang akan terkandung dalam objek, yaitu `nama` dan `umur`.\n",
    "\n",
    "* Pada baris pertama, kita menuliskan kata `class` untuk memulai suatu definisi `class` baru, diikuti dengan nama `class` nya (di sini namanya `Orang`).\n",
    "* Pada baris kedua, kita memulai definisi suatu *method* istimewa yang bernama `__init__` yang dimulai dan diakhiri dengan dua garis bawah. *Method* yang satu ini harus selalu ada di tiap definisi `class`, dan istilahnya adalah *constructor*. Argumen yang masuk ke dalam *method* ini adalah `self` yang merujuk ke \"diri sendiri\" (objek yang bersangkutan), kemudian dua atribut yang bisa ditentukan ketika objek dibuat, yaitu `nama` dan `umur`\n",
    "* Di dalam definisi `__init__` di atas (baris ketiga dan keempat), nilai `self.nama` dan `self.umur` akan dipasangkan menjadi `nama` dan `umur` yang \"masuk ke dalam *method*\" (yaitu ditentukan ketika objek dibuat)."
   ]
  },
  {
   "cell_type": "markdown",
   "metadata": {},
   "source": [
    "Kalau baru pertama kali lihat, mungkin *syntax* definisi `class` rasanya sangat aneh dan asing. Tidak masalah, itu normal. Ketiknya pelan-pelan saja. Kalau belum begitu paham, juga tidak masalah, ikuti saja. Perlahan, kita akan terus-menerus memberi tambahan ke definisi `class Orang` tersebut agar lebih paham."
   ]
  },
  {
   "cell_type": "markdown",
   "metadata": {},
   "source": [
    "Semoga menjadi lebih jelas setelah melihat *syntax* pembuatan objek:"
   ]
  },
  {
   "cell_type": "code",
   "execution_count": 2,
   "metadata": {},
   "outputs": [],
   "source": [
    "orang1 = Orang(\"Bisma\", 19)\n",
    "orang2 = Orang(\"Vero\", 20)"
   ]
  },
  {
   "cell_type": "markdown",
   "metadata": {},
   "source": [
    "Kemudian, kita bisa melihat atribut objek seperti berikut:"
   ]
  },
  {
   "cell_type": "code",
   "execution_count": 3,
   "metadata": {},
   "outputs": [
    {
     "name": "stdout",
     "output_type": "stream",
     "text": [
      "Bisma\n",
      "19\n"
     ]
    }
   ],
   "source": [
    "print(orang1.nama)\n",
    "print(orang1.umur)"
   ]
  },
  {
   "cell_type": "code",
   "execution_count": 4,
   "metadata": {},
   "outputs": [
    {
     "name": "stdout",
     "output_type": "stream",
     "text": [
      "Vero\n",
      "20\n"
     ]
    }
   ],
   "source": [
    "print(orang2.nama)\n",
    "print(orang2.umur)"
   ]
  },
  {
   "cell_type": "markdown",
   "metadata": {},
   "source": [
    "Perhatikan bahwa masing-masing atribut diakses melalui objek yang bersangkutan. Terlihat kegunaan objek sebagai penampung beberapa variabel (atribut) di bawah satu nama yang sama."
   ]
  },
  {
   "cell_type": "markdown",
   "metadata": {},
   "source": [
    "Selain melihat, tentunya kita juga bisa melakukan *assignment*:"
   ]
  },
  {
   "cell_type": "code",
   "execution_count": 5,
   "metadata": {},
   "outputs": [
    {
     "name": "stdout",
     "output_type": "stream",
     "text": [
      "21\n"
     ]
    }
   ],
   "source": [
    "orang1.umur = 21\n",
    "print(orang1.umur)"
   ]
  },
  {
   "cell_type": "markdown",
   "metadata": {},
   "source": [
    "Bahkan, kita bisa melakukan variasi *assignment* lainnya seperti biasa, misalnya `+=`"
   ]
  },
  {
   "cell_type": "code",
   "execution_count": 6,
   "metadata": {},
   "outputs": [
    {
     "name": "stdout",
     "output_type": "stream",
     "text": [
      "24\n"
     ]
    }
   ],
   "source": [
    "orang1.umur += 3\n",
    "print(orang1.umur)"
   ]
  },
  {
   "cell_type": "markdown",
   "metadata": {},
   "source": [
    "Kalau dirasa perlu, kita dapat membuat fungsi yang akan menerima suatu objek `Orang` lalu akan mengubah data `umur`.`"
   ]
  },
  {
   "cell_type": "code",
   "execution_count": 7,
   "metadata": {},
   "outputs": [],
   "source": [
    "def ulangtahun(orang):\n",
    "    orang.umur += 1"
   ]
  },
  {
   "cell_type": "markdown",
   "metadata": {},
   "source": [
    "Sehingga, bisa digunakan seperti berikut:"
   ]
  },
  {
   "cell_type": "code",
   "execution_count": 8,
   "metadata": {},
   "outputs": [
    {
     "name": "stdout",
     "output_type": "stream",
     "text": [
      "25\n"
     ]
    }
   ],
   "source": [
    "ulangtahun(orang1)\n",
    "print(orang1.umur)"
   ]
  },
  {
   "cell_type": "markdown",
   "metadata": {},
   "source": [
    "Perhatikan bahwa objek di Python bersifat *pass-by-reference*! Artinya, apabila suatu objek dimasukkan ke dalam fungsi, kemudian dimodifikasi di dalam fungsi tersebut, maka modifikasi tersebut juga berdampak hingga di luar fungsi."
   ]
  },
  {
   "cell_type": "markdown",
   "metadata": {},
   "source": [
    "Definisi fungsi `ulangtahun` yang telah kita buat di atas sebenarnya bisa dimasukkan ke dalam definisi `class Orang` sebagai suatu *method*."
   ]
  },
  {
   "cell_type": "code",
   "execution_count": 9,
   "metadata": {},
   "outputs": [],
   "source": [
    "class Orang:\n",
    "    def __init__(self, nama, umur):\n",
    "        self.nama = nama\n",
    "        self.umur = umur\n",
    "    def ulangtahun(self):\n",
    "        self.umur += 1"
   ]
  },
  {
   "cell_type": "markdown",
   "metadata": {},
   "source": [
    "Perhatikan, ini adalah pendefinisian ulang! Ini adalah definisi baru untuk `class Orang`. Sedangkan, objek-objek yang sudah kita buat sebelumnya masih menganut definisi yang lama. Sehingga, setelah ini, kita harus membuat ulang objek agar mengikuti definisi `class Orang` yang baru."
   ]
  },
  {
   "cell_type": "markdown",
   "metadata": {},
   "source": [
    "Perhatikan juga, ada sedikit perbedaan istilah pada fungsi `ulangtahun`: tadinya, objek yang masuk itu kita sebut `orang`, sekarang kita sebut `self`. Istilah `self` ini memang sudah menjadi kebiasaan di Python untuk merujuk ke diri sendiri, yaitu objek yang bersangkutan. Tiap definisi *method* selalu harus diawali dengan masuknya objek yang bersangkutan (yang biasa disebut `self`), sudah menjadi formalitas di Python.\n",
    "\n",
    "Itulah mengapa, di definisi `__init__` seolah-olah ada tiga variabel yang masuk yaitu `self`, `nama`, dan `umur`, meskipun yang diperlukan ketika membuat objeknya hanyalah `nama` dan `umur`."
   ]
  },
  {
   "cell_type": "markdown",
   "metadata": {},
   "source": [
    "Mari kita buat ulang `orang1`:"
   ]
  },
  {
   "cell_type": "code",
   "execution_count": 10,
   "metadata": {},
   "outputs": [],
   "source": [
    "orang1 = Orang(\"Bisma\", 19)"
   ]
  },
  {
   "cell_type": "markdown",
   "metadata": {},
   "source": [
    "Kita bisa melihat atributnya:"
   ]
  },
  {
   "cell_type": "code",
   "execution_count": 11,
   "metadata": {},
   "outputs": [
    {
     "name": "stdout",
     "output_type": "stream",
     "text": [
      "Bisma\n",
      "19\n"
     ]
    }
   ],
   "source": [
    "print(orang1.nama)\n",
    "print(orang1.umur)"
   ]
  },
  {
   "cell_type": "markdown",
   "metadata": {},
   "source": [
    "Kemudian, kita bisa menggunakan *method* `ulangtahun` yang telah kita buat, lalu melihat data umur terbaru:"
   ]
  },
  {
   "cell_type": "code",
   "execution_count": 12,
   "metadata": {},
   "outputs": [
    {
     "name": "stdout",
     "output_type": "stream",
     "text": [
      "20\n"
     ]
    }
   ],
   "source": [
    "orang1.ulangtahun()\n",
    "print(orang1.umur)"
   ]
  },
  {
   "cell_type": "markdown",
   "metadata": {},
   "source": [
    "Penggunaan *method* memang seperti itu, sangat mirip dengan mengakses atribut, bedanya adalah bahwa *method* berupa fungsi. Di sini, kita bisa melihat, baik atribut maupun *method* suatu objek itu sama-sama berada di bawah satu nama yang sama, yaitu objek yang bersangkutan (di sini, baik atribut `umur` maupun *method* `ulangtahun` diakses melalui `orang1`)."
   ]
  },
  {
   "cell_type": "markdown",
   "metadata": {},
   "source": [
    "Kalau mau, kita bisa melakukannya lagi:"
   ]
  },
  {
   "cell_type": "code",
   "execution_count": 13,
   "metadata": {},
   "outputs": [
    {
     "name": "stdout",
     "output_type": "stream",
     "text": [
      "21\n"
     ]
    }
   ],
   "source": [
    "orang1.ulangtahun()\n",
    "print(orang1.umur)"
   ]
  },
  {
   "cell_type": "markdown",
   "metadata": {},
   "source": [
    "Tentu saja, kegunaan `class` tidak sebatas itu. Bahkan, ada semacam \"paradigma pemrograman\" (gaya pemrograman) di mana kita sering berurusan dengan `class`, yang disebut OOP. Agar lebih paham juga tentang `class` dan kegunaannya, kita akan mempelajari dasar-dasar OOP, yang tercakup oleh empat pilar (tiang) OOP."
   ]
  },
  {
   "cell_type": "markdown",
   "metadata": {},
   "source": [
    "## Empat pilar OOP"
   ]
  },
  {
   "cell_type": "markdown",
   "metadata": {},
   "source": [
    "Empat pilar OOP adalah:\n",
    "\n",
    "1. *Encapsulation* (pembungkusan)\n",
    "2. *Abstraction* (abstraksi; kebalikan dari \"mendetail\")\n",
    "3. *Inheritance* (pewarisan sifat)\n",
    "4. *Polymorphism* (\"banyak bentuk\")\n",
    "\n",
    "Istilah prinsip *polymorphism* memang sulit diterjemahkan. Kita akan membahas masing-masing keempat prinsip OOP tersebut."
   ]
  },
  {
   "cell_type": "markdown",
   "metadata": {},
   "source": [
    "### *Encapsulation* dan *Abstraction*"
   ]
  },
  {
   "cell_type": "markdown",
   "metadata": {},
   "source": [
    "Sejauh ini, kita sudah merasakan bagaimana variabel (atribut) dan fungsi (*method*) sama-sama berada di bawah satu nama yang sama, yaitu objek yang bersangkutan. Seolah-olah, atribut dan *method* tersebut dibungkus ke dalam objek tersebut. Inilah yang dinamakan prinsip ***encapsulation*** atau pembungkusan."
   ]
  },
  {
   "cell_type": "markdown",
   "metadata": {},
   "source": [
    "Namun, ada juga konsep *data hiding*, di mana atribut objek sebaiknya diakses dan dimodifikasi melalui *method* saja. *Method* untuk memperoleh (mengakses) nilai atribut tertentu disebut *getter*, dan *method* untuk memasang nilai baru untuk atribut tertentu disebut *setter*.\n",
    "\n",
    "Prinsip *data hiding* seringkali dianggap bagian dari prinsip *encapsulation* (tetapi terkadang dianggap bagian dari *abstraction* yang akan kita bahas selanjutnya)."
   ]
  },
  {
   "cell_type": "markdown",
   "metadata": {},
   "source": [
    "Kita akan mendefinisikan ulang `class Orang` agar memiliki *getter* dan *setter* untuk atribut `umur`."
   ]
  },
  {
   "cell_type": "code",
   "execution_count": 14,
   "metadata": {},
   "outputs": [],
   "source": [
    "class Orang:\n",
    "    def __init__(self, nama, umur):\n",
    "        self.nama = nama\n",
    "        self.umur = umur\n",
    "    def ulangtahun(self):\n",
    "        self.umur += 1\n",
    "    def get_umur(self):\n",
    "        return self.umur\n",
    "    def set_umur(self, baru):\n",
    "        self.umur = baru"
   ]
  },
  {
   "cell_type": "markdown",
   "metadata": {},
   "source": [
    "Perhatikan bahwa *method* `get_umur` melakukan `return`. Penggunaannya akan mirip dengan fungsi seperti biasanya. Kemudian, *method* `set_umur` akan menerima satu input di dalam kurungnya (sedangkan `self` hanya untuk formalitas)."
   ]
  },
  {
   "cell_type": "markdown",
   "metadata": {},
   "source": [
    "Kita bisa membuat objek seperti biasa..."
   ]
  },
  {
   "cell_type": "code",
   "execution_count": 15,
   "metadata": {},
   "outputs": [],
   "source": [
    "orang1 = Orang(\"Bisma\", 19)"
   ]
  },
  {
   "cell_type": "markdown",
   "metadata": {},
   "source": [
    "Lalu kita bisa melihat umurnya seperti ini:"
   ]
  },
  {
   "cell_type": "code",
   "execution_count": 17,
   "metadata": {},
   "outputs": [
    {
     "name": "stdout",
     "output_type": "stream",
     "text": [
      "19\n"
     ]
    }
   ],
   "source": [
    "print(orang1.get_umur())"
   ]
  },
  {
   "cell_type": "markdown",
   "metadata": {},
   "source": [
    "Atau bahkan kita bisa membuat variabel baru yang menyimpan umur yang diperoleh:"
   ]
  },
  {
   "cell_type": "code",
   "execution_count": 18,
   "metadata": {},
   "outputs": [
    {
     "name": "stdout",
     "output_type": "stream",
     "text": [
      "19\n"
     ]
    }
   ],
   "source": [
    "berapa_tahun = orang1.get_umur()\n",
    "print(berapa_tahun)"
   ]
  },
  {
   "cell_type": "markdown",
   "metadata": {},
   "source": [
    "Kemudian, kita bisa memasang nilai baru untuk atribut umur:"
   ]
  },
  {
   "cell_type": "code",
   "execution_count": 19,
   "metadata": {},
   "outputs": [],
   "source": [
    "orang1.set_umur(30)"
   ]
  },
  {
   "cell_type": "markdown",
   "metadata": {},
   "source": [
    "Lalu memperoleh kembali umur yang baru:"
   ]
  },
  {
   "cell_type": "code",
   "execution_count": 22,
   "metadata": {},
   "outputs": [
    {
     "data": {
      "text/plain": [
       "30"
      ]
     },
     "execution_count": 22,
     "metadata": {},
     "output_type": "execute_result"
    }
   ],
   "source": [
    "orang1.get_umur()"
   ]
  },
  {
   "cell_type": "markdown",
   "metadata": {},
   "source": [
    "Sebenarnya, tujuan *getter* dan *setter* adalah untuk berjaga-jaga agar tidak terjadi hal yang aneh. Misalnya, saat ini, kita masih bisa memasang umur menjadi negatif:"
   ]
  },
  {
   "cell_type": "code",
   "execution_count": 23,
   "metadata": {},
   "outputs": [
    {
     "name": "stdout",
     "output_type": "stream",
     "text": [
      "-5\n"
     ]
    }
   ],
   "source": [
    "orang1.umur = -5\n",
    "print(orang1.umur)"
   ]
  },
  {
   "cell_type": "markdown",
   "metadata": {},
   "source": [
    "Kita dapat menambahkan *if statement* pada definisi *method* `set_umur` di definisi `class Orang` untuk mencegah umur dipasang menjadi negatif: "
   ]
  },
  {
   "cell_type": "code",
   "execution_count": 24,
   "metadata": {},
   "outputs": [],
   "source": [
    "class Orang:\n",
    "    def __init__(self, nama, umur):\n",
    "        self.nama = nama\n",
    "        self.umur = umur\n",
    "    def ulangtahun(self):\n",
    "        self.umur += 1\n",
    "    def get_umur(self):\n",
    "        return self.umur\n",
    "    def set_umur(self, baru):\n",
    "        if baru >= 0:\n",
    "            self.umur = baru\n",
    "        else:\n",
    "            print(\"error: umur tidak bisa negatif\")"
   ]
  },
  {
   "cell_type": "markdown",
   "metadata": {},
   "source": [
    "Sehingga, setelah membuat objek, kita bisa mencoba:"
   ]
  },
  {
   "cell_type": "code",
   "execution_count": 25,
   "metadata": {},
   "outputs": [],
   "source": [
    "orang1 = Orang(\"Bisma\", 19)"
   ]
  },
  {
   "cell_type": "code",
   "execution_count": 26,
   "metadata": {},
   "outputs": [
    {
     "name": "stdout",
     "output_type": "stream",
     "text": [
      "error: umur tidak bisa negatif\n"
     ]
    }
   ],
   "source": [
    "orang1.set_umur(-5)"
   ]
  },
  {
   "cell_type": "markdown",
   "metadata": {},
   "source": [
    "Dengan begitu, data `umur` masih aman:"
   ]
  },
  {
   "cell_type": "code",
   "execution_count": 27,
   "metadata": {},
   "outputs": [
    {
     "data": {
      "text/plain": [
       "19"
      ]
     },
     "execution_count": 27,
     "metadata": {},
     "output_type": "execute_result"
    }
   ],
   "source": [
    "orang1.get_umur()"
   ]
  },
  {
   "cell_type": "markdown",
   "metadata": {},
   "source": [
    "Sedangkan, pemasangan umur menjadi bilangan yang tidak negatif tetap berjalan dengan lancar:"
   ]
  },
  {
   "cell_type": "code",
   "execution_count": 28,
   "metadata": {},
   "outputs": [
    {
     "name": "stdout",
     "output_type": "stream",
     "text": [
      "25\n"
     ]
    }
   ],
   "source": [
    "orang1.set_umur(25)\n",
    "print(orang1.get_umur())"
   ]
  },
  {
   "cell_type": "markdown",
   "metadata": {},
   "source": [
    "Apakah kemudian kita masih bisa menuliskan misalnya `orang1.umur = -5`? Masih bisa, tetapi setidaknya, sekarang dengan adanya *getter* dan *setter* untuk atribut `umur`, kita bisa menjadikan kebiasaan agar selalu menggunakan `get_umur` dan `set_umur` ketika ingin berurusan dengan data umur, tidak lagi melalui `self.umur`, agar terjamin tidak akan terjadi keanehan seperti itu."
   ]
  },
  {
   "cell_type": "markdown",
   "metadata": {},
   "source": [
    "Bahkan, kita dapat menggunakan *getter* dan *setter* di dalam definisi *method* lainnya. Contohnya, yang tadinya *method* `ulangtahun` didefinisikan sebagai `self.umur += 1`, kita bisa menggantikannya dengan `get_umur` dan `set_umur`:"
   ]
  },
  {
   "cell_type": "code",
   "execution_count": 29,
   "metadata": {},
   "outputs": [],
   "source": [
    "class Orang:\n",
    "    def __init__(self, nama, umur):\n",
    "        self.nama = nama\n",
    "        self.umur = umur\n",
    "    def ulangtahun(self):\n",
    "        self.set_umur(self.get_umur() + 1)\n",
    "    def get_umur(self):\n",
    "        return self.umur\n",
    "    def set_umur(self, baru):\n",
    "        if baru >= 0:\n",
    "            self.umur = baru\n",
    "        else:\n",
    "            print(\"error: umur tidak bisa negatif\")"
   ]
  },
  {
   "cell_type": "markdown",
   "metadata": {},
   "source": [
    "Pada definisi baru di atas untuk *method* `ulangtahun`, konsepnya sebagai berikut:\n",
    "\n",
    "1. Peroleh umur saat ini dengan `self.get_umur`\n",
    "2. Tambah satu\n",
    "3. Hasil yang baru itu dijadikan umur yang baru menggunakan `self.set_umur`"
   ]
  },
  {
   "cell_type": "markdown",
   "metadata": {},
   "source": [
    "Saat ini, `orang1` masih menggunakan definisi *method* `ulangtahun` yang lama. Mari kita buat objek baru dari definisi `class Orang` yang baru bernama `orang3`, agar bisa dibandingkan:"
   ]
  },
  {
   "cell_type": "code",
   "execution_count": 30,
   "metadata": {},
   "outputs": [],
   "source": [
    "orang3 = Orang(\"Bisma\", 19)\n",
    "orang1.set_umur(19) # kita samakan dulu umurnya"
   ]
  },
  {
   "cell_type": "markdown",
   "metadata": {},
   "source": [
    "Kemudian, kita gunakan *method* `ulangtahun` pada keduanya:"
   ]
  },
  {
   "cell_type": "code",
   "execution_count": 31,
   "metadata": {},
   "outputs": [],
   "source": [
    "orang1.ulangtahun()\n",
    "orang3.ulangtahun()"
   ]
  },
  {
   "cell_type": "markdown",
   "metadata": {},
   "source": [
    "Kita bisa melihat umur baru masing-masing:"
   ]
  },
  {
   "cell_type": "code",
   "execution_count": 32,
   "metadata": {},
   "outputs": [
    {
     "name": "stdout",
     "output_type": "stream",
     "text": [
      "20\n",
      "20\n"
     ]
    }
   ],
   "source": [
    "print(orang1.get_umur())\n",
    "print(orang3.get_umur())"
   ]
  },
  {
   "cell_type": "markdown",
   "metadata": {},
   "source": [
    "Ternyata hasilnya sama. Artinya, kedua cara mendefinisikan *method* `ulangtahun` itu memberikan hasil yang sama."
   ]
  },
  {
   "cell_type": "markdown",
   "metadata": {},
   "source": [
    "Perhatikan bahwa, dari segi penggunaan, untuk menambahkan satu ke data `umur`, kita tinggal memanggil *method* `ulangtahun`. Kita tidak perlu memikirkan internalnya seperti apa. Bahkan, kita bisa mengubah definisinya secara internal, tetapi cara penggunaannya dari luar tetap sama.\n",
    "\n",
    "Selain itu, untuk memasang data umur baru tanpa pusing, kita bisa langsung menggunakan `set_umur`. Bahkan, kita tidak perlu mengkhawatirkan kasus umur negatif; *method* tersebut bisa langsung menanganinya. Sehingga, kapanpun kita ingin memasang data umur yang baru, kita tidak perlu lagi membuat *if statement* untuk memastikan umurnya tidak negatif, karena sudah ditangani oleh `set_umur`.\n",
    "\n",
    "Kedua contoh *method* di atas menggambarkan bagaimana *method* bisa sangat mempermudah proses pemrograman kita dengan objek. Prinsip ***abstraction*** menekankan penggunaan *method* dengan cara seperti itu agar kita tidak perlu terlalu memusingkan detailnya. Misalnya, kita tidak perlu memusingkan cara mendefinisikan *method* `ulangtahun`, dan kita tidak perlu memusingkan kasus umur negatif berkat adanya *method* `set_umur`, pokoknya tinggal pakai. Lagipula, maksudnya \"abstraksi\" adalah kebalikan dari \"mendetail\"."
   ]
  },
  {
   "cell_type": "markdown",
   "metadata": {},
   "source": [
    "Selain tidak pusing, manfaat lain dari *abstraction* adalah, kapanpun kita mau, kita bisa memodifikasi definisi *method* di definisi `class` nya saja, tanpa harus mengubah kode yang menggunakan *method* tersebut.\n",
    "\n",
    "Bayangkan apabila tidak ada *method* `ulangtahun`, sehingga kita menjadi harus mengubah `self.umur += 1` menjadi `self.set_umur(self.get_umur() + 1)` di mana-mana. Betapa ribetnya."
   ]
  },
  {
   "cell_type": "markdown",
   "metadata": {},
   "source": [
    "### *Inheritance* (pewarisan sifat)"
   ]
  },
  {
   "cell_type": "code",
   "execution_count": null,
   "metadata": {},
   "outputs": [],
   "source": []
  },
  {
   "cell_type": "markdown",
   "metadata": {},
   "source": [
    "### *Polymorphism* (\"banyak bentuk\")"
   ]
  },
  {
   "cell_type": "markdown",
   "metadata": {},
   "source": []
  },
  {
   "cell_type": "markdown",
   "metadata": {},
   "source": [
    "## *Operator overloading*"
   ]
  },
  {
   "cell_type": "markdown",
   "metadata": {},
   "source": []
  },
  {
   "cell_type": "markdown",
   "metadata": {},
   "source": [
    "## `class` bersifat *pass-by-reference*"
   ]
  },
  {
   "cell_type": "markdown",
   "metadata": {},
   "source": []
  },
  {
   "cell_type": "markdown",
   "metadata": {},
   "source": [
    "## Bonus: contoh `class PenghitungStatistik`"
   ]
  },
  {
   "cell_type": "markdown",
   "metadata": {},
   "source": []
  }
 ],
 "metadata": {
  "kernelspec": {
   "display_name": "Python 3",
   "language": "python",
   "name": "python3"
  },
  "language_info": {
   "codemirror_mode": {
    "name": "ipython",
    "version": 3
   },
   "file_extension": ".py",
   "mimetype": "text/x-python",
   "name": "python",
   "nbconvert_exporter": "python",
   "pygments_lexer": "ipython3",
   "version": "3.10.11"
  },
  "orig_nbformat": 4
 },
 "nbformat": 4,
 "nbformat_minor": 2
}
