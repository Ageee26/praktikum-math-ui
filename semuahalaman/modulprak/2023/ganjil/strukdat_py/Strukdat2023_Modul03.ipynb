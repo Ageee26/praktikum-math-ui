{
 "cells": [
  {
   "cell_type": "markdown",
   "metadata": {},
   "source": [
    "# Modul 3 Struktur Data: I/O, Graphviz, CodeChef"
   ]
  },
  {
   "cell_type": "markdown",
   "metadata": {},
   "source": [
    "Kembali ke [Struktur Data (dengan Python)](strukdat2023.qmd)"
   ]
  },
  {
   "cell_type": "markdown",
   "metadata": {},
   "source": [
    "## I/O (*input/output*)"
   ]
  },
  {
   "cell_type": "markdown",
   "metadata": {},
   "source": [
    "blabla print, end=\"\", input, open (read/write access), .read()"
   ]
  },
  {
   "cell_type": "markdown",
   "metadata": {},
   "source": [
    "## Graphviz"
   ]
  },
  {
   "cell_type": "markdown",
   "metadata": {},
   "source": [
    "(dump)\n",
    "\n",
    "https://colab.research.google.com/drive/1AzvPwIdntnVfTfivCLbRWtjrN6frS4n1#scrollTo=CYHrWhU-I2mi\n",
    "\n",
    "https://quarto.org/docs/authoring/diagrams.html#graphviz\n",
    "\n",
    "https://renenyffenegger.ch/notes/tools/Graphviz/examples/index\n",
    "\n",
    "https://graphviz.readthedocs.io/en/stable/manual.html\n",
    "\n",
    "https://ipython.readthedocs.io/en/stable/interactive/magics.html"
   ]
  },
  {
   "cell_type": "markdown",
   "metadata": {},
   "source": []
  },
  {
   "cell_type": "markdown",
   "metadata": {},
   "source": [
    "## CodeChef"
   ]
  },
  {
   "cell_type": "markdown",
   "metadata": {},
   "source": [
    "bikin akun, nyoba beberapa soal yang dipilihin aslab dan disediain linknya di sini. Ada juga jawabannya di sini tapi pake collapse"
   ]
  },
  {
   "cell_type": "markdown",
   "metadata": {},
   "source": []
  }
 ],
 "metadata": {
  "language_info": {
   "name": "python"
  },
  "orig_nbformat": 4
 },
 "nbformat": 4,
 "nbformat_minor": 2
}
