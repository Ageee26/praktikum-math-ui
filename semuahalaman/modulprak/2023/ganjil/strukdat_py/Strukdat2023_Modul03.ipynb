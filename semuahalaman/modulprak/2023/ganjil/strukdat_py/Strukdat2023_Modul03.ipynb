{
 "cells": [
  {
   "cell_type": "markdown",
   "metadata": {},
   "source": [
    "# Modul 3 Struktur Data: I/O, Graphviz, CodeChef"
   ]
  },
  {
   "cell_type": "markdown",
   "metadata": {},
   "source": [
    "Kembali ke [Struktur Data (dengan Python)](strukdat2023.qmd)"
   ]
  },
  {
   "cell_type": "markdown",
   "metadata": {},
   "source": [
    "Di praktikum kali ini, kita akan belajar tentang I/O (input/*output*), yaitu cara berurusan dengan input dan *output* di Python. Bukan hanya sekadar `print` dan `input`, tetapi juga cara berurusan dengan *text file*.\n",
    "\n",
    "Selain itu, kita akan belajar tentang Graphviz, yang bisa kita gunakan untuk membuat berbagai gambar \"graf\", dan bisa digunakan untuk menggambar berbagai jenis struktur data nantinya.\n",
    "\n",
    "Terakhir, untuk melatih dan mendalami urusan input/*output*, kita akan berkenalan dengan [CodeChef](https://www.codechef.com/) ([https://www.codechef.com/](https://www.codechef.com/)), suatu situs \"*competitive programming*\". Kesannya seolah-olah untuk persiapan lomba, tetapi maksudnya situs tersebut punya \"bank soal\"; ada banyak latihan soal yang bisa kita coba untuk melatih kemampuan pemrograman kita. Siapa tahu, kalian akan mengambil soal dari situ dan menyesuaikan untuk proyek akhir Struktur Data :)"
   ]
  },
  {
   "cell_type": "markdown",
   "metadata": {},
   "source": [
    "## I/O (*input/output*)"
   ]
  },
  {
   "cell_type": "markdown",
   "metadata": {},
   "source": [
    "### Seputar `print`"
   ]
  },
  {
   "cell_type": "markdown",
   "metadata": {},
   "source": [
    "Kegunaan utama `print` adalah untuk menampilkan *string* (`str`)."
   ]
  },
  {
   "cell_type": "code",
   "execution_count": 1,
   "metadata": {},
   "outputs": [
    {
     "name": "stdout",
     "output_type": "stream",
     "text": [
      "Hello, world!\n"
     ]
    }
   ],
   "source": [
    "print(\"Hello, world!\")"
   ]
  },
  {
   "cell_type": "code",
   "execution_count": 3,
   "metadata": {},
   "outputs": [
    {
     "name": "stdout",
     "output_type": "stream",
     "text": [
      "Selamat sore!\n"
     ]
    }
   ],
   "source": [
    "teks1 = \"Selamat sore!\"\n",
    "print(teks1)"
   ]
  },
  {
   "cell_type": "markdown",
   "metadata": {},
   "source": [
    "Kita bisa menampilkan beberapa *string* sekaligus di dalam satu `print`, memisakan tiap *string* dengan koma."
   ]
  },
  {
   "cell_type": "code",
   "execution_count": 14,
   "metadata": {},
   "outputs": [
    {
     "name": "stdout",
     "output_type": "stream",
     "text": [
      "Saya sudah makan siang\n"
     ]
    }
   ],
   "source": [
    "print(\"Saya\", \"sudah\", \"makan\", \"siang\")"
   ]
  },
  {
   "cell_type": "markdown",
   "metadata": {},
   "source": [
    "Sebenarnya, kita bisa menggunakan `print` untuk menampilkan tipe data apapun."
   ]
  },
  {
   "cell_type": "code",
   "execution_count": 4,
   "metadata": {},
   "outputs": [
    {
     "name": "stdout",
     "output_type": "stream",
     "text": [
      "-45\n",
      "10.6\n"
     ]
    }
   ],
   "source": [
    "angka = -45\n",
    "harga = 10.6\n",
    "print(angka)\n",
    "print(harga)"
   ]
  },
  {
   "cell_type": "markdown",
   "metadata": {},
   "source": [
    "Sehingga, kita bisa menuliskan seperti ini:"
   ]
  },
  {
   "cell_type": "code",
   "execution_count": 15,
   "metadata": {},
   "outputs": [
    {
     "name": "stdout",
     "output_type": "stream",
     "text": [
      "Suhu: -45\n"
     ]
    }
   ],
   "source": [
    "print(\"Suhu:\", angka)"
   ]
  },
  {
   "cell_type": "markdown",
   "metadata": {},
   "source": [
    "Kalau mau, kita juga bisa menyiapkan suatu *string* yang utuh terlebih dahulu (mengubah tipe data lain menjadi *string* dengan `str`), baru menampilkan *string* yang utuh tersebut:"
   ]
  },
  {
   "cell_type": "code",
   "execution_count": 17,
   "metadata": {},
   "outputs": [
    {
     "name": "stdout",
     "output_type": "stream",
     "text": [
      "Suhu: -45\n"
     ]
    }
   ],
   "source": [
    "string_utuh = \"Suhu: \" + str(angka)\n",
    "print(string_utuh)"
   ]
  },
  {
   "cell_type": "markdown",
   "metadata": {},
   "source": [
    "Apabila kita `print` suatu `list` begitu saja, maka akan ditampilkan sebagai `list`."
   ]
  },
  {
   "cell_type": "code",
   "execution_count": 5,
   "metadata": {},
   "outputs": [
    {
     "name": "stdout",
     "output_type": "stream",
     "text": [
      "['pisang', 42, -5.1, 'apel', 'jeruk']\n"
     ]
    }
   ],
   "source": [
    "beberapa_buah = [\"pisang\", 42, -5.1, \"apel\", \"jeruk\"]\n",
    "print(beberapa_buah)"
   ]
  },
  {
   "cell_type": "markdown",
   "metadata": {},
   "source": [
    "Namun, kita bisa saja menggunakan *for loop* untuk menampilkan tiap elemen."
   ]
  },
  {
   "cell_type": "code",
   "execution_count": 6,
   "metadata": {},
   "outputs": [
    {
     "name": "stdout",
     "output_type": "stream",
     "text": [
      "pisang\n",
      "42\n",
      "-5.1\n",
      "apel\n",
      "jeruk\n"
     ]
    }
   ],
   "source": [
    "for elemen in beberapa_buah:\n",
    "    print(elemen)"
   ]
  },
  {
   "cell_type": "markdown",
   "metadata": {},
   "source": [
    "Begitu juga untuk `set` (tentu saja urutannya tidak menentu):"
   ]
  },
  {
   "cell_type": "code",
   "execution_count": 7,
   "metadata": {},
   "outputs": [
    {
     "name": "stdout",
     "output_type": "stream",
     "text": [
      "{'merah', 'biru', 'kuning', 'hijau'}\n"
     ]
    }
   ],
   "source": [
    "beberapa_warna = {\"merah\", \"hijau\", \"biru\", \"kuning\"}\n",
    "print(beberapa_warna)"
   ]
  },
  {
   "cell_type": "code",
   "execution_count": 8,
   "metadata": {},
   "outputs": [
    {
     "name": "stdout",
     "output_type": "stream",
     "text": [
      "merah\n",
      "biru\n",
      "kuning\n",
      "hijau\n"
     ]
    }
   ],
   "source": [
    "for warna in beberapa_warna:\n",
    "    print(warna)"
   ]
  },
  {
   "cell_type": "markdown",
   "metadata": {},
   "source": [
    "Untuk suatu `dict`, kita bisa menampilkan `dict` seutuhnya:"
   ]
  },
  {
   "cell_type": "code",
   "execution_count": 9,
   "metadata": {},
   "outputs": [
    {
     "name": "stdout",
     "output_type": "stream",
     "text": [
      "{'kopi': 6000, 'teh': 5000, 'susu': 7000}\n"
     ]
    }
   ],
   "source": [
    "harga_toko = {\"kopi\": 6000, \"teh\": 5000, \"susu\": 7000}\n",
    "print(harga_toko)"
   ]
  },
  {
   "cell_type": "markdown",
   "metadata": {},
   "source": [
    "Kita bisa memperoleh `set` yang berisi `key` nya saja dengan `dict.keys()`, baru menampilkan `set` tersebut:"
   ]
  },
  {
   "cell_type": "code",
   "execution_count": 12,
   "metadata": {},
   "outputs": [
    {
     "name": "stdout",
     "output_type": "stream",
     "text": [
      "{'kopi', 'teh', 'susu'}\n"
     ]
    }
   ],
   "source": [
    "yang_dijual = set(harga_toko.keys())\n",
    "print(yang_dijual)"
   ]
  },
  {
   "cell_type": "markdown",
   "metadata": {},
   "source": [
    "Serupa, kita bisa memperoleh `set` yang berisi `value` nya saja menggunakan `dict.values()`:"
   ]
  },
  {
   "cell_type": "code",
   "execution_count": 13,
   "metadata": {},
   "outputs": [
    {
     "name": "stdout",
     "output_type": "stream",
     "text": [
      "{6000, 7000, 5000}\n"
     ]
    }
   ],
   "source": [
    "semua_harga = set(harga_toko.values())\n",
    "print(semua_harga)"
   ]
  },
  {
   "cell_type": "markdown",
   "metadata": {},
   "source": [
    "Kalau mau, kita bisa melakukan *for loop* untuk tiap `key`:"
   ]
  },
  {
   "cell_type": "code",
   "execution_count": 18,
   "metadata": {},
   "outputs": [
    {
     "name": "stdout",
     "output_type": "stream",
     "text": [
      "kopi 6000\n",
      "teh 5000\n",
      "susu 7000\n"
     ]
    }
   ],
   "source": [
    "for key in harga_toko.keys():\n",
    "    print(key, harga_toko[key])"
   ]
  },
  {
   "cell_type": "markdown",
   "metadata": {},
   "source": [
    "Bahkan, kita bisa melakukan *for loop* untuk tiap `key` dan `value` sekaligus, dengan `dict.items()`:"
   ]
  },
  {
   "cell_type": "code",
   "execution_count": 19,
   "metadata": {},
   "outputs": [
    {
     "name": "stdout",
     "output_type": "stream",
     "text": [
      "kopi harganya 6000\n",
      "teh harganya 5000\n",
      "susu harganya 7000\n"
     ]
    }
   ],
   "source": [
    "for key, value in harga_toko.items():\n",
    "    print(key, \"harganya\", value)"
   ]
  },
  {
   "cell_type": "markdown",
   "metadata": {},
   "source": [
    "Umumnya, tiap kali kita menggunakan `print`, baris baru selalu ditambahkan secara otomatis, sehingga `print` yang selanjutnya akan ditampilkan di baris berikutnya. Sebenarnya, hal ini bisa diatur dengan *setting* `end=` seperti berikut:"
   ]
  },
  {
   "cell_type": "code",
   "execution_count": 20,
   "metadata": {},
   "outputs": [
    {
     "name": "stdout",
     "output_type": "stream",
     "text": [
      "Hari\n",
      "ini\n",
      "Jum'at\n"
     ]
    }
   ],
   "source": [
    "print(\"Hari\", end=\"\\n\")\n",
    "print(\"ini\", end=\"\\n\")\n",
    "print(\"Jum'at\", end=\"\\n\")"
   ]
  },
  {
   "cell_type": "markdown",
   "metadata": {},
   "source": [
    "`end=` bisa berupa apa saja:"
   ]
  },
  {
   "cell_type": "code",
   "execution_count": 21,
   "metadata": {},
   "outputs": [
    {
     "name": "stdout",
     "output_type": "stream",
     "text": [
      "Hari|ini|Jum'at|"
     ]
    }
   ],
   "source": [
    "print(\"Hari\", end=\"|\")\n",
    "print(\"ini\", end=\"|\")\n",
    "print(\"Jum'at\", end=\"|\")"
   ]
  },
  {
   "cell_type": "markdown",
   "metadata": {},
   "source": [
    "Bahkan, kita bisa mengkosongkan `end=` (membuatnya menjadi *string* kosong atau `\"\"` atau `''`) apabila kita mengharapkan tidak ada \"pemisah\" antara tiap *output*:"
   ]
  },
  {
   "cell_type": "code",
   "execution_count": 22,
   "metadata": {},
   "outputs": [
    {
     "name": "stdout",
     "output_type": "stream",
     "text": [
      "HariiniJum'at"
     ]
    }
   ],
   "source": [
    "print(\"Hari\", end=\"\")\n",
    "print(\"ini\", end=\"\")\n",
    "print(\"Jum'at\", end=\"\")"
   ]
  },
  {
   "cell_type": "markdown",
   "metadata": {},
   "source": [
    "### Seputar `input`"
   ]
  },
  {
   "cell_type": "markdown",
   "metadata": {},
   "source": [
    "Mneggunakan `input`, kita bisa menerima masukkan data berupa *string*."
   ]
  },
  {
   "cell_type": "code",
   "execution_count": 23,
   "metadata": {},
   "outputs": [
    {
     "name": "stdout",
     "output_type": "stream",
     "text": [
      "Halo Bisma\n"
     ]
    }
   ],
   "source": [
    "nama = input()\n",
    "print(\"Halo\", nama)"
   ]
  },
  {
   "cell_type": "markdown",
   "metadata": {},
   "source": [
    "Kita bisa menggunakan *prompt* berupa *string* dalam `input`, yaitu semacam \"pertanyaan\" agar jelas data apa yang diperlukan."
   ]
  },
  {
   "cell_type": "code",
   "execution_count": 24,
   "metadata": {},
   "outputs": [
    {
     "name": "stdout",
     "output_type": "stream",
     "text": [
      "Masukkan nama: Bisma\n",
      "Halo Bisma\n"
     ]
    }
   ],
   "source": [
    "nama = input(\"Masukkan nama: \")\n",
    "print(\"Halo\", nama)"
   ]
  },
  {
   "cell_type": "markdown",
   "metadata": {},
   "source": [
    "Apabila `input` yang kita inginkan adalah selain *string*, kita harus mengakali. Contohnya, bisa saja kita langsung mengkonversi *string* yang masuk menjadi tipe data lain:"
   ]
  },
  {
   "cell_type": "code",
   "execution_count": 27,
   "metadata": {},
   "outputs": [
    {
     "name": "stdout",
     "output_type": "stream",
     "text": [
      "Masukkan umur: 19\n",
      "Tahun depan, Anda akan berumur 20 tahun\n"
     ]
    }
   ],
   "source": [
    "umur = int(input(\"Masukkan umur: \"))\n",
    "print(\"Tahun depan, Anda akan berumur\", umur+1, \"tahun\")"
   ]
  },
  {
   "cell_type": "markdown",
   "metadata": {},
   "source": [
    "Bahkan menjadi `list` juga bisa, menggunakan `split` untuk memecah suatu *string* menjadi beberapa bagian (dalam suatu `list`) berdasarkan suatu pemisah (di sini `,`):"
   ]
  },
  {
   "cell_type": "code",
   "execution_count": 33,
   "metadata": {},
   "outputs": [
    {
     "name": "stdout",
     "output_type": "stream",
     "text": [
      "Masukkan beberapa angka: -10, 5.6, 3, -7, 82\n",
      "Input yang masuk: ['-10', ' 5.6', ' 3', ' -7', ' 82']\n",
      "Totalnya adalah 73.6\n"
     ]
    }
   ],
   "source": [
    "beberapa_angka = input(\"Masukkan beberapa angka: \").split(\",\")\n",
    "print(\"Input yang masuk:\", beberapa_angka)\n",
    "sum = 0\n",
    "for angka in beberapa_angka:\n",
    "    sum += float(angka)\n",
    "print(\"Totalnya adalah\", sum)"
   ]
  },
  {
   "cell_type": "markdown",
   "metadata": {},
   "source": [
    "### Berurusan dengan *text file*"
   ]
  },
  {
   "cell_type": "markdown",
   "metadata": {},
   "source": [
    "Di Python, kita bisa membuka, mengedit, dan menutup *text file*, yaitu *file* yang berakhiran `.txt`"
   ]
  },
  {
   "cell_type": "markdown",
   "metadata": {},
   "source": [
    "Ketika membuka suatu *text file*, ada beberapa pilihan \"mode\":\n",
    "\n",
    "* `r`: *read-only*, jika kita hanya ingin membaca isinya. Kalau *file* nya tidak ada, *error*.\n",
    "* `a`: *append-only*, jika kita hanya ingin menambahkan isi di akhir *text file* (sehingga tidak bisa melihat isi yang sudah ada). Kalau *file* nya belum ada, akan dibuat.\n",
    "* `w`: *write-only*, jika kita hanya ingin menulis (tanpa bisa membaca isi yang sudah ada) dan menimpa apapun tulisan yang sudah ada. Kalau *file* nya belum ada, akan dibuat.\n",
    "* `r+`: *read and write*. Kalau *file* nya tidak ada, *error*.\n",
    "* `a+`: *append and read*. Kalau *file* nya belum ada, akan dibuat.\n",
    "* `w+`: *write and read*. Kalau *file* nya belum ada, akan dibuat."
   ]
  },
  {
   "cell_type": "markdown",
   "metadata": {},
   "source": [
    "Untuk fitur yang paling lengkap (tetapi bisa berbahaya apabila kita tidak berhati-hati), bisa digunakan *mode* `w+`."
   ]
  },
  {
   "cell_type": "markdown",
   "metadata": {},
   "source": [
    "Kita bisa membuka suatu *file* dengan `open`. Dengan begitu, kita akan memperoleh suatu objek *file*. Objek ini memiliki beberapa atribut seperti `.mode`, dan beberapa *method* seperti:\n",
    "\n",
    "* `.write()` untuk menulis\n",
    "* `.read()` untuk membaca (memperoleh isinya sebagai *string*)\n",
    "* `.seek()` agar \"*cursor*\" lompat ke posisi tertentu (misalnya `.seek(0)` untuk kembali ke awal *file*)\n",
    "* `.close()` untuk menutup *file* setelah selesai digunakan\n",
    "\n",
    "(Apabila kita ingin mengubah *mode*, kita bisa melakukan `.close()` terlebih dahulu, baru `open` lagi dengan *mode* yang baru.)"
   ]
  },
  {
   "cell_type": "code",
   "execution_count": 35,
   "metadata": {},
   "outputs": [
    {
     "name": "stdout",
     "output_type": "stream",
     "text": [
      "<class '_io.TextIOWrapper'>\n",
      "w+\n"
     ]
    }
   ],
   "source": [
    "teks = open(\"test.txt\", 'w+')\n",
    "print(type(teks))\n",
    "print(teks.mode)\n",
    "teks.close()"
   ]
  },
  {
   "cell_type": "markdown",
   "metadata": {},
   "source": [
    "Setelah *running* kode di atas, coba cek folder kalian yang menyimpan *file* `.ipynb` yang sedang kalian gunakan. Harusnya, ada *file* baru yang muncul bernama `test.txt` (walaupun memang masih kosong)\n",
    "\n",
    "* Di Jupyter Notebook, kalian bisa kembali ke *tab* yang terbuka di browser kalian di mana kalian tadinya sudah membuat *new notebook*. Coba *double-click* `test.txt`\n",
    "* Di Google Colaboratory, kalian bisa menekan tombol *folder* yang ada di sebelah kiri. Coba *download* `test.txt` lalu buka isinya"
   ]
  },
  {
   "cell_type": "markdown",
   "metadata": {},
   "source": [
    "Mari kita coba gunakan `.write()` untuk menuliskan sesuatu di dalamnya, lalu `.seek(0)` untuk kembali ke awal *file*, kemudian `.read()` untuk membaca isinya (mulai dari awal *file* sesuai yang ditentukan oleh `.seek()`)"
   ]
  },
  {
   "cell_type": "code",
   "execution_count": 51,
   "metadata": {},
   "outputs": [
    {
     "name": "stdout",
     "output_type": "stream",
     "text": [
      "Hello, world!\n"
     ]
    }
   ],
   "source": [
    "teks = open(\"test.txt\", 'w+')\n",
    "teks.write(\"Hello, world!\")\n",
    "teks.seek(0)\n",
    "print(teks.read())\n",
    "teks.close()"
   ]
  },
  {
   "cell_type": "markdown",
   "metadata": {},
   "source": [
    "Setelah *running* kode di atas, silakan dibuka kembali. (Kalau tadinya sudah dibuka, ditutup dulu, baru dibuka lagi.) Pasti ada isinya, yaitu tulisan `Hello, world!`"
   ]
  },
  {
   "cell_type": "markdown",
   "metadata": {},
   "source": [
    "Mari kita coba menuliskan hal lain."
   ]
  },
  {
   "cell_type": "code",
   "execution_count": 52,
   "metadata": {},
   "outputs": [
    {
     "name": "stdout",
     "output_type": "stream",
     "text": [
      "Selamat pagi\n"
     ]
    }
   ],
   "source": [
    "teks = open(\"test.txt\", 'w+')\n",
    "teks.write(\"Selamat pagi\")\n",
    "teks.seek(0)\n",
    "print(teks.read())\n",
    "teks.close()"
   ]
  },
  {
   "cell_type": "markdown",
   "metadata": {},
   "source": [
    "Kalau kita buka kembali, sekarang tulisannya adalah `Selamat pagi`\n",
    "\n",
    "Tulisan `Hello, world!` yang tadi tertimpa, karena kita menggunakan *mode* `w`, bukan `a`."
   ]
  },
  {
   "cell_type": "markdown",
   "metadata": {},
   "source": [
    "Ada cara penulisan lain agar Python akan menutup *file* secara otomatis, yaitu menggunakan yang namanya *context manager* atau `with` *statement*. *Syntax* nya sebagai berikut:"
   ]
  },
  {
   "cell_type": "code",
   "execution_count": 53,
   "metadata": {},
   "outputs": [
    {
     "name": "stdout",
     "output_type": "stream",
     "text": [
      "Selamat siang\n"
     ]
    }
   ],
   "source": [
    "with open(\"test.txt\", 'w+') as teks:\n",
    "    teks.write(\"Selamat siang\")\n",
    "    teks.seek(0)\n",
    "    print(teks.read())"
   ]
  },
  {
   "cell_type": "markdown",
   "metadata": {},
   "source": [
    "Yang tadinya kita tulis `teks = open(\"test.txt\", 'w+')`, sekarang kita tulis dengan `with ... as ...` dengan titik dua di akhir. Lalu, semua hal yang mau kita lakukan dengan *file* tersebut (yang di sini sekarang namanya `teks`) itu kita lakukan di dalam `with` *statement* tersebut, dengan indentasi, seperti dalam *for loop* misalnya.\n",
    "\n",
    "Begitu keluar dari `with` *statement*, *file* akan ditutup secara otomatis. Dengan demikian, kita tidak perlu lagi melakukan `.close()`"
   ]
  },
  {
   "cell_type": "markdown",
   "metadata": {},
   "source": [
    "*Anyway*, boleh diperiksa lagi *file* nya, sekarang tulisannya menjadi `Selamat siang`"
   ]
  },
  {
   "cell_type": "markdown",
   "metadata": {},
   "source": []
  },
  {
   "cell_type": "markdown",
   "metadata": {},
   "source": [
    "blabla print, end=\"\", input, open (read/write/append access), .read(), .seek(), .readlines()"
   ]
  },
  {
   "cell_type": "markdown",
   "metadata": {},
   "source": [
    "## Graphviz"
   ]
  },
  {
   "cell_type": "markdown",
   "metadata": {},
   "source": [
    "(dump)\n",
    "\n",
    "https://colab.research.google.com/drive/1AzvPwIdntnVfTfivCLbRWtjrN6frS4n1#scrollTo=CYHrWhU-I2mi\n",
    "\n",
    "https://quarto.org/docs/authoring/diagrams.html#graphviz\n",
    "\n",
    "https://renenyffenegger.ch/notes/tools/Graphviz/examples/index\n",
    "\n",
    "https://graphviz.readthedocs.io/en/stable/manual.html\n",
    "\n",
    "https://ipython.readthedocs.io/en/stable/interactive/magics.html"
   ]
  },
  {
   "cell_type": "markdown",
   "metadata": {},
   "source": []
  },
  {
   "cell_type": "markdown",
   "metadata": {},
   "source": [
    "## CodeChef"
   ]
  },
  {
   "cell_type": "markdown",
   "metadata": {},
   "source": [
    "bikin akun, nyoba beberapa soal yang dipilihin aslab dan disediain linknya di sini. Ada juga jawabannya di sini tapi pake collapse"
   ]
  },
  {
   "cell_type": "markdown",
   "metadata": {},
   "source": []
  }
 ],
 "metadata": {
  "kernelspec": {
   "display_name": "Python 3",
   "language": "python",
   "name": "python3"
  },
  "language_info": {
   "codemirror_mode": {
    "name": "ipython",
    "version": 3
   },
   "file_extension": ".py",
   "mimetype": "text/x-python",
   "name": "python",
   "nbconvert_exporter": "python",
   "pygments_lexer": "ipython3",
   "version": "3.10.11"
  },
  "orig_nbformat": 4
 },
 "nbformat": 4,
 "nbformat_minor": 2
}
