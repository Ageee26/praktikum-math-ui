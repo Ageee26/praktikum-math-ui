{
 "cells": [
  {
   "cell_type": "markdown",
   "metadata": {},
   "source": [
    "# Modul 4 Struktur Data: Array, Searching, Sorting"
   ]
  },
  {
   "cell_type": "markdown",
   "metadata": {},
   "source": [
    "Kembali ke [Struktur Data (dengan Python)](strukdat2023.qmd)"
   ]
  },
  {
   "cell_type": "markdown",
   "metadata": {},
   "source": [
    "Pada pertemuan ini, kita akan membahas tentang operasi pada array, termasuk melihat beberapa algoritma-algoritma searching dan sorting pada array."
   ]
  },
  {
   "cell_type": "markdown",
   "metadata": {},
   "source": [
    "## Operasi pada array"
   ]
  },
  {
   "cell_type": "markdown",
   "metadata": {},
   "source": [
    "### Traversal"
   ]
  },
  {
   "cell_type": "markdown",
   "metadata": {},
   "source": [
    "### \"Insertion\""
   ]
  },
  {
   "cell_type": "markdown",
   "metadata": {},
   "source": [
    "### \"Deletion\""
   ]
  },
  {
   "cell_type": "markdown",
   "metadata": {},
   "source": [
    "## Searching"
   ]
  },
  {
   "cell_type": "markdown",
   "metadata": {},
   "source": [
    "Algoritma searching, seperti namanya, adalah algoritma yang digunakan untu kmencari sesuatu dalam suatu list. Umumnya, algoritma semacam ini memiliki 2 input, yang suatu key yang ingin dicari, dan suatu list tempat pencarian key tersebut."
   ]
  },
  {
   "cell_type": "markdown",
   "metadata": {},
   "source": [
    "Terdapat 2 algoritma umum untuk searching, yaitu:\n",
    "\n",
    "* Linear Search\n",
    "* Binary Search"
   ]
  },
  {
   "cell_type": "markdown",
   "metadata": {},
   "source": [
    "### Linear Search"
   ]
  },
  {
   "cell_type": "markdown",
   "metadata": {},
   "source": [
    "Linear search adalah algoritma searching dimana setiap elemen pada list dibandingkan satu persatu dengan key. Pada algoritma ini, kita akan mencoba untuk mencari keberadaan key pada list, serta index dari key tersebut (jika ada)."
   ]
  },
  {
   "cell_type": "code",
   "execution_count": 3,
   "metadata": {},
   "outputs": [],
   "source": [
    "def linear_search(lis, key):\n",
    "    for i in range(len(lis)):\n",
    "        if lis[i] == key:\n",
    "            print(\"Key ditemukan.\")\n",
    "            print(\"Index =\", i)\n",
    "            return lis[i]\n",
    "    else:\n",
    "        print(\"Key tidak ditemukan.\")"
   ]
  },
  {
   "cell_type": "code",
   "execution_count": 4,
   "metadata": {},
   "outputs": [
    {
     "name": "stdout",
     "output_type": "stream",
     "text": [
      "Key ditemukan.\n",
      "Index = 5\n"
     ]
    },
    {
     "data": {
      "text/plain": [
       "8"
      ]
     },
     "execution_count": 4,
     "metadata": {},
     "output_type": "execute_result"
    }
   ],
   "source": [
    "A = [1, 5, 2, 3, 4, 8, 7, 6, 10, 9]\n",
    "linear_search(A, 8)"
   ]
  },
  {
   "cell_type": "markdown",
   "metadata": {},
   "source": [
    "### Binary Search"
   ]
  },
  {
   "cell_type": "markdown",
   "metadata": {},
   "source": [
    "Binary search adalah algoritma searching dimana suatu list dicek apakah nilai tengahnya adalah key. Jika tidak, list dipecah dua dan searching dilanjut tergantung posisi key relatif dari nilai tengah tsb (apakah lebih kecil atau lebih besar)."
   ]
  },
  {
   "cell_type": "code",
   "execution_count": 5,
   "metadata": {},
   "outputs": [],
   "source": [
    "def binary_search(A, key):\n",
    "    le = 0\n",
    "    ri = len(A)\n",
    "    while True:\n",
    "        ctr = (le + ri) // 2\n",
    "        if key == A[ctr]:\n",
    "            print('Key ditemukan.')\n",
    "            print('Index =', ctr)\n",
    "            return A[ctr]\n",
    "        elif key < A[ctr]:\n",
    "            ri = ctr-1\n",
    "        else:\n",
    "            le = ctr+1"
   ]
  },
  {
   "cell_type": "code",
   "execution_count": 6,
   "metadata": {},
   "outputs": [
    {
     "name": "stdout",
     "output_type": "stream",
     "text": [
      "Key ditemukan.\n",
      "Index = 6\n"
     ]
    },
    {
     "data": {
      "text/plain": [
       "14"
      ]
     },
     "execution_count": 6,
     "metadata": {},
     "output_type": "execute_result"
    }
   ],
   "source": [
    "A = [2, 4, 6, 8, 10, 12, 14, 16, 18, 20]\n",
    "binary_search(A, 14)"
   ]
  },
  {
   "cell_type": "markdown",
   "metadata": {},
   "source": [
    "## Sorting"
   ]
  },
  {
   "cell_type": "markdown",
   "metadata": {},
   "source": [
    "Terdapat 5 algoritma umum dalam sorting yang akan dijelaskan, yaitu:\n",
    "\n",
    "* Bubble Sort\n",
    "* Insertion Sort\n",
    "* Selection Sort\n",
    "* Quick Sort\n",
    "* Merge Sort"
   ]
  },
  {
   "cell_type": "markdown",
   "metadata": {},
   "source": [
    "### Bubble Sort"
   ]
  },
  {
   "cell_type": "markdown",
   "metadata": {},
   "source": [
    "Bubble sort adalah algoritma sorting yang cara kerjanya adalah dengan membandingkan elemen yang bersebelahan secara berurutan, lalu ditukar jika urutannya salah."
   ]
  },
  {
   "cell_type": "code",
   "execution_count": 7,
   "metadata": {},
   "outputs": [],
   "source": [
    "def bubble_sort(A):\n",
    "    n = len(A)\n",
    "    for i in range(n-1):\n",
    "        for j in range(n-1):\n",
    "            if A[j] > A[j+1]:\n",
    "                A[j], A[j+1] = A[j+1], A[j]\n",
    "    return A"
   ]
  },
  {
   "cell_type": "code",
   "execution_count": 8,
   "metadata": {},
   "outputs": [
    {
     "data": {
      "text/plain": [
       "[1, 2, 3, 4, 5, 6, 7, 8, 9, 10]"
      ]
     },
     "execution_count": 8,
     "metadata": {},
     "output_type": "execute_result"
    }
   ],
   "source": [
    "A = [1, 5, 2, 3, 4, 8, 7, 6, 10, 9]\n",
    "bubble_sort(A)"
   ]
  },
  {
   "cell_type": "markdown",
   "metadata": {},
   "source": [
    "### Insertion Sort"
   ]
  },
  {
   "cell_type": "markdown",
   "metadata": {},
   "source": [
    "Cara kerja dari insertion sort adalah dengan membandingkan elemen baru dengan elemen sebelumnya dan ditempatkan di tempat yang sesuai. Insertion sort mulai dari indeks ke-1, yang mana elemen pada indeks tersebut dibandingkan dengan indeks sebelumnya. Jika posisinya tidak sesuai, maka elemen ditukar, dan seterusnya hingga posisinya sesuai. Lalu iterasi dilanjutkan dengan elemen indeks ke-2, hingga elemen telah diiterasi semua."
   ]
  },
  {
   "cell_type": "code",
   "execution_count": 9,
   "metadata": {},
   "outputs": [],
   "source": [
    "def insertion_sort(A):\n",
    "    n = len(A)\n",
    "    for i in range(1, n):\n",
    "        j = i\n",
    "        while A[j] < A[j-1]:\n",
    "            A[j], A[j-1] = A[j-1], A[j]\n",
    "            j -= 1\n",
    "            if j == 0:\n",
    "                break\n",
    "    return A"
   ]
  },
  {
   "cell_type": "code",
   "execution_count": 10,
   "metadata": {},
   "outputs": [
    {
     "data": {
      "text/plain": [
       "[1, 2, 3, 4, 5, 6, 7, 8, 9, 10]"
      ]
     },
     "execution_count": 10,
     "metadata": {},
     "output_type": "execute_result"
    }
   ],
   "source": [
    "A = [1, 5, 2, 3, 4, 8, 7, 6, 10, 9]\n",
    "insertion_sort(A)"
   ]
  },
  {
   "cell_type": "markdown",
   "metadata": {},
   "source": [
    "### Selection Sort"
   ]
  },
  {
   "cell_type": "markdown",
   "metadata": {},
   "source": [
    "Selection sort melakukan sorting dengan memasukkan nilai minimum dari suatu list. Jika diberikan suatu list $A[0..(n-1)]$, maka algoritma mencari nilai minimum dari $A[0..(n-1)]$, lalu ditukar dengan elemen $A[0]$. Selanjutnya algoritma mencari nilai minimum dari $A[1..(n-1)]$, lalu ditukar dengan elemen $A[1]$, dan seterusnya."
   ]
  },
  {
   "cell_type": "code",
   "execution_count": 11,
   "metadata": {},
   "outputs": [],
   "source": [
    "def selection_sort(A):\n",
    "    n = len(A)\n",
    "    for i in range(n-1):\n",
    "        min = A[i]\n",
    "        mindx = i\n",
    "        for j in range(i+1, n):\n",
    "            if A[j] < min:\n",
    "                min = A[j]\n",
    "                mindx = j\n",
    "        A[i], A[mindx] = A[mindx], A[i]\n",
    "    return A"
   ]
  },
  {
   "cell_type": "code",
   "execution_count": 12,
   "metadata": {},
   "outputs": [
    {
     "data": {
      "text/plain": [
       "[1, 2, 3, 4, 5, 6, 7, 8, 9, 10]"
      ]
     },
     "execution_count": 12,
     "metadata": {},
     "output_type": "execute_result"
    }
   ],
   "source": [
    "A = [1, 5, 2, 3, 4, 8, 7, 6, 10, 9]\n",
    "selection_sort(A)"
   ]
  },
  {
   "cell_type": "markdown",
   "metadata": {},
   "source": [
    "### Merge Sort"
   ]
  },
  {
   "cell_type": "markdown",
   "metadata": {},
   "source": [
    "Merge sort melakukan sort dengan memecah list menjadi dua secara rekursif. Lalu sorting dilakukan dengan melakukan merge pada hasil pecahan list. Merge adalah proses pada dua list yang menyatukan dua list terurut menjadi satu list terurut. Merge dilakukan hingga list utuh kembali."
   ]
  },
  {
   "cell_type": "code",
   "execution_count": 16,
   "metadata": {},
   "outputs": [],
   "source": [
    "def merge_sort(A):\n",
    "    n = len(A)\n",
    "    if len(A) > 1:\n",
    "        m = n//2\n",
    "        A1 = A[:m]\n",
    "        A2 = A[m:]\n",
    "        merge_sort(A1)\n",
    "        merge_sort(A2)\n",
    "        i = j = k = 0\n",
    "        while i < len(A1) and j < len(A2):\n",
    "            if A1[i] <= A2[j]:\n",
    "                A[k] = A1[i]\n",
    "                i += 1\n",
    "            else:\n",
    "                A[k] = A2[j]\n",
    "                j += 1\n",
    "            k += 1\n",
    "\n",
    "        # Checking if any element was left\n",
    "        while i < len(A1):\n",
    "            A[k] = A1[i]\n",
    "            i += 1\n",
    "            k += 1\n",
    "        \n",
    "        while j < len(A2):\n",
    "            A[k] = A2[j]\n",
    "            j += 1\n",
    "            k += 1\n",
    "    return A"
   ]
  },
  {
   "cell_type": "code",
   "execution_count": 17,
   "metadata": {},
   "outputs": [
    {
     "data": {
      "text/plain": [
       "[1, 2, 3, 4, 5, 6, 7, 8, 9, 10]"
      ]
     },
     "execution_count": 17,
     "metadata": {},
     "output_type": "execute_result"
    }
   ],
   "source": [
    "A = [1, 5, 2, 3, 4, 8, 7, 6, 10, 9]\n",
    "merge_sort(A)"
   ]
  },
  {
   "cell_type": "markdown",
   "metadata": {},
   "source": [
    "### Quicksort"
   ]
  },
  {
   "cell_type": "markdown",
   "metadata": {},
   "source": [
    "Secara keseluruhan, algoritma quicksort (yang bersifat rekursif) terdiri dari langkah berikut:\n",
    "\n",
    "1. Apabila *array* kosong atau terdiri dari satu elemen, sorting selesai. Selain itu, lanjut ke langkah berikut.\n",
    "\n",
    "2. Pilih salah satu elemen di *array* sebagai \"pivot\" (Bebas, yang penting konsisten. Biasanya elemen pertama. Kemungkinan lain: elemen tengah, elemen terakhir, dsb)\n",
    "\n",
    "3. Lakukan \"partisi\", yaitu proses yang membuat kondisi *array* menjadi seperti berikut:\n",
    "\n",
    "```\n",
    "-----------------------------------------------------------\n",
    "| semua elemen yang      | pivot | semua elemen yang      |\n",
    "| lebih kecil dari pivot |       | lebih besar dari pivot |\n",
    "-----------------------------------------------------------\n",
    "```\n",
    "\n",
    "4. Lakukan *quicksort* pada sebelah kiri pivot dan pada sebelah kanan pivot.\n",
    "\n",
    "Untuk proses \"partisi\", ada dua cara utama untuk melakukannya (algoritma partisi), yaitu algoritma partisi Hoare dan algoritma partisi Lomuto."
   ]
  },
  {
   "cell_type": "markdown",
   "metadata": {},
   "source": [
    "#### Quicksort dengan partisi Hoare"
   ]
  },
  {
   "cell_type": "code",
   "execution_count": 17,
   "metadata": {},
   "outputs": [],
   "source": [
    "def partition_hoare(A, left_idx, right_idx):\n",
    "    # Buat \"pointer\" low dan high (simpan indeksnya saja)\n",
    "    low_idx = left_idx\n",
    "    high_idx = right_idx\n",
    "\n",
    "    # Diasumsikan array sudah terpartisi dengan baik (padahal belom hehe),\n",
    "    # - tugas low adalah memeriksa dari kiri (apakah benar sudah dipartisi),\n",
    "    # - tugas high adalah memeriksa dari kanan.\n",
    "    # Sudah terpartisi artinya:\n",
    "    # - sebelah kiri pivot adalah yang lebih kecil dari pivot\n",
    "    # - sebelah kanan pivot adalah yang lebih besar dari pivot\n",
    "\n",
    "    # Pilih indeks pivot, bebas, misal elemen paling pertama (paling kiri)\n",
    "    pivot_idx = left_idx\n",
    "    pivot_val = A[pivot_idx]\n",
    "\n",
    "    # Loop selama low belum melewati high\n",
    "    # (syarat ini sangat penting, hingga diperiksa berkali-kali)\n",
    "    while low_idx <= high_idx:\n",
    "\n",
    "        # low lanjut ke kanan hingga menemukan elemen yang posisinya salah,\n",
    "        # yaitu elemen yang nilainya lebih besar dari pivot\n",
    "        while (low_idx <= high_idx) and not (A[low_idx] > pivot_val):\n",
    "            low_idx += 1\n",
    "\n",
    "        # high lanjut ke kiri hingga menemukan elemen yang posisinya salah,\n",
    "        # yaitu elemen yang nilainya lebih kecil dari pivot\n",
    "        while (low_idx <= high_idx) and not (A[high_idx] < pivot_val):\n",
    "            high_idx -= 1\n",
    "\n",
    "        # low dan high sama-sama menunjuk pada elemen yang posisinya salah,\n",
    "        # keduanya akan menjadi benar kalau posisinya ditukar\n",
    "        if low_idx <= high_idx:\n",
    "            A[low_idx], A[high_idx] = A[high_idx], A[low_idx]\n",
    "\n",
    "            # Apabila elemen pivot ternyata ikut ditukar,\n",
    "            # pastikan data posisinya (pivot_idx) di-update.\n",
    "            if pivot_idx == low_idx: # Apabila tadinya pivot di low,\n",
    "                pivot_idx = high_idx # maka sekarang pivot di high.\n",
    "            elif pivot_idx == high_idx: # Namun apabila tadinya pivot di high,\n",
    "                pivot_idx = low_idx # maka sekarang pivot di low.\n",
    "    \n",
    "    # Kalau sudah keluar loop, berarti low sudah melewati high;\n",
    "    # Sudah ketemu garis baginya, yaitu antara low dan high.\n",
    "    # Saat ini, sebelah kiri garis bagi sudah lebih kecil dari pivot,\n",
    "    # dan sebelah kanan garis bagi sudah lebih besar dari pivot.\n",
    "    # Sekarang kita tinggal menempatkan pivot pada garis bagi tersebut\n",
    "\n",
    "    # Tukar pivot dengan high kalau pivot di sebelah kiri high,\n",
    "    if pivot_idx <= high_idx:\n",
    "        A[pivot_idx], A[high_idx] = A[high_idx], A[pivot_idx]\n",
    "        pivot_idx = high_idx\n",
    "    \n",
    "    # atau tukar pivot dengan low kalau pivot di sebelah kanan low\n",
    "    else:\n",
    "        A[pivot_idx], A[low_idx] = A[low_idx], A[pivot_idx]\n",
    "        pivot_idx = low_idx\n",
    "    \n",
    "    # Partisi sudah selesai, return posisi pivot\n",
    "    # supaya jadi tahu di mana garis baginya\n",
    "    return pivot_idx"
   ]
  },
  {
   "cell_type": "code",
   "execution_count": 15,
   "metadata": {},
   "outputs": [],
   "source": [
    "def quicksort_hoare(A, left_idx=None, right_idx=None):\n",
    "    if left_idx == None:\n",
    "        left_idx = 0\n",
    "    if right_idx == None:\n",
    "        right_idx = len(A) - 1\n",
    "    \n",
    "    if left_idx < right_idx:\n",
    "        pivot_idx = partition_hoare(A, left_idx, right_idx)\n",
    "        quicksort_hoare(A, left_idx, pivot_idx-1)\n",
    "        quicksort_hoare(A, pivot_idx+1, right_idx)"
   ]
  },
  {
   "cell_type": "code",
   "execution_count": 16,
   "metadata": {},
   "outputs": [
    {
     "name": "stdout",
     "output_type": "stream",
     "text": [
      "[1, 2, 3, 4, 5, 6, 7, 8, 9, 10]\n"
     ]
    }
   ],
   "source": [
    "A = [1, 5, 2, 3, 4, 8, 7, 6, 10, 9]\n",
    "quicksort_hoare(A)\n",
    "print(A)"
   ]
  },
  {
   "cell_type": "markdown",
   "metadata": {},
   "source": [
    "#### Quicksort dengan partisi Lomuto"
   ]
  },
  {
   "cell_type": "code",
   "execution_count": 23,
   "metadata": {},
   "outputs": [],
   "source": [
    "def partition_lomuto(A, left_idx, right_idx):\n",
    "    # Pilih elemen pivot, misal sebagai elemen paling pertama\n",
    "    pivot_idx = left_idx\n",
    "    pivot_val = A[pivot_idx]\n",
    "\n",
    "    # Asumsi awal: semua elemen lebih besar dari nilai pivot,\n",
    "    # sehingga \"separator\" atau \"garis pemisah\" ada di ujung kiri,\n",
    "    # bahkan di sebelah kiri elemen pertama\n",
    "    sep = left_idx - 1\n",
    "\n",
    "    # Periksa tiap elemen...\n",
    "    for j in range(left_idx, right_idx):\n",
    "        # Kalau ternyata ada elemen yang tidak lebih besar dari pivot...\n",
    "        if A[j] <= pivot_val:\n",
    "            # Majukan garis pemisah...\n",
    "            sep = sep + 1\n",
    "            # Lalu tukar elemen itu (yang seharusnya di sebelah kiri pivot),\n",
    "            # agar menjadi di (sebelah kiri) garis pemisah\n",
    "            A[sep], A[j] = A[j], A[sep]\n",
    "            # Nantinya, pivot akan diletakkan di posisi indeks sep+1.\n",
    "            # Data indeks \"sep\" menunjuk pada indeks terakhir yang\n",
    "            # elemennya lebih kecil dari pivot.\n",
    "    \n",
    "    # Keluar for loop, sekarang semua elemen sudah diperiksa,\n",
    "    # indeks sep menunjuk pada elemen terakhir yang lebih kecil dari pivot.\n",
    "    # Maka, pivot bisa diletakkan di posisi sep+1.\n",
    "    # Tukar elemen pivot dengan elemen apapun yang sedang di sep+1.\n",
    "    A[sep+1], A[pivot_idx] = A[pivot_idx], A[sep+1]\n",
    "    # Sekarang, pivot ada di sep+1\n",
    "    pivot_idx = sep+1\n",
    "\n",
    "    # Partisi sudah selesai, return posisi pivot\n",
    "    # supaya jadi tahu di mana garis baginya\n",
    "    return pivot_idx"
   ]
  },
  {
   "cell_type": "code",
   "execution_count": 24,
   "metadata": {},
   "outputs": [],
   "source": [
    "def quicksort_lomuto(A, left_idx=None, right_idx=None):\n",
    "    if left_idx == None:\n",
    "        left_idx = 0\n",
    "    if right_idx == None:\n",
    "        right_idx = len(A) - 1\n",
    "\n",
    "    if left_idx < right_idx:\n",
    "        pivot_idx = partition_lomuto(A, left_idx, right_idx)\n",
    "        quicksort_lomuto(A, left_idx, pivot_idx - 1)\n",
    "        quicksort_lomuto(A, pivot_idx + 1, right_idx)"
   ]
  },
  {
   "cell_type": "code",
   "execution_count": 25,
   "metadata": {},
   "outputs": [
    {
     "name": "stdout",
     "output_type": "stream",
     "text": [
      "[5, 1, 3, 2, 8, 4, 6, 10, 7, 9]\n"
     ]
    }
   ],
   "source": [
    "A = [1, 5, 2, 3, 4, 8, 7, 6, 10, 9]\n",
    "quicksort_lomuto(A)\n",
    "print(A)"
   ]
  },
  {
   "cell_type": "code",
   "execution_count": null,
   "metadata": {},
   "outputs": [],
   "source": []
  }
 ],
 "metadata": {
  "kernelspec": {
   "display_name": "Python 3",
   "language": "python",
   "name": "python3"
  },
  "language_info": {
   "codemirror_mode": {
    "name": "ipython",
    "version": 3
   },
   "file_extension": ".py",
   "mimetype": "text/x-python",
   "name": "python",
   "nbconvert_exporter": "python",
   "pygments_lexer": "ipython3",
   "version": "3.10.11"
  },
  "orig_nbformat": 4
 },
 "nbformat": 4,
 "nbformat_minor": 2
}
