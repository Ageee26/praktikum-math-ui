{
 "cells": [
  {
   "cell_type": "markdown",
   "metadata": {},
   "source": [
    "# Modul 5 Struktur Data: Graphviz, *Linked List*"
   ]
  },
  {
   "cell_type": "markdown",
   "metadata": {},
   "source": [
    "Kembali ke [Struktur Data (dengan Python)](strukdat2023.qmd)"
   ]
  },
  {
   "cell_type": "markdown",
   "metadata": {},
   "source": [
    "Pada praktikum kali ini, kita akan membahas mengenai *linked list*, serta cara memvisualisasikannya menggunakan yang namanya Graphviz."
   ]
  },
  {
   "cell_type": "markdown",
   "metadata": {},
   "source": [
    "Sebelum mengikuti praktikum ini, ada baiknya kalian me-*review* kembali modul berikut:\n",
    "\n",
    "* [Modul 2: Pengantar OOP](./Strukdat2023_Modul02.ipynb)\n",
    "\n",
    "Untuk apa? Kita akan menyusun struktur data *linked list* menggunakan `class` :) semoga kalian sudah cukup paham tentang `class` yaa. Kalau belum pun, semoga kalian akan lebih paham setelah praktikum kali ini :D"
   ]
  },
  {
   "cell_type": "markdown",
   "metadata": {},
   "source": [
    "## Graphviz"
   ]
  },
  {
   "cell_type": "markdown",
   "metadata": {},
   "source": [
    "Graphviz adalah semacam *software* yang bisa membuat visualisasi \"graf\" yang bagus. Mungkin di antara kalian belum semuanya kenal dengan graf, itu tidak masalah. Kurang lebih, suatu graf adalah kumpulan bulet-bulet (disebut simpul, *node*, atau *vertex*) yang disambung oleh \"busur\" (juga disebut *arc* atau *edge*), di mana tiap *edge* bisa berupa garis biasa atau berupa panah."
   ]
  },
  {
   "cell_type": "markdown",
   "metadata": {},
   "source": [
    "Berikut contoh graf yang digambar dengan Graphviz:"
   ]
  },
  {
   "cell_type": "markdown",
   "metadata": {},
   "source": [
    "```{dot}\n",
    "digraph \"graf G\" {\n",
    "    A -> B;\n",
    "    B -> A;\n",
    "    A -> C;\n",
    "    D -> C [dir=none];\n",
    "    D -> D;\n",
    "    D -> E [label=\"  tes\"];\n",
    "    E -> F;\n",
    "    B -> F [dir=none];\n",
    "    GHI -> F [label=\"qwerty\"];\n",
    "    C -> E [dir=both];\n",
    "}\n",
    "```"
   ]
  },
  {
   "cell_type": "markdown",
   "metadata": {},
   "source": [
    "Lho, di mata kuliah Struktur Data kan ga ada graf. Untuk apa kita pelajari Graphviz?\n",
    "\n",
    "Dengan Graphviz, kita bisa membuat visualisasi untuk berbagai struktur data nantinya, termasuk *linked list* hari ini. Kita bisa meminta Graphviz untuk membuat bentuk *node* yang tidak sederhana, termasuk bentuk *node* yang kita kenal di *linked list*, kemudian membuat *edge* yang berupa panah, sehingga kita benar-benar bisa menggambarkan suatu *linked list* :)"
   ]
  },
  {
   "cell_type": "markdown",
   "metadata": {},
   "source": [
    "### Instalasi Graphviz"
   ]
  },
  {
   "cell_type": "markdown",
   "metadata": {},
   "source": [
    "Sebelum bisa menggunakan Graphviz, perlu di-*install* terlebih dahulu."
   ]
  },
  {
   "cell_type": "markdown",
   "metadata": {},
   "source": [
    "Di Google Colaboratory, kalian tinggal mengetik:\n",
    "\n",
    "`pip install graphviz`"
   ]
  },
  {
   "cell_type": "markdown",
   "metadata": {},
   "source": [
    "Sedangkan, apabila menggunakan Jupyter Notebook melalui Anaconda, buka Anaconda Prompt lalu ketik:\n",
    "\n",
    "`conda install graphviz`\n",
    "\n",
    "Tunggu instalasi selesai, barulah buka Jupyter Notebook dan ketik\n",
    "\n",
    "`pip install graphviz`"
   ]
  },
  {
   "cell_type": "markdown",
   "metadata": {},
   "source": [
    "Note:\n",
    "\n",
    "* Apabila Anda menggunakan Jupyter Notebook tetapi tidak melalui Anaconda, langkah `conda install graphviz` bisa digantikan dengan menginstal Graphviz dari [https://graphviz.gitlab.io/download/](https://graphviz.gitlab.io/download/)\n",
    "\n",
    "* Untuk penulisan `pip`, ada kemungkinan kalian perlu mengetik `!pip` dengan tanda seru di awal. Biasanya tidak perlu, tapi kalau menjadi *error*, boleh dicoba dengan tanda seru."
   ]
  },
  {
   "cell_type": "markdown",
   "metadata": {},
   "source": [
    "### Mengenal Graphviz: *node* dan *edge*"
   ]
  },
  {
   "cell_type": "markdown",
   "metadata": {},
   "source": [
    "Setelah instalasi selesai, kita bisa import:"
   ]
  },
  {
   "cell_type": "code",
   "execution_count": 1,
   "metadata": {},
   "outputs": [],
   "source": [
    "import graphviz as gv"
   ]
  },
  {
   "cell_type": "markdown",
   "metadata": {},
   "source": [
    "Dengan Graphviz, ada dua jenis gambar graf yang bisa kita buat:\n",
    "\n",
    "* `Digraph` (graf berarah, yaitu tiap *edge* bisa berupa panah maupun garis biasa)\n",
    "* `Graph` (graf sederhana, yaitu tiap *edge* hanya bisa berupa garis biasa, bukan panah)"
   ]
  },
  {
   "cell_type": "markdown",
   "metadata": {},
   "source": [
    "Karena `Digraph` lebih banyak fiturnya, kita akan membuat `Digraph` saja."
   ]
  },
  {
   "cell_type": "markdown",
   "metadata": {},
   "source": [
    "Sebagai contoh sederhana, kita bisa membuat `Digraph` yang terdiri dari dua *node* yaitu A dan B, dengan *edge* berupa panah yang menghubungkan A ke B. Kita buat objek `Digraph` terlebih dahulu:"
   ]
  },
  {
   "cell_type": "code",
   "execution_count": 47,
   "metadata": {},
   "outputs": [],
   "source": [
    "graf1 = gv.Digraph()"
   ]
  },
  {
   "cell_type": "markdown",
   "metadata": {},
   "source": [
    "Kemudian, kita bisa menambahkan *node* A dan B sebagai berikut:"
   ]
  },
  {
   "cell_type": "code",
   "execution_count": 48,
   "metadata": {},
   "outputs": [],
   "source": [
    "graf1.node(\"A\")\n",
    "graf1.node(\"B\")"
   ]
  },
  {
   "cell_type": "markdown",
   "metadata": {},
   "source": [
    "Selanjutnya, kita bisa membuat/menambahkan suatu *edge* dari A ke B, seperti berikut:"
   ]
  },
  {
   "cell_type": "code",
   "execution_count": 49,
   "metadata": {},
   "outputs": [],
   "source": [
    "graf1.edge(\"A\", \"B\")"
   ]
  },
  {
   "cell_type": "markdown",
   "metadata": {},
   "source": [
    "Sekarang kita bisa lihat grafnya:"
   ]
  },
  {
   "cell_type": "code",
   "execution_count": 50,
   "metadata": {},
   "outputs": [
    {
     "data": {
      "image/svg+xml": [
       "<?xml version=\"1.0\" encoding=\"UTF-8\" standalone=\"no\"?>\n",
       "<!DOCTYPE svg PUBLIC \"-//W3C//DTD SVG 1.1//EN\"\n",
       " \"http://www.w3.org/Graphics/SVG/1.1/DTD/svg11.dtd\">\n",
       "<!-- Generated by graphviz version 8.1.0 (20230707.0739)\n",
       " -->\n",
       "<!-- Pages: 1 -->\n",
       "<svg width=\"62pt\" height=\"116pt\"\n",
       " viewBox=\"0.00 0.00 62.00 116.00\" xmlns=\"http://www.w3.org/2000/svg\" xmlns:xlink=\"http://www.w3.org/1999/xlink\">\n",
       "<g id=\"graph0\" class=\"graph\" transform=\"scale(1 1) rotate(0) translate(4 112)\">\n",
       "<polygon fill=\"white\" stroke=\"none\" points=\"-4,4 -4,-112 58,-112 58,4 -4,4\"/>\n",
       "<!-- A -->\n",
       "<g id=\"node1\" class=\"node\">\n",
       "<title>A</title>\n",
       "<ellipse fill=\"none\" stroke=\"black\" cx=\"27\" cy=\"-90\" rx=\"27\" ry=\"18\"/>\n",
       "<text text-anchor=\"middle\" x=\"27\" y=\"-85.8\" font-family=\"Times,serif\" font-size=\"14.00\">A</text>\n",
       "</g>\n",
       "<!-- B -->\n",
       "<g id=\"node2\" class=\"node\">\n",
       "<title>B</title>\n",
       "<ellipse fill=\"none\" stroke=\"black\" cx=\"27\" cy=\"-18\" rx=\"27\" ry=\"18\"/>\n",
       "<text text-anchor=\"middle\" x=\"27\" y=\"-13.8\" font-family=\"Times,serif\" font-size=\"14.00\">B</text>\n",
       "</g>\n",
       "<!-- A&#45;&gt;B -->\n",
       "<g id=\"edge1\" class=\"edge\">\n",
       "<title>A&#45;&gt;B</title>\n",
       "<path fill=\"none\" stroke=\"black\" d=\"M27,-71.7C27,-64.24 27,-55.32 27,-46.97\"/>\n",
       "<polygon fill=\"black\" stroke=\"black\" points=\"30.5,-47.1 27,-37.1 23.5,-47.1 30.5,-47.1\"/>\n",
       "</g>\n",
       "</g>\n",
       "</svg>\n"
      ],
      "text/plain": [
       "<graphviz.graphs.Digraph at 0x1051a88e0>"
      ]
     },
     "metadata": {},
     "output_type": "display_data"
    }
   ],
   "source": [
    "display(graf1)"
   ]
  },
  {
   "cell_type": "markdown",
   "metadata": {},
   "source": [
    "Note: apabila fungsi `display` tidak dikenal, silakan import:\n",
    "\n",
    "`from IPython.display import display`"
   ]
  },
  {
   "cell_type": "markdown",
   "metadata": {},
   "source": [
    "Sebenarnya, kita bisa saja menambahkan *edge* baru tanpa membuat *node* terlebih dahulu. Contohnya, menambahkan *edge* dari A ke C (suatu *node* baru):"
   ]
  },
  {
   "cell_type": "code",
   "execution_count": 51,
   "metadata": {},
   "outputs": [],
   "source": [
    "graf1.edge(\"A\", \"C\")"
   ]
  },
  {
   "cell_type": "markdown",
   "metadata": {},
   "source": [
    "Kita bisa lihat lagi:"
   ]
  },
  {
   "cell_type": "code",
   "execution_count": 52,
   "metadata": {},
   "outputs": [
    {
     "data": {
      "image/svg+xml": [
       "<?xml version=\"1.0\" encoding=\"UTF-8\" standalone=\"no\"?>\n",
       "<!DOCTYPE svg PUBLIC \"-//W3C//DTD SVG 1.1//EN\"\n",
       " \"http://www.w3.org/Graphics/SVG/1.1/DTD/svg11.dtd\">\n",
       "<!-- Generated by graphviz version 8.1.0 (20230707.0739)\n",
       " -->\n",
       "<!-- Pages: 1 -->\n",
       "<svg width=\"134pt\" height=\"116pt\"\n",
       " viewBox=\"0.00 0.00 134.00 116.00\" xmlns=\"http://www.w3.org/2000/svg\" xmlns:xlink=\"http://www.w3.org/1999/xlink\">\n",
       "<g id=\"graph0\" class=\"graph\" transform=\"scale(1 1) rotate(0) translate(4 112)\">\n",
       "<polygon fill=\"white\" stroke=\"none\" points=\"-4,4 -4,-112 130,-112 130,4 -4,4\"/>\n",
       "<!-- A -->\n",
       "<g id=\"node1\" class=\"node\">\n",
       "<title>A</title>\n",
       "<ellipse fill=\"none\" stroke=\"black\" cx=\"63\" cy=\"-90\" rx=\"27\" ry=\"18\"/>\n",
       "<text text-anchor=\"middle\" x=\"63\" y=\"-85.8\" font-family=\"Times,serif\" font-size=\"14.00\">A</text>\n",
       "</g>\n",
       "<!-- B -->\n",
       "<g id=\"node2\" class=\"node\">\n",
       "<title>B</title>\n",
       "<ellipse fill=\"none\" stroke=\"black\" cx=\"27\" cy=\"-18\" rx=\"27\" ry=\"18\"/>\n",
       "<text text-anchor=\"middle\" x=\"27\" y=\"-13.8\" font-family=\"Times,serif\" font-size=\"14.00\">B</text>\n",
       "</g>\n",
       "<!-- A&#45;&gt;B -->\n",
       "<g id=\"edge1\" class=\"edge\">\n",
       "<title>A&#45;&gt;B</title>\n",
       "<path fill=\"none\" stroke=\"black\" d=\"M54.65,-72.76C50.38,-64.46 45.08,-54.15 40.27,-44.79\"/>\n",
       "<polygon fill=\"black\" stroke=\"black\" points=\"42.99,-43.44 35.3,-36.15 36.77,-46.64 42.99,-43.44\"/>\n",
       "</g>\n",
       "<!-- C -->\n",
       "<g id=\"node3\" class=\"node\">\n",
       "<title>C</title>\n",
       "<ellipse fill=\"none\" stroke=\"black\" cx=\"99\" cy=\"-18\" rx=\"27\" ry=\"18\"/>\n",
       "<text text-anchor=\"middle\" x=\"99\" y=\"-13.8\" font-family=\"Times,serif\" font-size=\"14.00\">C</text>\n",
       "</g>\n",
       "<!-- A&#45;&gt;C -->\n",
       "<g id=\"edge2\" class=\"edge\">\n",
       "<title>A&#45;&gt;C</title>\n",
       "<path fill=\"none\" stroke=\"black\" d=\"M71.35,-72.76C75.62,-64.46 80.92,-54.15 85.73,-44.79\"/>\n",
       "<polygon fill=\"black\" stroke=\"black\" points=\"89.23,-46.64 90.7,-36.15 83.01,-43.44 89.23,-46.64\"/>\n",
       "</g>\n",
       "</g>\n",
       "</svg>\n"
      ],
      "text/plain": [
       "<graphviz.graphs.Digraph at 0x1051a88e0>"
      ]
     },
     "metadata": {},
     "output_type": "display_data"
    }
   ],
   "source": [
    "display(graf1)"
   ]
  },
  {
   "cell_type": "markdown",
   "metadata": {},
   "source": [
    "Bahkan, kita bisa membuat ulang graf di atas dengan cara seperti berikut:"
   ]
  },
  {
   "cell_type": "code",
   "execution_count": 53,
   "metadata": {},
   "outputs": [],
   "source": [
    "graf2 = gv.Digraph()\n",
    "graf2.edge(\"A\", \"B\")\n",
    "graf2.edge(\"A\", \"C\")"
   ]
  },
  {
   "cell_type": "code",
   "execution_count": 54,
   "metadata": {},
   "outputs": [
    {
     "data": {
      "image/svg+xml": [
       "<?xml version=\"1.0\" encoding=\"UTF-8\" standalone=\"no\"?>\n",
       "<!DOCTYPE svg PUBLIC \"-//W3C//DTD SVG 1.1//EN\"\n",
       " \"http://www.w3.org/Graphics/SVG/1.1/DTD/svg11.dtd\">\n",
       "<!-- Generated by graphviz version 8.1.0 (20230707.0739)\n",
       " -->\n",
       "<!-- Pages: 1 -->\n",
       "<svg width=\"134pt\" height=\"116pt\"\n",
       " viewBox=\"0.00 0.00 134.00 116.00\" xmlns=\"http://www.w3.org/2000/svg\" xmlns:xlink=\"http://www.w3.org/1999/xlink\">\n",
       "<g id=\"graph0\" class=\"graph\" transform=\"scale(1 1) rotate(0) translate(4 112)\">\n",
       "<polygon fill=\"white\" stroke=\"none\" points=\"-4,4 -4,-112 130,-112 130,4 -4,4\"/>\n",
       "<!-- A -->\n",
       "<g id=\"node1\" class=\"node\">\n",
       "<title>A</title>\n",
       "<ellipse fill=\"none\" stroke=\"black\" cx=\"63\" cy=\"-90\" rx=\"27\" ry=\"18\"/>\n",
       "<text text-anchor=\"middle\" x=\"63\" y=\"-85.8\" font-family=\"Times,serif\" font-size=\"14.00\">A</text>\n",
       "</g>\n",
       "<!-- B -->\n",
       "<g id=\"node2\" class=\"node\">\n",
       "<title>B</title>\n",
       "<ellipse fill=\"none\" stroke=\"black\" cx=\"27\" cy=\"-18\" rx=\"27\" ry=\"18\"/>\n",
       "<text text-anchor=\"middle\" x=\"27\" y=\"-13.8\" font-family=\"Times,serif\" font-size=\"14.00\">B</text>\n",
       "</g>\n",
       "<!-- A&#45;&gt;B -->\n",
       "<g id=\"edge1\" class=\"edge\">\n",
       "<title>A&#45;&gt;B</title>\n",
       "<path fill=\"none\" stroke=\"black\" d=\"M54.65,-72.76C50.38,-64.46 45.08,-54.15 40.27,-44.79\"/>\n",
       "<polygon fill=\"black\" stroke=\"black\" points=\"42.99,-43.44 35.3,-36.15 36.77,-46.64 42.99,-43.44\"/>\n",
       "</g>\n",
       "<!-- C -->\n",
       "<g id=\"node3\" class=\"node\">\n",
       "<title>C</title>\n",
       "<ellipse fill=\"none\" stroke=\"black\" cx=\"99\" cy=\"-18\" rx=\"27\" ry=\"18\"/>\n",
       "<text text-anchor=\"middle\" x=\"99\" y=\"-13.8\" font-family=\"Times,serif\" font-size=\"14.00\">C</text>\n",
       "</g>\n",
       "<!-- A&#45;&gt;C -->\n",
       "<g id=\"edge2\" class=\"edge\">\n",
       "<title>A&#45;&gt;C</title>\n",
       "<path fill=\"none\" stroke=\"black\" d=\"M71.35,-72.76C75.62,-64.46 80.92,-54.15 85.73,-44.79\"/>\n",
       "<polygon fill=\"black\" stroke=\"black\" points=\"89.23,-46.64 90.7,-36.15 83.01,-43.44 89.23,-46.64\"/>\n",
       "</g>\n",
       "</g>\n",
       "</svg>\n"
      ],
      "text/plain": [
       "<graphviz.graphs.Digraph at 0x1050b6f80>"
      ]
     },
     "metadata": {},
     "output_type": "display_data"
    }
   ],
   "source": [
    "display(graf2)"
   ]
  },
  {
   "cell_type": "markdown",
   "metadata": {},
   "source": [
    "Menariknya, kita bisa saja membuat panah yang menunjuk ke dirinya sendiri."
   ]
  },
  {
   "cell_type": "code",
   "execution_count": 55,
   "metadata": {},
   "outputs": [],
   "source": [
    "graf3 = gv.Digraph()\n",
    "graf3.edge(\"A\", \"B\")\n",
    "graf3.edge(\"B\", \"B\")"
   ]
  },
  {
   "cell_type": "code",
   "execution_count": 56,
   "metadata": {},
   "outputs": [
    {
     "data": {
      "image/svg+xml": [
       "<?xml version=\"1.0\" encoding=\"UTF-8\" standalone=\"no\"?>\n",
       "<!DOCTYPE svg PUBLIC \"-//W3C//DTD SVG 1.1//EN\"\n",
       " \"http://www.w3.org/Graphics/SVG/1.1/DTD/svg11.dtd\">\n",
       "<!-- Generated by graphviz version 8.1.0 (20230707.0739)\n",
       " -->\n",
       "<!-- Pages: 1 -->\n",
       "<svg width=\"80pt\" height=\"116pt\"\n",
       " viewBox=\"0.00 0.00 80.00 116.00\" xmlns=\"http://www.w3.org/2000/svg\" xmlns:xlink=\"http://www.w3.org/1999/xlink\">\n",
       "<g id=\"graph0\" class=\"graph\" transform=\"scale(1 1) rotate(0) translate(4 112)\">\n",
       "<polygon fill=\"white\" stroke=\"none\" points=\"-4,4 -4,-112 76,-112 76,4 -4,4\"/>\n",
       "<!-- A -->\n",
       "<g id=\"node1\" class=\"node\">\n",
       "<title>A</title>\n",
       "<ellipse fill=\"none\" stroke=\"black\" cx=\"27\" cy=\"-90\" rx=\"27\" ry=\"18\"/>\n",
       "<text text-anchor=\"middle\" x=\"27\" y=\"-85.8\" font-family=\"Times,serif\" font-size=\"14.00\">A</text>\n",
       "</g>\n",
       "<!-- B -->\n",
       "<g id=\"node2\" class=\"node\">\n",
       "<title>B</title>\n",
       "<ellipse fill=\"none\" stroke=\"black\" cx=\"27\" cy=\"-18\" rx=\"27\" ry=\"18\"/>\n",
       "<text text-anchor=\"middle\" x=\"27\" y=\"-13.8\" font-family=\"Times,serif\" font-size=\"14.00\">B</text>\n",
       "</g>\n",
       "<!-- A&#45;&gt;B -->\n",
       "<g id=\"edge1\" class=\"edge\">\n",
       "<title>A&#45;&gt;B</title>\n",
       "<path fill=\"none\" stroke=\"black\" d=\"M27,-71.7C27,-64.24 27,-55.32 27,-46.97\"/>\n",
       "<polygon fill=\"black\" stroke=\"black\" points=\"30.5,-47.1 27,-37.1 23.5,-47.1 30.5,-47.1\"/>\n",
       "</g>\n",
       "<!-- B&#45;&gt;B -->\n",
       "<g id=\"edge2\" class=\"edge\">\n",
       "<title>B&#45;&gt;B</title>\n",
       "<path fill=\"none\" stroke=\"black\" d=\"M46.9,-30.43C59.69,-33.68 72,-29.53 72,-18 72,-9.89 65.91,-5.44 57.85,-4.63\"/>\n",
       "<polygon fill=\"black\" stroke=\"black\" points=\"57.56,-1.23 47.9,-5.57 58.16,-8.2 57.56,-1.23\"/>\n",
       "</g>\n",
       "</g>\n",
       "</svg>\n"
      ],
      "text/plain": [
       "<graphviz.graphs.Digraph at 0x1051a8fa0>"
      ]
     },
     "metadata": {},
     "output_type": "display_data"
    }
   ],
   "source": [
    "display(graf3)"
   ]
  },
  {
   "cell_type": "markdown",
   "metadata": {},
   "source": [
    "Kita juga bisa membuat dua panah berlawanan arah di antara dua *node* seperti berikut:"
   ]
  },
  {
   "cell_type": "code",
   "execution_count": 57,
   "metadata": {},
   "outputs": [],
   "source": [
    "graf4 = gv.Digraph()\n",
    "graf4.edge(\"A\", \"B\")\n",
    "graf4.edge(\"B\", \"A\")"
   ]
  },
  {
   "cell_type": "code",
   "execution_count": 58,
   "metadata": {},
   "outputs": [
    {
     "data": {
      "image/svg+xml": [
       "<?xml version=\"1.0\" encoding=\"UTF-8\" standalone=\"no\"?>\n",
       "<!DOCTYPE svg PUBLIC \"-//W3C//DTD SVG 1.1//EN\"\n",
       " \"http://www.w3.org/Graphics/SVG/1.1/DTD/svg11.dtd\">\n",
       "<!-- Generated by graphviz version 8.1.0 (20230707.0739)\n",
       " -->\n",
       "<!-- Pages: 1 -->\n",
       "<svg width=\"62pt\" height=\"116pt\"\n",
       " viewBox=\"0.00 0.00 62.00 116.00\" xmlns=\"http://www.w3.org/2000/svg\" xmlns:xlink=\"http://www.w3.org/1999/xlink\">\n",
       "<g id=\"graph0\" class=\"graph\" transform=\"scale(1 1) rotate(0) translate(4 112)\">\n",
       "<polygon fill=\"white\" stroke=\"none\" points=\"-4,4 -4,-112 58,-112 58,4 -4,4\"/>\n",
       "<!-- A -->\n",
       "<g id=\"node1\" class=\"node\">\n",
       "<title>A</title>\n",
       "<ellipse fill=\"none\" stroke=\"black\" cx=\"27\" cy=\"-90\" rx=\"27\" ry=\"18\"/>\n",
       "<text text-anchor=\"middle\" x=\"27\" y=\"-85.8\" font-family=\"Times,serif\" font-size=\"14.00\">A</text>\n",
       "</g>\n",
       "<!-- B -->\n",
       "<g id=\"node2\" class=\"node\">\n",
       "<title>B</title>\n",
       "<ellipse fill=\"none\" stroke=\"black\" cx=\"27\" cy=\"-18\" rx=\"27\" ry=\"18\"/>\n",
       "<text text-anchor=\"middle\" x=\"27\" y=\"-13.8\" font-family=\"Times,serif\" font-size=\"14.00\">B</text>\n",
       "</g>\n",
       "<!-- A&#45;&gt;B -->\n",
       "<g id=\"edge1\" class=\"edge\">\n",
       "<title>A&#45;&gt;B</title>\n",
       "<path fill=\"none\" stroke=\"black\" d=\"M21.12,-72.05C20.31,-64.4 20.06,-55.16 20.39,-46.56\"/>\n",
       "<polygon fill=\"black\" stroke=\"black\" points=\"23.93,-47.01 21.14,-36.79 16.95,-46.52 23.93,-47.01\"/>\n",
       "</g>\n",
       "<!-- B&#45;&gt;A -->\n",
       "<g id=\"edge2\" class=\"edge\">\n",
       "<title>B&#45;&gt;A</title>\n",
       "<path fill=\"none\" stroke=\"black\" d=\"M32.86,-35.79C33.68,-43.42 33.93,-52.65 33.62,-61.27\"/>\n",
       "<polygon fill=\"black\" stroke=\"black\" points=\"30.07,-60.84 32.88,-71.05 37.06,-61.32 30.07,-60.84\"/>\n",
       "</g>\n",
       "</g>\n",
       "</svg>\n"
      ],
      "text/plain": [
       "<graphviz.graphs.Digraph at 0x104942950>"
      ]
     },
     "metadata": {},
     "output_type": "display_data"
    }
   ],
   "source": [
    "display(graf4)"
   ]
  },
  {
   "cell_type": "markdown",
   "metadata": {},
   "source": [
    "Membuat satu panah yang dua arah juga bisa, dengan menentukan `dir` atau *direction* dari *edge* tersebut menjadi `\"both\"` seperti berikut:"
   ]
  },
  {
   "cell_type": "code",
   "execution_count": 59,
   "metadata": {},
   "outputs": [],
   "source": [
    "graf5 = gv.Digraph()\n",
    "graf5.edge(\"A\", \"B\", dir=\"both\")"
   ]
  },
  {
   "cell_type": "code",
   "execution_count": 60,
   "metadata": {},
   "outputs": [
    {
     "data": {
      "image/svg+xml": [
       "<?xml version=\"1.0\" encoding=\"UTF-8\" standalone=\"no\"?>\n",
       "<!DOCTYPE svg PUBLIC \"-//W3C//DTD SVG 1.1//EN\"\n",
       " \"http://www.w3.org/Graphics/SVG/1.1/DTD/svg11.dtd\">\n",
       "<!-- Generated by graphviz version 8.1.0 (20230707.0739)\n",
       " -->\n",
       "<!-- Pages: 1 -->\n",
       "<svg width=\"62pt\" height=\"116pt\"\n",
       " viewBox=\"0.00 0.00 62.00 116.00\" xmlns=\"http://www.w3.org/2000/svg\" xmlns:xlink=\"http://www.w3.org/1999/xlink\">\n",
       "<g id=\"graph0\" class=\"graph\" transform=\"scale(1 1) rotate(0) translate(4 112)\">\n",
       "<polygon fill=\"white\" stroke=\"none\" points=\"-4,4 -4,-112 58,-112 58,4 -4,4\"/>\n",
       "<!-- A -->\n",
       "<g id=\"node1\" class=\"node\">\n",
       "<title>A</title>\n",
       "<ellipse fill=\"none\" stroke=\"black\" cx=\"27\" cy=\"-90\" rx=\"27\" ry=\"18\"/>\n",
       "<text text-anchor=\"middle\" x=\"27\" y=\"-85.8\" font-family=\"Times,serif\" font-size=\"14.00\">A</text>\n",
       "</g>\n",
       "<!-- B -->\n",
       "<g id=\"node2\" class=\"node\">\n",
       "<title>B</title>\n",
       "<ellipse fill=\"none\" stroke=\"black\" cx=\"27\" cy=\"-18\" rx=\"27\" ry=\"18\"/>\n",
       "<text text-anchor=\"middle\" x=\"27\" y=\"-13.8\" font-family=\"Times,serif\" font-size=\"14.00\">B</text>\n",
       "</g>\n",
       "<!-- A&#45;&gt;B -->\n",
       "<g id=\"edge1\" class=\"edge\">\n",
       "<title>A&#45;&gt;B</title>\n",
       "<path fill=\"none\" stroke=\"black\" d=\"M27,-60.81C27,-56.24 27,-51.5 27,-46.93\"/>\n",
       "<polygon fill=\"black\" stroke=\"black\" points=\"23.5,-60.7 27,-70.7 30.5,-60.7 23.5,-60.7\"/>\n",
       "<polygon fill=\"black\" stroke=\"black\" points=\"30.5,-47.1 27,-37.1 23.5,-47.1 30.5,-47.1\"/>\n",
       "</g>\n",
       "</g>\n",
       "</svg>\n"
      ],
      "text/plain": [
       "<graphviz.graphs.Digraph at 0x1051a8ca0>"
      ]
     },
     "metadata": {},
     "output_type": "display_data"
    }
   ],
   "source": [
    "display(graf5)"
   ]
  },
  {
   "cell_type": "markdown",
   "metadata": {},
   "source": [
    "Daripada panah, kita juga bisa membuat *edge* berupa garis biasa, dengan `dir=\"none\"` (bukan `None` ya!)"
   ]
  },
  {
   "cell_type": "code",
   "execution_count": 61,
   "metadata": {},
   "outputs": [],
   "source": [
    "graf6 = gv.Digraph()\n",
    "graf6.edge(\"A\", \"B\", dir=\"none\")"
   ]
  },
  {
   "cell_type": "code",
   "execution_count": 62,
   "metadata": {},
   "outputs": [
    {
     "data": {
      "image/svg+xml": [
       "<?xml version=\"1.0\" encoding=\"UTF-8\" standalone=\"no\"?>\n",
       "<!DOCTYPE svg PUBLIC \"-//W3C//DTD SVG 1.1//EN\"\n",
       " \"http://www.w3.org/Graphics/SVG/1.1/DTD/svg11.dtd\">\n",
       "<!-- Generated by graphviz version 8.1.0 (20230707.0739)\n",
       " -->\n",
       "<!-- Pages: 1 -->\n",
       "<svg width=\"62pt\" height=\"116pt\"\n",
       " viewBox=\"0.00 0.00 62.00 116.00\" xmlns=\"http://www.w3.org/2000/svg\" xmlns:xlink=\"http://www.w3.org/1999/xlink\">\n",
       "<g id=\"graph0\" class=\"graph\" transform=\"scale(1 1) rotate(0) translate(4 112)\">\n",
       "<polygon fill=\"white\" stroke=\"none\" points=\"-4,4 -4,-112 58,-112 58,4 -4,4\"/>\n",
       "<!-- A -->\n",
       "<g id=\"node1\" class=\"node\">\n",
       "<title>A</title>\n",
       "<ellipse fill=\"none\" stroke=\"black\" cx=\"27\" cy=\"-90\" rx=\"27\" ry=\"18\"/>\n",
       "<text text-anchor=\"middle\" x=\"27\" y=\"-85.8\" font-family=\"Times,serif\" font-size=\"14.00\">A</text>\n",
       "</g>\n",
       "<!-- B -->\n",
       "<g id=\"node2\" class=\"node\">\n",
       "<title>B</title>\n",
       "<ellipse fill=\"none\" stroke=\"black\" cx=\"27\" cy=\"-18\" rx=\"27\" ry=\"18\"/>\n",
       "<text text-anchor=\"middle\" x=\"27\" y=\"-13.8\" font-family=\"Times,serif\" font-size=\"14.00\">B</text>\n",
       "</g>\n",
       "<!-- A&#45;&gt;B -->\n",
       "<g id=\"edge1\" class=\"edge\">\n",
       "<title>A&#45;&gt;B</title>\n",
       "<path fill=\"none\" stroke=\"black\" d=\"M27,-71.7C27,-60.85 27,-46.92 27,-36.1\"/>\n",
       "</g>\n",
       "</g>\n",
       "</svg>\n"
      ],
      "text/plain": [
       "<graphviz.graphs.Digraph at 0x1051a8850>"
      ]
     },
     "metadata": {},
     "output_type": "display_data"
    }
   ],
   "source": [
    "display(graf6)"
   ]
  },
  {
   "cell_type": "markdown",
   "metadata": {},
   "source": [
    "Sejauh ini, grafnya selalu cenderung \"dari atas ke bawah\". Daripada seperti itu, kita bisa mengubahnya menjadi kiri ke kanan untuk keseluruhan graf. Caranya, kita memasang `graph_attr` atau atribut graf, berbentuk `dict`, dan di dalamnya kita buat `\"rankdir\": \"LR\"` (*left-right*) seperti di bawah ini.\n",
    "\n",
    "Setelah objek `Digraph` dibuat, barulah tiap *edge* yang kita tambahkan akan dari kiri ke kanan."
   ]
  },
  {
   "cell_type": "code",
   "execution_count": 67,
   "metadata": {},
   "outputs": [],
   "source": [
    "graf7 = gv.Digraph(graph_attr={\"rankdir\": \"LR\"})\n",
    "graf7.edge(\"A\", \"B\")"
   ]
  },
  {
   "cell_type": "code",
   "execution_count": 68,
   "metadata": {},
   "outputs": [
    {
     "data": {
      "image/svg+xml": [
       "<?xml version=\"1.0\" encoding=\"UTF-8\" standalone=\"no\"?>\n",
       "<!DOCTYPE svg PUBLIC \"-//W3C//DTD SVG 1.1//EN\"\n",
       " \"http://www.w3.org/Graphics/SVG/1.1/DTD/svg11.dtd\">\n",
       "<!-- Generated by graphviz version 8.1.0 (20230707.0739)\n",
       " -->\n",
       "<!-- Pages: 1 -->\n",
       "<svg width=\"152pt\" height=\"44pt\"\n",
       " viewBox=\"0.00 0.00 152.00 44.00\" xmlns=\"http://www.w3.org/2000/svg\" xmlns:xlink=\"http://www.w3.org/1999/xlink\">\n",
       "<g id=\"graph0\" class=\"graph\" transform=\"scale(1 1) rotate(0) translate(4 40)\">\n",
       "<polygon fill=\"white\" stroke=\"none\" points=\"-4,4 -4,-40 148,-40 148,4 -4,4\"/>\n",
       "<!-- A -->\n",
       "<g id=\"node1\" class=\"node\">\n",
       "<title>A</title>\n",
       "<ellipse fill=\"none\" stroke=\"black\" cx=\"27\" cy=\"-18\" rx=\"27\" ry=\"18\"/>\n",
       "<text text-anchor=\"middle\" x=\"27\" y=\"-13.8\" font-family=\"Times,serif\" font-size=\"14.00\">A</text>\n",
       "</g>\n",
       "<!-- B -->\n",
       "<g id=\"node2\" class=\"node\">\n",
       "<title>B</title>\n",
       "<ellipse fill=\"none\" stroke=\"black\" cx=\"117\" cy=\"-18\" rx=\"27\" ry=\"18\"/>\n",
       "<text text-anchor=\"middle\" x=\"117\" y=\"-13.8\" font-family=\"Times,serif\" font-size=\"14.00\">B</text>\n",
       "</g>\n",
       "<!-- A&#45;&gt;B -->\n",
       "<g id=\"edge1\" class=\"edge\">\n",
       "<title>A&#45;&gt;B</title>\n",
       "<path fill=\"none\" stroke=\"black\" d=\"M54.4,-18C62.06,-18 70.57,-18 78.76,-18\"/>\n",
       "<polygon fill=\"black\" stroke=\"black\" points=\"78.62,-21.5 88.62,-18 78.62,-14.5 78.62,-21.5\"/>\n",
       "</g>\n",
       "</g>\n",
       "</svg>\n"
      ],
      "text/plain": [
       "<graphviz.graphs.Digraph at 0x1051a9030>"
      ]
     },
     "metadata": {},
     "output_type": "display_data"
    }
   ],
   "source": [
    "display(graf7)"
   ]
  },
  {
   "cell_type": "markdown",
   "metadata": {},
   "source": [
    "Selain *node* diberi nama, *edge* juga bisa diberi keterangan, lho! Caranya, pasang nilai `label` ketika membuat *edge* baru:"
   ]
  },
  {
   "cell_type": "code",
   "execution_count": 69,
   "metadata": {},
   "outputs": [],
   "source": [
    "graf8 = gv.Digraph(graph_attr={\"rankdir\": \"LR\"})\n",
    "graf8.edge(\"A\", \"B\", label=\"test\")"
   ]
  },
  {
   "cell_type": "code",
   "execution_count": 70,
   "metadata": {},
   "outputs": [
    {
     "data": {
      "image/svg+xml": [
       "<?xml version=\"1.0\" encoding=\"UTF-8\" standalone=\"no\"?>\n",
       "<!DOCTYPE svg PUBLIC \"-//W3C//DTD SVG 1.1//EN\"\n",
       " \"http://www.w3.org/Graphics/SVG/1.1/DTD/svg11.dtd\">\n",
       "<!-- Generated by graphviz version 8.1.0 (20230707.0739)\n",
       " -->\n",
       "<!-- Pages: 1 -->\n",
       "<svg width=\"171pt\" height=\"44pt\"\n",
       " viewBox=\"0.00 0.00 171.44 44.00\" xmlns=\"http://www.w3.org/2000/svg\" xmlns:xlink=\"http://www.w3.org/1999/xlink\">\n",
       "<g id=\"graph0\" class=\"graph\" transform=\"scale(1 1) rotate(0) translate(4 40)\">\n",
       "<polygon fill=\"white\" stroke=\"none\" points=\"-4,4 -4,-40 167.44,-40 167.44,4 -4,4\"/>\n",
       "<!-- A -->\n",
       "<g id=\"node1\" class=\"node\">\n",
       "<title>A</title>\n",
       "<ellipse fill=\"none\" stroke=\"black\" cx=\"27\" cy=\"-18\" rx=\"27\" ry=\"18\"/>\n",
       "<text text-anchor=\"middle\" x=\"27\" y=\"-13.8\" font-family=\"Times,serif\" font-size=\"14.00\">A</text>\n",
       "</g>\n",
       "<!-- B -->\n",
       "<g id=\"node2\" class=\"node\">\n",
       "<title>B</title>\n",
       "<ellipse fill=\"none\" stroke=\"black\" cx=\"136.44\" cy=\"-18\" rx=\"27\" ry=\"18\"/>\n",
       "<text text-anchor=\"middle\" x=\"136.44\" y=\"-13.8\" font-family=\"Times,serif\" font-size=\"14.00\">B</text>\n",
       "</g>\n",
       "<!-- A&#45;&gt;B -->\n",
       "<g id=\"edge1\" class=\"edge\">\n",
       "<title>A&#45;&gt;B</title>\n",
       "<path fill=\"none\" stroke=\"black\" d=\"M54.28,-18C67.55,-18 83.87,-18 98.39,-18\"/>\n",
       "<polygon fill=\"black\" stroke=\"black\" points=\"98.06,-21.5 108.06,-18 98.06,-14.5 98.06,-21.5\"/>\n",
       "<text text-anchor=\"middle\" x=\"81.72\" y=\"-22.2\" font-family=\"Times,serif\" font-size=\"14.00\">test</text>\n",
       "</g>\n",
       "</g>\n",
       "</svg>\n"
      ],
      "text/plain": [
       "<graphviz.graphs.Digraph at 0x1051a8a30>"
      ]
     },
     "metadata": {},
     "output_type": "display_data"
    }
   ],
   "source": [
    "display(graf8)"
   ]
  },
  {
   "cell_type": "markdown",
   "metadata": {},
   "source": [
    "Sebenarnya, di dalam suatu *node*, ada yang namanya `name` (atau ID) dan ada juga yang disebut `label`.\n",
    "\n",
    "* `label` adalah tulisan yang tampil di gambar pada *node* tersebut\n",
    "* `name` atau ID adalah sebutan yang dikenal oleh Graphviz ketika misalnya ingin membuat *edge*\n",
    "\n",
    "Selama ini, yang kita tentukan adalah `name`. Kebetulan, khusus *node*, apabila `label` tidak ditentukan, maka otomatis akan diambil dari `name`."
   ]
  },
  {
   "cell_type": "markdown",
   "metadata": {},
   "source": [
    "Berikut ini, kita bisa coba menentukan `name` dan `label` sekaligus ketika membuat *node*:"
   ]
  },
  {
   "cell_type": "code",
   "execution_count": 75,
   "metadata": {},
   "outputs": [],
   "source": [
    "graf9 = gv.Digraph()\n",
    "graf9.node(\"matkul1\", label=\"Alprog\")\n",
    "graf9.node(\"matkul2\", label=\"Strukdat\")\n",
    "graf9.edge(\"matkul1\", \"matkul2\")"
   ]
  },
  {
   "cell_type": "code",
   "execution_count": 76,
   "metadata": {},
   "outputs": [
    {
     "data": {
      "image/svg+xml": [
       "<?xml version=\"1.0\" encoding=\"UTF-8\" standalone=\"no\"?>\n",
       "<!DOCTYPE svg PUBLIC \"-//W3C//DTD SVG 1.1//EN\"\n",
       " \"http://www.w3.org/Graphics/SVG/1.1/DTD/svg11.dtd\">\n",
       "<!-- Generated by graphviz version 8.1.0 (20230707.0739)\n",
       " -->\n",
       "<!-- Pages: 1 -->\n",
       "<svg width=\"96pt\" height=\"116pt\"\n",
       " viewBox=\"0.00 0.00 95.52 116.00\" xmlns=\"http://www.w3.org/2000/svg\" xmlns:xlink=\"http://www.w3.org/1999/xlink\">\n",
       "<g id=\"graph0\" class=\"graph\" transform=\"scale(1 1) rotate(0) translate(4 112)\">\n",
       "<polygon fill=\"white\" stroke=\"none\" points=\"-4,4 -4,-112 91.52,-112 91.52,4 -4,4\"/>\n",
       "<!-- matkul1 -->\n",
       "<g id=\"node1\" class=\"node\">\n",
       "<title>matkul1</title>\n",
       "<ellipse fill=\"none\" stroke=\"black\" cx=\"43.76\" cy=\"-90\" rx=\"38.39\" ry=\"18\"/>\n",
       "<text text-anchor=\"middle\" x=\"43.76\" y=\"-85.8\" font-family=\"Times,serif\" font-size=\"14.00\">Alprog</text>\n",
       "</g>\n",
       "<!-- matkul2 -->\n",
       "<g id=\"node2\" class=\"node\">\n",
       "<title>matkul2</title>\n",
       "<ellipse fill=\"none\" stroke=\"black\" cx=\"43.76\" cy=\"-18\" rx=\"43.76\" ry=\"18\"/>\n",
       "<text text-anchor=\"middle\" x=\"43.76\" y=\"-13.8\" font-family=\"Times,serif\" font-size=\"14.00\">Strukdat</text>\n",
       "</g>\n",
       "<!-- matkul1&#45;&gt;matkul2 -->\n",
       "<g id=\"edge1\" class=\"edge\">\n",
       "<title>matkul1&#45;&gt;matkul2</title>\n",
       "<path fill=\"none\" stroke=\"black\" d=\"M43.76,-71.7C43.76,-64.24 43.76,-55.32 43.76,-46.97\"/>\n",
       "<polygon fill=\"black\" stroke=\"black\" points=\"47.26,-47.1 43.76,-37.1 40.26,-47.1 47.26,-47.1\"/>\n",
       "</g>\n",
       "</g>\n",
       "</svg>\n"
      ],
      "text/plain": [
       "<graphviz.graphs.Digraph at 0x1050fa050>"
      ]
     },
     "metadata": {},
     "output_type": "display_data"
    }
   ],
   "source": [
    "display(graf9)"
   ]
  },
  {
   "cell_type": "markdown",
   "metadata": {},
   "source": [
    "Perlu dicatat, apabila kita menambahkan *edge* sekaligus membuat *node* baru, kita tidak bisa memasang `label` untuk *node* baru tersebut. \n",
    "\n",
    "Sehingga, apabila kalian ingin membuat *node* dengan `label` tertentu, yang nantinya akan disambung ke *node* lain dengan *edge*, maka sebaiknya *node* baru tersebut dibuat dengan `.node()` terlebih dahulu, barulah `name` nya digunakan ketika membuat `.edge()`"
   ]
  },
  {
   "cell_type": "markdown",
   "metadata": {},
   "source": [
    "Selain itu, bahkan graf itu sendiri juga bisa memiliki nama, yang ditentukan ketika membuat objek grafnya."
   ]
  },
  {
   "cell_type": "code",
   "execution_count": 77,
   "metadata": {},
   "outputs": [],
   "source": [
    "graf10 = gv.Digraph(\"Nama graf\")\n",
    "graf10.edge(\"A\", \"B\")\n",
    "graf10.edge(\"B\", \"C\")"
   ]
  },
  {
   "cell_type": "code",
   "execution_count": 78,
   "metadata": {},
   "outputs": [
    {
     "data": {
      "image/svg+xml": [
       "<?xml version=\"1.0\" encoding=\"UTF-8\" standalone=\"no\"?>\n",
       "<!DOCTYPE svg PUBLIC \"-//W3C//DTD SVG 1.1//EN\"\n",
       " \"http://www.w3.org/Graphics/SVG/1.1/DTD/svg11.dtd\">\n",
       "<!-- Generated by graphviz version 8.1.0 (20230707.0739)\n",
       " -->\n",
       "<!-- Title: Nama graf Pages: 1 -->\n",
       "<svg width=\"62pt\" height=\"188pt\"\n",
       " viewBox=\"0.00 0.00 62.00 188.00\" xmlns=\"http://www.w3.org/2000/svg\" xmlns:xlink=\"http://www.w3.org/1999/xlink\">\n",
       "<g id=\"graph0\" class=\"graph\" transform=\"scale(1 1) rotate(0) translate(4 184)\">\n",
       "<title>Nama graf</title>\n",
       "<polygon fill=\"white\" stroke=\"none\" points=\"-4,4 -4,-184 58,-184 58,4 -4,4\"/>\n",
       "<!-- A -->\n",
       "<g id=\"node1\" class=\"node\">\n",
       "<title>A</title>\n",
       "<ellipse fill=\"none\" stroke=\"black\" cx=\"27\" cy=\"-162\" rx=\"27\" ry=\"18\"/>\n",
       "<text text-anchor=\"middle\" x=\"27\" y=\"-157.8\" font-family=\"Times,serif\" font-size=\"14.00\">A</text>\n",
       "</g>\n",
       "<!-- B -->\n",
       "<g id=\"node2\" class=\"node\">\n",
       "<title>B</title>\n",
       "<ellipse fill=\"none\" stroke=\"black\" cx=\"27\" cy=\"-90\" rx=\"27\" ry=\"18\"/>\n",
       "<text text-anchor=\"middle\" x=\"27\" y=\"-85.8\" font-family=\"Times,serif\" font-size=\"14.00\">B</text>\n",
       "</g>\n",
       "<!-- A&#45;&gt;B -->\n",
       "<g id=\"edge1\" class=\"edge\">\n",
       "<title>A&#45;&gt;B</title>\n",
       "<path fill=\"none\" stroke=\"black\" d=\"M27,-143.7C27,-136.24 27,-127.32 27,-118.97\"/>\n",
       "<polygon fill=\"black\" stroke=\"black\" points=\"30.5,-119.1 27,-109.1 23.5,-119.1 30.5,-119.1\"/>\n",
       "</g>\n",
       "<!-- C -->\n",
       "<g id=\"node3\" class=\"node\">\n",
       "<title>C</title>\n",
       "<ellipse fill=\"none\" stroke=\"black\" cx=\"27\" cy=\"-18\" rx=\"27\" ry=\"18\"/>\n",
       "<text text-anchor=\"middle\" x=\"27\" y=\"-13.8\" font-family=\"Times,serif\" font-size=\"14.00\">C</text>\n",
       "</g>\n",
       "<!-- B&#45;&gt;C -->\n",
       "<g id=\"edge2\" class=\"edge\">\n",
       "<title>B&#45;&gt;C</title>\n",
       "<path fill=\"none\" stroke=\"black\" d=\"M27,-71.7C27,-64.24 27,-55.32 27,-46.97\"/>\n",
       "<polygon fill=\"black\" stroke=\"black\" points=\"30.5,-47.1 27,-37.1 23.5,-47.1 30.5,-47.1\"/>\n",
       "</g>\n",
       "</g>\n",
       "</svg>\n"
      ],
      "text/plain": [
       "<graphviz.graphs.Digraph at 0x103f035b0>"
      ]
     },
     "metadata": {},
     "output_type": "display_data"
    }
   ],
   "source": [
    "display(graf10)"
   ]
  },
  {
   "cell_type": "markdown",
   "metadata": {},
   "source": [
    "Coba letakkan *mouse* kalian pada gambarnya selama beberapa detik. Akan muncul tulisan \"Nama graf\". (Kalau tidak muncul, coba klik kanan dulu, pencet \"Open image in New Tab\" atau semacamnya.)"
   ]
  },
  {
   "cell_type": "markdown",
   "metadata": {},
   "source": [
    "Apabila kalian ingin menentukan misalnya `rankdir`, tuliskan setelah nama grafnya."
   ]
  },
  {
   "cell_type": "code",
   "execution_count": 79,
   "metadata": {},
   "outputs": [],
   "source": [
    "graf11 = gv.Digraph(\"Graf ke kanan\", graph_attr={\"rankdir\": \"LR\"})\n",
    "graf11.edge(\"A\", \"B\")\n",
    "graf11.edge(\"B\", \"C\")"
   ]
  },
  {
   "cell_type": "code",
   "execution_count": 80,
   "metadata": {},
   "outputs": [
    {
     "data": {
      "image/svg+xml": [
       "<?xml version=\"1.0\" encoding=\"UTF-8\" standalone=\"no\"?>\n",
       "<!DOCTYPE svg PUBLIC \"-//W3C//DTD SVG 1.1//EN\"\n",
       " \"http://www.w3.org/Graphics/SVG/1.1/DTD/svg11.dtd\">\n",
       "<!-- Generated by graphviz version 8.1.0 (20230707.0739)\n",
       " -->\n",
       "<!-- Title: Graf ke kanan Pages: 1 -->\n",
       "<svg width=\"242pt\" height=\"44pt\"\n",
       " viewBox=\"0.00 0.00 242.00 44.00\" xmlns=\"http://www.w3.org/2000/svg\" xmlns:xlink=\"http://www.w3.org/1999/xlink\">\n",
       "<g id=\"graph0\" class=\"graph\" transform=\"scale(1 1) rotate(0) translate(4 40)\">\n",
       "<title>Graf ke kanan</title>\n",
       "<polygon fill=\"white\" stroke=\"none\" points=\"-4,4 -4,-40 238,-40 238,4 -4,4\"/>\n",
       "<!-- A -->\n",
       "<g id=\"node1\" class=\"node\">\n",
       "<title>A</title>\n",
       "<ellipse fill=\"none\" stroke=\"black\" cx=\"27\" cy=\"-18\" rx=\"27\" ry=\"18\"/>\n",
       "<text text-anchor=\"middle\" x=\"27\" y=\"-13.8\" font-family=\"Times,serif\" font-size=\"14.00\">A</text>\n",
       "</g>\n",
       "<!-- B -->\n",
       "<g id=\"node2\" class=\"node\">\n",
       "<title>B</title>\n",
       "<ellipse fill=\"none\" stroke=\"black\" cx=\"117\" cy=\"-18\" rx=\"27\" ry=\"18\"/>\n",
       "<text text-anchor=\"middle\" x=\"117\" y=\"-13.8\" font-family=\"Times,serif\" font-size=\"14.00\">B</text>\n",
       "</g>\n",
       "<!-- A&#45;&gt;B -->\n",
       "<g id=\"edge1\" class=\"edge\">\n",
       "<title>A&#45;&gt;B</title>\n",
       "<path fill=\"none\" stroke=\"black\" d=\"M54.4,-18C62.06,-18 70.57,-18 78.76,-18\"/>\n",
       "<polygon fill=\"black\" stroke=\"black\" points=\"78.62,-21.5 88.62,-18 78.62,-14.5 78.62,-21.5\"/>\n",
       "</g>\n",
       "<!-- C -->\n",
       "<g id=\"node3\" class=\"node\">\n",
       "<title>C</title>\n",
       "<ellipse fill=\"none\" stroke=\"black\" cx=\"207\" cy=\"-18\" rx=\"27\" ry=\"18\"/>\n",
       "<text text-anchor=\"middle\" x=\"207\" y=\"-13.8\" font-family=\"Times,serif\" font-size=\"14.00\">C</text>\n",
       "</g>\n",
       "<!-- B&#45;&gt;C -->\n",
       "<g id=\"edge2\" class=\"edge\">\n",
       "<title>B&#45;&gt;C</title>\n",
       "<path fill=\"none\" stroke=\"black\" d=\"M144.4,-18C152.06,-18 160.57,-18 168.76,-18\"/>\n",
       "<polygon fill=\"black\" stroke=\"black\" points=\"168.62,-21.5 178.62,-18 168.62,-14.5 168.62,-21.5\"/>\n",
       "</g>\n",
       "</g>\n",
       "</svg>\n"
      ],
      "text/plain": [
       "<graphviz.graphs.Digraph at 0x1050f9120>"
      ]
     },
     "metadata": {},
     "output_type": "display_data"
    }
   ],
   "source": [
    "display(graf11)"
   ]
  },
  {
   "cell_type": "markdown",
   "metadata": {},
   "source": [
    "### Import/export, bahasa DOT, file `.gv`"
   ]
  },
  {
   "cell_type": "markdown",
   "metadata": {},
   "source": [
    "Sebenarnya, Graphviz melibatkan yang namanya bahasa DOT (dibaca \"dot\"), yaitu semacam \"bahasa komputer\" untuk mendeskripsikan graf, yang kemudian diolah oleh Graphviz menjadi gambar.\n",
    "\n",
    "(Sebenarnya, bahasa DOT mudah dipahami dan bisa kalian pelajari sendiri kalo iseng :D)"
   ]
  },
  {
   "cell_type": "markdown",
   "metadata": {},
   "source": [
    "Tiap kali kita membuat graf baru dengan Graphviz melalui Python ini, Graphviz selalu menyusun bahasa DOT terlebih dahulu, baru mengolah bahasa DOT tersebut menjadi gambar."
   ]
  },
  {
   "cell_type": "markdown",
   "metadata": {},
   "source": [
    "Kita bisa melihat bahasa DOT untuk tiap graf melalui atribut `.source` seperti berikut:"
   ]
  },
  {
   "cell_type": "code",
   "execution_count": 81,
   "metadata": {},
   "outputs": [
    {
     "name": "stdout",
     "output_type": "stream",
     "text": [
      "digraph \"Graf ke kanan\" {\n",
      "\tgraph [rankdir=LR]\n",
      "\tA -> B\n",
      "\tB -> C\n",
      "}\n",
      "\n"
     ]
    }
   ],
   "source": [
    "print(graf11.source)"
   ]
  },
  {
   "cell_type": "markdown",
   "metadata": {},
   "source": [
    "Kemudian, kita bisa memasukkan bahasa DOT tersebut ke dalam semacam *software* yang bisa mengolah bahasa DOT menjadi gambar. Contohnya adalah *link* berikut:\n",
    "\n",
    "[https://dreampuf.github.io/GraphvizOnline/](https://dreampuf.github.io/GraphvizOnline/)"
   ]
  },
  {
   "cell_type": "markdown",
   "metadata": {},
   "source": [
    "Sebaliknya, dari bahasa DOT, Graphviz juga bisa membuat objek `Digraph` misalnya, menggunakan `graphviz.Source()` seperti berikut:"
   ]
  },
  {
   "cell_type": "code",
   "execution_count": 82,
   "metadata": {},
   "outputs": [],
   "source": [
    "graf12 = gv.Source(\"\"\"\n",
    "digraph \"Graf ke kanan\" {\n",
    "\tgraph [rankdir=LR]\n",
    "\tA -> B\n",
    "\tB -> C\n",
    "}\n",
    "\"\"\")"
   ]
  },
  {
   "cell_type": "code",
   "execution_count": 83,
   "metadata": {},
   "outputs": [
    {
     "data": {
      "image/svg+xml": [
       "<?xml version=\"1.0\" encoding=\"UTF-8\" standalone=\"no\"?>\n",
       "<!DOCTYPE svg PUBLIC \"-//W3C//DTD SVG 1.1//EN\"\n",
       " \"http://www.w3.org/Graphics/SVG/1.1/DTD/svg11.dtd\">\n",
       "<!-- Generated by graphviz version 8.1.0 (20230707.0739)\n",
       " -->\n",
       "<!-- Title: Graf ke kanan Pages: 1 -->\n",
       "<svg width=\"242pt\" height=\"44pt\"\n",
       " viewBox=\"0.00 0.00 242.00 44.00\" xmlns=\"http://www.w3.org/2000/svg\" xmlns:xlink=\"http://www.w3.org/1999/xlink\">\n",
       "<g id=\"graph0\" class=\"graph\" transform=\"scale(1 1) rotate(0) translate(4 40)\">\n",
       "<title>Graf ke kanan</title>\n",
       "<polygon fill=\"white\" stroke=\"none\" points=\"-4,4 -4,-40 238,-40 238,4 -4,4\"/>\n",
       "<!-- A -->\n",
       "<g id=\"node1\" class=\"node\">\n",
       "<title>A</title>\n",
       "<ellipse fill=\"none\" stroke=\"black\" cx=\"27\" cy=\"-18\" rx=\"27\" ry=\"18\"/>\n",
       "<text text-anchor=\"middle\" x=\"27\" y=\"-13.8\" font-family=\"Times,serif\" font-size=\"14.00\">A</text>\n",
       "</g>\n",
       "<!-- B -->\n",
       "<g id=\"node2\" class=\"node\">\n",
       "<title>B</title>\n",
       "<ellipse fill=\"none\" stroke=\"black\" cx=\"117\" cy=\"-18\" rx=\"27\" ry=\"18\"/>\n",
       "<text text-anchor=\"middle\" x=\"117\" y=\"-13.8\" font-family=\"Times,serif\" font-size=\"14.00\">B</text>\n",
       "</g>\n",
       "<!-- A&#45;&gt;B -->\n",
       "<g id=\"edge1\" class=\"edge\">\n",
       "<title>A&#45;&gt;B</title>\n",
       "<path fill=\"none\" stroke=\"black\" d=\"M54.4,-18C62.06,-18 70.57,-18 78.76,-18\"/>\n",
       "<polygon fill=\"black\" stroke=\"black\" points=\"78.62,-21.5 88.62,-18 78.62,-14.5 78.62,-21.5\"/>\n",
       "</g>\n",
       "<!-- C -->\n",
       "<g id=\"node3\" class=\"node\">\n",
       "<title>C</title>\n",
       "<ellipse fill=\"none\" stroke=\"black\" cx=\"207\" cy=\"-18\" rx=\"27\" ry=\"18\"/>\n",
       "<text text-anchor=\"middle\" x=\"207\" y=\"-13.8\" font-family=\"Times,serif\" font-size=\"14.00\">C</text>\n",
       "</g>\n",
       "<!-- B&#45;&gt;C -->\n",
       "<g id=\"edge2\" class=\"edge\">\n",
       "<title>B&#45;&gt;C</title>\n",
       "<path fill=\"none\" stroke=\"black\" d=\"M144.4,-18C152.06,-18 160.57,-18 168.76,-18\"/>\n",
       "<polygon fill=\"black\" stroke=\"black\" points=\"168.62,-21.5 178.62,-18 168.62,-14.5 168.62,-21.5\"/>\n",
       "</g>\n",
       "</g>\n",
       "</svg>\n"
      ],
      "text/plain": [
       "<graphviz.sources.Source at 0x104c47700>"
      ]
     },
     "metadata": {},
     "output_type": "display_data"
    }
   ],
   "source": [
    "display(graf12)"
   ]
  },
  {
   "cell_type": "markdown",
   "metadata": {},
   "source": [
    "Selain import seperti itu, baik bahasa DOT maupun gambar yang dibuat oleh Graphviz bisa di-*export* dengan menetapkan `.format` terlebih dahulu (misalnya \"svg\" atau \"png\"), lalu menggunakan `.render()` sebagai berikut:"
   ]
  },
  {
   "cell_type": "code",
   "execution_count": 85,
   "metadata": {},
   "outputs": [
    {
     "data": {
      "text/plain": [
       "'Graf ke kanan.gv.svg'"
      ]
     },
     "execution_count": 85,
     "metadata": {},
     "output_type": "execute_result"
    }
   ],
   "source": [
    "graf11.format = \"svg\"\n",
    "graf11.render()"
   ]
  },
  {
   "cell_type": "markdown",
   "metadata": {},
   "source": [
    "Seperti di [Modul 3](./Strukdat2023_Modul03.ipynb) kemarin ketika membahas I/O, ada *file* baru yang muncul.\n",
    "\n",
    "* Apabila menggunakan Google Colaboratory, silakan tekan tombol folder di sebelah kiri.\n",
    "* Apabila menggunakan Jupyter Notebook, silakan periksa folder yang di dalamnya ada *file* `.ipynb` yang sedang kalian gunakan.\n",
    "\n",
    "Akan muncul dua *file* baru, yaitu:\n",
    "\n",
    "1. `Graf ke kanan.gv`\n",
    "2. `Graf ke kanan.gv.svg`\n",
    "\n",
    "*File* pertama adalah *file* `.gv` (Graphviz) yang mengandung bahasa DOT yang disusun sebelum diolah menjadi gambar. *File* kedua adalah *file* gambar yang diolah, dalam format sesuai dengan yang kita tentukan."
   ]
  },
  {
   "cell_type": "markdown",
   "metadata": {},
   "source": [
    "Kita bisa membaca isi `Graf ke kanan.gv` sebagaimana kita membaca isi *text file*:"
   ]
  },
  {
   "cell_type": "code",
   "execution_count": 97,
   "metadata": {},
   "outputs": [
    {
     "name": "stdout",
     "output_type": "stream",
     "text": [
      "digraph \"Graf ke kanan\" {\n",
      "\tgraph [rankdir=LR]\n",
      "\tA -> B\n",
      "\tB -> C\n",
      "}\n",
      "\n"
     ]
    }
   ],
   "source": [
    "with open(\"Graf ke kanan.gv\", \"r\") as isi:\n",
    "    print(isi.read())"
   ]
  },
  {
   "cell_type": "markdown",
   "metadata": {},
   "source": [
    "Selain itu, perhatikan bahwa nama *file* nya sesuai dengan nama graf yang kita tentukan ketika membuat objek `graf11` tadi. Kalau lupa, kita bisa memeriksa nama graf melalui atribut `.nama`"
   ]
  },
  {
   "cell_type": "code",
   "execution_count": 86,
   "metadata": {},
   "outputs": [
    {
     "name": "stdout",
     "output_type": "stream",
     "text": [
      "Graf ke kanan\n"
     ]
    }
   ],
   "source": [
    "print(graf11.name)"
   ]
  },
  {
   "cell_type": "markdown",
   "metadata": {},
   "source": [
    "Dengan atribut itu pula, kita bisa mengubah nama grafnya:"
   ]
  },
  {
   "cell_type": "code",
   "execution_count": 93,
   "metadata": {},
   "outputs": [],
   "source": [
    "graf11.name = \"Nama baru\""
   ]
  },
  {
   "cell_type": "markdown",
   "metadata": {},
   "source": [
    "Sehingga, ketika misalnya Graphviz menyusun bahasa DOT, akan digunakan nama yang baru:"
   ]
  },
  {
   "cell_type": "code",
   "execution_count": 94,
   "metadata": {},
   "outputs": [
    {
     "name": "stdout",
     "output_type": "stream",
     "text": [
      "digraph \"Nama baru\" {\n",
      "\tgraph [rankdir=LR]\n",
      "\tA -> B\n",
      "\tB -> C\n",
      "}\n",
      "\n"
     ]
    }
   ],
   "source": [
    "print(graf11.source)"
   ]
  },
  {
   "cell_type": "markdown",
   "metadata": {},
   "source": [
    "### Variasi *node* dengan *HTML-like labels*"
   ]
  },
  {
   "cell_type": "markdown",
   "metadata": {},
   "source": [
    "Ingat atribut `label` yang bisa dipasang ketika membuat suatu *node*? Sebenarnya, kita bisa memanfaatkan atribut tersebut untuk membuat bentuk *node* sesuka hati kita, lho! Terutama, kita bisa membuat *node* dengan bentuk seperti tabel."
   ]
  },
  {
   "cell_type": "markdown",
   "metadata": {},
   "source": [
    "Penulisan `label` seperti tabel ini mirip seperti struktur bahasa HTML, sehingga disebut ***HTML-like labels***."
   ]
  },
  {
   "cell_type": "markdown",
   "metadata": {},
   "source": [
    "Perhatikan *syntax* (penulisan) berikut."
   ]
  },
  {
   "cell_type": "code",
   "execution_count": 127,
   "metadata": {},
   "outputs": [],
   "source": [
    "graf13 = gv.Digraph()\n",
    "graf13.node(\"A\", shape=\"none\", label=\"\"\"<\n",
    "<TABLE>\n",
    "    <TR>\n",
    "        <TD>P</TD>\n",
    "        <TD>Q</TD>\n",
    "    </TR>\n",
    "    <TR>\n",
    "        <TD>R</TD>\n",
    "        <TD>S</TD>\n",
    "    </TR>\n",
    "</TABLE>\n",
    ">\"\"\")\n",
    "\n",
    "graf13.node(\"B\") # node biasa\n",
    "graf13.edge(\"A\", \"B\")"
   ]
  },
  {
   "cell_type": "code",
   "execution_count": 128,
   "metadata": {},
   "outputs": [
    {
     "data": {
      "image/svg+xml": [
       "<?xml version=\"1.0\" encoding=\"UTF-8\" standalone=\"no\"?>\n",
       "<!DOCTYPE svg PUBLIC \"-//W3C//DTD SVG 1.1//EN\"\n",
       " \"http://www.w3.org/Graphics/SVG/1.1/DTD/svg11.dtd\">\n",
       "<!-- Generated by graphviz version 8.1.0 (20230707.0739)\n",
       " -->\n",
       "<!-- Pages: 1 -->\n",
       "<svg width=\"63pt\" height=\"140pt\"\n",
       " viewBox=\"0.00 0.00 63.00 140.00\" xmlns=\"http://www.w3.org/2000/svg\" xmlns:xlink=\"http://www.w3.org/1999/xlink\">\n",
       "<g id=\"graph0\" class=\"graph\" transform=\"scale(1 1) rotate(0) translate(4 136)\">\n",
       "<polygon fill=\"white\" stroke=\"none\" points=\"-4,4 -4,-136 59,-136 59,4 -4,4\"/>\n",
       "<!-- A -->\n",
       "<g id=\"node1\" class=\"node\">\n",
       "<title>A</title>\n",
       "<polygon fill=\"none\" stroke=\"black\" points=\"11,-103 11,-125 26,-125 26,-103 11,-103\"/>\n",
       "<text text-anchor=\"start\" x=\"14.61\" y=\"-109.4\" font-family=\"Times,serif\" font-size=\"14.00\">P</text>\n",
       "<polygon fill=\"none\" stroke=\"black\" points=\"28,-103 28,-125 44,-125 44,-103 28,-103\"/>\n",
       "<text text-anchor=\"start\" x=\"30.94\" y=\"-109.4\" font-family=\"Times,serif\" font-size=\"14.00\">Q</text>\n",
       "<polygon fill=\"none\" stroke=\"black\" points=\"11,-79 11,-101 26,-101 26,-79 11,-79\"/>\n",
       "<text text-anchor=\"start\" x=\"13.83\" y=\"-85.4\" font-family=\"Times,serif\" font-size=\"14.00\">R</text>\n",
       "<polygon fill=\"none\" stroke=\"black\" points=\"28,-79 28,-101 44,-101 44,-79 28,-79\"/>\n",
       "<text text-anchor=\"start\" x=\"32.11\" y=\"-85.4\" font-family=\"Times,serif\" font-size=\"14.00\">S</text>\n",
       "<polygon fill=\"none\" stroke=\"black\" points=\"8,-76 8,-128 47,-128 47,-76 8,-76\"/>\n",
       "</g>\n",
       "<!-- B -->\n",
       "<g id=\"node2\" class=\"node\">\n",
       "<title>B</title>\n",
       "<ellipse fill=\"none\" stroke=\"black\" cx=\"27.5\" cy=\"-18\" rx=\"27\" ry=\"18\"/>\n",
       "<text text-anchor=\"middle\" x=\"27.5\" y=\"-13.8\" font-family=\"Times,serif\" font-size=\"14.00\">B</text>\n",
       "</g>\n",
       "<!-- A&#45;&gt;B -->\n",
       "<g id=\"edge1\" class=\"edge\">\n",
       "<title>A&#45;&gt;B</title>\n",
       "<path fill=\"none\" stroke=\"black\" d=\"M27.5,-72.32C27.5,-64.16 27.5,-55.28 27.5,-47.15\"/>\n",
       "<polygon fill=\"black\" stroke=\"black\" points=\"31,-47.31 27.5,-37.31 24,-47.31 31,-47.31\"/>\n",
       "</g>\n",
       "</g>\n",
       "</svg>\n"
      ],
      "text/plain": [
       "<graphviz.graphs.Digraph at 0x10611ebf0>"
      ]
     },
     "metadata": {},
     "output_type": "display_data"
    }
   ],
   "source": [
    "display(graf13)"
   ]
  },
  {
   "cell_type": "markdown",
   "metadata": {},
   "source": [
    "Perhatikan,\n",
    "\n",
    "1. Ketika membuat *node* yang ingin berbentuk tabel, ditambahkan atribut `shape=\"none\"` (bukan `None`) di samping menulis `label` nya.\n",
    "2. `label` berupa *long string*, sehingga diawali dan diakhiri dengan tiga tanda kutip.\n",
    "3. Karakter pertama dari *long string* tersebut haruslah `<` dan karakter terakhir haruslah `>`\n",
    "4. Kemudian, penulisan tabel diawali dengan penulisan `<TABLE>`, kemudian `<TR>` (*table row*) untuk tiap baris, lalu `<TD>` (*table data*) untuk tiap sel. Masing-masing selalu ditutup dengan `</TD>`, `</TR>`, dan `</TABLE>`, bagaikan keberadaan `endif`, `endfor`, `endwhile` dan sebagainya di *pseudocode*."
   ]
  },
  {
   "cell_type": "markdown",
   "metadata": {},
   "source": [
    "Agar lebih bagus, di bagian `<TABLE>` kita bisa menambahkan:\n",
    "\n",
    "`BORDER=\"0\" CELLBORDER=\"1\" CELLSPACING=\"0\"`\n",
    "\n",
    "Seperti berikut:"
   ]
  },
  {
   "cell_type": "code",
   "execution_count": 129,
   "metadata": {},
   "outputs": [],
   "source": [
    "graf14 = gv.Digraph()\n",
    "graf14.node(\"A\", shape=\"none\", label=\"\"\"<\n",
    "<TABLE BORDER=\"0\" CELLBORDER=\"1\" CELLSPACING=\"0\">\n",
    "    <TR>\n",
    "        <TD>P</TD>\n",
    "        <TD>Q</TD>\n",
    "    </TR>\n",
    "    <TR>\n",
    "        <TD>R</TD>\n",
    "        <TD>S</TD>\n",
    "    </TR>\n",
    "</TABLE>\n",
    ">\"\"\")\n",
    "\n",
    "graf14.node(\"B\")\n",
    "graf14.edge(\"A\", \"B\")"
   ]
  },
  {
   "cell_type": "code",
   "execution_count": 130,
   "metadata": {},
   "outputs": [
    {
     "data": {
      "image/svg+xml": [
       "<?xml version=\"1.0\" encoding=\"UTF-8\" standalone=\"no\"?>\n",
       "<!DOCTYPE svg PUBLIC \"-//W3C//DTD SVG 1.1//EN\"\n",
       " \"http://www.w3.org/Graphics/SVG/1.1/DTD/svg11.dtd\">\n",
       "<!-- Generated by graphviz version 8.1.0 (20230707.0739)\n",
       " -->\n",
       "<!-- Pages: 1 -->\n",
       "<svg width=\"62pt\" height=\"132pt\"\n",
       " viewBox=\"0.00 0.00 62.00 132.00\" xmlns=\"http://www.w3.org/2000/svg\" xmlns:xlink=\"http://www.w3.org/1999/xlink\">\n",
       "<g id=\"graph0\" class=\"graph\" transform=\"scale(1 1) rotate(0) translate(4 128)\">\n",
       "<polygon fill=\"white\" stroke=\"none\" points=\"-4,4 -4,-128 58,-128 58,4 -4,4\"/>\n",
       "<!-- A -->\n",
       "<g id=\"node1\" class=\"node\">\n",
       "<title>A</title>\n",
       "<polygon fill=\"none\" stroke=\"black\" points=\"11.5,-98 11.5,-120 26.5,-120 26.5,-98 11.5,-98\"/>\n",
       "<text text-anchor=\"start\" x=\"15.11\" y=\"-104.4\" font-family=\"Times,serif\" font-size=\"14.00\">P</text>\n",
       "<polygon fill=\"none\" stroke=\"black\" points=\"26.5,-98 26.5,-120 42.5,-120 42.5,-98 26.5,-98\"/>\n",
       "<text text-anchor=\"start\" x=\"29.44\" y=\"-104.4\" font-family=\"Times,serif\" font-size=\"14.00\">Q</text>\n",
       "<polygon fill=\"none\" stroke=\"black\" points=\"11.5,-76 11.5,-98 26.5,-98 26.5,-76 11.5,-76\"/>\n",
       "<text text-anchor=\"start\" x=\"14.33\" y=\"-82.4\" font-family=\"Times,serif\" font-size=\"14.00\">R</text>\n",
       "<polygon fill=\"none\" stroke=\"black\" points=\"26.5,-76 26.5,-98 42.5,-98 42.5,-76 26.5,-76\"/>\n",
       "<text text-anchor=\"start\" x=\"30.61\" y=\"-82.4\" font-family=\"Times,serif\" font-size=\"14.00\">S</text>\n",
       "</g>\n",
       "<!-- B -->\n",
       "<g id=\"node2\" class=\"node\">\n",
       "<title>B</title>\n",
       "<ellipse fill=\"none\" stroke=\"black\" cx=\"27\" cy=\"-18\" rx=\"27\" ry=\"18\"/>\n",
       "<text text-anchor=\"middle\" x=\"27\" y=\"-13.8\" font-family=\"Times,serif\" font-size=\"14.00\">B</text>\n",
       "</g>\n",
       "<!-- A&#45;&gt;B -->\n",
       "<g id=\"edge1\" class=\"edge\">\n",
       "<title>A&#45;&gt;B</title>\n",
       "<path fill=\"none\" stroke=\"black\" d=\"M27,-72.32C27,-64.22 27,-55.16 27,-46.84\"/>\n",
       "<polygon fill=\"black\" stroke=\"black\" points=\"30.5,-47.12 27,-37.12 23.5,-47.12 30.5,-47.12\"/>\n",
       "</g>\n",
       "</g>\n",
       "</svg>\n"
      ],
      "text/plain": [
       "<graphviz.graphs.Digraph at 0x10611fb80>"
      ]
     },
     "metadata": {},
     "output_type": "display_data"
    }
   ],
   "source": [
    "display(graf14)"
   ]
  },
  {
   "cell_type": "markdown",
   "metadata": {},
   "source": [
    "Bagaimana kalau misalnya kita ingin panahnya seperti \"berasal\" dari sel tertentu? Caranya, kita bisa membuat yang namanya `port`, misalnya di sel R, kemudian *edge* yang dibuat akan kita sambung dari port tersebut, seperti berikut:"
   ]
  },
  {
   "cell_type": "code",
   "execution_count": 131,
   "metadata": {},
   "outputs": [],
   "source": [
    "graf15 = gv.Digraph()\n",
    "graf15.node(\"A\", shape=\"none\", label=\"\"\"<\n",
    "<TABLE BORDER=\"0\" CELLBORDER=\"1\" CELLSPACING=\"0\">\n",
    "    <TR>\n",
    "        <TD>P</TD>\n",
    "        <TD>Q</TD>\n",
    "    </TR>\n",
    "    <TR>\n",
    "        <TD PORT=\"port1\">R</TD>\n",
    "        <TD>S</TD>\n",
    "    </TR>\n",
    "</TABLE>\n",
    ">\"\"\")\n",
    "\n",
    "graf15.node(\"B\")\n",
    "graf15.edge(\"A:port1\", \"B\")"
   ]
  },
  {
   "cell_type": "code",
   "execution_count": 132,
   "metadata": {},
   "outputs": [
    {
     "data": {
      "image/svg+xml": [
       "<?xml version=\"1.0\" encoding=\"UTF-8\" standalone=\"no\"?>\n",
       "<!DOCTYPE svg PUBLIC \"-//W3C//DTD SVG 1.1//EN\"\n",
       " \"http://www.w3.org/Graphics/SVG/1.1/DTD/svg11.dtd\">\n",
       "<!-- Generated by graphviz version 8.1.0 (20230707.0739)\n",
       " -->\n",
       "<!-- Pages: 1 -->\n",
       "<svg width=\"70pt\" height=\"132pt\"\n",
       " viewBox=\"0.00 0.00 70.00 132.00\" xmlns=\"http://www.w3.org/2000/svg\" xmlns:xlink=\"http://www.w3.org/1999/xlink\">\n",
       "<g id=\"graph0\" class=\"graph\" transform=\"scale(1 1) rotate(0) translate(4 128)\">\n",
       "<polygon fill=\"white\" stroke=\"none\" points=\"-4,4 -4,-128 66,-128 66,4 -4,4\"/>\n",
       "<!-- A -->\n",
       "<g id=\"node1\" class=\"node\">\n",
       "<title>A</title>\n",
       "<polygon fill=\"none\" stroke=\"black\" points=\"19.5,-98 19.5,-120 34.5,-120 34.5,-98 19.5,-98\"/>\n",
       "<text text-anchor=\"start\" x=\"23.11\" y=\"-104.4\" font-family=\"Times,serif\" font-size=\"14.00\">P</text>\n",
       "<polygon fill=\"none\" stroke=\"black\" points=\"34.5,-98 34.5,-120 50.5,-120 50.5,-98 34.5,-98\"/>\n",
       "<text text-anchor=\"start\" x=\"37.44\" y=\"-104.4\" font-family=\"Times,serif\" font-size=\"14.00\">Q</text>\n",
       "<polygon fill=\"none\" stroke=\"black\" points=\"19.5,-76 19.5,-98 34.5,-98 34.5,-76 19.5,-76\"/>\n",
       "<text text-anchor=\"start\" x=\"22.33\" y=\"-82.4\" font-family=\"Times,serif\" font-size=\"14.00\">R</text>\n",
       "<polygon fill=\"none\" stroke=\"black\" points=\"34.5,-76 34.5,-98 50.5,-98 50.5,-76 34.5,-76\"/>\n",
       "<text text-anchor=\"start\" x=\"38.61\" y=\"-82.4\" font-family=\"Times,serif\" font-size=\"14.00\">S</text>\n",
       "</g>\n",
       "<!-- B -->\n",
       "<g id=\"node2\" class=\"node\">\n",
       "<title>B</title>\n",
       "<ellipse fill=\"none\" stroke=\"black\" cx=\"27\" cy=\"-18\" rx=\"27\" ry=\"18\"/>\n",
       "<text text-anchor=\"middle\" x=\"27\" y=\"-13.8\" font-family=\"Times,serif\" font-size=\"14.00\">B</text>\n",
       "</g>\n",
       "<!-- A&#45;&gt;B -->\n",
       "<g id=\"edge1\" class=\"edge\">\n",
       "<title>A:port1&#45;&gt;B</title>\n",
       "<path fill=\"none\" stroke=\"black\" d=\"M27,-75C27,-65.94 27,-56.06 27,-47.15\"/>\n",
       "<polygon fill=\"black\" stroke=\"black\" points=\"30.5,-47.16 27,-37.16 23.5,-47.16 30.5,-47.16\"/>\n",
       "</g>\n",
       "</g>\n",
       "</svg>\n"
      ],
      "text/plain": [
       "<graphviz.graphs.Digraph at 0x10527bd00>"
      ]
     },
     "metadata": {},
     "output_type": "display_data"
    }
   ],
   "source": [
    "display(graf15)"
   ]
  },
  {
   "cell_type": "markdown",
   "metadata": {},
   "source": [
    "Kalau di Microsoft Excel atau Google Sheets, kita bisa melakukan *merge* beberapa sel, entah secara horizontal atau vertikal atau bahkan dua-duanya. Ketika menyusun *HTML-like labels*, kita bisa menggunakan `COLSPAN` (merentang beberapa kolom) dan `ROWSPAN` (merentang beberapa baris) untuk membuat efek seperti di-*merge*."
   ]
  },
  {
   "cell_type": "code",
   "execution_count": 141,
   "metadata": {},
   "outputs": [],
   "source": [
    "graf16 = gv.Digraph()\n",
    "graf16.node(\"A\", shape=\"none\", label=\"\"\"<\n",
    "<TABLE BORDER=\"0\" CELLBORDER=\"1\" CELLSPACING=\"0\">\n",
    "    <TR>\n",
    "        <TD ROWSPAN=\"2\">P</TD>\n",
    "        <TD COLSPAN=\"2\">Q</TD>\n",
    "    </TR>\n",
    "    <TR>\n",
    "        <TD>R</TD>\n",
    "        <TD>S</TD>\n",
    "    </TR>\n",
    "</TABLE>\n",
    ">\"\"\")\n",
    "\n",
    "graf16.node(\"B\")\n",
    "graf16.edge(\"A\", \"B\")"
   ]
  },
  {
   "cell_type": "code",
   "execution_count": 142,
   "metadata": {},
   "outputs": [
    {
     "data": {
      "image/svg+xml": [
       "<?xml version=\"1.0\" encoding=\"UTF-8\" standalone=\"no\"?>\n",
       "<!DOCTYPE svg PUBLIC \"-//W3C//DTD SVG 1.1//EN\"\n",
       " \"http://www.w3.org/Graphics/SVG/1.1/DTD/svg11.dtd\">\n",
       "<!-- Generated by graphviz version 8.1.0 (20230707.0739)\n",
       " -->\n",
       "<!-- Pages: 1 -->\n",
       "<svg width=\"65pt\" height=\"132pt\"\n",
       " viewBox=\"0.00 0.00 65.00 132.00\" xmlns=\"http://www.w3.org/2000/svg\" xmlns:xlink=\"http://www.w3.org/1999/xlink\">\n",
       "<g id=\"graph0\" class=\"graph\" transform=\"scale(1 1) rotate(0) translate(4 128)\">\n",
       "<polygon fill=\"white\" stroke=\"none\" points=\"-4,4 -4,-128 61,-128 61,4 -4,4\"/>\n",
       "<!-- A -->\n",
       "<g id=\"node1\" class=\"node\">\n",
       "<title>A</title>\n",
       "<polygon fill=\"none\" stroke=\"black\" points=\"8,-76 8,-120 21,-120 21,-76 8,-76\"/>\n",
       "<text text-anchor=\"start\" x=\"10.61\" y=\"-93.8\" font-family=\"Times,serif\" font-size=\"14.00\">P</text>\n",
       "<polygon fill=\"none\" stroke=\"black\" points=\"21,-98 21,-120 49,-120 49,-98 21,-98\"/>\n",
       "<text text-anchor=\"start\" x=\"29.94\" y=\"-104.4\" font-family=\"Times,serif\" font-size=\"14.00\">Q</text>\n",
       "<polygon fill=\"none\" stroke=\"black\" points=\"21,-76 21,-98 36,-98 36,-76 21,-76\"/>\n",
       "<text text-anchor=\"start\" x=\"23.83\" y=\"-82.4\" font-family=\"Times,serif\" font-size=\"14.00\">R</text>\n",
       "<polygon fill=\"none\" stroke=\"black\" points=\"36,-76 36,-98 49,-98 49,-76 36,-76\"/>\n",
       "<text text-anchor=\"start\" x=\"38.61\" y=\"-82.4\" font-family=\"Times,serif\" font-size=\"14.00\">S</text>\n",
       "</g>\n",
       "<!-- B -->\n",
       "<g id=\"node2\" class=\"node\">\n",
       "<title>B</title>\n",
       "<ellipse fill=\"none\" stroke=\"black\" cx=\"28.5\" cy=\"-18\" rx=\"27\" ry=\"18\"/>\n",
       "<text text-anchor=\"middle\" x=\"28.5\" y=\"-13.8\" font-family=\"Times,serif\" font-size=\"14.00\">B</text>\n",
       "</g>\n",
       "<!-- A&#45;&gt;B -->\n",
       "<g id=\"edge1\" class=\"edge\">\n",
       "<title>A&#45;&gt;B</title>\n",
       "<path fill=\"none\" stroke=\"black\" d=\"M28.5,-72.32C28.5,-64.22 28.5,-55.16 28.5,-46.84\"/>\n",
       "<polygon fill=\"black\" stroke=\"black\" points=\"32,-47.12 28.5,-37.12 25,-47.12 32,-47.12\"/>\n",
       "</g>\n",
       "</g>\n",
       "</svg>\n"
      ],
      "text/plain": [
       "<graphviz.graphs.Digraph at 0x10527b7c0>"
      ]
     },
     "metadata": {},
     "output_type": "display_data"
    }
   ],
   "source": [
    "display(graf16)"
   ]
  },
  {
   "cell_type": "markdown",
   "metadata": {},
   "source": [
    "## *(Singly) Linked List*"
   ]
  },
  {
   "cell_type": "markdown",
   "metadata": {},
   "source": [
    "*Linked list* terdiri dari *node*, di mana tiap *node* berisi kurang lebih 2 *value*, yaitu data dan *pointer* ke *node* lain."
   ]
  },
  {
   "cell_type": "markdown",
   "metadata": {},
   "source": [
    "Pertama akan dibuat *node* terlebih dahulu menggunakan `class`."
   ]
  },
  {
   "cell_type": "code",
   "execution_count": 148,
   "metadata": {},
   "outputs": [],
   "source": [
    "class SLNode:\n",
    "    def __init__(self, data, next=None):\n",
    "        self.data = data\n",
    "        self.next = next"
   ]
  },
  {
   "cell_type": "markdown",
   "metadata": {},
   "source": [
    "Selanjutnya akan dibuat `class` untuk *linked list*."
   ]
  },
  {
   "cell_type": "code",
   "execution_count": 158,
   "metadata": {},
   "outputs": [],
   "source": [
    "class SLList:\n",
    "    def __init__(self):\n",
    "        self.head = None\n",
    "        self.size = 0\n",
    "\n",
    "    def is_empty(self):\n",
    "        return self.size == 0\n",
    "    \n",
    "    def len(self):\n",
    "        return self.size\n",
    "    \n",
    "    def ins_front(self, data):\n",
    "        newnode = SLNode(data, None)\n",
    "        newnode.next = self.head\n",
    "        self.head = newnode\n",
    "        self.size += 1\n",
    "    \n",
    "    def ins_end(self, data):\n",
    "        newnode = SLNode(data, None)\n",
    "        temp = self.head\n",
    "        while temp.next != None:\n",
    "            temp = temp.next\n",
    "        temp.next = newnode\n",
    "        self.size += 1\n",
    "    \n",
    "    def del_front(self):\n",
    "        if self.is_empty():\n",
    "            print(\"Error: linked list sudah kosong\")\n",
    "        else:\n",
    "            temp = self.head.next\n",
    "            del self.head\n",
    "            self.head = temp\n",
    "            self.size -= 1\n",
    "    \n",
    "    def del_end(self):\n",
    "        if self.is_empty():\n",
    "            print(\"Error: linked list sudah kosong\")\n",
    "        else:\n",
    "            temp = self.head\n",
    "            while temp.next.next != None:\n",
    "                temp = temp.next\n",
    "            del temp.next\n",
    "            temp.next = None\n",
    "            self.size -= 1\n",
    "    \n",
    "    def print_all(self):\n",
    "        temp = self.head\n",
    "        while temp != None:\n",
    "            print(temp.data, end = \" -> \")\n",
    "            temp = temp.next\n",
    "    \n",
    "    def get_digraph(self):\n",
    "        new_digraph = gv.Digraph(graph_attr={\"rankdir\": \"LR\"})\n",
    "        current = self.head\n",
    "        counter = 0\n",
    "        while current != None:\n",
    "            # Alamat yang tersimpan pada current.next\n",
    "            next_id = None\n",
    "            if current.next != None:\n",
    "                next_id = hex(id(current.next))\n",
    "            \n",
    "            # Persiapan label\n",
    "            str_label = \"<\"\n",
    "            str_label += \"<TABLE BORDER=\\\"0\\\" CELLBORDER=\\\"1\\\" CELLSPACING=\\\"0\\\">\"\n",
    "            str_label += \"<TR><TD>\" + str(current.data) + \"</TD>\"\n",
    "            str_label += \"<TD PORT=\\\"next\\\">\" + str(next_id) + \"</TD></TR>\"\n",
    "            str_label += \"<TR><TD PORT=\\\"id\\\" COLSPAN=\\\"2\\\">\" + str(hex(id(current)))\n",
    "            str_label += \"</TD></TR></TABLE>\"\n",
    "            str_label += \">\"\n",
    "\n",
    "            new_digraph.node(\"node\" + str(counter), shape=\"none\", label = str_label)\n",
    "            new_digraph.edge(\n",
    "                \"node\" + str(counter) + \":next\",\n",
    "                \"node\" + str(counter+1) + \":id\"\n",
    "            )\n",
    "            counter += 1\n",
    "            current = current.next\n",
    "        new_digraph.node(\"node\" + str(counter), shape=\"none\", label=\"None\")\n",
    "        return new_digraph"
   ]
  },
  {
   "cell_type": "code",
   "execution_count": 159,
   "metadata": {},
   "outputs": [],
   "source": [
    "test = SLList()\n",
    "test.ins_front(5)\n",
    "test.ins_front(15)\n",
    "test.ins_front(25)\n",
    "test.ins_front(35)\n",
    "test.ins_front(45)"
   ]
  },
  {
   "cell_type": "code",
   "execution_count": 160,
   "metadata": {},
   "outputs": [
    {
     "name": "stdout",
     "output_type": "stream",
     "text": [
      "45 -> 35 -> 25 -> 15 -> 5 -> "
     ]
    }
   ],
   "source": [
    "test.print_all()"
   ]
  },
  {
   "cell_type": "code",
   "execution_count": 161,
   "metadata": {},
   "outputs": [],
   "source": [
    "myviz = test.get_digraph()"
   ]
  },
  {
   "cell_type": "code",
   "execution_count": 162,
   "metadata": {},
   "outputs": [
    {
     "name": "stderr",
     "output_type": "stream",
     "text": [
      "Warning: node node5, port id unrecognized\n"
     ]
    },
    {
     "data": {
      "image/svg+xml": [
       "<?xml version=\"1.0\" encoding=\"UTF-8\" standalone=\"no\"?>\n",
       "<!DOCTYPE svg PUBLIC \"-//W3C//DTD SVG 1.1//EN\"\n",
       " \"http://www.w3.org/Graphics/SVG/1.1/DTD/svg11.dtd\">\n",
       "<!-- Generated by graphviz version 8.1.0 (20230707.0739)\n",
       " -->\n",
       "<!-- Pages: 1 -->\n",
       "<svg width=\"814pt\" height=\"151pt\"\n",
       " viewBox=\"0.00 0.00 814.00 151.00\" xmlns=\"http://www.w3.org/2000/svg\" xmlns:xlink=\"http://www.w3.org/1999/xlink\">\n",
       "<g id=\"graph0\" class=\"graph\" transform=\"scale(1 1) rotate(0) translate(4 147)\">\n",
       "<polygon fill=\"white\" stroke=\"none\" points=\"-4,4 -4,-147 810,-147 810,4 -4,4\"/>\n",
       "<!-- node0 -->\n",
       "<g id=\"node1\" class=\"node\">\n",
       "<title>node0</title>\n",
       "<polygon fill=\"none\" stroke=\"black\" points=\"8,-26 8,-48 28,-48 28,-26 8,-26\"/>\n",
       "<text text-anchor=\"start\" x=\"11\" y=\"-32.4\" font-family=\"Times,serif\" font-size=\"14.00\">45</text>\n",
       "<polygon fill=\"none\" stroke=\"black\" points=\"28,-26 28,-48 111,-48 111,-26 28,-26\"/>\n",
       "<text text-anchor=\"start\" x=\"31\" y=\"-32.4\" font-family=\"Times,serif\" font-size=\"14.00\">0x1062b2110</text>\n",
       "<polygon fill=\"none\" stroke=\"black\" points=\"8,-4 8,-26 111,-26 111,-4 8,-4\"/>\n",
       "<text text-anchor=\"start\" x=\"21.39\" y=\"-10.4\" font-family=\"Times,serif\" font-size=\"14.00\">0x1062b20e0</text>\n",
       "</g>\n",
       "<!-- node1 -->\n",
       "<g id=\"node2\" class=\"node\">\n",
       "<title>node1</title>\n",
       "<polygon fill=\"none\" stroke=\"black\" points=\"163,-48 163,-70 183,-70 183,-48 163,-48\"/>\n",
       "<text text-anchor=\"start\" x=\"166\" y=\"-54.4\" font-family=\"Times,serif\" font-size=\"14.00\">35</text>\n",
       "<polygon fill=\"none\" stroke=\"black\" points=\"183,-48 183,-70 263,-70 263,-48 183,-48\"/>\n",
       "<text text-anchor=\"start\" x=\"185.67\" y=\"-54.4\" font-family=\"Times,serif\" font-size=\"14.00\">0x1062b1f60</text>\n",
       "<polygon fill=\"none\" stroke=\"black\" points=\"163,-26 163,-48 263,-48 263,-26 163,-26\"/>\n",
       "<text text-anchor=\"start\" x=\"174.5\" y=\"-32.4\" font-family=\"Times,serif\" font-size=\"14.00\">0x1062b2110</text>\n",
       "</g>\n",
       "<!-- node0&#45;&gt;node1 -->\n",
       "<g id=\"edge1\" class=\"edge\">\n",
       "<title>node0:next&#45;&gt;node1:id</title>\n",
       "<path fill=\"none\" stroke=\"black\" d=\"M112.5,-37C130.38,-37 137.36,-37 151.15,-37\"/>\n",
       "<polygon fill=\"black\" stroke=\"black\" points=\"151,-40.5 161,-37 151,-33.5 151,-40.5\"/>\n",
       "</g>\n",
       "<!-- node2 -->\n",
       "<g id=\"node3\" class=\"node\">\n",
       "<title>node2</title>\n",
       "<polygon fill=\"none\" stroke=\"black\" points=\"315,-70 315,-92 335,-92 335,-70 315,-70\"/>\n",
       "<text text-anchor=\"start\" x=\"318\" y=\"-76.4\" font-family=\"Times,serif\" font-size=\"14.00\">25</text>\n",
       "<polygon fill=\"none\" stroke=\"black\" points=\"335,-70 335,-92 418,-92 418,-70 335,-70\"/>\n",
       "<text text-anchor=\"start\" x=\"338\" y=\"-76.4\" font-family=\"Times,serif\" font-size=\"14.00\">0x1062b2050</text>\n",
       "<polygon fill=\"none\" stroke=\"black\" points=\"315,-48 315,-70 418,-70 418,-48 315,-48\"/>\n",
       "<text text-anchor=\"start\" x=\"329.17\" y=\"-54.4\" font-family=\"Times,serif\" font-size=\"14.00\">0x1062b1f60</text>\n",
       "</g>\n",
       "<!-- node1&#45;&gt;node2 -->\n",
       "<g id=\"edge2\" class=\"edge\">\n",
       "<title>node1:next&#45;&gt;node2:id</title>\n",
       "<path fill=\"none\" stroke=\"black\" d=\"M264,-59C281.88,-59 288.86,-59 302.65,-59\"/>\n",
       "<polygon fill=\"black\" stroke=\"black\" points=\"302.5,-62.5 312.5,-59 302.5,-55.5 302.5,-62.5\"/>\n",
       "</g>\n",
       "<!-- node3 -->\n",
       "<g id=\"node4\" class=\"node\">\n",
       "<title>node3</title>\n",
       "<polygon fill=\"none\" stroke=\"black\" points=\"470,-92 470,-114 490,-114 490,-92 470,-92\"/>\n",
       "<text text-anchor=\"start\" x=\"473\" y=\"-98.4\" font-family=\"Times,serif\" font-size=\"14.00\">15</text>\n",
       "<polygon fill=\"none\" stroke=\"black\" points=\"490,-92 490,-114 573,-114 573,-92 490,-92\"/>\n",
       "<text text-anchor=\"start\" x=\"493\" y=\"-98.4\" font-family=\"Times,serif\" font-size=\"14.00\">0x1062b2080</text>\n",
       "<polygon fill=\"none\" stroke=\"black\" points=\"470,-70 470,-92 573,-92 573,-70 470,-70\"/>\n",
       "<text text-anchor=\"start\" x=\"483\" y=\"-76.4\" font-family=\"Times,serif\" font-size=\"14.00\">0x1062b2050</text>\n",
       "</g>\n",
       "<!-- node2&#45;&gt;node3 -->\n",
       "<g id=\"edge3\" class=\"edge\">\n",
       "<title>node2:next&#45;&gt;node3:id</title>\n",
       "<path fill=\"none\" stroke=\"black\" d=\"M419.5,-81C437.19,-81 444.11,-81 457.76,-81\"/>\n",
       "<polygon fill=\"black\" stroke=\"black\" points=\"457.5,-84.5 467.5,-81 457.5,-77.5 457.5,-84.5\"/>\n",
       "</g>\n",
       "<!-- node4 -->\n",
       "<g id=\"node5\" class=\"node\">\n",
       "<title>node4</title>\n",
       "<polygon fill=\"none\" stroke=\"black\" points=\"625,-114 625,-136 655,-136 655,-114 625,-114\"/>\n",
       "<text text-anchor=\"start\" x=\"636.5\" y=\"-120.4\" font-family=\"Times,serif\" font-size=\"14.00\">5</text>\n",
       "<polygon fill=\"none\" stroke=\"black\" points=\"655,-114 655,-136 708,-136 708,-114 655,-114\"/>\n",
       "<text text-anchor=\"start\" x=\"666.34\" y=\"-120.4\" font-family=\"Times,serif\" font-size=\"14.00\">None</text>\n",
       "<polygon fill=\"none\" stroke=\"black\" points=\"625,-92 625,-114 708,-114 708,-92 625,-92\"/>\n",
       "<text text-anchor=\"start\" x=\"628\" y=\"-98.4\" font-family=\"Times,serif\" font-size=\"14.00\">0x1062b2080</text>\n",
       "</g>\n",
       "<!-- node3&#45;&gt;node4 -->\n",
       "<g id=\"edge4\" class=\"edge\">\n",
       "<title>node3:next&#45;&gt;node4:id</title>\n",
       "<path fill=\"none\" stroke=\"black\" d=\"M574.5,-103C592.19,-103 599.11,-103 612.76,-103\"/>\n",
       "<polygon fill=\"black\" stroke=\"black\" points=\"612.5,-106.5 622.5,-103 612.5,-99.5 612.5,-106.5\"/>\n",
       "</g>\n",
       "<!-- node5 -->\n",
       "<g id=\"node6\" class=\"node\">\n",
       "<title>node5</title>\n",
       "<text text-anchor=\"middle\" x=\"779\" y=\"-120.8\" font-family=\"Times,serif\" font-size=\"14.00\">None</text>\n",
       "</g>\n",
       "<!-- node4&#45;&gt;node5 -->\n",
       "<g id=\"edge5\" class=\"edge\">\n",
       "<title>node4:next&#45;&gt;node5:id</title>\n",
       "<path fill=\"none\" stroke=\"black\" d=\"M709.5,-125C719.89,-125 731.17,-125 741.52,-125\"/>\n",
       "<polygon fill=\"black\" stroke=\"black\" points=\"741.3,-128.5 751.3,-125 741.3,-121.5 741.3,-128.5\"/>\n",
       "</g>\n",
       "</g>\n",
       "</svg>\n"
      ],
      "text/plain": [
       "<graphviz.graphs.Digraph at 0x1062b0130>"
      ]
     },
     "metadata": {},
     "output_type": "display_data"
    }
   ],
   "source": [
    "display(myviz)"
   ]
  },
  {
   "cell_type": "markdown",
   "metadata": {},
   "source": [
    "## *Doubly Linked List*"
   ]
  },
  {
   "cell_type": "markdown",
   "metadata": {},
   "source": []
  }
 ],
 "metadata": {
  "kernelspec": {
   "display_name": "Python 3",
   "language": "python",
   "name": "python3"
  },
  "language_info": {
   "codemirror_mode": {
    "name": "ipython",
    "version": 3
   },
   "file_extension": ".py",
   "mimetype": "text/x-python",
   "name": "python",
   "nbconvert_exporter": "python",
   "pygments_lexer": "ipython3",
   "version": "3.10.11"
  }
 },
 "nbformat": 4,
 "nbformat_minor": 2
}
