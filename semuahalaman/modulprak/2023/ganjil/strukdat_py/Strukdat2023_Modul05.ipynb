{
 "cells": [
  {
   "cell_type": "markdown",
   "metadata": {},
   "source": [
    "# Modul 5 Struktur Data: Graphviz, *Linked List*"
   ]
  },
  {
   "cell_type": "markdown",
   "metadata": {},
   "source": [
    "Kembali ke [Struktur Data (dengan Python)](strukdat2023.qmd)"
   ]
  },
  {
   "cell_type": "markdown",
   "metadata": {},
   "source": [
    "Pada praktikum kali ini, kita akan membahas mengenai *linked list*, serta cara memvisualisasikannya menggunakan yang namanya Graphviz."
   ]
  },
  {
   "cell_type": "markdown",
   "metadata": {},
   "source": [
    "Sebelum mengikuti praktikum ini, ada baiknya kalian me-*review* kembali modul berikut:\n",
    "\n",
    "* [Modul 2: Pengantar OOP](./Strukdat2023_Modul02.ipynb)\n",
    "\n",
    "Untuk apa? Kita akan menyusun struktur data *linked list* menggunakan `class` :) semoga kalian sudah cukup paham tentang `class` yaa. Kalau belum pun, semoga kalian akan lebih paham setelah praktikum kali ini :D"
   ]
  },
  {
   "cell_type": "markdown",
   "metadata": {},
   "source": [
    "## Graphviz"
   ]
  },
  {
   "cell_type": "markdown",
   "metadata": {},
   "source": [
    "Graphviz adalah semacam *software* yang bisa membuat visualisasi \"graf\" yang bagus. Mungkin di antara kalian belum semuanya kenal dengan graf, itu tidak masalah. Kurang lebih, suatu graf adalah kumpulan bulet-bulet (disebut simpul, *node*, atau *vertex*) yang disambung oleh \"busur\" (juga disebut *arc* atau *edge*), di mana tiap *edge* bisa berupa garis biasa atau berupa panah."
   ]
  },
  {
   "cell_type": "markdown",
   "metadata": {},
   "source": [
    "Berikut contoh graf yang digambar dengan Graphviz:"
   ]
  },
  {
   "cell_type": "markdown",
   "metadata": {},
   "source": [
    "```{dot}\n",
    "digraph \"graf G\" {\n",
    "    A -> B;\n",
    "    B -> A;\n",
    "    A -> C;\n",
    "    D -> C [dir=none];\n",
    "    D -> D;\n",
    "    D -> E [label=\"  tes\"];\n",
    "    E -> F;\n",
    "    B -> F [dir=none];\n",
    "    GHI -> F [label=\"qwerty\"];\n",
    "    C -> E [dir=both];\n",
    "}\n",
    "```"
   ]
  },
  {
   "cell_type": "markdown",
   "metadata": {},
   "source": [
    "Lho, di mata kuliah Struktur Data kan ga ada graf. Untuk apa kita pelajari Graphviz?\n",
    "\n",
    "Dengan Graphviz, kita bisa membuat visualisasi untuk berbagai struktur data nantinya, termasuk *linked list* hari ini. Kita bisa meminta Graphviz untuk membuat bentuk *node* yang tidak sederhana, termasuk bentuk *node* yang kita kenal di *linked list*, kemudian membuat *edge* yang berupa panah, sehingga kita benar-benar bisa menggambarkan suatu *linked list* :)"
   ]
  },
  {
   "cell_type": "markdown",
   "metadata": {},
   "source": [
    "### Instalasi Graphviz"
   ]
  },
  {
   "cell_type": "markdown",
   "metadata": {},
   "source": [
    "Sebelum bisa menggunakan Graphviz, perlu di-*install* terlebih dahulu."
   ]
  },
  {
   "cell_type": "markdown",
   "metadata": {},
   "source": [
    "Di Google Colaboratory, kalian tinggal mengetik:\n",
    "\n",
    "`pip install graphviz`"
   ]
  },
  {
   "cell_type": "markdown",
   "metadata": {},
   "source": [
    "Sedangkan, apabila menggunakan Jupyter Notebook melalui Anaconda, buka Anaconda Prompt lalu ketik:\n",
    "\n",
    "`conda install graphviz`\n",
    "\n",
    "Tunggu instalasi selesai, barulah buka Jupyter Notebook dan ketik\n",
    "\n",
    "`pip install graphviz`"
   ]
  },
  {
   "cell_type": "markdown",
   "metadata": {},
   "source": [
    "Note:\n",
    "\n",
    "* Apabila Anda menggunakan Jupyter Notebook tetapi tidak melalui Anaconda, langkah `conda install graphviz` bisa digantikan dengan menginstal Graphviz dari [https://graphviz.gitlab.io/download/](https://graphviz.gitlab.io/download/)\n",
    "\n",
    "* Untuk penulisan `pip`, ada kemungkinan kalian perlu mengetik `!pip` dengan tanda seru di awal. Biasanya tidak perlu, tapi kalau menjadi *error*, boleh dicoba dengan tanda seru."
   ]
  },
  {
   "cell_type": "markdown",
   "metadata": {},
   "source": [
    "### Mengenal Graphviz"
   ]
  },
  {
   "cell_type": "markdown",
   "metadata": {},
   "source": [
    "Setelah instalasi selesai, kita bisa import:"
   ]
  },
  {
   "cell_type": "code",
   "execution_count": 1,
   "metadata": {},
   "outputs": [],
   "source": [
    "import graphviz as gv"
   ]
  },
  {
   "cell_type": "markdown",
   "metadata": {},
   "source": [
    "Dengan Graphviz, ada dua jenis gambar graf yang bisa kita buat:\n",
    "\n",
    "* `Digraph` (graf berarah, yaitu tiap *edge* bisa berupa panah maupun garis biasa)\n",
    "* `Graph` (graf sederhana, yaitu tiap *edge* hanya bisa berupa garis biasa, bukan panah)"
   ]
  },
  {
   "cell_type": "markdown",
   "metadata": {},
   "source": [
    "Karena `Digraph` lebih banyak fiturnya, kita akan membuat `Digraph` saja."
   ]
  },
  {
   "cell_type": "markdown",
   "metadata": {},
   "source": [
    "Sebagai contoh sederhana, kita bisa membuat `Digraph` yang terdiri dari dua *node* yaitu A dan B, dengan *edge* berupa panah yang menghubungkan A ke B. Kita buat objek `Digraph` terlebih dahulu:"
   ]
  },
  {
   "cell_type": "code",
   "execution_count": 22,
   "metadata": {},
   "outputs": [],
   "source": [
    "AkeB = gv.Digraph(\"Nama graf\")"
   ]
  },
  {
   "cell_type": "markdown",
   "metadata": {},
   "source": [
    "Kemudian, kita bisa menambahkan *node* A dan B sebagai berikut:"
   ]
  },
  {
   "cell_type": "code",
   "execution_count": 23,
   "metadata": {},
   "outputs": [],
   "source": [
    "AkeB.node(\"A\")\n",
    "AkeB.node(\"B\")"
   ]
  },
  {
   "cell_type": "markdown",
   "metadata": {},
   "source": [
    "Selanjutnya, kita bisa membuat/menambahkan suatu *edge* dari A ke B, seperti berikut:"
   ]
  },
  {
   "cell_type": "code",
   "execution_count": 24,
   "metadata": {},
   "outputs": [],
   "source": [
    "AkeB.edge(\"A\", \"B\")"
   ]
  },
  {
   "cell_type": "markdown",
   "metadata": {},
   "source": [
    "Sekarang kita bisa lihat grafnya:"
   ]
  },
  {
   "cell_type": "code",
   "execution_count": 25,
   "metadata": {},
   "outputs": [
    {
     "data": {
      "image/svg+xml": [
       "<?xml version=\"1.0\" encoding=\"UTF-8\" standalone=\"no\"?>\n",
       "<!DOCTYPE svg PUBLIC \"-//W3C//DTD SVG 1.1//EN\"\n",
       " \"http://www.w3.org/Graphics/SVG/1.1/DTD/svg11.dtd\">\n",
       "<!-- Generated by graphviz version 8.1.0 (20230707.0739)\n",
       " -->\n",
       "<!-- Title: Nama graf Pages: 1 -->\n",
       "<svg width=\"62pt\" height=\"116pt\"\n",
       " viewBox=\"0.00 0.00 62.00 116.00\" xmlns=\"http://www.w3.org/2000/svg\" xmlns:xlink=\"http://www.w3.org/1999/xlink\">\n",
       "<g id=\"graph0\" class=\"graph\" transform=\"scale(1 1) rotate(0) translate(4 112)\">\n",
       "<title>Nama graf</title>\n",
       "<polygon fill=\"white\" stroke=\"none\" points=\"-4,4 -4,-112 58,-112 58,4 -4,4\"/>\n",
       "<!-- A -->\n",
       "<g id=\"node1\" class=\"node\">\n",
       "<title>A</title>\n",
       "<ellipse fill=\"none\" stroke=\"black\" cx=\"27\" cy=\"-90\" rx=\"27\" ry=\"18\"/>\n",
       "<text text-anchor=\"middle\" x=\"27\" y=\"-85.8\" font-family=\"Times,serif\" font-size=\"14.00\">A</text>\n",
       "</g>\n",
       "<!-- B -->\n",
       "<g id=\"node2\" class=\"node\">\n",
       "<title>B</title>\n",
       "<ellipse fill=\"none\" stroke=\"black\" cx=\"27\" cy=\"-18\" rx=\"27\" ry=\"18\"/>\n",
       "<text text-anchor=\"middle\" x=\"27\" y=\"-13.8\" font-family=\"Times,serif\" font-size=\"14.00\">B</text>\n",
       "</g>\n",
       "<!-- A&#45;&gt;B -->\n",
       "<g id=\"edge1\" class=\"edge\">\n",
       "<title>A&#45;&gt;B</title>\n",
       "<path fill=\"none\" stroke=\"black\" d=\"M27,-71.7C27,-64.24 27,-55.32 27,-46.97\"/>\n",
       "<polygon fill=\"black\" stroke=\"black\" points=\"30.5,-47.1 27,-37.1 23.5,-47.1 30.5,-47.1\"/>\n",
       "</g>\n",
       "</g>\n",
       "</svg>\n"
      ],
      "text/plain": [
       "<graphviz.graphs.Digraph at 0x1051a0490>"
      ]
     },
     "metadata": {},
     "output_type": "display_data"
    }
   ],
   "source": [
    "display(AkeB)"
   ]
  },
  {
   "cell_type": "markdown",
   "metadata": {},
   "source": []
  }
 ],
 "metadata": {
  "kernelspec": {
   "display_name": "Python 3",
   "language": "python",
   "name": "python3"
  },
  "language_info": {
   "codemirror_mode": {
    "name": "ipython",
    "version": 3
   },
   "file_extension": ".py",
   "mimetype": "text/x-python",
   "name": "python",
   "nbconvert_exporter": "python",
   "pygments_lexer": "ipython3",
   "version": "3.10.11"
  }
 },
 "nbformat": 4,
 "nbformat_minor": 2
}
