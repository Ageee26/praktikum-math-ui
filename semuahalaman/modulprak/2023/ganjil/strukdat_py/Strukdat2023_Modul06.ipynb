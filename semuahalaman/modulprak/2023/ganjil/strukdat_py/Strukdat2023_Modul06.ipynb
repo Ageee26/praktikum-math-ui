{
 "cells": [
  {
   "cell_type": "markdown",
   "metadata": {},
   "source": [
    "# Modul 6 Struktur Data: *Stack*, notasi *prefix*, *infix*, *postfix*"
   ]
  },
  {
   "cell_type": "markdown",
   "metadata": {},
   "source": [
    "Kembali ke [Struktur Data (dengan Python)](strukdat2023.qmd)"
   ]
  },
  {
   "cell_type": "code",
   "execution_count": 2,
   "metadata": {},
   "outputs": [],
   "source": [
    "import numpy as np\n",
    "import graphviz as gv"
   ]
  },
  {
   "cell_type": "markdown",
   "metadata": {},
   "source": [
    "## *Stack* dengan *array*"
   ]
  },
  {
   "cell_type": "markdown",
   "metadata": {},
   "source": [
    "blabla"
   ]
  },
  {
   "cell_type": "code",
   "execution_count": null,
   "metadata": {},
   "outputs": [],
   "source": [
    "class ArrayStack:\n",
    "    def __init__(self, tipe_data, kapasitas):\n",
    "        self.dtype = tipe_data\n",
    "        self.capacity = kapasitas\n",
    "        self.array = np.empty(kapasitas, dtype=tipe_data)\n",
    "        self.top = -1\n",
    "    \n",
    "    def get_size(self):\n",
    "        return self.top + 1\n",
    "    \n",
    "    def get_capacity(self):\n",
    "        return self.capacity\n",
    "    \n",
    "    def get_dtype(self):\n",
    "        return self.dtype\n",
    "\n",
    "    def is_empty(self):\n",
    "        if self.get_size() > 0:\n",
    "            return False\n",
    "        else:\n",
    "            return True\n",
    "    \n",
    "    def is_full(self):\n",
    "        if self.get_size() >= self.get_capacity():\n",
    "            return True\n",
    "        else:\n",
    "            return False\n",
    "\n",
    "    def push(self, newdata):\n",
    "        if self.is_full():\n",
    "            print(\"Error push: stack sudah penuh.\")\n",
    "        else:\n",
    "            self.top += 1\n",
    "            self.array[self.top] = newdata\n",
    "    \n",
    "    def peek(self):\n",
    "        if self.is_empty():\n",
    "            print(\"Error peek: stack sedang kosong.\")\n",
    "            return None\n",
    "        else:\n",
    "            return self.array[self.top]\n",
    "    \n",
    "    def pop(self):\n",
    "        if self.is_empty():\n",
    "            print(\"Error pop: stack sudah kosong sebelumnya.\")\n",
    "            return None\n",
    "        else:\n",
    "            output = self.array[self.top]\n",
    "            self.top -= 1\n",
    "            return output\n",
    "\n",
    "    def print_stack(self):\n",
    "        for i in range(self.get_size()):\n",
    "            print(self.array[i])\n",
    "\n",
    "    # print array\n",
    "    def print_storage(self):\n",
    "        print(self.array)\n",
    "    \n",
    "    def get_digraph_stack(self):\n",
    "        new_digraph = gv.Digraph()\n",
    "        # gambar akan terdiri dari satu tabel saja, satu kolom,\n",
    "        # dan tiap baris adalah tiap elemen di stack\n",
    "\n",
    "        tabel_besar = \"<\"\n",
    "        # pembuka tabel\n",
    "        tabel_besar += \"<TABLE BORDER=\\\"0\\\" CELLBORDER=\\\"1\\\" CELLSPACING=\\\"0\\\">\"\n",
    "        # menambahkan tiap elemen sebagai baris tersendiri\n",
    "        i = self.top\n",
    "        if i < 0:\n",
    "            tabel_besar += \"<TR><TD>\"\n",
    "            tabel_besar += \"(Stack sedang kosong; tidak ada data sama sekali.)\"\n",
    "            tabel_besar += \"</TD></TR>\"\n",
    "        while i >= 0:\n",
    "            tabel_besar += \"<TR><TD>\"\n",
    "            tabel_besar += str(self.array[i])\n",
    "            tabel_besar += \"</TD></TR>\"\n",
    "            i -= 1\n",
    "        # penutup tabel\n",
    "        tabel_besar += \"</TABLE>\"\n",
    "        tabel_besar += \">\"\n",
    "        new_digraph.node(\"ArrayStack\", shape=\"none\", label=tabel_besar)\n",
    "        return new_digraph\n",
    "\n",
    "    def get_digraph_storage(self):\n",
    "        # menggambar array\n",
    "        new_digraph = gv.Digraph()\n",
    "\n",
    "        # pembuka tabel\n",
    "        tabel_besar = \"<\"\n",
    "        tabel_besar += \"<TABLE BORDER=\\\"0\\\" CELLBORDER=\\\"1\\\" CELLSPACING=\\\"0\\\">\"\n",
    "        # tabel hanya terdiri dari satu baris\n",
    "        tabel_besar += \"<TR>\"\n",
    "        # satu elemen per kolom\n",
    "        for i in range(self.get_capacity()):\n",
    "            tabel_besar += \"<TD>\"\n",
    "            tabel_besar += str(self.array[i])\n",
    "            tabel_besar += \"</TD>\"\n",
    "        # penutup baris\n",
    "        tabel_besar += \"</TR>\"\n",
    "        # penutup tabel\n",
    "        tabel_besar += \"</TABLE>\"\n",
    "        tabel_besar += \">\"\n",
    "        new_digraph.node(\"array\", shape=\"none\", label=tabel_besar)\n",
    "        return new_digraph"
   ]
  },
  {
   "cell_type": "markdown",
   "metadata": {},
   "source": [
    "## *Stack* dengan *singly-inked list*"
   ]
  },
  {
   "cell_type": "markdown",
   "metadata": {},
   "source": [
    "blabla"
   ]
  },
  {
   "cell_type": "code",
   "execution_count": null,
   "metadata": {},
   "outputs": [],
   "source": [
    "class SLNode:\n",
    "    def __init__(self, data, next=None):\n",
    "        self.data = data\n",
    "        self.next = next"
   ]
  },
  {
   "cell_type": "code",
   "execution_count": null,
   "metadata": {},
   "outputs": [],
   "source": [
    "class SLStack:\n",
    "    def __init__(self):\n",
    "        self.head = None\n",
    "    \n",
    "    def is_empty(self):\n",
    "        if self.head == None:\n",
    "            return True\n",
    "        else:\n",
    "            return False\n",
    "    \n",
    "    def push(self, newdata):\n",
    "        newnode = SLNode(newdata)\n",
    "        newnode.next = self.head\n",
    "        self.head = newnode\n",
    "    \n",
    "    def peek(self):\n",
    "        if self.is_empty():\n",
    "            print(\"Error peek: stack sedang kosong.\")\n",
    "        else:\n",
    "            return self.head.data\n",
    "    \n",
    "    def pop(self):\n",
    "        if self.is_empty():\n",
    "            print(\"Error pop: stack sudah kosong sebelumnya.\")\n",
    "        else:\n",
    "            temp = self.head\n",
    "            self.head = self.head.next\n",
    "            del temp\n",
    "    \n",
    "    def get_size(self):\n",
    "        temp = self.head\n",
    "        size = 0\n",
    "        while temp != None:\n",
    "            size += 1\n",
    "            temp = temp.next\n",
    "        return size\n",
    "\n",
    "    def print_stack(self):\n",
    "        temp = self.head\n",
    "        while temp != None:\n",
    "            print(temp.data)\n",
    "            temp = temp.next\n",
    "    \n",
    "    # print linked list\n",
    "    def print_storage(self):\n",
    "        print(\"head -> \", end=\"\")\n",
    "        temp = self.head\n",
    "        while temp != None:\n",
    "            print(temp.data, end=\" -> \")\n",
    "            temp = temp.next\n",
    "        print(\"None\")\n",
    "    \n",
    "    def get_digraph_stack(self):\n",
    "        new_digraph = gv.Digraph()\n",
    "        # gambar akan terdiri dari satu tabel saja, satu kolom,\n",
    "        # dan tiap baris adalah tiap elemen di stack\n",
    "        tabel_besar = \"\"\n",
    "        tabel_besar += \"<\"\n",
    "        tabel_besar += \"<TABLE BORDER=\\\"0\\\" CELLBORDER=\\\"1\\\" CELLSPACING=\\\"0\\\">\"\n",
    "        temp = self.head\n",
    "        if temp == None:\n",
    "            tabel_besar += \"<TR><TD>\"\n",
    "            tabel_besar += \"(Stack sedang kosong; tidak ada data sama sekali.)\"\n",
    "            tabel_besar += \"</TD></TR>\"\n",
    "        while temp != None:\n",
    "            tabel_besar += \"<TR><TD>\"\n",
    "            tabel_besar += str(temp.data)\n",
    "            tabel_besar += \"</TD></TR>\"\n",
    "            temp = temp.next\n",
    "        # penutup tabel\n",
    "        tabel_besar += \"</TABLE>\"\n",
    "        tabel_besar += \">\"\n",
    "        new_digraph.node(\"SLStack\", shape=\"none\", label=tabel_besar)\n",
    "        return new_digraph\n",
    "\n",
    "    # copas dari modul linked list\n",
    "    def get_digraph_storage(self):\n",
    "        # Buat digraph baru yang sifatnya dari kiri ke kanan\n",
    "        new_digraph = gv.Digraph(graph_attr={\"rankdir\": \"LR\"})\n",
    "        \n",
    "        # Pointer untuk menunjuk ke tiap node, mulai dari node pertama\n",
    "        # (akan dilakukan traversal)\n",
    "        current = self.head\n",
    "\n",
    "        # Untuk menghitung node ke-sekian untuk nama node di Graphviz,\n",
    "        # sehingga head menunjuk ke node0, lalu node0 menunjuk ke node1, dst\n",
    "        counter = 0\n",
    "\n",
    "        # Memperoleh alamat yang sedang disimpan di head\n",
    "        # - asumsi awal: tidak ada alamat (None)\n",
    "        next_id = None\n",
    "        next_name = \"node0\" # ini nanti untuk nama node berikutnya di Graphviz\n",
    "        # - kalau ternyata ada alamat...\n",
    "        if current != None:\n",
    "            # maka simpan alamat tersebut\n",
    "            next_id = hex(id(current))\n",
    "            # kita buat lebih spesifik untuk node berikutnya, tunjuk ke port id\n",
    "            next_name = \"node0:id\"\n",
    "        \n",
    "        # Label (tabel) untuk pointer head\n",
    "        # - pembuka tabel\n",
    "        str_label = \"<\"\n",
    "        str_label += \"<TABLE BORDER=\\\"0\\\" CELLBORDER=\\\"1\\\" CELLSPACING=\\\"0\\\">\"\n",
    "        # - baris head\n",
    "        str_label += \"<TR><TD>head</TD></TR>\"\n",
    "        # - baris alamat (sekalian membuat port namanya \"contents\")\n",
    "        str_label += \"<TR><TD PORT=\\\"contents\\\">\" + str(next_id) + \"</TD></TR>\"\n",
    "        # - penutup tabel\n",
    "        str_label += \"</TABLE>\"\n",
    "        str_label += \">\"\n",
    "\n",
    "        # Membuat node head, membuat edge dari head ke node berikutnya\n",
    "        new_digraph.node(\"head\", shape=\"none\", label=str_label)\n",
    "        new_digraph.edge(\"head:contents\", next_name)\n",
    "        # dari port \"contents\" ke node berikutnya, yang namanya next_name\n",
    "        \n",
    "        # Selama node yang ditunjuk bukan None, buatlah node nya di Graphviz,\n",
    "        # lalu lanjut ke node selanjutnya (ini traversal)\n",
    "        while current != None:\n",
    "            # Alamat yang tersimpan pada current.next\n",
    "            # - asumsi awal: tidak ada alamat; current adalah node terakhir\n",
    "            next_id = None\n",
    "            # - kalau ternyata ada alamat...\n",
    "            if current.next != None:\n",
    "                # maka simpan alamat tersebut\n",
    "                next_id = hex(id(current.next))\n",
    "            \n",
    "            # Persiapan label (tabel) untuk node\n",
    "            # - pembuka tabel\n",
    "            str_label = \"<\"\n",
    "            str_label += \"<TABLE BORDER=\\\"0\\\" CELLBORDER=\\\"1\\\" CELLSPACING=\\\"0\\\">\"\n",
    "            # - baris tulisan \"data\", \"next\"\n",
    "            str_label += \"<TR><TD>data</TD><TD>next</TD></TR>\"\n",
    "            # - baris untuk isi data dan isi next\n",
    "            str_label += \"<TR>\"\n",
    "            str_label += \"<TD>\" + str(current.data) + \"</TD>\"\n",
    "            str_label += \"<TD PORT=\\\"next\\\">\" + str(next_id) + \"</TD>\"\n",
    "            str_label += \"</TR>\"\n",
    "            # - baris tulisan \"alamat node\", merentang dua kolom\n",
    "            str_label += \"<TR><TD COLSPAN=\\\"2\\\">alamat node</TD></TR>\"\n",
    "            # - baris untuk isi alamat node, merentang dua kolom\n",
    "            str_label += \"<TR>\"\n",
    "            str_label += \"<TD PORT=\\\"id\\\" COLSPAN=\\\"2\\\">\"\n",
    "            str_label += str(hex(id(current)))\n",
    "            str_label += \"</TD>\"\n",
    "            str_label += \"</TR>\"\n",
    "            # - penutup tabel\n",
    "            str_label += \"</TABLE>\"\n",
    "            str_label += \">\"\n",
    "\n",
    "            # Membuat node baru di Graphviz dengan label (tabel) tersebut\n",
    "            new_digraph.node(\"node\" + str(counter), shape=\"none\", label = str_label)\n",
    "\n",
    "            # Menentukan nama dua port yang bakal disambung dengan edge,\n",
    "            # yaitu (node saat ini):next disambung ke node(berikutnya):id\n",
    "            # yaitu bagian \"next\" disambung ke bagian alamat di node berikutnya\n",
    "            nama_node_next = \"node\" + str(counter) + \":next\"\n",
    "            if current.next != None:\n",
    "                nama_alamat_node_berikutnya = \"node\" + str(counter+1) + \":id\"\n",
    "            # atau ke node(berikutnya) saja tanpa id kalau itu ternyata None,\n",
    "            # karena None tidak akan memiliki port id\n",
    "            else:\n",
    "                nama_alamat_node_berikutnya = \"node\" + str(counter+1)\n",
    "            \n",
    "            # Menyambung keduanya\n",
    "            new_digraph.edge(nama_node_next, nama_alamat_node_berikutnya)\n",
    "            \n",
    "            # Lanjut ke node selanjutnya\n",
    "            current = current.next\n",
    "            counter += 1\n",
    "        # Kalau sudah keluar loop, artinya current menunjuk ke None\n",
    "        # Berarti tinggal membuat \"node\" terakhir berisi tulisan None\n",
    "        # (karena sambungannya sudah dibuat di dalam loop, tinggal node nya)\n",
    "        new_digraph.node(\"node\" + str(counter), shape=\"none\", label=\"None\")\n",
    "\n",
    "        # Digraph sudah jadi\n",
    "        return new_digraph"
   ]
  },
  {
   "cell_type": "markdown",
   "metadata": {},
   "source": [
    "## Contoh sederhana: *reverse* suatu *string*, *list*, atau *array*"
   ]
  },
  {
   "cell_type": "code",
   "execution_count": null,
   "metadata": {},
   "outputs": [],
   "source": [
    "def reverse_array_arraystack(array):\n",
    "    arraystack = ArrayStack(type(array[0]), len(array))\n",
    "    for i in range(len(array)):\n",
    "        arraystack.push(array[i])\n",
    "    for i in range(len(array)):\n",
    "        array[i] = arraystack.pop()"
   ]
  },
  {
   "cell_type": "code",
   "execution_count": null,
   "metadata": {},
   "outputs": [],
   "source": [
    "def reverse_array_slstack(array):\n",
    "    slstack = SLStack()\n",
    "    for i in range(len(array)):\n",
    "        slstack.push(array[i])\n",
    "    for i in range(len(array)):\n",
    "        array[i] = slstack.pop()"
   ]
  },
  {
   "cell_type": "markdown",
   "metadata": {},
   "source": [
    "## Notasi *infix* menjadi *postfix*"
   ]
  },
  {
   "cell_type": "markdown",
   "metadata": {},
   "source": [
    "## Notasi *infix* menjadi *prefix*"
   ]
  },
  {
   "cell_type": "markdown",
   "metadata": {},
   "source": [
    "## Notasi *postfix* menjadi *infix*"
   ]
  },
  {
   "cell_type": "markdown",
   "metadata": {},
   "source": [
    "## Notasi *prefix* menjadi *infix*"
   ]
  },
  {
   "cell_type": "markdown",
   "metadata": {},
   "source": [
    "## *Stack* (old)"
   ]
  },
  {
   "cell_type": "markdown",
   "metadata": {},
   "source": [
    "*Stack* menganut paham LIFO, jadi yang terakhir dimasukin, kalo ada perintah keluar, yang itu yang keluar."
   ]
  },
  {
   "cell_type": "markdown",
   "metadata": {},
   "source": [
    "Di Python, implementasi *stack* pake *array* udah agak *redundant* karena banyaknya *method* buat *array*, jadi sekarang dikasih implementasinya buat *linked list* yang udah kita bikin tadi."
   ]
  },
  {
   "cell_type": "code",
   "execution_count": 6,
   "metadata": {},
   "outputs": [],
   "source": [
    "class Stack:\n",
    "    def __init__(self):\n",
    "        self.head = \"None\"\n",
    "        self.size = 0\n",
    "    \n",
    "    def is_empty(self):\n",
    "        return self.size == 0\n",
    "    \n",
    "    def len(self):\n",
    "        return self.size\n",
    "    \n",
    "    def push(self, data):\n",
    "        new = Node(data, \"None\")\n",
    "        new.next = self.head\n",
    "        self.head = new\n",
    "        self.size += 1\n",
    "    \n",
    "    def pop(self):\n",
    "        if self.is_empty():\n",
    "            print(\"Stack is already empty\")\n",
    "            return\n",
    "        self.head = self.head.next\n",
    "        self.size -= 1\n",
    "    \n",
    "    def top(self):\n",
    "        if self.is_empty():\n",
    "            print(\"Stack is empty.\")\n",
    "            return\n",
    "        return self.head.data\n",
    "\n",
    "    def print(self):\n",
    "        temp = self.head\n",
    "        while temp != \"None\":\n",
    "            print(temp.data)\n",
    "            temp = temp.next"
   ]
  },
  {
   "cell_type": "code",
   "execution_count": 8,
   "metadata": {},
   "outputs": [
    {
     "name": "stdout",
     "output_type": "stream",
     "text": [
      "Stack is empty.\n"
     ]
    }
   ],
   "source": [
    "test = Stack()\n",
    "test.top()"
   ]
  },
  {
   "cell_type": "code",
   "execution_count": 9,
   "metadata": {},
   "outputs": [
    {
     "name": "stdout",
     "output_type": "stream",
     "text": [
      "100\n",
      "80\n",
      "5\n"
     ]
    }
   ],
   "source": [
    "test.push(5)\n",
    "test.push(80)\n",
    "test.push(100)\n",
    "test.print()"
   ]
  },
  {
   "cell_type": "code",
   "execution_count": 10,
   "metadata": {},
   "outputs": [],
   "source": [
    "test.pop()"
   ]
  },
  {
   "cell_type": "code",
   "execution_count": 11,
   "metadata": {},
   "outputs": [
    {
     "name": "stdout",
     "output_type": "stream",
     "text": [
      "80\n",
      "5\n"
     ]
    }
   ],
   "source": [
    "test.print()"
   ]
  },
  {
   "cell_type": "code",
   "execution_count": 12,
   "metadata": {},
   "outputs": [
    {
     "data": {
      "text/plain": [
       "2"
      ]
     },
     "execution_count": 12,
     "metadata": {},
     "output_type": "execute_result"
    }
   ],
   "source": [
    "test.len()"
   ]
  }
 ],
 "metadata": {
  "kernelspec": {
   "display_name": "Python 3",
   "language": "python",
   "name": "python3"
  },
  "language_info": {
   "codemirror_mode": {
    "name": "ipython",
    "version": 3
   },
   "file_extension": ".py",
   "mimetype": "text/x-python",
   "name": "python",
   "nbconvert_exporter": "python",
   "pygments_lexer": "ipython3",
   "version": "3.10.11"
  }
 },
 "nbformat": 4,
 "nbformat_minor": 2
}
