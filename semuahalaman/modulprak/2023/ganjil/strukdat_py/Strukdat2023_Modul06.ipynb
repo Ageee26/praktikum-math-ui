{
 "cells": [
  {
   "cell_type": "markdown",
   "metadata": {},
   "source": [
    "# Modul 6 Struktur Data: *Stack*, notasi *prefix*, *infix*, *postfix*"
   ]
  },
  {
   "cell_type": "markdown",
   "metadata": {},
   "source": [
    "Kembali ke [Struktur Data (dengan Python)](strukdat2023.qmd)"
   ]
  },
  {
   "cell_type": "code",
   "execution_count": 3,
   "metadata": {},
   "outputs": [],
   "source": [
    "import numpy as np\n",
    "import graphviz as gv"
   ]
  },
  {
   "cell_type": "markdown",
   "metadata": {},
   "source": [
    "## *Stack* dengan *array*"
   ]
  },
  {
   "cell_type": "markdown",
   "metadata": {},
   "source": [
    "blabla"
   ]
  },
  {
   "cell_type": "code",
   "execution_count": 7,
   "metadata": {},
   "outputs": [],
   "source": [
    "class ArrayStack:\n",
    "    def __init__(self, dtype, max):\n",
    "        self.dtype = dtype\n",
    "        self.max = max\n",
    "        self.array = np.empty(max, dtype=dtype)\n",
    "        self.top = -1\n",
    "    \n",
    "    def get_size(self):\n",
    "        return self.top + 1\n",
    "    \n",
    "    def get_capacity(self):\n",
    "        return self.max\n",
    "    \n",
    "    def get_dtype(self):\n",
    "        return self.dtype\n",
    "\n",
    "    def is_empty(self):\n",
    "        if self.get_size() > 0:\n",
    "            return False\n",
    "        else:\n",
    "            return True\n",
    "    \n",
    "    def is_full(self):\n",
    "        if self.get_size() >= self.get_capacity():\n",
    "            # if top+1 >= max\n",
    "            # atau sama saja, if top >= max-1\n",
    "            return True\n",
    "        else:\n",
    "            return False\n",
    "\n",
    "    def push(self, newdata):\n",
    "        if self.is_full():\n",
    "            print(\"Error push: stack sudah penuh.\")\n",
    "        else:\n",
    "            self.top += 1\n",
    "            self.array[self.top] = newdata\n",
    "    \n",
    "    def peek(self):\n",
    "        if self.is_empty():\n",
    "            print(\"Error peek: stack sedang kosong.\")\n",
    "            return None\n",
    "        else:\n",
    "            return self.array[self.top]\n",
    "    \n",
    "    def pop(self):\n",
    "        if self.is_empty():\n",
    "            print(\"Error pop: stack sudah kosong sebelumnya.\")\n",
    "            return None\n",
    "        else:\n",
    "            output = self.array[self.top]\n",
    "            self.top -= 1\n",
    "            return output\n",
    "\n",
    "    def print_stack(self):\n",
    "        i = self.top\n",
    "        while i >= 0:\n",
    "            print(self.array[i])\n",
    "            i -= 1\n",
    "\n",
    "    # print array\n",
    "    def print_storage(self):\n",
    "        print(self.array)\n",
    "    \n",
    "    def get_digraph_stack(self):\n",
    "        new_digraph = gv.Digraph()\n",
    "        # gambar akan terdiri dari satu tabel saja, satu kolom,\n",
    "        # dan tiap baris adalah tiap elemen di stack\n",
    "\n",
    "        tabel_besar = \"<\"\n",
    "        # pembuka tabel\n",
    "        tabel_besar += \"<TABLE BORDER=\\\"0\\\" CELLBORDER=\\\"1\\\" CELLSPACING=\\\"0\\\">\"\n",
    "        # menambahkan tiap elemen sebagai baris tersendiri\n",
    "        i = self.top\n",
    "        if i < 0:\n",
    "            tabel_besar += \"<TR><TD>\"\n",
    "            tabel_besar += \"(Stack sedang kosong; tidak ada data sama sekali.)\"\n",
    "            tabel_besar += \"</TD></TR>\"\n",
    "        while i >= 0:\n",
    "            tabel_besar += \"<TR><TD>\"\n",
    "            tabel_besar += str(self.array[i])\n",
    "            tabel_besar += \"</TD></TR>\"\n",
    "            i -= 1\n",
    "        # penutup tabel\n",
    "        tabel_besar += \"</TABLE>\"\n",
    "        tabel_besar += \">\"\n",
    "        new_digraph.node(\"ArrayStack\", shape=\"none\", label=tabel_besar)\n",
    "        return new_digraph\n",
    "\n",
    "    def get_digraph_storage(self):\n",
    "        # menggambar array\n",
    "        new_digraph = gv.Digraph()\n",
    "\n",
    "        # pembuka tabel\n",
    "        tabel_besar = \"<\"\n",
    "        tabel_besar += \"<TABLE BORDER=\\\"0\\\" CELLBORDER=\\\"1\\\" CELLSPACING=\\\"0\\\">\"\n",
    "        # tabel hanya terdiri dari satu baris\n",
    "        tabel_besar += \"<TR>\"\n",
    "        # satu elemen per kolom\n",
    "        for i in range(self.get_capacity()):\n",
    "            tabel_besar += \"<TD>\"\n",
    "            tabel_besar += str(self.array[i])\n",
    "            tabel_besar += \"</TD>\"\n",
    "        # penutup baris\n",
    "        tabel_besar += \"</TR>\"\n",
    "        # penutup tabel\n",
    "        tabel_besar += \"</TABLE>\"\n",
    "        tabel_besar += \">\"\n",
    "        new_digraph.node(\"array\", shape=\"none\", label=tabel_besar)\n",
    "        return new_digraph"
   ]
  },
  {
   "cell_type": "code",
   "execution_count": 31,
   "metadata": {},
   "outputs": [],
   "source": [
    "arraystack = ArrayStack(int, 5)\n",
    "arraystack.push(5)\n",
    "arraystack.push(80)\n",
    "arraystack.push(100)"
   ]
  },
  {
   "cell_type": "code",
   "execution_count": 32,
   "metadata": {},
   "outputs": [
    {
     "name": "stdout",
     "output_type": "stream",
     "text": [
      "100\n",
      "80\n",
      "5\n"
     ]
    }
   ],
   "source": [
    "arraystack.print_stack()"
   ]
  },
  {
   "cell_type": "code",
   "execution_count": 33,
   "metadata": {},
   "outputs": [
    {
     "name": "stdout",
     "output_type": "stream",
     "text": [
      "5\n"
     ]
    }
   ],
   "source": [
    "print(arraystack.get_capacity())"
   ]
  },
  {
   "cell_type": "code",
   "execution_count": 34,
   "metadata": {},
   "outputs": [
    {
     "name": "stdout",
     "output_type": "stream",
     "text": [
      "[                  5                  80                 100\n",
      " 4622241330054037504 4625478292286210048]\n"
     ]
    }
   ],
   "source": [
    "arraystack.print_storage()"
   ]
  },
  {
   "cell_type": "code",
   "execution_count": 35,
   "metadata": {},
   "outputs": [
    {
     "name": "stdout",
     "output_type": "stream",
     "text": [
      "100\n"
     ]
    }
   ],
   "source": [
    "print(arraystack.peek())"
   ]
  },
  {
   "cell_type": "code",
   "execution_count": 36,
   "metadata": {},
   "outputs": [
    {
     "name": "stdout",
     "output_type": "stream",
     "text": [
      "100\n",
      "80\n",
      "5\n"
     ]
    }
   ],
   "source": [
    "arraystack.print_stack()"
   ]
  },
  {
   "cell_type": "code",
   "execution_count": 37,
   "metadata": {},
   "outputs": [
    {
     "name": "stdout",
     "output_type": "stream",
     "text": [
      "100\n"
     ]
    }
   ],
   "source": [
    "nilai = arraystack.pop()\n",
    "print(nilai)"
   ]
  },
  {
   "cell_type": "code",
   "execution_count": 38,
   "metadata": {},
   "outputs": [
    {
     "name": "stdout",
     "output_type": "stream",
     "text": [
      "80\n",
      "5\n"
     ]
    }
   ],
   "source": [
    "arraystack.print_stack()"
   ]
  },
  {
   "cell_type": "code",
   "execution_count": 39,
   "metadata": {},
   "outputs": [
    {
     "name": "stdout",
     "output_type": "stream",
     "text": [
      "[                  5                  80                 100\n",
      " 4622241330054037504 4625478292286210048]\n"
     ]
    }
   ],
   "source": [
    "arraystack.print_storage()"
   ]
  },
  {
   "cell_type": "code",
   "execution_count": 40,
   "metadata": {},
   "outputs": [],
   "source": [
    "arraystack.push(-10)\n",
    "arraystack.push(57)"
   ]
  },
  {
   "cell_type": "code",
   "execution_count": 41,
   "metadata": {},
   "outputs": [
    {
     "name": "stdout",
     "output_type": "stream",
     "text": [
      "57\n",
      "-10\n",
      "80\n",
      "5\n"
     ]
    }
   ],
   "source": [
    "arraystack.print_stack()"
   ]
  },
  {
   "cell_type": "code",
   "execution_count": 42,
   "metadata": {},
   "outputs": [
    {
     "name": "stdout",
     "output_type": "stream",
     "text": [
      "[                  5                  80                 -10\n",
      "                  57 4625478292286210048]\n"
     ]
    }
   ],
   "source": [
    "arraystack.print_storage()"
   ]
  },
  {
   "cell_type": "code",
   "execution_count": 43,
   "metadata": {},
   "outputs": [],
   "source": [
    "graf1 = arraystack.get_digraph_stack()"
   ]
  },
  {
   "cell_type": "code",
   "execution_count": 44,
   "metadata": {},
   "outputs": [
    {
     "data": {
      "image/svg+xml": [
       "<?xml version=\"1.0\" encoding=\"UTF-8\" standalone=\"no\"?>\n",
       "<!DOCTYPE svg PUBLIC \"-//W3C//DTD SVG 1.1//EN\"\n",
       " \"http://www.w3.org/Graphics/SVG/1.1/DTD/svg11.dtd\">\n",
       "<!-- Generated by graphviz version 8.1.0 (20230707.0739)\n",
       " -->\n",
       "<!-- Pages: 1 -->\n",
       "<svg width=\"62pt\" height=\"107pt\"\n",
       " viewBox=\"0.00 0.00 62.00 107.20\" xmlns=\"http://www.w3.org/2000/svg\" xmlns:xlink=\"http://www.w3.org/1999/xlink\">\n",
       "<g id=\"graph0\" class=\"graph\" transform=\"scale(1 1) rotate(0) translate(4 103.2)\">\n",
       "<polygon fill=\"white\" stroke=\"none\" points=\"-4,4 -4,-103.2 58,-103.2 58,4 -4,4\"/>\n",
       "<!-- ArrayStack -->\n",
       "<g id=\"node1\" class=\"node\">\n",
       "<title>ArrayStack</title>\n",
       "<polygon fill=\"none\" stroke=\"black\" points=\"14.67,-72.4 14.67,-95.2 39.33,-95.2 39.33,-72.4 14.67,-72.4\"/>\n",
       "<text text-anchor=\"start\" x=\"20\" y=\"-79.6\" font-family=\"Times,serif\" font-size=\"14.00\">57</text>\n",
       "<polygon fill=\"none\" stroke=\"black\" points=\"14.67,-49.6 14.67,-72.4 39.33,-72.4 39.33,-49.6 14.67,-49.6\"/>\n",
       "<text text-anchor=\"start\" x=\"17.67\" y=\"-56.8\" font-family=\"Times,serif\" font-size=\"14.00\">&#45;10</text>\n",
       "<polygon fill=\"none\" stroke=\"black\" points=\"14.67,-26.8 14.67,-49.6 39.33,-49.6 39.33,-26.8 14.67,-26.8\"/>\n",
       "<text text-anchor=\"start\" x=\"20\" y=\"-34\" font-family=\"Times,serif\" font-size=\"14.00\">80</text>\n",
       "<polygon fill=\"none\" stroke=\"black\" points=\"14.67,-4 14.67,-26.8 39.33,-26.8 39.33,-4 14.67,-4\"/>\n",
       "<text text-anchor=\"start\" x=\"23.5\" y=\"-11.2\" font-family=\"Times,serif\" font-size=\"14.00\">5</text>\n",
       "</g>\n",
       "</g>\n",
       "</svg>\n"
      ],
      "text/plain": [
       "<graphviz.graphs.Digraph at 0x1170d3040>"
      ]
     },
     "metadata": {},
     "output_type": "display_data"
    }
   ],
   "source": [
    "display(graf1)"
   ]
  },
  {
   "cell_type": "code",
   "execution_count": 45,
   "metadata": {},
   "outputs": [],
   "source": [
    "graf2 = arraystack.get_digraph_storage()"
   ]
  },
  {
   "cell_type": "code",
   "execution_count": 46,
   "metadata": {},
   "outputs": [
    {
     "data": {
      "image/svg+xml": [
       "<?xml version=\"1.0\" encoding=\"UTF-8\" standalone=\"no\"?>\n",
       "<!DOCTYPE svg PUBLIC \"-//W3C//DTD SVG 1.1//EN\"\n",
       " \"http://www.w3.org/Graphics/SVG/1.1/DTD/svg11.dtd\">\n",
       "<!-- Generated by graphviz version 8.1.0 (20230707.0739)\n",
       " -->\n",
       "<!-- Pages: 1 -->\n",
       "<svg width=\"241pt\" height=\"44pt\"\n",
       " viewBox=\"0.00 0.00 240.66 44.00\" xmlns=\"http://www.w3.org/2000/svg\" xmlns:xlink=\"http://www.w3.org/1999/xlink\">\n",
       "<g id=\"graph0\" class=\"graph\" transform=\"scale(1 1) rotate(0) translate(4 40)\">\n",
       "<polygon fill=\"white\" stroke=\"none\" points=\"-4,4 -4,-40 236.66,-40 236.66,4 -4,4\"/>\n",
       "<!-- array -->\n",
       "<g id=\"node1\" class=\"node\">\n",
       "<title>array</title>\n",
       "<polygon fill=\"none\" stroke=\"black\" points=\"8,-6.6 8,-29.4 21,-29.4 21,-6.6 8,-6.6\"/>\n",
       "<text text-anchor=\"start\" x=\"11\" y=\"-13.8\" font-family=\"Times,serif\" font-size=\"14.00\">5</text>\n",
       "<polygon fill=\"none\" stroke=\"black\" points=\"21,-6.6 21,-29.4 41,-29.4 41,-6.6 21,-6.6\"/>\n",
       "<text text-anchor=\"start\" x=\"24\" y=\"-13.8\" font-family=\"Times,serif\" font-size=\"14.00\">80</text>\n",
       "<polygon fill=\"none\" stroke=\"black\" points=\"41,-6.6 41,-29.4 65.66,-29.4 65.66,-6.6 41,-6.6\"/>\n",
       "<text text-anchor=\"start\" x=\"44\" y=\"-13.8\" font-family=\"Times,serif\" font-size=\"14.00\">&#45;10</text>\n",
       "<polygon fill=\"none\" stroke=\"black\" points=\"65.66,-6.6 65.66,-29.4 85.66,-29.4 85.66,-6.6 65.66,-6.6\"/>\n",
       "<text text-anchor=\"start\" x=\"68.66\" y=\"-13.8\" font-family=\"Times,serif\" font-size=\"14.00\">57</text>\n",
       "<polygon fill=\"none\" stroke=\"black\" points=\"85.66,-6.6 85.66,-29.4 224.66,-29.4 224.66,-6.6 85.66,-6.6\"/>\n",
       "<text text-anchor=\"start\" x=\"88.66\" y=\"-13.8\" font-family=\"Times,serif\" font-size=\"14.00\">4625478292286210048</text>\n",
       "</g>\n",
       "</g>\n",
       "</svg>\n"
      ],
      "text/plain": [
       "<graphviz.graphs.Digraph at 0x1170d23b0>"
      ]
     },
     "metadata": {},
     "output_type": "display_data"
    }
   ],
   "source": [
    "display(graf2)"
   ]
  },
  {
   "cell_type": "code",
   "execution_count": 47,
   "metadata": {},
   "outputs": [],
   "source": [
    "arraystack.push(90)"
   ]
  },
  {
   "cell_type": "code",
   "execution_count": 48,
   "metadata": {},
   "outputs": [
    {
     "name": "stdout",
     "output_type": "stream",
     "text": [
      "Error push: stack sudah penuh.\n"
     ]
    }
   ],
   "source": [
    "arraystack.push(46)"
   ]
  },
  {
   "cell_type": "code",
   "execution_count": 49,
   "metadata": {},
   "outputs": [
    {
     "name": "stdout",
     "output_type": "stream",
     "text": [
      "[  5  80 -10  57  90]\n"
     ]
    }
   ],
   "source": [
    "arraystack.print_storage()"
   ]
  },
  {
   "cell_type": "code",
   "execution_count": 50,
   "metadata": {},
   "outputs": [
    {
     "name": "stdout",
     "output_type": "stream",
     "text": [
      "90\n",
      "57\n",
      "-10\n",
      "80\n",
      "5\n"
     ]
    }
   ],
   "source": [
    "print(arraystack.pop())\n",
    "print(arraystack.pop())\n",
    "print(arraystack.pop())\n",
    "print(arraystack.pop())\n",
    "print(arraystack.pop())"
   ]
  },
  {
   "cell_type": "code",
   "execution_count": 51,
   "metadata": {},
   "outputs": [
    {
     "name": "stdout",
     "output_type": "stream",
     "text": [
      "Error pop: stack sudah kosong sebelumnya.\n",
      "None\n"
     ]
    }
   ],
   "source": [
    "print(arraystack.pop())"
   ]
  },
  {
   "cell_type": "code",
   "execution_count": 52,
   "metadata": {},
   "outputs": [
    {
     "name": "stdout",
     "output_type": "stream",
     "text": [
      "0\n"
     ]
    }
   ],
   "source": [
    "print(arraystack.get_size())"
   ]
  },
  {
   "cell_type": "code",
   "execution_count": 53,
   "metadata": {},
   "outputs": [],
   "source": [
    "arraystack.print_stack()"
   ]
  },
  {
   "cell_type": "code",
   "execution_count": 54,
   "metadata": {},
   "outputs": [
    {
     "name": "stdout",
     "output_type": "stream",
     "text": [
      "[  5  80 -10  57  90]\n"
     ]
    }
   ],
   "source": [
    "arraystack.print_storage()"
   ]
  },
  {
   "cell_type": "code",
   "execution_count": 55,
   "metadata": {},
   "outputs": [
    {
     "data": {
      "image/svg+xml": [
       "<?xml version=\"1.0\" encoding=\"UTF-8\" standalone=\"no\"?>\n",
       "<!DOCTYPE svg PUBLIC \"-//W3C//DTD SVG 1.1//EN\"\n",
       " \"http://www.w3.org/Graphics/SVG/1.1/DTD/svg11.dtd\">\n",
       "<!-- Generated by graphviz version 8.1.0 (20230707.0739)\n",
       " -->\n",
       "<!-- Pages: 1 -->\n",
       "<svg width=\"314pt\" height=\"44pt\"\n",
       " viewBox=\"0.00 0.00 313.80 44.00\" xmlns=\"http://www.w3.org/2000/svg\" xmlns:xlink=\"http://www.w3.org/1999/xlink\">\n",
       "<g id=\"graph0\" class=\"graph\" transform=\"scale(1 1) rotate(0) translate(4 40)\">\n",
       "<polygon fill=\"white\" stroke=\"none\" points=\"-4,4 -4,-40 309.8,-40 309.8,4 -4,4\"/>\n",
       "<!-- ArrayStack -->\n",
       "<g id=\"node1\" class=\"node\">\n",
       "<title>ArrayStack</title>\n",
       "<polygon fill=\"none\" stroke=\"black\" points=\"8,-6.6 8,-29.4 297.8,-29.4 297.8,-6.6 8,-6.6\"/>\n",
       "<text text-anchor=\"start\" x=\"11\" y=\"-13.8\" font-family=\"Times,serif\" font-size=\"14.00\">(Stack sedang kosong; tidak ada data sama sekali.)</text>\n",
       "</g>\n",
       "</g>\n",
       "</svg>\n"
      ],
      "text/plain": [
       "<graphviz.graphs.Digraph at 0x1170d39a0>"
      ]
     },
     "metadata": {},
     "output_type": "display_data"
    }
   ],
   "source": [
    "display(arraystack.get_digraph_stack())"
   ]
  },
  {
   "cell_type": "markdown",
   "metadata": {},
   "source": [
    "## *Stack* dengan *singly-inked list*"
   ]
  },
  {
   "cell_type": "markdown",
   "metadata": {},
   "source": [
    "blabla"
   ]
  },
  {
   "cell_type": "code",
   "execution_count": null,
   "metadata": {},
   "outputs": [],
   "source": [
    "class SLNode:\n",
    "    def __init__(self, data, next=None):\n",
    "        self.data = data\n",
    "        self.next = next"
   ]
  },
  {
   "cell_type": "code",
   "execution_count": null,
   "metadata": {},
   "outputs": [],
   "source": [
    "class SLStack:\n",
    "    def __init__(self):\n",
    "        # \"head\" ganti nama jadi top\n",
    "        self.top = None\n",
    "    \n",
    "    def is_empty(self):\n",
    "        if self.top == None:\n",
    "            return True\n",
    "        else:\n",
    "            return False\n",
    "    \n",
    "    def push(self, newdata):\n",
    "        newnode = SLNode(newdata)\n",
    "        newnode.next = self.top\n",
    "        self.top = newnode\n",
    "    \n",
    "    def peek(self):\n",
    "        if self.is_empty():\n",
    "            print(\"Error peek: stack sedang kosong.\")\n",
    "        else:\n",
    "            return self.top.data\n",
    "    \n",
    "    def pop(self):\n",
    "        if self.is_empty():\n",
    "            print(\"Error pop: stack sudah kosong sebelumnya.\")\n",
    "        else:\n",
    "            temp = self.top\n",
    "            self.top = self.top.next\n",
    "            del temp\n",
    "    \n",
    "    def get_size(self):\n",
    "        temp = self.top\n",
    "        size = 0\n",
    "        while temp != None:\n",
    "            size += 1\n",
    "            temp = temp.next\n",
    "        return size\n",
    "\n",
    "    def print_stack(self):\n",
    "        temp = self.top\n",
    "        while temp != None:\n",
    "            print(temp.data)\n",
    "            temp = temp.next\n",
    "    \n",
    "    # print linked list\n",
    "    def print_storage(self):\n",
    "        print(\"top -> \", end=\"\")\n",
    "        temp = self.top\n",
    "        while temp != None:\n",
    "            print(temp.data, end=\" -> \")\n",
    "            temp = temp.next\n",
    "        print(\"None\")\n",
    "    \n",
    "    def get_digraph_stack(self):\n",
    "        new_digraph = gv.Digraph()\n",
    "        # gambar akan terdiri dari satu tabel saja, satu kolom,\n",
    "        # dan tiap baris adalah tiap elemen di stack\n",
    "        tabel_besar = \"\"\n",
    "        tabel_besar += \"<\"\n",
    "        tabel_besar += \"<TABLE BORDER=\\\"0\\\" CELLBORDER=\\\"1\\\" CELLSPACING=\\\"0\\\">\"\n",
    "        temp = self.top\n",
    "        if temp == None:\n",
    "            tabel_besar += \"<TR><TD>\"\n",
    "            tabel_besar += \"(Stack sedang kosong; tidak ada data sama sekali.)\"\n",
    "            tabel_besar += \"</TD></TR>\"\n",
    "        while temp != None:\n",
    "            tabel_besar += \"<TR><TD>\"\n",
    "            tabel_besar += str(temp.data)\n",
    "            tabel_besar += \"</TD></TR>\"\n",
    "            temp = temp.next\n",
    "        # penutup tabel\n",
    "        tabel_besar += \"</TABLE>\"\n",
    "        tabel_besar += \">\"\n",
    "        new_digraph.node(\"SLStack\", shape=\"none\", label=tabel_besar)\n",
    "        return new_digraph\n",
    "\n",
    "    # copas dari modul linked list, tapi head ganti jadi top\n",
    "    def get_digraph_storage(self):\n",
    "        # Buat digraph baru yang sifatnya dari kiri ke kanan\n",
    "        new_digraph = gv.Digraph(graph_attr={\"rankdir\": \"LR\"})\n",
    "        \n",
    "        # Pointer untuk menunjuk ke tiap node, mulai dari node pertama\n",
    "        # (akan dilakukan traversal)\n",
    "        current = self.top\n",
    "\n",
    "        # Untuk menghitung node ke-sekian untuk nama node di Graphviz,\n",
    "        # sehingga top menunjuk ke node0, lalu node0 menunjuk ke node1, dst\n",
    "        counter = 0\n",
    "\n",
    "        # Memperoleh alamat yang sedang disimpan di top\n",
    "        # - asumsi awal: tidak ada alamat (None)\n",
    "        next_id = None\n",
    "        next_name = \"node0\" # ini nanti untuk nama node berikutnya di Graphviz\n",
    "        # - kalau ternyata ada alamat...\n",
    "        if current != None:\n",
    "            # maka simpan alamat tersebut\n",
    "            next_id = hex(id(current))\n",
    "            # kita buat lebih spesifik untuk node berikutnya, tunjuk ke port id\n",
    "            next_name = \"node0:id\"\n",
    "        \n",
    "        # Label (tabel) untuk pointer top\n",
    "        # - pembuka tabel\n",
    "        str_label = \"<\"\n",
    "        str_label += \"<TABLE BORDER=\\\"0\\\" CELLBORDER=\\\"1\\\" CELLSPACING=\\\"0\\\">\"\n",
    "        # - baris top\n",
    "        str_label += \"<TR><TD>top</TD></TR>\"\n",
    "        # - baris alamat (sekalian membuat port namanya \"contents\")\n",
    "        str_label += \"<TR><TD PORT=\\\"contents\\\">\" + str(next_id) + \"</TD></TR>\"\n",
    "        # - penutup tabel\n",
    "        str_label += \"</TABLE>\"\n",
    "        str_label += \">\"\n",
    "\n",
    "        # Membuat node top, membuat edge dari top ke node berikutnya\n",
    "        new_digraph.node(\"top\", shape=\"none\", label=str_label)\n",
    "        new_digraph.edge(\"top:contents\", next_name)\n",
    "        # dari port \"contents\" ke node berikutnya, yang namanya next_name\n",
    "        \n",
    "        # Selama node yang ditunjuk bukan None, buatlah node nya di Graphviz,\n",
    "        # lalu lanjut ke node selanjutnya (ini traversal)\n",
    "        while current != None:\n",
    "            # Alamat yang tersimpan pada current.next\n",
    "            # - asumsi awal: tidak ada alamat; current adalah node terakhir\n",
    "            next_id = None\n",
    "            # - kalau ternyata ada alamat...\n",
    "            if current.next != None:\n",
    "                # maka simpan alamat tersebut\n",
    "                next_id = hex(id(current.next))\n",
    "            \n",
    "            # Persiapan label (tabel) untuk node\n",
    "            # - pembuka tabel\n",
    "            str_label = \"<\"\n",
    "            str_label += \"<TABLE BORDER=\\\"0\\\" CELLBORDER=\\\"1\\\" CELLSPACING=\\\"0\\\">\"\n",
    "            # - baris tulisan \"data\", \"next\"\n",
    "            str_label += \"<TR><TD>data</TD><TD>next</TD></TR>\"\n",
    "            # - baris untuk isi data dan isi next\n",
    "            str_label += \"<TR>\"\n",
    "            str_label += \"<TD>\" + str(current.data) + \"</TD>\"\n",
    "            str_label += \"<TD PORT=\\\"next\\\">\" + str(next_id) + \"</TD>\"\n",
    "            str_label += \"</TR>\"\n",
    "            # - baris tulisan \"alamat node\", merentang dua kolom\n",
    "            str_label += \"<TR><TD COLSPAN=\\\"2\\\">alamat node</TD></TR>\"\n",
    "            # - baris untuk isi alamat node, merentang dua kolom\n",
    "            str_label += \"<TR>\"\n",
    "            str_label += \"<TD PORT=\\\"id\\\" COLSPAN=\\\"2\\\">\"\n",
    "            str_label += str(hex(id(current)))\n",
    "            str_label += \"</TD>\"\n",
    "            str_label += \"</TR>\"\n",
    "            # - penutup tabel\n",
    "            str_label += \"</TABLE>\"\n",
    "            str_label += \">\"\n",
    "\n",
    "            # Membuat node baru di Graphviz dengan label (tabel) tersebut\n",
    "            new_digraph.node(\"node\" + str(counter), shape=\"none\", label = str_label)\n",
    "\n",
    "            # Menentukan nama dua port yang bakal disambung dengan edge,\n",
    "            # yaitu (node saat ini):next disambung ke node(berikutnya):id\n",
    "            # yaitu bagian \"next\" disambung ke bagian alamat di node berikutnya\n",
    "            nama_node_next = \"node\" + str(counter) + \":next\"\n",
    "            if current.next != None:\n",
    "                nama_alamat_node_berikutnya = \"node\" + str(counter+1) + \":id\"\n",
    "            # atau ke node(berikutnya) saja tanpa id kalau itu ternyata None,\n",
    "            # karena None tidak akan memiliki port id\n",
    "            else:\n",
    "                nama_alamat_node_berikutnya = \"node\" + str(counter+1)\n",
    "            \n",
    "            # Menyambung keduanya\n",
    "            new_digraph.edge(nama_node_next, nama_alamat_node_berikutnya)\n",
    "            \n",
    "            # Lanjut ke node selanjutnya\n",
    "            current = current.next\n",
    "            counter += 1\n",
    "        # Kalau sudah keluar loop, artinya current menunjuk ke None\n",
    "        # Berarti tinggal membuat \"node\" terakhir berisi tulisan None\n",
    "        # (karena sambungannya sudah dibuat di dalam loop, tinggal node nya)\n",
    "        new_digraph.node(\"node\" + str(counter), shape=\"none\", label=\"None\")\n",
    "\n",
    "        # Digraph sudah jadi\n",
    "        return new_digraph"
   ]
  },
  {
   "cell_type": "markdown",
   "metadata": {},
   "source": [
    "## Contoh sederhana: *reverse* suatu *string*, *list*, atau *array*"
   ]
  },
  {
   "cell_type": "code",
   "execution_count": null,
   "metadata": {},
   "outputs": [],
   "source": [
    "def reverse_array_arraystack(array):\n",
    "    arraystack = ArrayStack(type(array[0]), len(array))\n",
    "    for i in range(len(array)):\n",
    "        arraystack.push(array[i])\n",
    "    for i in range(len(array)):\n",
    "        array[i] = arraystack.pop()"
   ]
  },
  {
   "cell_type": "code",
   "execution_count": null,
   "metadata": {},
   "outputs": [],
   "source": [
    "def reverse_array_slstack(array):\n",
    "    slstack = SLStack()\n",
    "    for i in range(len(array)):\n",
    "        slstack.push(array[i])\n",
    "    for i in range(len(array)):\n",
    "        array[i] = slstack.pop()"
   ]
  },
  {
   "cell_type": "markdown",
   "metadata": {},
   "source": [
    "## Notasi *infix* menjadi *postfix*"
   ]
  },
  {
   "cell_type": "code",
   "execution_count": null,
   "metadata": {},
   "outputs": [],
   "source": []
  },
  {
   "cell_type": "markdown",
   "metadata": {},
   "source": [
    "## Notasi *infix* menjadi *prefix*"
   ]
  },
  {
   "cell_type": "code",
   "execution_count": null,
   "metadata": {},
   "outputs": [],
   "source": []
  },
  {
   "cell_type": "markdown",
   "metadata": {},
   "source": [
    "## Evaluasi notasi *prefix*"
   ]
  },
  {
   "cell_type": "code",
   "execution_count": null,
   "metadata": {},
   "outputs": [],
   "source": []
  },
  {
   "cell_type": "markdown",
   "metadata": {},
   "source": [
    "## Evaluasi notasi *postfix*"
   ]
  },
  {
   "cell_type": "code",
   "execution_count": null,
   "metadata": {},
   "outputs": [],
   "source": []
  },
  {
   "cell_type": "markdown",
   "metadata": {},
   "source": [
    "## Notasi *postfix* menjadi *infix*"
   ]
  },
  {
   "cell_type": "code",
   "execution_count": null,
   "metadata": {},
   "outputs": [],
   "source": []
  },
  {
   "cell_type": "markdown",
   "metadata": {},
   "source": [
    "## Notasi *prefix* menjadi *infix*"
   ]
  },
  {
   "cell_type": "code",
   "execution_count": null,
   "metadata": {},
   "outputs": [],
   "source": []
  },
  {
   "cell_type": "markdown",
   "metadata": {},
   "source": [
    "## *Stack* (old)"
   ]
  },
  {
   "cell_type": "markdown",
   "metadata": {},
   "source": [
    "*Stack* menganut paham LIFO, jadi yang terakhir dimasukin, kalo ada perintah keluar, yang itu yang keluar."
   ]
  },
  {
   "cell_type": "markdown",
   "metadata": {},
   "source": [
    "Di Python, implementasi *stack* pake *array* udah agak *redundant* karena banyaknya *method* buat *array*, jadi sekarang dikasih implementasinya buat *linked list* yang udah kita bikin tadi."
   ]
  },
  {
   "cell_type": "code",
   "execution_count": 6,
   "metadata": {},
   "outputs": [],
   "source": [
    "class Stack:\n",
    "    def __init__(self):\n",
    "        self.head = \"None\"\n",
    "        self.size = 0\n",
    "    \n",
    "    def is_empty(self):\n",
    "        return self.size == 0\n",
    "    \n",
    "    def len(self):\n",
    "        return self.size\n",
    "    \n",
    "    def push(self, data):\n",
    "        new = Node(data, \"None\")\n",
    "        new.next = self.head\n",
    "        self.head = new\n",
    "        self.size += 1\n",
    "    \n",
    "    def pop(self):\n",
    "        if self.is_empty():\n",
    "            print(\"Stack is already empty\")\n",
    "            return\n",
    "        self.head = self.head.next\n",
    "        self.size -= 1\n",
    "    \n",
    "    def top(self):\n",
    "        if self.is_empty():\n",
    "            print(\"Stack is empty.\")\n",
    "            return\n",
    "        return self.head.data\n",
    "\n",
    "    def print(self):\n",
    "        temp = self.head\n",
    "        while temp != \"None\":\n",
    "            print(temp.data)\n",
    "            temp = temp.next"
   ]
  },
  {
   "cell_type": "code",
   "execution_count": 8,
   "metadata": {},
   "outputs": [
    {
     "name": "stdout",
     "output_type": "stream",
     "text": [
      "Stack is empty.\n"
     ]
    }
   ],
   "source": [
    "test = Stack()\n",
    "test.top()"
   ]
  },
  {
   "cell_type": "code",
   "execution_count": 9,
   "metadata": {},
   "outputs": [
    {
     "name": "stdout",
     "output_type": "stream",
     "text": [
      "100\n",
      "80\n",
      "5\n"
     ]
    }
   ],
   "source": [
    "test.push(5)\n",
    "test.push(80)\n",
    "test.push(100)\n",
    "test.print()"
   ]
  },
  {
   "cell_type": "code",
   "execution_count": 10,
   "metadata": {},
   "outputs": [],
   "source": [
    "test.pop()"
   ]
  },
  {
   "cell_type": "code",
   "execution_count": 11,
   "metadata": {},
   "outputs": [
    {
     "name": "stdout",
     "output_type": "stream",
     "text": [
      "80\n",
      "5\n"
     ]
    }
   ],
   "source": [
    "test.print()"
   ]
  },
  {
   "cell_type": "code",
   "execution_count": 12,
   "metadata": {},
   "outputs": [
    {
     "data": {
      "text/plain": [
       "2"
      ]
     },
     "execution_count": 12,
     "metadata": {},
     "output_type": "execute_result"
    }
   ],
   "source": [
    "test.len()"
   ]
  }
 ],
 "metadata": {
  "kernelspec": {
   "display_name": "Python 3",
   "language": "python",
   "name": "python3"
  },
  "language_info": {
   "codemirror_mode": {
    "name": "ipython",
    "version": 3
   },
   "file_extension": ".py",
   "mimetype": "text/x-python",
   "name": "python",
   "nbconvert_exporter": "python",
   "pygments_lexer": "ipython3",
   "version": "3.10.11"
  }
 },
 "nbformat": 4,
 "nbformat_minor": 2
}
