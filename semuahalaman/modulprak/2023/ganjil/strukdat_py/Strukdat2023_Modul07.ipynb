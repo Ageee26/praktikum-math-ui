{
 "cells": [
  {
   "cell_type": "markdown",
   "metadata": {},
   "source": [
    "# Modul 7 Struktur Data: *Queue* dan berbagai implementasinya"
   ]
  },
  {
   "cell_type": "markdown",
   "metadata": {},
   "source": [
    "Kembali ke [Struktur Data (dengan Python)](strukdat2023.qmd)"
   ]
  },
  {
   "cell_type": "markdown",
   "metadata": {},
   "source": [
    "Di praktikum kali ini, kita akan membahas tentang struktur data *queue* serta berbagai \"implementasi\"nya dalam Python (yaitu berbagai cara membuat struktur data *queue* di Python), baik menggunakan *array* maupun *linked list*."
   ]
  },
  {
   "cell_type": "markdown",
   "metadata": {},
   "source": [
    "*Queue* itu sendiri adalah suatu struktur data dengan dua ujung, di mana data bisa dimasukkan dari salah satu ujung tertentu (yang disebut *rear*) dan data bisa dikeluarkan dari ujung yang satunya lagi (yang disebut *front*). *Queue* dikatakan menganut prinsip FIFO (*First In First Out*), karena data yang pertama masuk akan menjadi data yang pertama keluar."
   ]
  },
  {
   "cell_type": "markdown",
   "metadata": {},
   "source": [
    "## Implementasi *queue* dengan *array*"
   ]
  },
  {
   "cell_type": "code",
   "execution_count": null,
   "metadata": {},
   "outputs": [],
   "source": []
  },
  {
   "cell_type": "markdown",
   "metadata": {},
   "source": [
    "## Implementasi *queue* dengan *linked list*"
   ]
  },
  {
   "cell_type": "code",
   "execution_count": null,
   "metadata": {},
   "outputs": [],
   "source": [
    "class SLNode:\n",
    "    def __init__(self, data, next=None):\n",
    "        self.data = data\n",
    "        self.next = next"
   ]
  },
  {
   "cell_type": "code",
   "execution_count": null,
   "metadata": {},
   "outputs": [],
   "source": [
    "class SLQueue:\n",
    "    def __init__(self):\n",
    "        # head=front, tail=rear\n",
    "        self.front = None\n",
    "        self.rear = None\n",
    "    \n",
    "    def is_empty(self):\n",
    "        if self.front == None:\n",
    "            return True\n",
    "        else:\n",
    "            return False\n",
    "    \n",
    "    def get_size(self):\n",
    "        size = 0\n",
    "        temp = self.front\n",
    "        while (temp != None):\n",
    "            size += 1\n",
    "            temp = temp.next\n",
    "        return size\n",
    "\n",
    "    # insert di akhir linked list\n",
    "    def enqueue(self, newdata):\n",
    "        newnode = SLNode(newdata)\n",
    "        if self.is_empty():\n",
    "            self.front = newnode\n",
    "            self.rear = newnode\n",
    "        else:\n",
    "            self.rear.next = newnode\n",
    "            self.rear = newnode\n",
    "    \n",
    "    def peek(self):\n",
    "        if self.is_empty():\n",
    "            print(\"Error peek: queue sedang kosong\")\n",
    "            return None\n",
    "        else:\n",
    "            return self.front.data\n",
    "\n",
    "    # hapus di awal linked list\n",
    "    def dequeue(self):\n",
    "        if self.is_empty():\n",
    "            print(\"Error dequeue: queue sudah kosong sebelumnya\")\n",
    "        else:\n",
    "            output = self.front.data\n",
    "            temp = self.front\n",
    "            self.front = self.front.next\n",
    "            del temp\n",
    "            return output\n",
    "    \n",
    "    def print_storage(self):\n",
    "        print(\"head -> \", end=\"\")\n",
    "        temp = self.front\n",
    "        while temp != None:\n",
    "            print(temp.data, end = \" -> \")\n",
    "            temp = temp.next\n",
    "        print(\"None\")"
   ]
  },
  {
   "cell_type": "markdown",
   "metadata": {},
   "source": [
    "## Implementasi *circular queue* dengan *array*"
   ]
  },
  {
   "cell_type": "code",
   "execution_count": null,
   "metadata": {},
   "outputs": [],
   "source": []
  },
  {
   "cell_type": "markdown",
   "metadata": {},
   "source": [
    "## Implementasi *circular queue* dengan *linked list*"
   ]
  },
  {
   "cell_type": "code",
   "execution_count": null,
   "metadata": {},
   "outputs": [],
   "source": []
  },
  {
   "cell_type": "markdown",
   "metadata": {},
   "source": [
    "## Pengayaan: *Deque* atau *double-ended queue* (DEQ)"
   ]
  },
  {
   "cell_type": "code",
   "execution_count": null,
   "metadata": {},
   "outputs": [],
   "source": []
  },
  {
   "cell_type": "markdown",
   "metadata": {},
   "source": [
    "## *Queue* (old)"
   ]
  },
  {
   "cell_type": "markdown",
   "metadata": {},
   "source": [
    "Berbeda dengan *stack*, *queue* menganut paham FIFO (*First In First Out*). Berarti, yang masuk pertama, bakal keluar pertama."
   ]
  },
  {
   "cell_type": "code",
   "execution_count": null,
   "metadata": {},
   "outputs": [],
   "source": [
    "class Queue:\n",
    "    def __init__(self):\n",
    "        self.head = \"None\"\n",
    "        self.size = 0\n",
    "    \n",
    "    def is_empty(self):\n",
    "        return self.size == 0\n",
    "    \n",
    "    def len(self):\n",
    "        return self.size\n",
    "\n",
    "    def ins_end(self, data):\n",
    "        new = Node(data, \"None\")\n",
    "        temp = self.head\n",
    "        while temp.next != \"None\":\n",
    "            temp = temp.next\n",
    "        temp.next = new\n",
    "        self.size += 1\n",
    "    \n",
    "    def del_front(self):\n",
    "        if self.is_empty():\n",
    "            print(\"Queue is already empty\")\n",
    "            return\n",
    "        self.head = self.head.next\n",
    "        self.size -= 1\n",
    "    \n",
    "    def print_all(self):\n",
    "        temp = self.head\n",
    "        while temp != \"None\":\n",
    "            print(temp.data, end = \" -> \")\n",
    "            temp = temp.next"
   ]
  }
 ],
 "metadata": {
  "language_info": {
   "name": "python"
  }
 },
 "nbformat": 4,
 "nbformat_minor": 2
}
