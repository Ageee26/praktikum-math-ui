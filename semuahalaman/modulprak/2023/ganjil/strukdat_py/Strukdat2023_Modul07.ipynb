{
 "cells": [
  {
   "cell_type": "markdown",
   "metadata": {},
   "source": [
    "# Modul 7 Struktur Data: *Queue* dan berbagai implementasinya"
   ]
  },
  {
   "cell_type": "markdown",
   "metadata": {},
   "source": [
    "Kembali ke [Struktur Data (dengan Python)](strukdat2023.qmd)"
   ]
  },
  {
   "cell_type": "markdown",
   "metadata": {},
   "source": [
    "Di praktikum kali ini, kita akan membahas tentang struktur data *queue* serta berbagai \"implementasi\"nya dalam Python (yaitu berbagai cara membuat struktur data *queue* di Python), baik menggunakan *array* maupun *linked list*."
   ]
  },
  {
   "cell_type": "markdown",
   "metadata": {},
   "source": [
    "*Queue* itu sendiri adalah suatu struktur data dengan dua ujung, di mana data bisa dimasukkan dari salah satu ujung tertentu (yang disebut *rear*) dan data bisa dikeluarkan dari ujung yang satunya lagi (yang disebut *front*). *Queue* dikatakan menganut prinsip FIFO (*First In First Out*), karena data yang pertama masuk akan menjadi data yang pertama keluar."
   ]
  },
  {
   "cell_type": "markdown",
   "metadata": {},
   "source": [
    "Kita akan menggunakan *array* dari numpy, sehingga perlu melakukan import:"
   ]
  },
  {
   "cell_type": "code",
   "execution_count": 17,
   "metadata": {},
   "outputs": [],
   "source": [
    "import numpy as np"
   ]
  },
  {
   "cell_type": "markdown",
   "metadata": {},
   "source": [
    "## Implementasi *queue* dengan *array* (non-*circular*)"
   ]
  },
  {
   "cell_type": "code",
   "execution_count": null,
   "metadata": {},
   "outputs": [],
   "source": [
    "class ArrayQueue:\n",
    "    def __init__(self, dtype, array_max):\n",
    "        self.dtype = dtype\n",
    "        self.array_max = array_max\n",
    "        self.array = np.empty(array_max, dtype=dtype)\n",
    "        self.front = -1\n",
    "        self.rear = -1\n",
    "    \n",
    "    def get_size(self):\n",
    "        size = (self.rear - self.front) + 1\n",
    "        return size\n",
    "\n",
    "    def get_capacity_array(self):\n",
    "        return self.array_max\n",
    "\n",
    "    def get_capacity_queue(self):\n",
    "        if self.front == -1:\n",
    "            capacity_queue = self.array_max\n",
    "        else:\n",
    "            capacity_queue = self.array_max - self.front\n",
    "        return capacity_queue\n",
    "    \n",
    "    def is_empty(self):\n",
    "        if self.front == -1:\n",
    "            return True\n",
    "        else:\n",
    "            return False\n",
    "    \n",
    "    def is_full(self):\n",
    "        if self.rear == self.array_max - 1:\n",
    "            return True\n",
    "        else:\n",
    "            return False\n",
    "    \n",
    "    def enqueue(self, newdata):\n",
    "        if self.is_full():\n",
    "            print(\"Error enqueue: queue sudah penuh sebelumnya\")\n",
    "        elif self.front == -1:\n",
    "            self.front += 1\n",
    "            self.rear += 1\n",
    "            self.array[self.rear] = newdata\n",
    "        else:\n",
    "            self.rear += 1\n",
    "            self.array[self.rear] = newdata\n",
    "    \n",
    "    def peek(self):\n",
    "        if self.is_empty():\n",
    "            print(\"Error peek: queue sedang kosong\")\n",
    "        else:\n",
    "            return self.array[self.front]\n",
    "    \n",
    "    def dequeue(self):\n",
    "        if self.is_empty():\n",
    "            print(\"Error dequeue: queue sudah kosong sebelumnya\")\n",
    "            return None\n",
    "        elif (self.get_size() == 1):\n",
    "            # Jika di queue hanya ada satu elemen, dan ingin di-dequeue,\n",
    "            # maka queue akan kosong setelah itu\n",
    "            output = self.array[self.front]\n",
    "            self.front = -1\n",
    "            self.rear = -1\n",
    "            return output\n",
    "        else:\n",
    "            output = self.array[self.front]\n",
    "            self.front += 1\n",
    "            return output\n",
    "    \n",
    "    def print_storage(self):\n",
    "        print(self.array)\n",
    "\n",
    "    def print_queue(self):\n",
    "        print(\"front : \", end=\"\")\n",
    "        if self.is_empty():\n",
    "            print(\"(tidak ada data) : rear\")\n",
    "        else:\n",
    "            for i in range(self.front, self.rear): # i = front, ..., rear-1\n",
    "                print(self.array[i], end=\" | \")\n",
    "            print(self.array[self.rear], end=\"\") # untuk i = rear\n",
    "            print(\" : rear\")"
   ]
  },
  {
   "cell_type": "markdown",
   "metadata": {},
   "source": [
    "## Implementasi *queue* dengan *linked list*"
   ]
  },
  {
   "cell_type": "code",
   "execution_count": 1,
   "metadata": {},
   "outputs": [],
   "source": [
    "class SLNode:\n",
    "    def __init__(self, data, next=None):\n",
    "        self.data = data\n",
    "        self.next = next"
   ]
  },
  {
   "cell_type": "code",
   "execution_count": 2,
   "metadata": {},
   "outputs": [],
   "source": [
    "class SLQueue:\n",
    "    def __init__(self):\n",
    "        # head=front, tail=rear\n",
    "        self.front = None\n",
    "        self.rear = None\n",
    "    \n",
    "    def is_empty(self):\n",
    "        if self.front == None:\n",
    "            return True\n",
    "        else:\n",
    "            return False\n",
    "    \n",
    "    def get_size(self):\n",
    "        size = 0\n",
    "        temp = self.front\n",
    "        while (temp != None):\n",
    "            size += 1\n",
    "            temp = temp.next\n",
    "        return size\n",
    "\n",
    "    # insert di akhir linked list\n",
    "    def enqueue(self, newdata):\n",
    "        newnode = SLNode(newdata)\n",
    "        if self.is_empty():\n",
    "            self.front = newnode\n",
    "            self.rear = newnode\n",
    "        else:\n",
    "            self.rear.next = newnode\n",
    "            self.rear = newnode\n",
    "    \n",
    "    def peek(self):\n",
    "        if self.is_empty():\n",
    "            print(\"Error peek: queue sedang kosong\")\n",
    "            return None\n",
    "        else:\n",
    "            return self.front.data\n",
    "\n",
    "    # hapus di awal linked list\n",
    "    def dequeue(self):\n",
    "        if self.is_empty():\n",
    "            print(\"Error dequeue: queue sudah kosong sebelumnya\")\n",
    "            return None\n",
    "        else:\n",
    "            output = self.front.data\n",
    "            temp = self.front\n",
    "            self.front = self.front.next\n",
    "            del temp\n",
    "            return output\n",
    "    \n",
    "    def print_queue(self):\n",
    "        print(\"front : \", end=\"\")\n",
    "        if self.is_empty():\n",
    "            print(\"(tidak ada data) : rear\")\n",
    "        else:\n",
    "            temp = self.front\n",
    "            while temp != None:\n",
    "                if temp.next != None:\n",
    "                    print(temp.data, end = \" | \")\n",
    "                else:\n",
    "                    print(temp.data, end=\"\")\n",
    "                temp = temp.next\n",
    "            print(\" : rear\")\n",
    "\n",
    "    def print_storage(self):\n",
    "        print(\"front -> \", end=\"\")\n",
    "        if self.is_empty():\n",
    "            print(\"None <- rear\")\n",
    "        else:\n",
    "            temp = self.front\n",
    "            while temp != None:\n",
    "                if temp.next != None:\n",
    "                    print(temp.data, end = \" -> \")\n",
    "                else:\n",
    "                    print(temp.data, end = \" <- \")\n",
    "                temp = temp.next\n",
    "            print(\"rear\")"
   ]
  },
  {
   "cell_type": "code",
   "execution_count": 9,
   "metadata": {},
   "outputs": [
    {
     "name": "stdout",
     "output_type": "stream",
     "text": [
      "front : (tidak ada data) : rear\n",
      "front -> None <- rear\n"
     ]
    }
   ],
   "source": [
    "slqueue = SLQueue()\n",
    "slqueue.print_queue()\n",
    "slqueue.print_storage()"
   ]
  },
  {
   "cell_type": "code",
   "execution_count": 10,
   "metadata": {},
   "outputs": [
    {
     "name": "stdout",
     "output_type": "stream",
     "text": [
      "front : 10 : rear\n",
      "front -> 10 <- rear\n"
     ]
    }
   ],
   "source": [
    "slqueue.enqueue(10)\n",
    "slqueue.print_queue()\n",
    "slqueue.print_storage()"
   ]
  },
  {
   "cell_type": "code",
   "execution_count": 11,
   "metadata": {},
   "outputs": [
    {
     "name": "stdout",
     "output_type": "stream",
     "text": [
      "front : 10 | 98 : rear\n",
      "front -> 10 -> 98 <- rear\n"
     ]
    }
   ],
   "source": [
    "slqueue.enqueue(98)\n",
    "slqueue.print_queue()\n",
    "slqueue.print_storage()"
   ]
  },
  {
   "cell_type": "code",
   "execution_count": 12,
   "metadata": {},
   "outputs": [
    {
     "name": "stdout",
     "output_type": "stream",
     "text": [
      "front : 10 | 98 | -43 : rear\n",
      "front -> 10 -> 98 -> -43 <- rear\n"
     ]
    }
   ],
   "source": [
    "slqueue.enqueue(-43)\n",
    "slqueue.print_queue()\n",
    "slqueue.print_storage()"
   ]
  },
  {
   "cell_type": "code",
   "execution_count": 13,
   "metadata": {},
   "outputs": [
    {
     "name": "stdout",
     "output_type": "stream",
     "text": [
      "10\n"
     ]
    }
   ],
   "source": [
    "print(slqueue.peek())"
   ]
  },
  {
   "cell_type": "code",
   "execution_count": 14,
   "metadata": {},
   "outputs": [
    {
     "name": "stdout",
     "output_type": "stream",
     "text": [
      "front : 10 | 98 | -43 : rear\n",
      "front -> 10 -> 98 -> -43 <- rear\n"
     ]
    }
   ],
   "source": [
    "slqueue.print_queue()\n",
    "slqueue.print_storage()"
   ]
  },
  {
   "cell_type": "code",
   "execution_count": 15,
   "metadata": {},
   "outputs": [
    {
     "name": "stdout",
     "output_type": "stream",
     "text": [
      "10\n"
     ]
    }
   ],
   "source": [
    "print(slqueue.dequeue())"
   ]
  },
  {
   "cell_type": "code",
   "execution_count": 16,
   "metadata": {},
   "outputs": [
    {
     "name": "stdout",
     "output_type": "stream",
     "text": [
      "front : 98 | -43 : rear\n",
      "front -> 98 -> -43 <- rear\n"
     ]
    }
   ],
   "source": [
    "slqueue.print_queue()\n",
    "slqueue.print_storage()"
   ]
  },
  {
   "cell_type": "markdown",
   "metadata": {},
   "source": [
    "## Implementasi *circular queue* dengan *array*"
   ]
  },
  {
   "cell_type": "code",
   "execution_count": null,
   "metadata": {},
   "outputs": [],
   "source": []
  },
  {
   "cell_type": "markdown",
   "metadata": {},
   "source": [
    "## Implementasi *circular queue* dengan *linked list*"
   ]
  },
  {
   "cell_type": "code",
   "execution_count": null,
   "metadata": {},
   "outputs": [],
   "source": []
  },
  {
   "cell_type": "markdown",
   "metadata": {},
   "source": [
    "## Pengayaan: *Deque* atau *double-ended queue* (DEQ)"
   ]
  },
  {
   "cell_type": "code",
   "execution_count": null,
   "metadata": {},
   "outputs": [],
   "source": []
  },
  {
   "cell_type": "markdown",
   "metadata": {},
   "source": [
    "## *Queue* (old)"
   ]
  },
  {
   "cell_type": "markdown",
   "metadata": {},
   "source": [
    "Berbeda dengan *stack*, *queue* menganut paham FIFO (*First In First Out*). Berarti, yang masuk pertama, bakal keluar pertama."
   ]
  },
  {
   "cell_type": "code",
   "execution_count": null,
   "metadata": {},
   "outputs": [],
   "source": [
    "class Queue:\n",
    "    def __init__(self):\n",
    "        self.head = \"None\"\n",
    "        self.size = 0\n",
    "    \n",
    "    def is_empty(self):\n",
    "        return self.size == 0\n",
    "    \n",
    "    def len(self):\n",
    "        return self.size\n",
    "\n",
    "    def ins_end(self, data):\n",
    "        new = Node(data, \"None\")\n",
    "        temp = self.head\n",
    "        while temp.next != \"None\":\n",
    "            temp = temp.next\n",
    "        temp.next = new\n",
    "        self.size += 1\n",
    "    \n",
    "    def del_front(self):\n",
    "        if self.is_empty():\n",
    "            print(\"Queue is already empty\")\n",
    "            return\n",
    "        self.head = self.head.next\n",
    "        self.size -= 1\n",
    "    \n",
    "    def print_all(self):\n",
    "        temp = self.head\n",
    "        while temp != \"None\":\n",
    "            print(temp.data, end = \" -> \")\n",
    "            temp = temp.next"
   ]
  }
 ],
 "metadata": {
  "kernelspec": {
   "display_name": "Python 3",
   "language": "python",
   "name": "python3"
  },
  "language_info": {
   "codemirror_mode": {
    "name": "ipython",
    "version": 3
   },
   "file_extension": ".py",
   "mimetype": "text/x-python",
   "name": "python",
   "nbconvert_exporter": "python",
   "pygments_lexer": "ipython3",
   "version": "3.10.11"
  }
 },
 "nbformat": 4,
 "nbformat_minor": 2
}
