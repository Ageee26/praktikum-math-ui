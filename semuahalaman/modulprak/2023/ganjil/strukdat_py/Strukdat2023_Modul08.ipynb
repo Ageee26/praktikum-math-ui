{
 "cells": [
  {
   "cell_type": "markdown",
   "metadata": {},
   "source": [
    "# Modul 8 Struktur Data: *Binary Tree*, *binary search tree* (BST), dan *$m$-ary tree*,"
   ]
  },
  {
   "cell_type": "markdown",
   "metadata": {},
   "source": [
    "Kembali ke [Struktur Data (dengan Python)](strukdat2023.qmd)"
   ]
  },
  {
   "cell_type": "code",
   "execution_count": 2,
   "metadata": {},
   "outputs": [],
   "source": [
    "import numpy as np\n",
    "import graphviz as gv"
   ]
  },
  {
   "cell_type": "markdown",
   "metadata": {},
   "source": [
    "## *Binary Tree* dengan *array*"
   ]
  },
  {
   "cell_type": "code",
   "execution_count": null,
   "metadata": {},
   "outputs": [],
   "source": [
    "class ArrayBintree:\n",
    "    def __init__(self, dtype, height, emptydata=-9999):\n",
    "        self.dtype = dtype\n",
    "        self.height = height\n",
    "        self.array_size = 2**(height+1) - 1\n",
    "        self.array = np.empty(self.array_size, dtype=dtype)\n",
    "        self.emptydata = emptydata\n",
    "    \n",
    "    def get_root(self):\n",
    "        root_data = self.array[0]\n",
    "        if root_data == self.emptydata:\n",
    "            return None\n",
    "        else:\n",
    "            return root_data\n",
    "    \n",
    "    def set_root(self, newdata):\n",
    "        self.array[0] = newdata\n",
    "    \n",
    "    def get_data(self, node_idx):\n",
    "        if node_idx < self.array_size:\n",
    "            return self.array[node_idx]\n",
    "        else:\n",
    "            print(\"Error get_data: indeks di luar ukuran tree\")\n",
    "    \n",
    "    def set_data(self, node_idx, newdata):\n",
    "        if node_idx < self.array_size:\n",
    "            self.array[node_idx] = newdata\n",
    "        else:\n",
    "            print(\"Error set_data: indeks di luar ukuran tree\")\n",
    "\n",
    "    def get_left_child_idx(self, node_idx):\n",
    "        idx = 2*node_idx + 1\n",
    "        if idx < self.array_size:\n",
    "            return idx\n",
    "        else:\n",
    "            return -1\n",
    "    \n",
    "    def get_left_child(self, node_idx):\n",
    "        return self.array[self.get_left_child_idx(node_idx)]\n",
    "    \n",
    "    def get_right_child_idx(self, node_idx):\n",
    "        idx = 2*node_idx + 2\n",
    "        if idx < self.array_size:\n",
    "            return idx\n",
    "        else:\n",
    "            return -1\n",
    "    \n",
    "    def get_right_child(self, node_idx):\n",
    "        return self.array[self.get_right_child_idx(node_idx)]\n",
    "\n",
    "    def get_parent_idx(self, node_idx):\n",
    "        if node_idx == 0:\n",
    "            return -1\n",
    "        idx = np.floor( (node_idx - 1)/2 )\n",
    "        return idx\n",
    "\n",
    "    def get_preorder(self, current=0, result=None):\n",
    "        if current == 0:\n",
    "            result = np.empty(self.array_size, dtype=self.dtype)\n",
    "        result[current] = self.array[current]\n",
    "        self.get_preorder(\n",
    "            current=self.get_left_child_idx(current),\n",
    "            result=result\n",
    "        )\n",
    "        self.get_preorder(\n",
    "            current=self.get_right_child_idx(current),\n",
    "            result=result\n",
    "        )\n",
    "        if current == 0:\n",
    "            return result\n",
    "\n",
    "    def get_digraph_simple(self):\n",
    "        pass"
   ]
  },
  {
   "cell_type": "markdown",
   "metadata": {},
   "source": [
    "## *Binary Tree* dengan *pointer*"
   ]
  },
  {
   "cell_type": "code",
   "execution_count": 1,
   "metadata": {},
   "outputs": [],
   "source": [
    "class BintreeNode:\n",
    "    def __init__(self, data, left=None, right=None):\n",
    "        self.data = data\n",
    "        self.left = left\n",
    "        self.right = right"
   ]
  },
  {
   "cell_type": "code",
   "execution_count": null,
   "metadata": {},
   "outputs": [],
   "source": []
  }
 ],
 "metadata": {
  "kernelspec": {
   "display_name": "Python 3",
   "language": "python",
   "name": "python3"
  },
  "language_info": {
   "codemirror_mode": {
    "name": "ipython",
    "version": 3
   },
   "file_extension": ".py",
   "mimetype": "text/x-python",
   "name": "python",
   "nbconvert_exporter": "python",
   "pygments_lexer": "ipython3",
   "version": "3.10.11"
  }
 },
 "nbformat": 4,
 "nbformat_minor": 2
}
