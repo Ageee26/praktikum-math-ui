{
 "cells": [
  {
   "cell_type": "markdown",
   "metadata": {},
   "source": [
    "# Modul 8 Struktur Data: *Binary Tree*, *binary search tree* (BST), dan *$m$-ary tree*,"
   ]
  },
  {
   "cell_type": "markdown",
   "metadata": {},
   "source": [
    "Kembali ke [Struktur Data (dengan Python)](strukdat2023.qmd)"
   ]
  },
  {
   "cell_type": "code",
   "execution_count": 1,
   "metadata": {},
   "outputs": [],
   "source": [
    "import numpy as np\n",
    "import graphviz as gv"
   ]
  },
  {
   "cell_type": "markdown",
   "metadata": {},
   "source": [
    "## *Binary Tree* dengan *array*"
   ]
  },
  {
   "cell_type": "code",
   "execution_count": 2,
   "metadata": {},
   "outputs": [],
   "source": [
    "class ArrayBintree:\n",
    "    def __init__(self, dtype, height, emptydata=-9999):\n",
    "        self.dtype = dtype\n",
    "        self.height = height\n",
    "        self.emptydata = emptydata\n",
    "        self.array_size = 2**(height+1) - 1\n",
    "        self.array = np.empty(self.array_size, dtype=dtype)\n",
    "        for i in range(self.array_size):\n",
    "            self.array[i] = emptydata\n",
    "\n",
    "    def get_root(self):\n",
    "        root_data = self.array[0]\n",
    "        if root_data == self.emptydata:\n",
    "            return None\n",
    "        else:\n",
    "            return root_data\n",
    "\n",
    "    def set_root(self, newdata):\n",
    "        self.array[0] = newdata\n",
    "\n",
    "    def get_data(self, node_idx):\n",
    "        if node_idx < self.array_size:\n",
    "            return self.array[node_idx]\n",
    "        else:\n",
    "            print(\"Error get_data: indeks di luar ukuran tree\")\n",
    "            return None\n",
    "\n",
    "    def set_data(self, node_idx, newdata):\n",
    "        if node_idx < self.array_size:\n",
    "            self.array[node_idx] = newdata\n",
    "        else:\n",
    "            print(\"Error set_data: indeks di luar ukuran tree\")\n",
    "\n",
    "    def get_left_child_idx(self, node_idx):\n",
    "        left_idx = 2*node_idx + 1\n",
    "        if left_idx < self.array_size:\n",
    "            return left_idx\n",
    "        else:\n",
    "            return -1\n",
    "\n",
    "    def get_left_child(self, node_idx):\n",
    "        left_idx = self.get_left_child_idx(node_idx)\n",
    "        if left_idx != -1:\n",
    "            data = self.array[left_idx]\n",
    "            if data != self.emptydata:\n",
    "                return data\n",
    "            else:\n",
    "                return None\n",
    "        else:\n",
    "            return None\n",
    "\n",
    "    def get_right_child_idx(self, node_idx):\n",
    "        right_idx = 2*node_idx + 2\n",
    "        if right_idx < self.array_size:\n",
    "            return right_idx\n",
    "        else:\n",
    "            return -1\n",
    "\n",
    "    def get_right_child(self, node_idx):\n",
    "        right_idx = self.get_right_child_idx(node_idx)\n",
    "        if right_idx != -1:\n",
    "            data = self.array[right_idx]\n",
    "            if data != self.emptydata:\n",
    "                return data\n",
    "            else:\n",
    "                return None\n",
    "        else:\n",
    "            return None\n",
    "\n",
    "    def get_parent_idx(self, node_idx):\n",
    "        if node_idx == 0:\n",
    "            return -1\n",
    "        idx = np.floor( (node_idx - 1)/2 )\n",
    "        return idx\n",
    "\n",
    "    def get_preorder(self, current=0, result=None):\n",
    "        is_starting_node = False\n",
    "        if result == None:\n",
    "            is_starting_node = True\n",
    "            result = []\n",
    "\n",
    "        left_idx = self.get_left_child_idx(current)\n",
    "        right_idx = self.get_right_child_idx(current)\n",
    "\n",
    "        current_data = self.array[current]\n",
    "        if current_data != self.emptydata:\n",
    "            result.append(current_data)\n",
    "\n",
    "        if left_idx != -1:\n",
    "            self.get_preorder(current=left_idx, result=result)\n",
    "\n",
    "        if right_idx != -1:\n",
    "            self.get_preorder(current=right_idx, result=result)\n",
    "\n",
    "        if is_starting_node:\n",
    "            return result\n",
    "\n",
    "    def get_inorder(self, current=0, result=None):\n",
    "        is_starting_node = False\n",
    "        if result == None:\n",
    "            is_starting_node = True\n",
    "            result = []\n",
    "\n",
    "        left_idx = self.get_left_child_idx(current)\n",
    "        right_idx = self.get_right_child_idx(current)\n",
    "\n",
    "        if left_idx != -1:\n",
    "            self.get_inorder(current=left_idx, result=result)\n",
    "\n",
    "        current_data = self.array[current]\n",
    "        if current_data != self.emptydata:\n",
    "            result.append(current_data)\n",
    "\n",
    "        if right_idx != -1:\n",
    "            self.get_inorder(current=right_idx, result=result)\n",
    "\n",
    "        if is_starting_node:\n",
    "            return result\n",
    "\n",
    "    def get_postorder(self, current=0, result=None):\n",
    "        is_starting_node = False\n",
    "        if result == None:\n",
    "            is_starting_node = True\n",
    "            result = []\n",
    "\n",
    "        left_idx = self.get_left_child_idx(current)\n",
    "        right_idx = self.get_right_child_idx(current)\n",
    "\n",
    "        if left_idx != -1:\n",
    "            self.get_postorder(current=left_idx, result=result)\n",
    "\n",
    "        if right_idx != -1:\n",
    "            self.get_postorder(current=right_idx, result=result)\n",
    "\n",
    "        current_data = self.array[current]\n",
    "        if current_data != self.emptydata:\n",
    "            result.append(current_data)\n",
    "\n",
    "        if is_starting_node:\n",
    "            return result\n",
    "\n",
    "    def get_digraph_simple(self):\n",
    "        digraph = gv.Digraph()\n",
    "        for idx in range(self.array_size):\n",
    "            data = self.array[idx]\n",
    "            if data != self.emptydata:\n",
    "                digraph.node(\"node\" + str(idx), label=str(data))\n",
    "                left_idx = self.get_left_child_idx(idx)\n",
    "                right_idx = self.get_right_child_idx(idx)\n",
    "                if left_idx != -1:\n",
    "                    digraph.edge(\"node\" + str(idx), \"node\" + str(left_idx))\n",
    "                    if self.array[left_idx] == self.emptydata:\n",
    "                        digraph.node(\"node\" + str(left_idx), label=\"NULL\", shape=\"none\")\n",
    "                if right_idx != -1:\n",
    "                    digraph.edge(\"node\" + str(idx), \"node\" + str(right_idx))\n",
    "                    if self.array[right_idx] == self.emptydata:\n",
    "                        digraph.node(\"node\" + str(right_idx), label=\"NULL\", shape=\"none\")\n",
    "        return digraph"
   ]
  },
  {
   "cell_type": "code",
   "execution_count": 3,
   "metadata": {},
   "outputs": [],
   "source": [
    "arraybintree = ArrayBintree(int, 2)"
   ]
  },
  {
   "cell_type": "code",
   "execution_count": 4,
   "metadata": {},
   "outputs": [
    {
     "name": "stdout",
     "output_type": "stream",
     "text": [
      "[-9999 -9999 -9999 -9999 -9999 -9999 -9999]\n"
     ]
    }
   ],
   "source": [
    "print(arraybintree.array)"
   ]
  },
  {
   "cell_type": "code",
   "execution_count": 5,
   "metadata": {},
   "outputs": [],
   "source": [
    "arraybintree.set_root(10)"
   ]
  },
  {
   "cell_type": "code",
   "execution_count": 6,
   "metadata": {},
   "outputs": [
    {
     "name": "stdout",
     "output_type": "stream",
     "text": [
      "[   10 -9999 -9999 -9999 -9999 -9999 -9999]\n"
     ]
    }
   ],
   "source": [
    "print(arraybintree.array)"
   ]
  },
  {
   "cell_type": "code",
   "execution_count": 7,
   "metadata": {},
   "outputs": [
    {
     "data": {
      "image/svg+xml": [
       "<?xml version=\"1.0\" encoding=\"UTF-8\" standalone=\"no\"?>\n",
       "<!DOCTYPE svg PUBLIC \"-//W3C//DTD SVG 1.1//EN\"\n",
       " \"http://www.w3.org/Graphics/SVG/1.1/DTD/svg11.dtd\">\n",
       "<!-- Generated by graphviz version 8.1.0 (20230707.0739)\n",
       " -->\n",
       "<!-- Pages: 1 -->\n",
       "<svg width=\"134pt\" height=\"116pt\"\n",
       " viewBox=\"0.00 0.00 134.00 116.00\" xmlns=\"http://www.w3.org/2000/svg\" xmlns:xlink=\"http://www.w3.org/1999/xlink\">\n",
       "<g id=\"graph0\" class=\"graph\" transform=\"scale(1 1) rotate(0) translate(4 112)\">\n",
       "<polygon fill=\"white\" stroke=\"none\" points=\"-4,4 -4,-112 130,-112 130,4 -4,4\"/>\n",
       "<!-- node0 -->\n",
       "<g id=\"node1\" class=\"node\">\n",
       "<title>node0</title>\n",
       "<ellipse fill=\"none\" stroke=\"black\" cx=\"63\" cy=\"-90\" rx=\"27\" ry=\"18\"/>\n",
       "<text text-anchor=\"middle\" x=\"63\" y=\"-85.8\" font-family=\"Times,serif\" font-size=\"14.00\">10</text>\n",
       "</g>\n",
       "<!-- node1 -->\n",
       "<g id=\"node2\" class=\"node\">\n",
       "<title>node1</title>\n",
       "<text text-anchor=\"middle\" x=\"27\" y=\"-13.8\" font-family=\"Times,serif\" font-size=\"14.00\">NULL</text>\n",
       "</g>\n",
       "<!-- node0&#45;&gt;node1 -->\n",
       "<g id=\"edge1\" class=\"edge\">\n",
       "<title>node0&#45;&gt;node1</title>\n",
       "<path fill=\"none\" stroke=\"black\" d=\"M54.65,-72.76C50.44,-64.58 45.23,-54.45 40.47,-45.2\"/>\n",
       "<polygon fill=\"black\" stroke=\"black\" points=\"43.24,-43.93 35.55,-36.63 37.02,-47.13 43.24,-43.93\"/>\n",
       "</g>\n",
       "<!-- node2 -->\n",
       "<g id=\"node3\" class=\"node\">\n",
       "<title>node2</title>\n",
       "<text text-anchor=\"middle\" x=\"99\" y=\"-13.8\" font-family=\"Times,serif\" font-size=\"14.00\">NULL</text>\n",
       "</g>\n",
       "<!-- node0&#45;&gt;node2 -->\n",
       "<g id=\"edge2\" class=\"edge\">\n",
       "<title>node0&#45;&gt;node2</title>\n",
       "<path fill=\"none\" stroke=\"black\" d=\"M71.35,-72.76C75.56,-64.58 80.77,-54.45 85.53,-45.2\"/>\n",
       "<polygon fill=\"black\" stroke=\"black\" points=\"88.98,-47.13 90.45,-36.63 82.76,-43.93 88.98,-47.13\"/>\n",
       "</g>\n",
       "</g>\n",
       "</svg>\n"
      ],
      "text/plain": [
       "<graphviz.graphs.Digraph at 0x111ad94b0>"
      ]
     },
     "metadata": {},
     "output_type": "display_data"
    }
   ],
   "source": [
    "display(arraybintree.get_digraph_simple())"
   ]
  },
  {
   "cell_type": "code",
   "execution_count": 8,
   "metadata": {},
   "outputs": [],
   "source": [
    "arraybintree.set_data(\n",
    "    arraybintree.get_left_child_idx(0),\n",
    "    5\n",
    ")"
   ]
  },
  {
   "cell_type": "code",
   "execution_count": 9,
   "metadata": {},
   "outputs": [
    {
     "name": "stdout",
     "output_type": "stream",
     "text": [
      "[   10     5 -9999 -9999 -9999 -9999 -9999]\n"
     ]
    }
   ],
   "source": [
    "print(arraybintree.array)"
   ]
  },
  {
   "cell_type": "code",
   "execution_count": 10,
   "metadata": {},
   "outputs": [
    {
     "data": {
      "image/svg+xml": [
       "<?xml version=\"1.0\" encoding=\"UTF-8\" standalone=\"no\"?>\n",
       "<!DOCTYPE svg PUBLIC \"-//W3C//DTD SVG 1.1//EN\"\n",
       " \"http://www.w3.org/Graphics/SVG/1.1/DTD/svg11.dtd\">\n",
       "<!-- Generated by graphviz version 8.1.0 (20230707.0739)\n",
       " -->\n",
       "<!-- Pages: 1 -->\n",
       "<svg width=\"170pt\" height=\"188pt\"\n",
       " viewBox=\"0.00 0.00 170.00 188.00\" xmlns=\"http://www.w3.org/2000/svg\" xmlns:xlink=\"http://www.w3.org/1999/xlink\">\n",
       "<g id=\"graph0\" class=\"graph\" transform=\"scale(1 1) rotate(0) translate(4 184)\">\n",
       "<polygon fill=\"white\" stroke=\"none\" points=\"-4,4 -4,-184 166,-184 166,4 -4,4\"/>\n",
       "<!-- node0 -->\n",
       "<g id=\"node1\" class=\"node\">\n",
       "<title>node0</title>\n",
       "<ellipse fill=\"none\" stroke=\"black\" cx=\"99\" cy=\"-162\" rx=\"27\" ry=\"18\"/>\n",
       "<text text-anchor=\"middle\" x=\"99\" y=\"-157.8\" font-family=\"Times,serif\" font-size=\"14.00\">10</text>\n",
       "</g>\n",
       "<!-- node1 -->\n",
       "<g id=\"node2\" class=\"node\">\n",
       "<title>node1</title>\n",
       "<ellipse fill=\"none\" stroke=\"black\" cx=\"63\" cy=\"-90\" rx=\"27\" ry=\"18\"/>\n",
       "<text text-anchor=\"middle\" x=\"63\" y=\"-85.8\" font-family=\"Times,serif\" font-size=\"14.00\">5</text>\n",
       "</g>\n",
       "<!-- node0&#45;&gt;node1 -->\n",
       "<g id=\"edge1\" class=\"edge\">\n",
       "<title>node0&#45;&gt;node1</title>\n",
       "<path fill=\"none\" stroke=\"black\" d=\"M90.65,-144.76C86.38,-136.46 81.08,-126.15 76.27,-116.79\"/>\n",
       "<polygon fill=\"black\" stroke=\"black\" points=\"78.99,-115.44 71.3,-108.15 72.77,-118.64 78.99,-115.44\"/>\n",
       "</g>\n",
       "<!-- node2 -->\n",
       "<g id=\"node3\" class=\"node\">\n",
       "<title>node2</title>\n",
       "<text text-anchor=\"middle\" x=\"135\" y=\"-85.8\" font-family=\"Times,serif\" font-size=\"14.00\">NULL</text>\n",
       "</g>\n",
       "<!-- node0&#45;&gt;node2 -->\n",
       "<g id=\"edge2\" class=\"edge\">\n",
       "<title>node0&#45;&gt;node2</title>\n",
       "<path fill=\"none\" stroke=\"black\" d=\"M107.35,-144.76C111.56,-136.58 116.77,-126.45 121.53,-117.2\"/>\n",
       "<polygon fill=\"black\" stroke=\"black\" points=\"124.98,-119.13 126.45,-108.63 118.76,-115.93 124.98,-119.13\"/>\n",
       "</g>\n",
       "<!-- node3 -->\n",
       "<g id=\"node4\" class=\"node\">\n",
       "<title>node3</title>\n",
       "<text text-anchor=\"middle\" x=\"27\" y=\"-13.8\" font-family=\"Times,serif\" font-size=\"14.00\">NULL</text>\n",
       "</g>\n",
       "<!-- node1&#45;&gt;node3 -->\n",
       "<g id=\"edge3\" class=\"edge\">\n",
       "<title>node1&#45;&gt;node3</title>\n",
       "<path fill=\"none\" stroke=\"black\" d=\"M54.65,-72.76C50.44,-64.58 45.23,-54.45 40.47,-45.2\"/>\n",
       "<polygon fill=\"black\" stroke=\"black\" points=\"43.24,-43.93 35.55,-36.63 37.02,-47.13 43.24,-43.93\"/>\n",
       "</g>\n",
       "<!-- node4 -->\n",
       "<g id=\"node5\" class=\"node\">\n",
       "<title>node4</title>\n",
       "<text text-anchor=\"middle\" x=\"99\" y=\"-13.8\" font-family=\"Times,serif\" font-size=\"14.00\">NULL</text>\n",
       "</g>\n",
       "<!-- node1&#45;&gt;node4 -->\n",
       "<g id=\"edge4\" class=\"edge\">\n",
       "<title>node1&#45;&gt;node4</title>\n",
       "<path fill=\"none\" stroke=\"black\" d=\"M71.35,-72.76C75.56,-64.58 80.77,-54.45 85.53,-45.2\"/>\n",
       "<polygon fill=\"black\" stroke=\"black\" points=\"88.98,-47.13 90.45,-36.63 82.76,-43.93 88.98,-47.13\"/>\n",
       "</g>\n",
       "</g>\n",
       "</svg>\n"
      ],
      "text/plain": [
       "<graphviz.graphs.Digraph at 0x111ad9c00>"
      ]
     },
     "metadata": {},
     "output_type": "display_data"
    }
   ],
   "source": [
    "display(arraybintree.get_digraph_simple())"
   ]
  },
  {
   "cell_type": "code",
   "execution_count": 11,
   "metadata": {},
   "outputs": [],
   "source": [
    "arraybintree.set_data(\n",
    "    arraybintree.get_right_child_idx(0),\n",
    "    19\n",
    ")"
   ]
  },
  {
   "cell_type": "code",
   "execution_count": 12,
   "metadata": {},
   "outputs": [
    {
     "name": "stdout",
     "output_type": "stream",
     "text": [
      "[   10     5    19 -9999 -9999 -9999 -9999]\n"
     ]
    }
   ],
   "source": [
    "print(arraybintree.array)"
   ]
  },
  {
   "cell_type": "code",
   "execution_count": 13,
   "metadata": {},
   "outputs": [
    {
     "data": {
      "image/svg+xml": [
       "<?xml version=\"1.0\" encoding=\"UTF-8\" standalone=\"no\"?>\n",
       "<!DOCTYPE svg PUBLIC \"-//W3C//DTD SVG 1.1//EN\"\n",
       " \"http://www.w3.org/Graphics/SVG/1.1/DTD/svg11.dtd\">\n",
       "<!-- Generated by graphviz version 8.1.0 (20230707.0739)\n",
       " -->\n",
       "<!-- Pages: 1 -->\n",
       "<svg width=\"278pt\" height=\"188pt\"\n",
       " viewBox=\"0.00 0.00 278.00 188.00\" xmlns=\"http://www.w3.org/2000/svg\" xmlns:xlink=\"http://www.w3.org/1999/xlink\">\n",
       "<g id=\"graph0\" class=\"graph\" transform=\"scale(1 1) rotate(0) translate(4 184)\">\n",
       "<polygon fill=\"white\" stroke=\"none\" points=\"-4,4 -4,-184 274,-184 274,4 -4,4\"/>\n",
       "<!-- node0 -->\n",
       "<g id=\"node1\" class=\"node\">\n",
       "<title>node0</title>\n",
       "<ellipse fill=\"none\" stroke=\"black\" cx=\"135\" cy=\"-162\" rx=\"27\" ry=\"18\"/>\n",
       "<text text-anchor=\"middle\" x=\"135\" y=\"-157.8\" font-family=\"Times,serif\" font-size=\"14.00\">10</text>\n",
       "</g>\n",
       "<!-- node1 -->\n",
       "<g id=\"node2\" class=\"node\">\n",
       "<title>node1</title>\n",
       "<ellipse fill=\"none\" stroke=\"black\" cx=\"99\" cy=\"-90\" rx=\"27\" ry=\"18\"/>\n",
       "<text text-anchor=\"middle\" x=\"99\" y=\"-85.8\" font-family=\"Times,serif\" font-size=\"14.00\">5</text>\n",
       "</g>\n",
       "<!-- node0&#45;&gt;node1 -->\n",
       "<g id=\"edge1\" class=\"edge\">\n",
       "<title>node0&#45;&gt;node1</title>\n",
       "<path fill=\"none\" stroke=\"black\" d=\"M126.65,-144.76C122.38,-136.46 117.08,-126.15 112.27,-116.79\"/>\n",
       "<polygon fill=\"black\" stroke=\"black\" points=\"114.99,-115.44 107.3,-108.15 108.77,-118.64 114.99,-115.44\"/>\n",
       "</g>\n",
       "<!-- node2 -->\n",
       "<g id=\"node3\" class=\"node\">\n",
       "<title>node2</title>\n",
       "<ellipse fill=\"none\" stroke=\"black\" cx=\"171\" cy=\"-90\" rx=\"27\" ry=\"18\"/>\n",
       "<text text-anchor=\"middle\" x=\"171\" y=\"-85.8\" font-family=\"Times,serif\" font-size=\"14.00\">19</text>\n",
       "</g>\n",
       "<!-- node0&#45;&gt;node2 -->\n",
       "<g id=\"edge2\" class=\"edge\">\n",
       "<title>node0&#45;&gt;node2</title>\n",
       "<path fill=\"none\" stroke=\"black\" d=\"M143.35,-144.76C147.62,-136.46 152.92,-126.15 157.73,-116.79\"/>\n",
       "<polygon fill=\"black\" stroke=\"black\" points=\"161.23,-118.64 162.7,-108.15 155.01,-115.44 161.23,-118.64\"/>\n",
       "</g>\n",
       "<!-- node3 -->\n",
       "<g id=\"node4\" class=\"node\">\n",
       "<title>node3</title>\n",
       "<text text-anchor=\"middle\" x=\"27\" y=\"-13.8\" font-family=\"Times,serif\" font-size=\"14.00\">NULL</text>\n",
       "</g>\n",
       "<!-- node1&#45;&gt;node3 -->\n",
       "<g id=\"edge3\" class=\"edge\">\n",
       "<title>node1&#45;&gt;node3</title>\n",
       "<path fill=\"none\" stroke=\"black\" d=\"M84.08,-74.5C74.89,-65.56 62.87,-53.87 52.23,-43.53\"/>\n",
       "<polygon fill=\"black\" stroke=\"black\" points=\"55.04,-41.41 45.43,-36.95 50.17,-46.43 55.04,-41.41\"/>\n",
       "</g>\n",
       "<!-- node4 -->\n",
       "<g id=\"node5\" class=\"node\">\n",
       "<title>node4</title>\n",
       "<text text-anchor=\"middle\" x=\"99\" y=\"-13.8\" font-family=\"Times,serif\" font-size=\"14.00\">NULL</text>\n",
       "</g>\n",
       "<!-- node1&#45;&gt;node4 -->\n",
       "<g id=\"edge4\" class=\"edge\">\n",
       "<title>node1&#45;&gt;node4</title>\n",
       "<path fill=\"none\" stroke=\"black\" d=\"M99,-71.7C99,-64.13 99,-55.06 99,-46.59\"/>\n",
       "<polygon fill=\"black\" stroke=\"black\" points=\"102.5,-46.62 99,-36.62 95.5,-46.62 102.5,-46.62\"/>\n",
       "</g>\n",
       "<!-- node5 -->\n",
       "<g id=\"node6\" class=\"node\">\n",
       "<title>node5</title>\n",
       "<text text-anchor=\"middle\" x=\"171\" y=\"-13.8\" font-family=\"Times,serif\" font-size=\"14.00\">NULL</text>\n",
       "</g>\n",
       "<!-- node2&#45;&gt;node5 -->\n",
       "<g id=\"edge5\" class=\"edge\">\n",
       "<title>node2&#45;&gt;node5</title>\n",
       "<path fill=\"none\" stroke=\"black\" d=\"M171,-71.7C171,-64.13 171,-55.06 171,-46.59\"/>\n",
       "<polygon fill=\"black\" stroke=\"black\" points=\"174.5,-46.62 171,-36.62 167.5,-46.62 174.5,-46.62\"/>\n",
       "</g>\n",
       "<!-- node6 -->\n",
       "<g id=\"node7\" class=\"node\">\n",
       "<title>node6</title>\n",
       "<text text-anchor=\"middle\" x=\"243\" y=\"-13.8\" font-family=\"Times,serif\" font-size=\"14.00\">NULL</text>\n",
       "</g>\n",
       "<!-- node2&#45;&gt;node6 -->\n",
       "<g id=\"edge6\" class=\"edge\">\n",
       "<title>node2&#45;&gt;node6</title>\n",
       "<path fill=\"none\" stroke=\"black\" d=\"M185.92,-74.5C195.11,-65.56 207.13,-53.87 217.77,-43.53\"/>\n",
       "<polygon fill=\"black\" stroke=\"black\" points=\"219.83,-46.43 224.57,-36.95 214.96,-41.41 219.83,-46.43\"/>\n",
       "</g>\n",
       "</g>\n",
       "</svg>\n"
      ],
      "text/plain": [
       "<graphviz.graphs.Digraph at 0x111ad9450>"
      ]
     },
     "metadata": {},
     "output_type": "display_data"
    }
   ],
   "source": [
    "display(arraybintree.get_digraph_simple())"
   ]
  },
  {
   "cell_type": "code",
   "execution_count": 14,
   "metadata": {},
   "outputs": [],
   "source": [
    "arraybintree.set_data(\n",
    "    arraybintree.get_right_child_idx(arraybintree.get_left_child_idx(0)),\n",
    "    37\n",
    ")"
   ]
  },
  {
   "cell_type": "code",
   "execution_count": 15,
   "metadata": {},
   "outputs": [
    {
     "name": "stdout",
     "output_type": "stream",
     "text": [
      "[   10     5    19 -9999    37 -9999 -9999]\n"
     ]
    }
   ],
   "source": [
    "print(arraybintree.array)"
   ]
  },
  {
   "cell_type": "code",
   "execution_count": 16,
   "metadata": {},
   "outputs": [
    {
     "data": {
      "image/svg+xml": [
       "<?xml version=\"1.0\" encoding=\"UTF-8\" standalone=\"no\"?>\n",
       "<!DOCTYPE svg PUBLIC \"-//W3C//DTD SVG 1.1//EN\"\n",
       " \"http://www.w3.org/Graphics/SVG/1.1/DTD/svg11.dtd\">\n",
       "<!-- Generated by graphviz version 8.1.0 (20230707.0739)\n",
       " -->\n",
       "<!-- Pages: 1 -->\n",
       "<svg width=\"278pt\" height=\"188pt\"\n",
       " viewBox=\"0.00 0.00 278.00 188.00\" xmlns=\"http://www.w3.org/2000/svg\" xmlns:xlink=\"http://www.w3.org/1999/xlink\">\n",
       "<g id=\"graph0\" class=\"graph\" transform=\"scale(1 1) rotate(0) translate(4 184)\">\n",
       "<polygon fill=\"white\" stroke=\"none\" points=\"-4,4 -4,-184 274,-184 274,4 -4,4\"/>\n",
       "<!-- node0 -->\n",
       "<g id=\"node1\" class=\"node\">\n",
       "<title>node0</title>\n",
       "<ellipse fill=\"none\" stroke=\"black\" cx=\"135\" cy=\"-162\" rx=\"27\" ry=\"18\"/>\n",
       "<text text-anchor=\"middle\" x=\"135\" y=\"-157.8\" font-family=\"Times,serif\" font-size=\"14.00\">10</text>\n",
       "</g>\n",
       "<!-- node1 -->\n",
       "<g id=\"node2\" class=\"node\">\n",
       "<title>node1</title>\n",
       "<ellipse fill=\"none\" stroke=\"black\" cx=\"99\" cy=\"-90\" rx=\"27\" ry=\"18\"/>\n",
       "<text text-anchor=\"middle\" x=\"99\" y=\"-85.8\" font-family=\"Times,serif\" font-size=\"14.00\">5</text>\n",
       "</g>\n",
       "<!-- node0&#45;&gt;node1 -->\n",
       "<g id=\"edge1\" class=\"edge\">\n",
       "<title>node0&#45;&gt;node1</title>\n",
       "<path fill=\"none\" stroke=\"black\" d=\"M126.65,-144.76C122.38,-136.46 117.08,-126.15 112.27,-116.79\"/>\n",
       "<polygon fill=\"black\" stroke=\"black\" points=\"114.99,-115.44 107.3,-108.15 108.77,-118.64 114.99,-115.44\"/>\n",
       "</g>\n",
       "<!-- node2 -->\n",
       "<g id=\"node3\" class=\"node\">\n",
       "<title>node2</title>\n",
       "<ellipse fill=\"none\" stroke=\"black\" cx=\"171\" cy=\"-90\" rx=\"27\" ry=\"18\"/>\n",
       "<text text-anchor=\"middle\" x=\"171\" y=\"-85.8\" font-family=\"Times,serif\" font-size=\"14.00\">19</text>\n",
       "</g>\n",
       "<!-- node0&#45;&gt;node2 -->\n",
       "<g id=\"edge2\" class=\"edge\">\n",
       "<title>node0&#45;&gt;node2</title>\n",
       "<path fill=\"none\" stroke=\"black\" d=\"M143.35,-144.76C147.62,-136.46 152.92,-126.15 157.73,-116.79\"/>\n",
       "<polygon fill=\"black\" stroke=\"black\" points=\"161.23,-118.64 162.7,-108.15 155.01,-115.44 161.23,-118.64\"/>\n",
       "</g>\n",
       "<!-- node3 -->\n",
       "<g id=\"node4\" class=\"node\">\n",
       "<title>node3</title>\n",
       "<text text-anchor=\"middle\" x=\"27\" y=\"-13.8\" font-family=\"Times,serif\" font-size=\"14.00\">NULL</text>\n",
       "</g>\n",
       "<!-- node1&#45;&gt;node3 -->\n",
       "<g id=\"edge3\" class=\"edge\">\n",
       "<title>node1&#45;&gt;node3</title>\n",
       "<path fill=\"none\" stroke=\"black\" d=\"M84.08,-74.5C74.89,-65.56 62.87,-53.87 52.23,-43.53\"/>\n",
       "<polygon fill=\"black\" stroke=\"black\" points=\"55.04,-41.41 45.43,-36.95 50.17,-46.43 55.04,-41.41\"/>\n",
       "</g>\n",
       "<!-- node4 -->\n",
       "<g id=\"node5\" class=\"node\">\n",
       "<title>node4</title>\n",
       "<ellipse fill=\"none\" stroke=\"black\" cx=\"99\" cy=\"-18\" rx=\"27\" ry=\"18\"/>\n",
       "<text text-anchor=\"middle\" x=\"99\" y=\"-13.8\" font-family=\"Times,serif\" font-size=\"14.00\">37</text>\n",
       "</g>\n",
       "<!-- node1&#45;&gt;node4 -->\n",
       "<g id=\"edge4\" class=\"edge\">\n",
       "<title>node1&#45;&gt;node4</title>\n",
       "<path fill=\"none\" stroke=\"black\" d=\"M99,-71.7C99,-64.24 99,-55.32 99,-46.97\"/>\n",
       "<polygon fill=\"black\" stroke=\"black\" points=\"102.5,-47.1 99,-37.1 95.5,-47.1 102.5,-47.1\"/>\n",
       "</g>\n",
       "<!-- node5 -->\n",
       "<g id=\"node6\" class=\"node\">\n",
       "<title>node5</title>\n",
       "<text text-anchor=\"middle\" x=\"171\" y=\"-13.8\" font-family=\"Times,serif\" font-size=\"14.00\">NULL</text>\n",
       "</g>\n",
       "<!-- node2&#45;&gt;node5 -->\n",
       "<g id=\"edge5\" class=\"edge\">\n",
       "<title>node2&#45;&gt;node5</title>\n",
       "<path fill=\"none\" stroke=\"black\" d=\"M171,-71.7C171,-64.13 171,-55.06 171,-46.59\"/>\n",
       "<polygon fill=\"black\" stroke=\"black\" points=\"174.5,-46.62 171,-36.62 167.5,-46.62 174.5,-46.62\"/>\n",
       "</g>\n",
       "<!-- node6 -->\n",
       "<g id=\"node7\" class=\"node\">\n",
       "<title>node6</title>\n",
       "<text text-anchor=\"middle\" x=\"243\" y=\"-13.8\" font-family=\"Times,serif\" font-size=\"14.00\">NULL</text>\n",
       "</g>\n",
       "<!-- node2&#45;&gt;node6 -->\n",
       "<g id=\"edge6\" class=\"edge\">\n",
       "<title>node2&#45;&gt;node6</title>\n",
       "<path fill=\"none\" stroke=\"black\" d=\"M185.92,-74.5C195.11,-65.56 207.13,-53.87 217.77,-43.53\"/>\n",
       "<polygon fill=\"black\" stroke=\"black\" points=\"219.83,-46.43 224.57,-36.95 214.96,-41.41 219.83,-46.43\"/>\n",
       "</g>\n",
       "</g>\n",
       "</svg>\n"
      ],
      "text/plain": [
       "<graphviz.graphs.Digraph at 0x111ad9870>"
      ]
     },
     "metadata": {},
     "output_type": "display_data"
    }
   ],
   "source": [
    "display(arraybintree.get_digraph_simple())"
   ]
  },
  {
   "cell_type": "code",
   "execution_count": 17,
   "metadata": {},
   "outputs": [
    {
     "data": {
      "text/plain": [
       "37"
      ]
     },
     "execution_count": 17,
     "metadata": {},
     "output_type": "execute_result"
    }
   ],
   "source": [
    "arraybintree.get_data(\n",
    "    arraybintree.get_right_child_idx(arraybintree.get_left_child_idx(0))\n",
    ")"
   ]
  },
  {
   "cell_type": "code",
   "execution_count": 18,
   "metadata": {},
   "outputs": [],
   "source": [
    "arraybintree.array[5] = 98\n",
    "arraybintree.array[6] = 62"
   ]
  },
  {
   "cell_type": "code",
   "execution_count": 19,
   "metadata": {},
   "outputs": [
    {
     "name": "stdout",
     "output_type": "stream",
     "text": [
      "[   10     5    19 -9999    37    98    62]\n"
     ]
    }
   ],
   "source": [
    "print(arraybintree.array)"
   ]
  },
  {
   "cell_type": "code",
   "execution_count": 20,
   "metadata": {},
   "outputs": [
    {
     "data": {
      "image/svg+xml": [
       "<?xml version=\"1.0\" encoding=\"UTF-8\" standalone=\"no\"?>\n",
       "<!DOCTYPE svg PUBLIC \"-//W3C//DTD SVG 1.1//EN\"\n",
       " \"http://www.w3.org/Graphics/SVG/1.1/DTD/svg11.dtd\">\n",
       "<!-- Generated by graphviz version 8.1.0 (20230707.0739)\n",
       " -->\n",
       "<!-- Pages: 1 -->\n",
       "<svg width=\"278pt\" height=\"188pt\"\n",
       " viewBox=\"0.00 0.00 278.00 188.00\" xmlns=\"http://www.w3.org/2000/svg\" xmlns:xlink=\"http://www.w3.org/1999/xlink\">\n",
       "<g id=\"graph0\" class=\"graph\" transform=\"scale(1 1) rotate(0) translate(4 184)\">\n",
       "<polygon fill=\"white\" stroke=\"none\" points=\"-4,4 -4,-184 274,-184 274,4 -4,4\"/>\n",
       "<!-- node0 -->\n",
       "<g id=\"node1\" class=\"node\">\n",
       "<title>node0</title>\n",
       "<ellipse fill=\"none\" stroke=\"black\" cx=\"135\" cy=\"-162\" rx=\"27\" ry=\"18\"/>\n",
       "<text text-anchor=\"middle\" x=\"135\" y=\"-157.8\" font-family=\"Times,serif\" font-size=\"14.00\">10</text>\n",
       "</g>\n",
       "<!-- node1 -->\n",
       "<g id=\"node2\" class=\"node\">\n",
       "<title>node1</title>\n",
       "<ellipse fill=\"none\" stroke=\"black\" cx=\"99\" cy=\"-90\" rx=\"27\" ry=\"18\"/>\n",
       "<text text-anchor=\"middle\" x=\"99\" y=\"-85.8\" font-family=\"Times,serif\" font-size=\"14.00\">5</text>\n",
       "</g>\n",
       "<!-- node0&#45;&gt;node1 -->\n",
       "<g id=\"edge1\" class=\"edge\">\n",
       "<title>node0&#45;&gt;node1</title>\n",
       "<path fill=\"none\" stroke=\"black\" d=\"M126.65,-144.76C122.38,-136.46 117.08,-126.15 112.27,-116.79\"/>\n",
       "<polygon fill=\"black\" stroke=\"black\" points=\"114.99,-115.44 107.3,-108.15 108.77,-118.64 114.99,-115.44\"/>\n",
       "</g>\n",
       "<!-- node2 -->\n",
       "<g id=\"node3\" class=\"node\">\n",
       "<title>node2</title>\n",
       "<ellipse fill=\"none\" stroke=\"black\" cx=\"171\" cy=\"-90\" rx=\"27\" ry=\"18\"/>\n",
       "<text text-anchor=\"middle\" x=\"171\" y=\"-85.8\" font-family=\"Times,serif\" font-size=\"14.00\">19</text>\n",
       "</g>\n",
       "<!-- node0&#45;&gt;node2 -->\n",
       "<g id=\"edge2\" class=\"edge\">\n",
       "<title>node0&#45;&gt;node2</title>\n",
       "<path fill=\"none\" stroke=\"black\" d=\"M143.35,-144.76C147.62,-136.46 152.92,-126.15 157.73,-116.79\"/>\n",
       "<polygon fill=\"black\" stroke=\"black\" points=\"161.23,-118.64 162.7,-108.15 155.01,-115.44 161.23,-118.64\"/>\n",
       "</g>\n",
       "<!-- node3 -->\n",
       "<g id=\"node4\" class=\"node\">\n",
       "<title>node3</title>\n",
       "<text text-anchor=\"middle\" x=\"27\" y=\"-13.8\" font-family=\"Times,serif\" font-size=\"14.00\">NULL</text>\n",
       "</g>\n",
       "<!-- node1&#45;&gt;node3 -->\n",
       "<g id=\"edge3\" class=\"edge\">\n",
       "<title>node1&#45;&gt;node3</title>\n",
       "<path fill=\"none\" stroke=\"black\" d=\"M84.08,-74.5C74.89,-65.56 62.87,-53.87 52.23,-43.53\"/>\n",
       "<polygon fill=\"black\" stroke=\"black\" points=\"55.04,-41.41 45.43,-36.95 50.17,-46.43 55.04,-41.41\"/>\n",
       "</g>\n",
       "<!-- node4 -->\n",
       "<g id=\"node5\" class=\"node\">\n",
       "<title>node4</title>\n",
       "<ellipse fill=\"none\" stroke=\"black\" cx=\"99\" cy=\"-18\" rx=\"27\" ry=\"18\"/>\n",
       "<text text-anchor=\"middle\" x=\"99\" y=\"-13.8\" font-family=\"Times,serif\" font-size=\"14.00\">37</text>\n",
       "</g>\n",
       "<!-- node1&#45;&gt;node4 -->\n",
       "<g id=\"edge4\" class=\"edge\">\n",
       "<title>node1&#45;&gt;node4</title>\n",
       "<path fill=\"none\" stroke=\"black\" d=\"M99,-71.7C99,-64.24 99,-55.32 99,-46.97\"/>\n",
       "<polygon fill=\"black\" stroke=\"black\" points=\"102.5,-47.1 99,-37.1 95.5,-47.1 102.5,-47.1\"/>\n",
       "</g>\n",
       "<!-- node5 -->\n",
       "<g id=\"node6\" class=\"node\">\n",
       "<title>node5</title>\n",
       "<ellipse fill=\"none\" stroke=\"black\" cx=\"171\" cy=\"-18\" rx=\"27\" ry=\"18\"/>\n",
       "<text text-anchor=\"middle\" x=\"171\" y=\"-13.8\" font-family=\"Times,serif\" font-size=\"14.00\">98</text>\n",
       "</g>\n",
       "<!-- node2&#45;&gt;node5 -->\n",
       "<g id=\"edge5\" class=\"edge\">\n",
       "<title>node2&#45;&gt;node5</title>\n",
       "<path fill=\"none\" stroke=\"black\" d=\"M171,-71.7C171,-64.24 171,-55.32 171,-46.97\"/>\n",
       "<polygon fill=\"black\" stroke=\"black\" points=\"174.5,-47.1 171,-37.1 167.5,-47.1 174.5,-47.1\"/>\n",
       "</g>\n",
       "<!-- node6 -->\n",
       "<g id=\"node7\" class=\"node\">\n",
       "<title>node6</title>\n",
       "<ellipse fill=\"none\" stroke=\"black\" cx=\"243\" cy=\"-18\" rx=\"27\" ry=\"18\"/>\n",
       "<text text-anchor=\"middle\" x=\"243\" y=\"-13.8\" font-family=\"Times,serif\" font-size=\"14.00\">62</text>\n",
       "</g>\n",
       "<!-- node2&#45;&gt;node6 -->\n",
       "<g id=\"edge6\" class=\"edge\">\n",
       "<title>node2&#45;&gt;node6</title>\n",
       "<path fill=\"none\" stroke=\"black\" d=\"M185.92,-74.5C195.86,-64.83 209.12,-51.94 220.35,-41.02\"/>\n",
       "<polygon fill=\"black\" stroke=\"black\" points=\"222.37,-43.97 227.1,-34.49 217.49,-38.95 222.37,-43.97\"/>\n",
       "</g>\n",
       "</g>\n",
       "</svg>\n"
      ],
      "text/plain": [
       "<graphviz.graphs.Digraph at 0x111ad9270>"
      ]
     },
     "metadata": {},
     "output_type": "display_data"
    }
   ],
   "source": [
    "display(arraybintree.get_digraph_simple())"
   ]
  },
  {
   "cell_type": "code",
   "execution_count": 21,
   "metadata": {},
   "outputs": [],
   "source": [
    "arraybintree.array[3] = 25"
   ]
  },
  {
   "cell_type": "code",
   "execution_count": 22,
   "metadata": {},
   "outputs": [
    {
     "name": "stdout",
     "output_type": "stream",
     "text": [
      "[10  5 19 25 37 98 62]\n"
     ]
    }
   ],
   "source": [
    "print(arraybintree.array)"
   ]
  },
  {
   "cell_type": "code",
   "execution_count": 23,
   "metadata": {},
   "outputs": [
    {
     "data": {
      "image/svg+xml": [
       "<?xml version=\"1.0\" encoding=\"UTF-8\" standalone=\"no\"?>\n",
       "<!DOCTYPE svg PUBLIC \"-//W3C//DTD SVG 1.1//EN\"\n",
       " \"http://www.w3.org/Graphics/SVG/1.1/DTD/svg11.dtd\">\n",
       "<!-- Generated by graphviz version 8.1.0 (20230707.0739)\n",
       " -->\n",
       "<!-- Pages: 1 -->\n",
       "<svg width=\"278pt\" height=\"188pt\"\n",
       " viewBox=\"0.00 0.00 278.00 188.00\" xmlns=\"http://www.w3.org/2000/svg\" xmlns:xlink=\"http://www.w3.org/1999/xlink\">\n",
       "<g id=\"graph0\" class=\"graph\" transform=\"scale(1 1) rotate(0) translate(4 184)\">\n",
       "<polygon fill=\"white\" stroke=\"none\" points=\"-4,4 -4,-184 274,-184 274,4 -4,4\"/>\n",
       "<!-- node0 -->\n",
       "<g id=\"node1\" class=\"node\">\n",
       "<title>node0</title>\n",
       "<ellipse fill=\"none\" stroke=\"black\" cx=\"135\" cy=\"-162\" rx=\"27\" ry=\"18\"/>\n",
       "<text text-anchor=\"middle\" x=\"135\" y=\"-157.8\" font-family=\"Times,serif\" font-size=\"14.00\">10</text>\n",
       "</g>\n",
       "<!-- node1 -->\n",
       "<g id=\"node2\" class=\"node\">\n",
       "<title>node1</title>\n",
       "<ellipse fill=\"none\" stroke=\"black\" cx=\"99\" cy=\"-90\" rx=\"27\" ry=\"18\"/>\n",
       "<text text-anchor=\"middle\" x=\"99\" y=\"-85.8\" font-family=\"Times,serif\" font-size=\"14.00\">5</text>\n",
       "</g>\n",
       "<!-- node0&#45;&gt;node1 -->\n",
       "<g id=\"edge1\" class=\"edge\">\n",
       "<title>node0&#45;&gt;node1</title>\n",
       "<path fill=\"none\" stroke=\"black\" d=\"M126.65,-144.76C122.38,-136.46 117.08,-126.15 112.27,-116.79\"/>\n",
       "<polygon fill=\"black\" stroke=\"black\" points=\"114.99,-115.44 107.3,-108.15 108.77,-118.64 114.99,-115.44\"/>\n",
       "</g>\n",
       "<!-- node2 -->\n",
       "<g id=\"node3\" class=\"node\">\n",
       "<title>node2</title>\n",
       "<ellipse fill=\"none\" stroke=\"black\" cx=\"171\" cy=\"-90\" rx=\"27\" ry=\"18\"/>\n",
       "<text text-anchor=\"middle\" x=\"171\" y=\"-85.8\" font-family=\"Times,serif\" font-size=\"14.00\">19</text>\n",
       "</g>\n",
       "<!-- node0&#45;&gt;node2 -->\n",
       "<g id=\"edge2\" class=\"edge\">\n",
       "<title>node0&#45;&gt;node2</title>\n",
       "<path fill=\"none\" stroke=\"black\" d=\"M143.35,-144.76C147.62,-136.46 152.92,-126.15 157.73,-116.79\"/>\n",
       "<polygon fill=\"black\" stroke=\"black\" points=\"161.23,-118.64 162.7,-108.15 155.01,-115.44 161.23,-118.64\"/>\n",
       "</g>\n",
       "<!-- node3 -->\n",
       "<g id=\"node4\" class=\"node\">\n",
       "<title>node3</title>\n",
       "<ellipse fill=\"none\" stroke=\"black\" cx=\"27\" cy=\"-18\" rx=\"27\" ry=\"18\"/>\n",
       "<text text-anchor=\"middle\" x=\"27\" y=\"-13.8\" font-family=\"Times,serif\" font-size=\"14.00\">25</text>\n",
       "</g>\n",
       "<!-- node1&#45;&gt;node3 -->\n",
       "<g id=\"edge3\" class=\"edge\">\n",
       "<title>node1&#45;&gt;node3</title>\n",
       "<path fill=\"none\" stroke=\"black\" d=\"M84.08,-74.5C74.14,-64.83 60.88,-51.94 49.65,-41.02\"/>\n",
       "<polygon fill=\"black\" stroke=\"black\" points=\"52.51,-38.95 42.9,-34.49 47.63,-43.97 52.51,-38.95\"/>\n",
       "</g>\n",
       "<!-- node4 -->\n",
       "<g id=\"node5\" class=\"node\">\n",
       "<title>node4</title>\n",
       "<ellipse fill=\"none\" stroke=\"black\" cx=\"99\" cy=\"-18\" rx=\"27\" ry=\"18\"/>\n",
       "<text text-anchor=\"middle\" x=\"99\" y=\"-13.8\" font-family=\"Times,serif\" font-size=\"14.00\">37</text>\n",
       "</g>\n",
       "<!-- node1&#45;&gt;node4 -->\n",
       "<g id=\"edge4\" class=\"edge\">\n",
       "<title>node1&#45;&gt;node4</title>\n",
       "<path fill=\"none\" stroke=\"black\" d=\"M99,-71.7C99,-64.24 99,-55.32 99,-46.97\"/>\n",
       "<polygon fill=\"black\" stroke=\"black\" points=\"102.5,-47.1 99,-37.1 95.5,-47.1 102.5,-47.1\"/>\n",
       "</g>\n",
       "<!-- node5 -->\n",
       "<g id=\"node6\" class=\"node\">\n",
       "<title>node5</title>\n",
       "<ellipse fill=\"none\" stroke=\"black\" cx=\"171\" cy=\"-18\" rx=\"27\" ry=\"18\"/>\n",
       "<text text-anchor=\"middle\" x=\"171\" y=\"-13.8\" font-family=\"Times,serif\" font-size=\"14.00\">98</text>\n",
       "</g>\n",
       "<!-- node2&#45;&gt;node5 -->\n",
       "<g id=\"edge5\" class=\"edge\">\n",
       "<title>node2&#45;&gt;node5</title>\n",
       "<path fill=\"none\" stroke=\"black\" d=\"M171,-71.7C171,-64.24 171,-55.32 171,-46.97\"/>\n",
       "<polygon fill=\"black\" stroke=\"black\" points=\"174.5,-47.1 171,-37.1 167.5,-47.1 174.5,-47.1\"/>\n",
       "</g>\n",
       "<!-- node6 -->\n",
       "<g id=\"node7\" class=\"node\">\n",
       "<title>node6</title>\n",
       "<ellipse fill=\"none\" stroke=\"black\" cx=\"243\" cy=\"-18\" rx=\"27\" ry=\"18\"/>\n",
       "<text text-anchor=\"middle\" x=\"243\" y=\"-13.8\" font-family=\"Times,serif\" font-size=\"14.00\">62</text>\n",
       "</g>\n",
       "<!-- node2&#45;&gt;node6 -->\n",
       "<g id=\"edge6\" class=\"edge\">\n",
       "<title>node2&#45;&gt;node6</title>\n",
       "<path fill=\"none\" stroke=\"black\" d=\"M185.92,-74.5C195.86,-64.83 209.12,-51.94 220.35,-41.02\"/>\n",
       "<polygon fill=\"black\" stroke=\"black\" points=\"222.37,-43.97 227.1,-34.49 217.49,-38.95 222.37,-43.97\"/>\n",
       "</g>\n",
       "</g>\n",
       "</svg>\n"
      ],
      "text/plain": [
       "<graphviz.graphs.Digraph at 0x111ada1d0>"
      ]
     },
     "metadata": {},
     "output_type": "display_data"
    }
   ],
   "source": [
    "display(arraybintree.get_digraph_simple())"
   ]
  },
  {
   "cell_type": "code",
   "execution_count": 24,
   "metadata": {},
   "outputs": [
    {
     "data": {
      "text/plain": [
       "[10, 5, 25, 37, 19, 98, 62]"
      ]
     },
     "execution_count": 24,
     "metadata": {},
     "output_type": "execute_result"
    }
   ],
   "source": [
    "arraybintree.get_preorder()"
   ]
  },
  {
   "cell_type": "code",
   "execution_count": 25,
   "metadata": {},
   "outputs": [
    {
     "data": {
      "text/plain": [
       "[25, 5, 37, 10, 98, 19, 62]"
      ]
     },
     "execution_count": 25,
     "metadata": {},
     "output_type": "execute_result"
    }
   ],
   "source": [
    "arraybintree.get_inorder()"
   ]
  },
  {
   "cell_type": "code",
   "execution_count": 27,
   "metadata": {},
   "outputs": [
    {
     "data": {
      "text/plain": [
       "[25, 37, 5, 98, 62, 19, 10]"
      ]
     },
     "execution_count": 27,
     "metadata": {},
     "output_type": "execute_result"
    }
   ],
   "source": [
    "arraybintree.get_postorder()"
   ]
  },
  {
   "cell_type": "markdown",
   "metadata": {},
   "source": [
    "## *Binary Tree* dengan *pointer*"
   ]
  },
  {
   "cell_type": "code",
   "execution_count": 30,
   "metadata": {},
   "outputs": [],
   "source": [
    "class BintreeNode:\n",
    "    def __init__(self, data, left=None, right=None):\n",
    "        self.data = data\n",
    "        self.left = left\n",
    "        self.right = right"
   ]
  },
  {
   "cell_type": "code",
   "execution_count": 47,
   "metadata": {},
   "outputs": [],
   "source": [
    "class LinkedBintree:\n",
    "    def __init__(self):\n",
    "        self.root = None\n",
    "\n",
    "    def is_empty(self):\n",
    "        if self.root == None:\n",
    "            return True\n",
    "        else:\n",
    "            return False\n",
    "\n",
    "    def get_root_data(self):\n",
    "        if self.is_empty():\n",
    "            print(\"Error get_root_data: tree sedang kosong\")\n",
    "            return None\n",
    "        else:\n",
    "            return self.root.data\n",
    "\n",
    "    def set_root_data(self, newdata):\n",
    "        if self.is_empty():\n",
    "            self.root = BintreeNode(newdata)\n",
    "        else:\n",
    "            self.root.data = newdata\n",
    "\n",
    "    def get_preorder(self, current=None, result=None):\n",
    "        is_starting_node = False\n",
    "        if result == None:\n",
    "            is_starting_node = True\n",
    "            result = []\n",
    "            current = self.root\n",
    "\n",
    "        if current != None:\n",
    "            result.append(current)\n",
    "            if current.left != None:\n",
    "                self.get_preorder(current.left, result=result)\n",
    "            if current.right != None:\n",
    "                self.get_preorder(current.right, result=result)\n",
    "\n",
    "        if is_starting_node:\n",
    "            return result\n",
    "\n",
    "    def get_inorder(self, current=None, result=None):\n",
    "        is_starting_node = False\n",
    "        if result == None:\n",
    "            is_starting_node = True\n",
    "            result = []\n",
    "            current = self.root\n",
    "\n",
    "        if current != None:\n",
    "            if current.left != None:\n",
    "                self.get_inorder(current.left, result=result)\n",
    "            result.append(current)\n",
    "            if current.right != None:\n",
    "                self.get_inorder(current.right, result=result)\n",
    "\n",
    "        if is_starting_node:\n",
    "            return result\n",
    "\n",
    "    def get_postorder(self, current=None, result=None):\n",
    "        is_starting_node = False\n",
    "        if result == None:\n",
    "            is_starting_node = True\n",
    "            result = []\n",
    "            current = self.root\n",
    "\n",
    "        if current != None:\n",
    "            if current.left != None:\n",
    "                self.get_postorder(current.left, result=result)\n",
    "            if current.right != None:\n",
    "                self.get_postorder(current.right, result=result)\n",
    "            result.append(current)\n",
    "\n",
    "        if is_starting_node:\n",
    "            return result\n",
    "\n",
    "    def get_digraph_simple(self, current=None, counter=None, result=None):\n",
    "        is_starting_node = False\n",
    "        if result == None:\n",
    "            is_starting_node = True\n",
    "            result = gv.Digraph()\n",
    "            current = self.root\n",
    "\n",
    "            # pointer ke bilangan bulat (yang saat ini bernilai nol),\n",
    "            # sebagai list dengan satu elemen\n",
    "            counter = [0]\n",
    "        \n",
    "        if current != None:\n",
    "            result.node(\"node\" + str(counter[0]), label=str(self.root.data))\n",
    "            counter[0] += 1\n",
    "            result.edge()\n",
    "            self.get_digraph_simple(\n",
    "                current=current.left, counter=counter, result=result\n",
    "            )\n",
    "            self.get_digraph_simple(\n",
    "                current=current.right, counter=counter, result=result\n",
    "            )\n",
    "        else:\n",
    "            result.node(\"node\" + str(counter[0]), label=\"NULL\", shape=\"none\")\n",
    "            counter[0] += 1\n",
    "        \n",
    "        if is_starting_node:\n",
    "            return result"
   ]
  },
  {
   "cell_type": "code",
   "execution_count": 48,
   "metadata": {},
   "outputs": [],
   "source": [
    "linkedbintree = LinkedBintree()"
   ]
  },
  {
   "cell_type": "code",
   "execution_count": 49,
   "metadata": {},
   "outputs": [
    {
     "name": "stdout",
     "output_type": "stream",
     "text": [
      "None\n"
     ]
    }
   ],
   "source": [
    "print(linkedbintree.root)"
   ]
  },
  {
   "cell_type": "code",
   "execution_count": 50,
   "metadata": {},
   "outputs": [],
   "source": [
    "linkedbintree.root = BintreeNode(26)"
   ]
  },
  {
   "cell_type": "code",
   "execution_count": 51,
   "metadata": {},
   "outputs": [
    {
     "name": "stdout",
     "output_type": "stream",
     "text": [
      "<__main__.BintreeNode object at 0x111b55f00>\n"
     ]
    }
   ],
   "source": [
    "print(linkedbintree.root)"
   ]
  },
  {
   "cell_type": "code",
   "execution_count": 52,
   "metadata": {},
   "outputs": [
    {
     "name": "stdout",
     "output_type": "stream",
     "text": [
      "26\n"
     ]
    }
   ],
   "source": [
    "print(linkedbintree.root.data)"
   ]
  },
  {
   "cell_type": "code",
   "execution_count": 53,
   "metadata": {},
   "outputs": [],
   "source": [
    "linkedbintree.root.left = BintreeNode(89)\n",
    "linkedbintree.root.right = BintreeNode(54)"
   ]
  },
  {
   "cell_type": "code",
   "execution_count": 54,
   "metadata": {},
   "outputs": [
    {
     "data": {
      "image/svg+xml": [
       "<?xml version=\"1.0\" encoding=\"UTF-8\" standalone=\"no\"?>\n",
       "<!DOCTYPE svg PUBLIC \"-//W3C//DTD SVG 1.1//EN\"\n",
       " \"http://www.w3.org/Graphics/SVG/1.1/DTD/svg11.dtd\">\n",
       "<!-- Generated by graphviz version 8.1.0 (20230707.0739)\n",
       " -->\n",
       "<!-- Pages: 1 -->\n",
       "<svg width=\"494pt\" height=\"44pt\"\n",
       " viewBox=\"0.00 0.00 494.00 44.00\" xmlns=\"http://www.w3.org/2000/svg\" xmlns:xlink=\"http://www.w3.org/1999/xlink\">\n",
       "<g id=\"graph0\" class=\"graph\" transform=\"scale(1 1) rotate(0) translate(4 40)\">\n",
       "<polygon fill=\"white\" stroke=\"none\" points=\"-4,4 -4,-40 490,-40 490,4 -4,4\"/>\n",
       "<!-- node0 -->\n",
       "<g id=\"node1\" class=\"node\">\n",
       "<title>node0</title>\n",
       "<ellipse fill=\"none\" stroke=\"black\" cx=\"27\" cy=\"-18\" rx=\"27\" ry=\"18\"/>\n",
       "<text text-anchor=\"middle\" x=\"27\" y=\"-13.8\" font-family=\"Times,serif\" font-size=\"14.00\">26</text>\n",
       "</g>\n",
       "<!-- node1 -->\n",
       "<g id=\"node2\" class=\"node\">\n",
       "<title>node1</title>\n",
       "<ellipse fill=\"none\" stroke=\"black\" cx=\"99\" cy=\"-18\" rx=\"27\" ry=\"18\"/>\n",
       "<text text-anchor=\"middle\" x=\"99\" y=\"-13.8\" font-family=\"Times,serif\" font-size=\"14.00\">26</text>\n",
       "</g>\n",
       "<!-- node2 -->\n",
       "<g id=\"node3\" class=\"node\">\n",
       "<title>node2</title>\n",
       "<text text-anchor=\"middle\" x=\"171\" y=\"-13.8\" font-family=\"Times,serif\" font-size=\"14.00\">NULL</text>\n",
       "</g>\n",
       "<!-- node3 -->\n",
       "<g id=\"node4\" class=\"node\">\n",
       "<title>node3</title>\n",
       "<text text-anchor=\"middle\" x=\"243\" y=\"-13.8\" font-family=\"Times,serif\" font-size=\"14.00\">NULL</text>\n",
       "</g>\n",
       "<!-- node4 -->\n",
       "<g id=\"node5\" class=\"node\">\n",
       "<title>node4</title>\n",
       "<ellipse fill=\"none\" stroke=\"black\" cx=\"315\" cy=\"-18\" rx=\"27\" ry=\"18\"/>\n",
       "<text text-anchor=\"middle\" x=\"315\" y=\"-13.8\" font-family=\"Times,serif\" font-size=\"14.00\">26</text>\n",
       "</g>\n",
       "<!-- node5 -->\n",
       "<g id=\"node6\" class=\"node\">\n",
       "<title>node5</title>\n",
       "<text text-anchor=\"middle\" x=\"387\" y=\"-13.8\" font-family=\"Times,serif\" font-size=\"14.00\">NULL</text>\n",
       "</g>\n",
       "<!-- node6 -->\n",
       "<g id=\"node7\" class=\"node\">\n",
       "<title>node6</title>\n",
       "<text text-anchor=\"middle\" x=\"459\" y=\"-13.8\" font-family=\"Times,serif\" font-size=\"14.00\">NULL</text>\n",
       "</g>\n",
       "</g>\n",
       "</svg>\n"
      ],
      "text/plain": [
       "<graphviz.graphs.Digraph at 0x111b57310>"
      ]
     },
     "metadata": {},
     "output_type": "display_data"
    }
   ],
   "source": [
    "display(linkedbintree.get_digraph_simple())"
   ]
  },
  {
   "cell_type": "code",
   "execution_count": null,
   "metadata": {},
   "outputs": [],
   "source": []
  }
 ],
 "metadata": {
  "kernelspec": {
   "display_name": "Python 3",
   "language": "python",
   "name": "python3"
  },
  "language_info": {
   "codemirror_mode": {
    "name": "ipython",
    "version": 3
   },
   "file_extension": ".py",
   "mimetype": "text/x-python",
   "name": "python",
   "nbconvert_exporter": "python",
   "pygments_lexer": "ipython3",
   "version": "3.10.11"
  }
 },
 "nbformat": 4,
 "nbformat_minor": 2
}
