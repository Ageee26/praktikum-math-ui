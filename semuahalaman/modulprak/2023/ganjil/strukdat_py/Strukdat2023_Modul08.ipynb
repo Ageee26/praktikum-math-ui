{
 "cells": [
  {
   "cell_type": "markdown",
   "metadata": {},
   "source": [
    "# Modul 8 Struktur Data: *Binary Tree*, *binary search tree* (BST), dan *$m$-ary tree*,"
   ]
  },
  {
   "cell_type": "markdown",
   "metadata": {},
   "source": [
    "Kembali ke [Struktur Data (dengan Python)](strukdat2023.qmd)"
   ]
  },
  {
   "cell_type": "code",
   "execution_count": 6,
   "metadata": {},
   "outputs": [],
   "source": [
    "import numpy as np\n",
    "import graphviz as gv"
   ]
  },
  {
   "cell_type": "markdown",
   "metadata": {},
   "source": [
    "## *Binary Tree* dengan *array*"
   ]
  },
  {
   "cell_type": "code",
   "execution_count": 68,
   "metadata": {},
   "outputs": [],
   "source": [
    "class ArrayBintree:\n",
    "    def __init__(self, dtype, height, emptydata=-9999):\n",
    "        self.dtype = dtype\n",
    "        self.height = height\n",
    "        self.emptydata = emptydata\n",
    "        self.array_size = 2**(height+1) - 1\n",
    "        self.array = np.empty(self.array_size, dtype=dtype)\n",
    "        for i in range(self.array_size):\n",
    "            self.array[i] = self.emptydata\n",
    "    \n",
    "    def get_root(self):\n",
    "        root_data = self.array[0]\n",
    "        if root_data == self.emptydata:\n",
    "            return None\n",
    "        else:\n",
    "            return root_data\n",
    "    \n",
    "    def set_root(self, newdata):\n",
    "        self.array[0] = newdata\n",
    "    \n",
    "    def get_data(self, node_idx):\n",
    "        if node_idx < self.array_size:\n",
    "            return self.array[node_idx]\n",
    "        else:\n",
    "            print(\"Error get_data: indeks di luar ukuran tree\")\n",
    "    \n",
    "    def set_data(self, node_idx, newdata):\n",
    "        if node_idx < self.array_size:\n",
    "            self.array[node_idx] = newdata\n",
    "        else:\n",
    "            print(\"Error set_data: indeks di luar ukuran tree\")\n",
    "\n",
    "    def get_left_child_idx(self, node_idx, rec=0):\n",
    "        idx = 2*node_idx + 1\n",
    "        if idx < self.array_size:\n",
    "            if rec == 0:\n",
    "                return idx\n",
    "            else:\n",
    "                return self.get_left_child_idx(idx, rec=rec-1)\n",
    "        else:\n",
    "            return -1\n",
    "    \n",
    "    def get_left_child(self, node_idx):\n",
    "        return self.array[self.get_left_child_idx(node_idx)]\n",
    "    \n",
    "    def get_right_child_idx(self, node_idx, rec=0):\n",
    "        idx = 2*node_idx + 2\n",
    "        if idx < self.array_size:\n",
    "            if rec == 0:\n",
    "                return idx\n",
    "            else:\n",
    "                return self.get_right_child_idx(idx, rec=rec-1)\n",
    "        else:\n",
    "            return -1\n",
    "    \n",
    "    def get_right_child(self, node_idx):\n",
    "        return self.array[self.get_right_child_idx(node_idx)]\n",
    "\n",
    "    def get_parent_idx(self, node_idx):\n",
    "        if node_idx == 0:\n",
    "            return -1\n",
    "        idx = np.floor( (node_idx - 1)/2 )\n",
    "        return idx\n",
    "\n",
    "    def get_preorder(self, current=0, result=None):\n",
    "        is_starting_node = False\n",
    "        if result == None:\n",
    "            is_starting_node = True\n",
    "            result = []\n",
    "\n",
    "        left_idx = self.get_left_child_idx(current)\n",
    "        right_idx = self.get_right_child_idx(current)\n",
    "        \n",
    "        current_data = self.array[current]\n",
    "        if current_data != self.emptydata:\n",
    "            result.append(current_data)\n",
    "\n",
    "        if left_idx != -1:\n",
    "            self.get_preorder(current=left_idx, result=result)\n",
    "        \n",
    "        if right_idx != -1:\n",
    "            self.get_preorder(current=right_idx, result=result)\n",
    "        \n",
    "        if is_starting_node:\n",
    "            return result\n",
    "    \n",
    "    def get_inorder(self, current=0, result=None):\n",
    "        is_starting_node = False\n",
    "        if result == None:\n",
    "            is_starting_node = True\n",
    "            result = []\n",
    "\n",
    "        left_idx = self.get_left_child_idx(current)\n",
    "        right_idx = self.get_right_child_idx(current)\n",
    "\n",
    "        if left_idx != -1:\n",
    "            self.get_inorder(current=left_idx, result=result)\n",
    "\n",
    "        current_data = self.array[current]\n",
    "        if current_data != self.emptydata:\n",
    "            result.append(current_data)\n",
    "        \n",
    "        if right_idx != -1:\n",
    "            self.get_inorder(current=right_idx, result=result)\n",
    "        \n",
    "        if is_starting_node:\n",
    "            return result\n",
    "\n",
    "    def get_postorder(self, current=0, result=None):\n",
    "        is_starting_node = False\n",
    "        if result == None:\n",
    "            is_starting_node = True\n",
    "            result = []\n",
    "\n",
    "        left_idx = self.get_left_child_idx(current)\n",
    "        right_idx = self.get_right_child_idx(current)\n",
    "\n",
    "        if left_idx != -1:\n",
    "            self.get_postorder(current=left_idx, result=result)\n",
    "        \n",
    "        if right_idx != -1:\n",
    "            self.get_postorder(current=right_idx, result=result)\n",
    "        \n",
    "        current_data = self.array[current]\n",
    "        if current_data != self.emptydata:\n",
    "            result.append(current_data)\n",
    "        \n",
    "        if is_starting_node:\n",
    "            return result\n",
    "\n",
    "    def get_digraph_simple(self):\n",
    "        digraph = gv.Digraph()\n",
    "        for idx in range(self.array_size):\n",
    "            data = self.array[idx]\n",
    "            if data != self.emptydata:\n",
    "                digraph.node(\"node\" + str(idx), label=str(data))\n",
    "                left_idx = self.get_left_child_idx(idx)\n",
    "                right_idx = self.get_right_child_idx(idx)\n",
    "                if left_idx != -1:\n",
    "                    digraph.edge(\"node\" + str(idx), \"node\" + str(left_idx))\n",
    "                    if self.array[left_idx] == self.emptydata:\n",
    "                        digraph.node(\"node\" + str(left_idx), label=\"NULL\", shape=\"none\")\n",
    "                if right_idx != -1:\n",
    "                    digraph.edge(\"node\" + str(idx), \"node\" + str(right_idx))\n",
    "                    if self.array[right_idx] == self.emptydata:\n",
    "                        digraph.node(\"node\" + str(right_idx), label=\"NULL\", shape=\"none\")\n",
    "        return digraph"
   ]
  },
  {
   "cell_type": "code",
   "execution_count": 69,
   "metadata": {},
   "outputs": [],
   "source": [
    "test = ArrayBintree(int, 2)"
   ]
  },
  {
   "cell_type": "code",
   "execution_count": 70,
   "metadata": {},
   "outputs": [
    {
     "name": "stdout",
     "output_type": "stream",
     "text": [
      "[-9999 -9999 -9999 -9999 -9999 -9999 -9999]\n"
     ]
    }
   ],
   "source": [
    "print(test.array)"
   ]
  },
  {
   "cell_type": "code",
   "execution_count": 71,
   "metadata": {},
   "outputs": [],
   "source": [
    "test.set_root(10)"
   ]
  },
  {
   "cell_type": "code",
   "execution_count": 72,
   "metadata": {},
   "outputs": [],
   "source": [
    "test.set_data(test.get_left_child_idx(0), 5)"
   ]
  },
  {
   "cell_type": "code",
   "execution_count": 73,
   "metadata": {},
   "outputs": [],
   "source": [
    "test.set_data(test.get_right_child_idx(0), 19)"
   ]
  },
  {
   "cell_type": "code",
   "execution_count": 74,
   "metadata": {},
   "outputs": [],
   "source": [
    "test.set_data(test.get_left_child_idx(0, 1), 39)"
   ]
  },
  {
   "cell_type": "code",
   "execution_count": 75,
   "metadata": {},
   "outputs": [],
   "source": [
    "test.set_data(test.get_right_child_idx(0, 1), 87)"
   ]
  },
  {
   "cell_type": "code",
   "execution_count": 76,
   "metadata": {},
   "outputs": [
    {
     "name": "stdout",
     "output_type": "stream",
     "text": [
      "[   10     5    19    39 -9999 -9999    87]\n"
     ]
    }
   ],
   "source": [
    "print(test.array)"
   ]
  },
  {
   "cell_type": "code",
   "execution_count": 77,
   "metadata": {},
   "outputs": [
    {
     "data": {
      "image/svg+xml": [
       "<?xml version=\"1.0\" encoding=\"UTF-8\" standalone=\"no\"?>\n",
       "<!DOCTYPE svg PUBLIC \"-//W3C//DTD SVG 1.1//EN\"\n",
       " \"http://www.w3.org/Graphics/SVG/1.1/DTD/svg11.dtd\">\n",
       "<!-- Generated by graphviz version 8.1.0 (20230707.0739)\n",
       " -->\n",
       "<!-- Pages: 1 -->\n",
       "<svg width=\"278pt\" height=\"188pt\"\n",
       " viewBox=\"0.00 0.00 278.00 188.00\" xmlns=\"http://www.w3.org/2000/svg\" xmlns:xlink=\"http://www.w3.org/1999/xlink\">\n",
       "<g id=\"graph0\" class=\"graph\" transform=\"scale(1 1) rotate(0) translate(4 184)\">\n",
       "<polygon fill=\"white\" stroke=\"none\" points=\"-4,4 -4,-184 274,-184 274,4 -4,4\"/>\n",
       "<!-- node0 -->\n",
       "<g id=\"node1\" class=\"node\">\n",
       "<title>node0</title>\n",
       "<ellipse fill=\"none\" stroke=\"black\" cx=\"135\" cy=\"-162\" rx=\"27\" ry=\"18\"/>\n",
       "<text text-anchor=\"middle\" x=\"135\" y=\"-157.8\" font-family=\"Times,serif\" font-size=\"14.00\">10</text>\n",
       "</g>\n",
       "<!-- node1 -->\n",
       "<g id=\"node2\" class=\"node\">\n",
       "<title>node1</title>\n",
       "<ellipse fill=\"none\" stroke=\"black\" cx=\"99\" cy=\"-90\" rx=\"27\" ry=\"18\"/>\n",
       "<text text-anchor=\"middle\" x=\"99\" y=\"-85.8\" font-family=\"Times,serif\" font-size=\"14.00\">5</text>\n",
       "</g>\n",
       "<!-- node0&#45;&gt;node1 -->\n",
       "<g id=\"edge1\" class=\"edge\">\n",
       "<title>node0&#45;&gt;node1</title>\n",
       "<path fill=\"none\" stroke=\"black\" d=\"M126.65,-144.76C122.38,-136.46 117.08,-126.15 112.27,-116.79\"/>\n",
       "<polygon fill=\"black\" stroke=\"black\" points=\"114.99,-115.44 107.3,-108.15 108.77,-118.64 114.99,-115.44\"/>\n",
       "</g>\n",
       "<!-- node2 -->\n",
       "<g id=\"node3\" class=\"node\">\n",
       "<title>node2</title>\n",
       "<ellipse fill=\"none\" stroke=\"black\" cx=\"171\" cy=\"-90\" rx=\"27\" ry=\"18\"/>\n",
       "<text text-anchor=\"middle\" x=\"171\" y=\"-85.8\" font-family=\"Times,serif\" font-size=\"14.00\">19</text>\n",
       "</g>\n",
       "<!-- node0&#45;&gt;node2 -->\n",
       "<g id=\"edge2\" class=\"edge\">\n",
       "<title>node0&#45;&gt;node2</title>\n",
       "<path fill=\"none\" stroke=\"black\" d=\"M143.35,-144.76C147.62,-136.46 152.92,-126.15 157.73,-116.79\"/>\n",
       "<polygon fill=\"black\" stroke=\"black\" points=\"161.23,-118.64 162.7,-108.15 155.01,-115.44 161.23,-118.64\"/>\n",
       "</g>\n",
       "<!-- node3 -->\n",
       "<g id=\"node4\" class=\"node\">\n",
       "<title>node3</title>\n",
       "<ellipse fill=\"none\" stroke=\"black\" cx=\"27\" cy=\"-18\" rx=\"27\" ry=\"18\"/>\n",
       "<text text-anchor=\"middle\" x=\"27\" y=\"-13.8\" font-family=\"Times,serif\" font-size=\"14.00\">39</text>\n",
       "</g>\n",
       "<!-- node1&#45;&gt;node3 -->\n",
       "<g id=\"edge3\" class=\"edge\">\n",
       "<title>node1&#45;&gt;node3</title>\n",
       "<path fill=\"none\" stroke=\"black\" d=\"M84.08,-74.5C74.14,-64.83 60.88,-51.94 49.65,-41.02\"/>\n",
       "<polygon fill=\"black\" stroke=\"black\" points=\"52.51,-38.95 42.9,-34.49 47.63,-43.97 52.51,-38.95\"/>\n",
       "</g>\n",
       "<!-- node4 -->\n",
       "<g id=\"node5\" class=\"node\">\n",
       "<title>node4</title>\n",
       "<text text-anchor=\"middle\" x=\"99\" y=\"-13.8\" font-family=\"Times,serif\" font-size=\"14.00\">NULL</text>\n",
       "</g>\n",
       "<!-- node1&#45;&gt;node4 -->\n",
       "<g id=\"edge4\" class=\"edge\">\n",
       "<title>node1&#45;&gt;node4</title>\n",
       "<path fill=\"none\" stroke=\"black\" d=\"M99,-71.7C99,-64.13 99,-55.06 99,-46.59\"/>\n",
       "<polygon fill=\"black\" stroke=\"black\" points=\"102.5,-46.62 99,-36.62 95.5,-46.62 102.5,-46.62\"/>\n",
       "</g>\n",
       "<!-- node5 -->\n",
       "<g id=\"node6\" class=\"node\">\n",
       "<title>node5</title>\n",
       "<text text-anchor=\"middle\" x=\"171\" y=\"-13.8\" font-family=\"Times,serif\" font-size=\"14.00\">NULL</text>\n",
       "</g>\n",
       "<!-- node2&#45;&gt;node5 -->\n",
       "<g id=\"edge5\" class=\"edge\">\n",
       "<title>node2&#45;&gt;node5</title>\n",
       "<path fill=\"none\" stroke=\"black\" d=\"M171,-71.7C171,-64.13 171,-55.06 171,-46.59\"/>\n",
       "<polygon fill=\"black\" stroke=\"black\" points=\"174.5,-46.62 171,-36.62 167.5,-46.62 174.5,-46.62\"/>\n",
       "</g>\n",
       "<!-- node6 -->\n",
       "<g id=\"node7\" class=\"node\">\n",
       "<title>node6</title>\n",
       "<ellipse fill=\"none\" stroke=\"black\" cx=\"243\" cy=\"-18\" rx=\"27\" ry=\"18\"/>\n",
       "<text text-anchor=\"middle\" x=\"243\" y=\"-13.8\" font-family=\"Times,serif\" font-size=\"14.00\">87</text>\n",
       "</g>\n",
       "<!-- node2&#45;&gt;node6 -->\n",
       "<g id=\"edge6\" class=\"edge\">\n",
       "<title>node2&#45;&gt;node6</title>\n",
       "<path fill=\"none\" stroke=\"black\" d=\"M185.92,-74.5C195.86,-64.83 209.12,-51.94 220.35,-41.02\"/>\n",
       "<polygon fill=\"black\" stroke=\"black\" points=\"222.37,-43.97 227.1,-34.49 217.49,-38.95 222.37,-43.97\"/>\n",
       "</g>\n",
       "</g>\n",
       "</svg>\n"
      ],
      "text/plain": [
       "<graphviz.graphs.Digraph at 0x11347c490>"
      ]
     },
     "metadata": {},
     "output_type": "display_data"
    }
   ],
   "source": [
    "display(test.get_digraph_simple())"
   ]
  },
  {
   "cell_type": "code",
   "execution_count": 34,
   "metadata": {},
   "outputs": [
    {
     "data": {
      "text/plain": [
       "[10, 5, 39, 19, 87]"
      ]
     },
     "execution_count": 34,
     "metadata": {},
     "output_type": "execute_result"
    }
   ],
   "source": [
    "test.get_preorder()"
   ]
  },
  {
   "cell_type": "code",
   "execution_count": 35,
   "metadata": {},
   "outputs": [
    {
     "data": {
      "text/plain": [
       "[39, 5, 10, 19, 87]"
      ]
     },
     "execution_count": 35,
     "metadata": {},
     "output_type": "execute_result"
    }
   ],
   "source": [
    "test.get_inorder()"
   ]
  },
  {
   "cell_type": "code",
   "execution_count": null,
   "metadata": {},
   "outputs": [],
   "source": [
    "test.get_preorder()"
   ]
  },
  {
   "cell_type": "code",
   "execution_count": 36,
   "metadata": {},
   "outputs": [
    {
     "data": {
      "text/plain": [
       "[39, 5, 87, 19, 10]"
      ]
     },
     "execution_count": 36,
     "metadata": {},
     "output_type": "execute_result"
    }
   ],
   "source": [
    "test.get_postorder()"
   ]
  },
  {
   "cell_type": "markdown",
   "metadata": {},
   "source": [
    "## *Binary Tree* dengan *pointer*"
   ]
  },
  {
   "cell_type": "code",
   "execution_count": 1,
   "metadata": {},
   "outputs": [],
   "source": [
    "class BintreeNode:\n",
    "    def __init__(self, data, left=None, right=None):\n",
    "        self.data = data\n",
    "        self.left = left\n",
    "        self.right = right"
   ]
  },
  {
   "cell_type": "code",
   "execution_count": null,
   "metadata": {},
   "outputs": [],
   "source": []
  }
 ],
 "metadata": {
  "kernelspec": {
   "display_name": "Python 3",
   "language": "python",
   "name": "python3"
  },
  "language_info": {
   "codemirror_mode": {
    "name": "ipython",
    "version": 3
   },
   "file_extension": ".py",
   "mimetype": "text/x-python",
   "name": "python",
   "nbconvert_exporter": "python",
   "pygments_lexer": "ipython3",
   "version": "3.10.11"
  }
 },
 "nbformat": 4,
 "nbformat_minor": 2
}
