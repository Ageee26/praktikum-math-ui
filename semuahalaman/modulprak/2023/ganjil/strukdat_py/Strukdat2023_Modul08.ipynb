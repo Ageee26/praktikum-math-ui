{
 "cells": [
  {
   "cell_type": "markdown",
   "metadata": {},
   "source": [
    "# Modul 8 Struktur Data: *Binary Tree* dan berbagai implementasinya"
   ]
  },
  {
   "cell_type": "markdown",
   "metadata": {},
   "source": [
    "Kembali ke [Struktur Data (dengan Python)](strukdat2023.qmd)"
   ]
  },
  {
   "cell_type": "code",
   "execution_count": 16,
   "metadata": {},
   "outputs": [],
   "source": [
    "import numpy as np\n",
    "import graphviz as gv"
   ]
  },
  {
   "cell_type": "markdown",
   "metadata": {},
   "source": [
    "## Implementasi *binary tree*"
   ]
  },
  {
   "cell_type": "markdown",
   "metadata": {},
   "source": [
    "### *Binary Tree* dengan *array*"
   ]
  },
  {
   "cell_type": "code",
   "execution_count": 2,
   "metadata": {},
   "outputs": [],
   "source": [
    "class ArrayBintree:\n",
    "    def __init__(self, dtype, height, emptydata=-9999):\n",
    "        self.dtype = dtype\n",
    "        self.height = height\n",
    "        self.emptydata = emptydata\n",
    "        self.array_size = 2**(height+1) - 1\n",
    "        self.array = np.empty(self.array_size, dtype=dtype)\n",
    "        for i in range(self.array_size):\n",
    "            self.array[i] = emptydata\n",
    "\n",
    "    def get_root(self):\n",
    "        root_data = self.array[0]\n",
    "        if root_data == self.emptydata:\n",
    "            return None\n",
    "        else:\n",
    "            return root_data\n",
    "\n",
    "    def set_root(self, newdata):\n",
    "        self.array[0] = newdata\n",
    "\n",
    "    def get_data(self, node_idx):\n",
    "        if node_idx < self.array_size:\n",
    "            return self.array[node_idx]\n",
    "        else:\n",
    "            print(\"Error get_data: indeks di luar ukuran tree\")\n",
    "            return None\n",
    "\n",
    "    def set_data(self, node_idx, newdata):\n",
    "        if node_idx < self.array_size:\n",
    "            self.array[node_idx] = newdata\n",
    "        else:\n",
    "            print(\"Error set_data: indeks di luar ukuran tree\")\n",
    "\n",
    "    def get_left_child_idx(self, node_idx):\n",
    "        left_idx = 2*node_idx + 1\n",
    "        if left_idx < self.array_size:\n",
    "            return left_idx\n",
    "        else:\n",
    "            return -1\n",
    "\n",
    "    def get_left_child(self, node_idx):\n",
    "        left_idx = self.get_left_child_idx(node_idx)\n",
    "        if left_idx != -1:\n",
    "            data = self.array[left_idx]\n",
    "            if data != self.emptydata:\n",
    "                return data\n",
    "            else:\n",
    "                return None\n",
    "        else:\n",
    "            return None\n",
    "\n",
    "    def get_right_child_idx(self, node_idx):\n",
    "        right_idx = 2*node_idx + 2\n",
    "        if right_idx < self.array_size:\n",
    "            return right_idx\n",
    "        else:\n",
    "            return -1\n",
    "\n",
    "    def get_right_child(self, node_idx):\n",
    "        right_idx = self.get_right_child_idx(node_idx)\n",
    "        if right_idx != -1:\n",
    "            data = self.array[right_idx]\n",
    "            if data != self.emptydata:\n",
    "                return data\n",
    "            else:\n",
    "                return None\n",
    "        else:\n",
    "            return None\n",
    "\n",
    "    def get_parent_idx(self, node_idx):\n",
    "        if node_idx == 0:\n",
    "            return -1\n",
    "        idx = np.floor( (node_idx - 1)/2 )\n",
    "        return idx\n",
    "\n",
    "    # preorder: tengah, kiri, kanan\n",
    "    def get_preorder(self, current=0, result=None):\n",
    "        is_starting_node = False\n",
    "        if result == None:\n",
    "            is_starting_node = True\n",
    "            result = []\n",
    "\n",
    "        # tengah\n",
    "        current_data = self.array[current]\n",
    "        if current_data != self.emptydata:\n",
    "            result.append(current_data)\n",
    "\n",
    "        # kiri\n",
    "        left_idx = self.get_left_child_idx(current)\n",
    "        if left_idx != -1:\n",
    "            self.get_preorder(current=left_idx, result=result)\n",
    "\n",
    "        # kanan\n",
    "        right_idx = self.get_right_child_idx(current)\n",
    "        if right_idx != -1:\n",
    "            self.get_preorder(current=right_idx, result=result)\n",
    "\n",
    "        if is_starting_node:\n",
    "            return result\n",
    "\n",
    "    # inorder: kiri, tengah, kanan\n",
    "    def get_inorder(self, current=0, result=None):\n",
    "        is_starting_node = False\n",
    "        if result == None:\n",
    "            is_starting_node = True\n",
    "            result = []\n",
    "\n",
    "        # kiri\n",
    "        left_idx = self.get_left_child_idx(current)\n",
    "        if left_idx != -1:\n",
    "            self.get_inorder(current=left_idx, result=result)\n",
    "\n",
    "        # tengah\n",
    "        current_data = self.array[current]\n",
    "        if current_data != self.emptydata:\n",
    "            result.append(current_data)\n",
    "\n",
    "        # kanan\n",
    "        right_idx = self.get_right_child_idx(current)\n",
    "        if right_idx != -1:\n",
    "            self.get_inorder(current=right_idx, result=result)\n",
    "\n",
    "        if is_starting_node:\n",
    "            return result\n",
    "\n",
    "    # postorder: kiri, kanan, tengah\n",
    "    def get_postorder(self, current=0, result=None):\n",
    "        is_starting_node = False\n",
    "        if result == None:\n",
    "            is_starting_node = True\n",
    "            result = []\n",
    "\n",
    "        # kiri\n",
    "        left_idx = self.get_left_child_idx(current)\n",
    "        if left_idx != -1:\n",
    "            self.get_postorder(current=left_idx, result=result)\n",
    "\n",
    "        # kanan\n",
    "        right_idx = self.get_right_child_idx(current)\n",
    "        if right_idx != -1:\n",
    "            self.get_postorder(current=right_idx, result=result)\n",
    "\n",
    "        # tengah\n",
    "        current_data = self.array[current]\n",
    "        if current_data != self.emptydata:\n",
    "            result.append(current_data)\n",
    "\n",
    "        if is_starting_node:\n",
    "            return result\n",
    "\n",
    "    def get_digraph_simple(self):\n",
    "        digraph = gv.Digraph()\n",
    "        for idx in range(self.array_size):\n",
    "            data = self.array[idx]\n",
    "            if data != self.emptydata:\n",
    "                digraph.node(\"node\" + str(idx), label=str(data))\n",
    "                left_idx = self.get_left_child_idx(idx)\n",
    "                right_idx = self.get_right_child_idx(idx)\n",
    "                if left_idx != -1:\n",
    "                    digraph.edge(\"node\" + str(idx), \"node\" + str(left_idx))\n",
    "                    if self.array[left_idx] == self.emptydata:\n",
    "                        digraph.node(\"node\" + str(left_idx), label=\"NULL\", shape=\"none\")\n",
    "                if right_idx != -1:\n",
    "                    digraph.edge(\"node\" + str(idx), \"node\" + str(right_idx))\n",
    "                    if self.array[right_idx] == self.emptydata:\n",
    "                        digraph.node(\"node\" + str(right_idx), label=\"NULL\", shape=\"none\")\n",
    "        return digraph"
   ]
  },
  {
   "cell_type": "code",
   "execution_count": 3,
   "metadata": {},
   "outputs": [],
   "source": [
    "arraybintree = ArrayBintree(int, 2)"
   ]
  },
  {
   "cell_type": "code",
   "execution_count": 4,
   "metadata": {},
   "outputs": [
    {
     "name": "stdout",
     "output_type": "stream",
     "text": [
      "[-9999 -9999 -9999 -9999 -9999 -9999 -9999]\n"
     ]
    }
   ],
   "source": [
    "print(arraybintree.array)"
   ]
  },
  {
   "cell_type": "code",
   "execution_count": 5,
   "metadata": {},
   "outputs": [],
   "source": [
    "arraybintree.set_root(10)"
   ]
  },
  {
   "cell_type": "code",
   "execution_count": 6,
   "metadata": {},
   "outputs": [
    {
     "name": "stdout",
     "output_type": "stream",
     "text": [
      "[   10 -9999 -9999 -9999 -9999 -9999 -9999]\n"
     ]
    }
   ],
   "source": [
    "print(arraybintree.array)"
   ]
  },
  {
   "cell_type": "code",
   "execution_count": 7,
   "metadata": {},
   "outputs": [
    {
     "data": {
      "image/svg+xml": [
       "<?xml version=\"1.0\" encoding=\"UTF-8\" standalone=\"no\"?>\n",
       "<!DOCTYPE svg PUBLIC \"-//W3C//DTD SVG 1.1//EN\"\n",
       " \"http://www.w3.org/Graphics/SVG/1.1/DTD/svg11.dtd\">\n",
       "<!-- Generated by graphviz version 8.1.0 (20230707.0739)\n",
       " -->\n",
       "<!-- Pages: 1 -->\n",
       "<svg width=\"134pt\" height=\"116pt\"\n",
       " viewBox=\"0.00 0.00 134.00 116.00\" xmlns=\"http://www.w3.org/2000/svg\" xmlns:xlink=\"http://www.w3.org/1999/xlink\">\n",
       "<g id=\"graph0\" class=\"graph\" transform=\"scale(1 1) rotate(0) translate(4 112)\">\n",
       "<polygon fill=\"white\" stroke=\"none\" points=\"-4,4 -4,-112 130,-112 130,4 -4,4\"/>\n",
       "<!-- node0 -->\n",
       "<g id=\"node1\" class=\"node\">\n",
       "<title>node0</title>\n",
       "<ellipse fill=\"none\" stroke=\"black\" cx=\"63\" cy=\"-90\" rx=\"27\" ry=\"18\"/>\n",
       "<text text-anchor=\"middle\" x=\"63\" y=\"-85.8\" font-family=\"Times,serif\" font-size=\"14.00\">10</text>\n",
       "</g>\n",
       "<!-- node1 -->\n",
       "<g id=\"node2\" class=\"node\">\n",
       "<title>node1</title>\n",
       "<text text-anchor=\"middle\" x=\"27\" y=\"-13.8\" font-family=\"Times,serif\" font-size=\"14.00\">NULL</text>\n",
       "</g>\n",
       "<!-- node0&#45;&gt;node1 -->\n",
       "<g id=\"edge1\" class=\"edge\">\n",
       "<title>node0&#45;&gt;node1</title>\n",
       "<path fill=\"none\" stroke=\"black\" d=\"M54.65,-72.76C50.44,-64.58 45.23,-54.45 40.47,-45.2\"/>\n",
       "<polygon fill=\"black\" stroke=\"black\" points=\"43.24,-43.93 35.55,-36.63 37.02,-47.13 43.24,-43.93\"/>\n",
       "</g>\n",
       "<!-- node2 -->\n",
       "<g id=\"node3\" class=\"node\">\n",
       "<title>node2</title>\n",
       "<text text-anchor=\"middle\" x=\"99\" y=\"-13.8\" font-family=\"Times,serif\" font-size=\"14.00\">NULL</text>\n",
       "</g>\n",
       "<!-- node0&#45;&gt;node2 -->\n",
       "<g id=\"edge2\" class=\"edge\">\n",
       "<title>node0&#45;&gt;node2</title>\n",
       "<path fill=\"none\" stroke=\"black\" d=\"M71.35,-72.76C75.56,-64.58 80.77,-54.45 85.53,-45.2\"/>\n",
       "<polygon fill=\"black\" stroke=\"black\" points=\"88.98,-47.13 90.45,-36.63 82.76,-43.93 88.98,-47.13\"/>\n",
       "</g>\n",
       "</g>\n",
       "</svg>\n"
      ],
      "text/plain": [
       "<graphviz.graphs.Digraph at 0x111ad94b0>"
      ]
     },
     "metadata": {},
     "output_type": "display_data"
    }
   ],
   "source": [
    "display(arraybintree.get_digraph_simple())"
   ]
  },
  {
   "cell_type": "code",
   "execution_count": 8,
   "metadata": {},
   "outputs": [],
   "source": [
    "arraybintree.set_data(\n",
    "    arraybintree.get_left_child_idx(0),\n",
    "    5\n",
    ")"
   ]
  },
  {
   "cell_type": "code",
   "execution_count": 9,
   "metadata": {},
   "outputs": [
    {
     "name": "stdout",
     "output_type": "stream",
     "text": [
      "[   10     5 -9999 -9999 -9999 -9999 -9999]\n"
     ]
    }
   ],
   "source": [
    "print(arraybintree.array)"
   ]
  },
  {
   "cell_type": "code",
   "execution_count": 10,
   "metadata": {},
   "outputs": [
    {
     "data": {
      "image/svg+xml": [
       "<?xml version=\"1.0\" encoding=\"UTF-8\" standalone=\"no\"?>\n",
       "<!DOCTYPE svg PUBLIC \"-//W3C//DTD SVG 1.1//EN\"\n",
       " \"http://www.w3.org/Graphics/SVG/1.1/DTD/svg11.dtd\">\n",
       "<!-- Generated by graphviz version 8.1.0 (20230707.0739)\n",
       " -->\n",
       "<!-- Pages: 1 -->\n",
       "<svg width=\"170pt\" height=\"188pt\"\n",
       " viewBox=\"0.00 0.00 170.00 188.00\" xmlns=\"http://www.w3.org/2000/svg\" xmlns:xlink=\"http://www.w3.org/1999/xlink\">\n",
       "<g id=\"graph0\" class=\"graph\" transform=\"scale(1 1) rotate(0) translate(4 184)\">\n",
       "<polygon fill=\"white\" stroke=\"none\" points=\"-4,4 -4,-184 166,-184 166,4 -4,4\"/>\n",
       "<!-- node0 -->\n",
       "<g id=\"node1\" class=\"node\">\n",
       "<title>node0</title>\n",
       "<ellipse fill=\"none\" stroke=\"black\" cx=\"99\" cy=\"-162\" rx=\"27\" ry=\"18\"/>\n",
       "<text text-anchor=\"middle\" x=\"99\" y=\"-157.8\" font-family=\"Times,serif\" font-size=\"14.00\">10</text>\n",
       "</g>\n",
       "<!-- node1 -->\n",
       "<g id=\"node2\" class=\"node\">\n",
       "<title>node1</title>\n",
       "<ellipse fill=\"none\" stroke=\"black\" cx=\"63\" cy=\"-90\" rx=\"27\" ry=\"18\"/>\n",
       "<text text-anchor=\"middle\" x=\"63\" y=\"-85.8\" font-family=\"Times,serif\" font-size=\"14.00\">5</text>\n",
       "</g>\n",
       "<!-- node0&#45;&gt;node1 -->\n",
       "<g id=\"edge1\" class=\"edge\">\n",
       "<title>node0&#45;&gt;node1</title>\n",
       "<path fill=\"none\" stroke=\"black\" d=\"M90.65,-144.76C86.38,-136.46 81.08,-126.15 76.27,-116.79\"/>\n",
       "<polygon fill=\"black\" stroke=\"black\" points=\"78.99,-115.44 71.3,-108.15 72.77,-118.64 78.99,-115.44\"/>\n",
       "</g>\n",
       "<!-- node2 -->\n",
       "<g id=\"node3\" class=\"node\">\n",
       "<title>node2</title>\n",
       "<text text-anchor=\"middle\" x=\"135\" y=\"-85.8\" font-family=\"Times,serif\" font-size=\"14.00\">NULL</text>\n",
       "</g>\n",
       "<!-- node0&#45;&gt;node2 -->\n",
       "<g id=\"edge2\" class=\"edge\">\n",
       "<title>node0&#45;&gt;node2</title>\n",
       "<path fill=\"none\" stroke=\"black\" d=\"M107.35,-144.76C111.56,-136.58 116.77,-126.45 121.53,-117.2\"/>\n",
       "<polygon fill=\"black\" stroke=\"black\" points=\"124.98,-119.13 126.45,-108.63 118.76,-115.93 124.98,-119.13\"/>\n",
       "</g>\n",
       "<!-- node3 -->\n",
       "<g id=\"node4\" class=\"node\">\n",
       "<title>node3</title>\n",
       "<text text-anchor=\"middle\" x=\"27\" y=\"-13.8\" font-family=\"Times,serif\" font-size=\"14.00\">NULL</text>\n",
       "</g>\n",
       "<!-- node1&#45;&gt;node3 -->\n",
       "<g id=\"edge3\" class=\"edge\">\n",
       "<title>node1&#45;&gt;node3</title>\n",
       "<path fill=\"none\" stroke=\"black\" d=\"M54.65,-72.76C50.44,-64.58 45.23,-54.45 40.47,-45.2\"/>\n",
       "<polygon fill=\"black\" stroke=\"black\" points=\"43.24,-43.93 35.55,-36.63 37.02,-47.13 43.24,-43.93\"/>\n",
       "</g>\n",
       "<!-- node4 -->\n",
       "<g id=\"node5\" class=\"node\">\n",
       "<title>node4</title>\n",
       "<text text-anchor=\"middle\" x=\"99\" y=\"-13.8\" font-family=\"Times,serif\" font-size=\"14.00\">NULL</text>\n",
       "</g>\n",
       "<!-- node1&#45;&gt;node4 -->\n",
       "<g id=\"edge4\" class=\"edge\">\n",
       "<title>node1&#45;&gt;node4</title>\n",
       "<path fill=\"none\" stroke=\"black\" d=\"M71.35,-72.76C75.56,-64.58 80.77,-54.45 85.53,-45.2\"/>\n",
       "<polygon fill=\"black\" stroke=\"black\" points=\"88.98,-47.13 90.45,-36.63 82.76,-43.93 88.98,-47.13\"/>\n",
       "</g>\n",
       "</g>\n",
       "</svg>\n"
      ],
      "text/plain": [
       "<graphviz.graphs.Digraph at 0x111ad9c00>"
      ]
     },
     "metadata": {},
     "output_type": "display_data"
    }
   ],
   "source": [
    "display(arraybintree.get_digraph_simple())"
   ]
  },
  {
   "cell_type": "code",
   "execution_count": 11,
   "metadata": {},
   "outputs": [],
   "source": [
    "arraybintree.set_data(\n",
    "    arraybintree.get_right_child_idx(0),\n",
    "    19\n",
    ")"
   ]
  },
  {
   "cell_type": "code",
   "execution_count": 12,
   "metadata": {},
   "outputs": [
    {
     "name": "stdout",
     "output_type": "stream",
     "text": [
      "[   10     5    19 -9999 -9999 -9999 -9999]\n"
     ]
    }
   ],
   "source": [
    "print(arraybintree.array)"
   ]
  },
  {
   "cell_type": "code",
   "execution_count": 13,
   "metadata": {},
   "outputs": [
    {
     "data": {
      "image/svg+xml": [
       "<?xml version=\"1.0\" encoding=\"UTF-8\" standalone=\"no\"?>\n",
       "<!DOCTYPE svg PUBLIC \"-//W3C//DTD SVG 1.1//EN\"\n",
       " \"http://www.w3.org/Graphics/SVG/1.1/DTD/svg11.dtd\">\n",
       "<!-- Generated by graphviz version 8.1.0 (20230707.0739)\n",
       " -->\n",
       "<!-- Pages: 1 -->\n",
       "<svg width=\"278pt\" height=\"188pt\"\n",
       " viewBox=\"0.00 0.00 278.00 188.00\" xmlns=\"http://www.w3.org/2000/svg\" xmlns:xlink=\"http://www.w3.org/1999/xlink\">\n",
       "<g id=\"graph0\" class=\"graph\" transform=\"scale(1 1) rotate(0) translate(4 184)\">\n",
       "<polygon fill=\"white\" stroke=\"none\" points=\"-4,4 -4,-184 274,-184 274,4 -4,4\"/>\n",
       "<!-- node0 -->\n",
       "<g id=\"node1\" class=\"node\">\n",
       "<title>node0</title>\n",
       "<ellipse fill=\"none\" stroke=\"black\" cx=\"135\" cy=\"-162\" rx=\"27\" ry=\"18\"/>\n",
       "<text text-anchor=\"middle\" x=\"135\" y=\"-157.8\" font-family=\"Times,serif\" font-size=\"14.00\">10</text>\n",
       "</g>\n",
       "<!-- node1 -->\n",
       "<g id=\"node2\" class=\"node\">\n",
       "<title>node1</title>\n",
       "<ellipse fill=\"none\" stroke=\"black\" cx=\"99\" cy=\"-90\" rx=\"27\" ry=\"18\"/>\n",
       "<text text-anchor=\"middle\" x=\"99\" y=\"-85.8\" font-family=\"Times,serif\" font-size=\"14.00\">5</text>\n",
       "</g>\n",
       "<!-- node0&#45;&gt;node1 -->\n",
       "<g id=\"edge1\" class=\"edge\">\n",
       "<title>node0&#45;&gt;node1</title>\n",
       "<path fill=\"none\" stroke=\"black\" d=\"M126.65,-144.76C122.38,-136.46 117.08,-126.15 112.27,-116.79\"/>\n",
       "<polygon fill=\"black\" stroke=\"black\" points=\"114.99,-115.44 107.3,-108.15 108.77,-118.64 114.99,-115.44\"/>\n",
       "</g>\n",
       "<!-- node2 -->\n",
       "<g id=\"node3\" class=\"node\">\n",
       "<title>node2</title>\n",
       "<ellipse fill=\"none\" stroke=\"black\" cx=\"171\" cy=\"-90\" rx=\"27\" ry=\"18\"/>\n",
       "<text text-anchor=\"middle\" x=\"171\" y=\"-85.8\" font-family=\"Times,serif\" font-size=\"14.00\">19</text>\n",
       "</g>\n",
       "<!-- node0&#45;&gt;node2 -->\n",
       "<g id=\"edge2\" class=\"edge\">\n",
       "<title>node0&#45;&gt;node2</title>\n",
       "<path fill=\"none\" stroke=\"black\" d=\"M143.35,-144.76C147.62,-136.46 152.92,-126.15 157.73,-116.79\"/>\n",
       "<polygon fill=\"black\" stroke=\"black\" points=\"161.23,-118.64 162.7,-108.15 155.01,-115.44 161.23,-118.64\"/>\n",
       "</g>\n",
       "<!-- node3 -->\n",
       "<g id=\"node4\" class=\"node\">\n",
       "<title>node3</title>\n",
       "<text text-anchor=\"middle\" x=\"27\" y=\"-13.8\" font-family=\"Times,serif\" font-size=\"14.00\">NULL</text>\n",
       "</g>\n",
       "<!-- node1&#45;&gt;node3 -->\n",
       "<g id=\"edge3\" class=\"edge\">\n",
       "<title>node1&#45;&gt;node3</title>\n",
       "<path fill=\"none\" stroke=\"black\" d=\"M84.08,-74.5C74.89,-65.56 62.87,-53.87 52.23,-43.53\"/>\n",
       "<polygon fill=\"black\" stroke=\"black\" points=\"55.04,-41.41 45.43,-36.95 50.17,-46.43 55.04,-41.41\"/>\n",
       "</g>\n",
       "<!-- node4 -->\n",
       "<g id=\"node5\" class=\"node\">\n",
       "<title>node4</title>\n",
       "<text text-anchor=\"middle\" x=\"99\" y=\"-13.8\" font-family=\"Times,serif\" font-size=\"14.00\">NULL</text>\n",
       "</g>\n",
       "<!-- node1&#45;&gt;node4 -->\n",
       "<g id=\"edge4\" class=\"edge\">\n",
       "<title>node1&#45;&gt;node4</title>\n",
       "<path fill=\"none\" stroke=\"black\" d=\"M99,-71.7C99,-64.13 99,-55.06 99,-46.59\"/>\n",
       "<polygon fill=\"black\" stroke=\"black\" points=\"102.5,-46.62 99,-36.62 95.5,-46.62 102.5,-46.62\"/>\n",
       "</g>\n",
       "<!-- node5 -->\n",
       "<g id=\"node6\" class=\"node\">\n",
       "<title>node5</title>\n",
       "<text text-anchor=\"middle\" x=\"171\" y=\"-13.8\" font-family=\"Times,serif\" font-size=\"14.00\">NULL</text>\n",
       "</g>\n",
       "<!-- node2&#45;&gt;node5 -->\n",
       "<g id=\"edge5\" class=\"edge\">\n",
       "<title>node2&#45;&gt;node5</title>\n",
       "<path fill=\"none\" stroke=\"black\" d=\"M171,-71.7C171,-64.13 171,-55.06 171,-46.59\"/>\n",
       "<polygon fill=\"black\" stroke=\"black\" points=\"174.5,-46.62 171,-36.62 167.5,-46.62 174.5,-46.62\"/>\n",
       "</g>\n",
       "<!-- node6 -->\n",
       "<g id=\"node7\" class=\"node\">\n",
       "<title>node6</title>\n",
       "<text text-anchor=\"middle\" x=\"243\" y=\"-13.8\" font-family=\"Times,serif\" font-size=\"14.00\">NULL</text>\n",
       "</g>\n",
       "<!-- node2&#45;&gt;node6 -->\n",
       "<g id=\"edge6\" class=\"edge\">\n",
       "<title>node2&#45;&gt;node6</title>\n",
       "<path fill=\"none\" stroke=\"black\" d=\"M185.92,-74.5C195.11,-65.56 207.13,-53.87 217.77,-43.53\"/>\n",
       "<polygon fill=\"black\" stroke=\"black\" points=\"219.83,-46.43 224.57,-36.95 214.96,-41.41 219.83,-46.43\"/>\n",
       "</g>\n",
       "</g>\n",
       "</svg>\n"
      ],
      "text/plain": [
       "<graphviz.graphs.Digraph at 0x111ad9450>"
      ]
     },
     "metadata": {},
     "output_type": "display_data"
    }
   ],
   "source": [
    "display(arraybintree.get_digraph_simple())"
   ]
  },
  {
   "cell_type": "code",
   "execution_count": 14,
   "metadata": {},
   "outputs": [],
   "source": [
    "arraybintree.set_data(\n",
    "    arraybintree.get_right_child_idx(arraybintree.get_left_child_idx(0)),\n",
    "    37\n",
    ")"
   ]
  },
  {
   "cell_type": "code",
   "execution_count": 15,
   "metadata": {},
   "outputs": [
    {
     "name": "stdout",
     "output_type": "stream",
     "text": [
      "[   10     5    19 -9999    37 -9999 -9999]\n"
     ]
    }
   ],
   "source": [
    "print(arraybintree.array)"
   ]
  },
  {
   "cell_type": "code",
   "execution_count": 16,
   "metadata": {},
   "outputs": [
    {
     "data": {
      "image/svg+xml": [
       "<?xml version=\"1.0\" encoding=\"UTF-8\" standalone=\"no\"?>\n",
       "<!DOCTYPE svg PUBLIC \"-//W3C//DTD SVG 1.1//EN\"\n",
       " \"http://www.w3.org/Graphics/SVG/1.1/DTD/svg11.dtd\">\n",
       "<!-- Generated by graphviz version 8.1.0 (20230707.0739)\n",
       " -->\n",
       "<!-- Pages: 1 -->\n",
       "<svg width=\"278pt\" height=\"188pt\"\n",
       " viewBox=\"0.00 0.00 278.00 188.00\" xmlns=\"http://www.w3.org/2000/svg\" xmlns:xlink=\"http://www.w3.org/1999/xlink\">\n",
       "<g id=\"graph0\" class=\"graph\" transform=\"scale(1 1) rotate(0) translate(4 184)\">\n",
       "<polygon fill=\"white\" stroke=\"none\" points=\"-4,4 -4,-184 274,-184 274,4 -4,4\"/>\n",
       "<!-- node0 -->\n",
       "<g id=\"node1\" class=\"node\">\n",
       "<title>node0</title>\n",
       "<ellipse fill=\"none\" stroke=\"black\" cx=\"135\" cy=\"-162\" rx=\"27\" ry=\"18\"/>\n",
       "<text text-anchor=\"middle\" x=\"135\" y=\"-157.8\" font-family=\"Times,serif\" font-size=\"14.00\">10</text>\n",
       "</g>\n",
       "<!-- node1 -->\n",
       "<g id=\"node2\" class=\"node\">\n",
       "<title>node1</title>\n",
       "<ellipse fill=\"none\" stroke=\"black\" cx=\"99\" cy=\"-90\" rx=\"27\" ry=\"18\"/>\n",
       "<text text-anchor=\"middle\" x=\"99\" y=\"-85.8\" font-family=\"Times,serif\" font-size=\"14.00\">5</text>\n",
       "</g>\n",
       "<!-- node0&#45;&gt;node1 -->\n",
       "<g id=\"edge1\" class=\"edge\">\n",
       "<title>node0&#45;&gt;node1</title>\n",
       "<path fill=\"none\" stroke=\"black\" d=\"M126.65,-144.76C122.38,-136.46 117.08,-126.15 112.27,-116.79\"/>\n",
       "<polygon fill=\"black\" stroke=\"black\" points=\"114.99,-115.44 107.3,-108.15 108.77,-118.64 114.99,-115.44\"/>\n",
       "</g>\n",
       "<!-- node2 -->\n",
       "<g id=\"node3\" class=\"node\">\n",
       "<title>node2</title>\n",
       "<ellipse fill=\"none\" stroke=\"black\" cx=\"171\" cy=\"-90\" rx=\"27\" ry=\"18\"/>\n",
       "<text text-anchor=\"middle\" x=\"171\" y=\"-85.8\" font-family=\"Times,serif\" font-size=\"14.00\">19</text>\n",
       "</g>\n",
       "<!-- node0&#45;&gt;node2 -->\n",
       "<g id=\"edge2\" class=\"edge\">\n",
       "<title>node0&#45;&gt;node2</title>\n",
       "<path fill=\"none\" stroke=\"black\" d=\"M143.35,-144.76C147.62,-136.46 152.92,-126.15 157.73,-116.79\"/>\n",
       "<polygon fill=\"black\" stroke=\"black\" points=\"161.23,-118.64 162.7,-108.15 155.01,-115.44 161.23,-118.64\"/>\n",
       "</g>\n",
       "<!-- node3 -->\n",
       "<g id=\"node4\" class=\"node\">\n",
       "<title>node3</title>\n",
       "<text text-anchor=\"middle\" x=\"27\" y=\"-13.8\" font-family=\"Times,serif\" font-size=\"14.00\">NULL</text>\n",
       "</g>\n",
       "<!-- node1&#45;&gt;node3 -->\n",
       "<g id=\"edge3\" class=\"edge\">\n",
       "<title>node1&#45;&gt;node3</title>\n",
       "<path fill=\"none\" stroke=\"black\" d=\"M84.08,-74.5C74.89,-65.56 62.87,-53.87 52.23,-43.53\"/>\n",
       "<polygon fill=\"black\" stroke=\"black\" points=\"55.04,-41.41 45.43,-36.95 50.17,-46.43 55.04,-41.41\"/>\n",
       "</g>\n",
       "<!-- node4 -->\n",
       "<g id=\"node5\" class=\"node\">\n",
       "<title>node4</title>\n",
       "<ellipse fill=\"none\" stroke=\"black\" cx=\"99\" cy=\"-18\" rx=\"27\" ry=\"18\"/>\n",
       "<text text-anchor=\"middle\" x=\"99\" y=\"-13.8\" font-family=\"Times,serif\" font-size=\"14.00\">37</text>\n",
       "</g>\n",
       "<!-- node1&#45;&gt;node4 -->\n",
       "<g id=\"edge4\" class=\"edge\">\n",
       "<title>node1&#45;&gt;node4</title>\n",
       "<path fill=\"none\" stroke=\"black\" d=\"M99,-71.7C99,-64.24 99,-55.32 99,-46.97\"/>\n",
       "<polygon fill=\"black\" stroke=\"black\" points=\"102.5,-47.1 99,-37.1 95.5,-47.1 102.5,-47.1\"/>\n",
       "</g>\n",
       "<!-- node5 -->\n",
       "<g id=\"node6\" class=\"node\">\n",
       "<title>node5</title>\n",
       "<text text-anchor=\"middle\" x=\"171\" y=\"-13.8\" font-family=\"Times,serif\" font-size=\"14.00\">NULL</text>\n",
       "</g>\n",
       "<!-- node2&#45;&gt;node5 -->\n",
       "<g id=\"edge5\" class=\"edge\">\n",
       "<title>node2&#45;&gt;node5</title>\n",
       "<path fill=\"none\" stroke=\"black\" d=\"M171,-71.7C171,-64.13 171,-55.06 171,-46.59\"/>\n",
       "<polygon fill=\"black\" stroke=\"black\" points=\"174.5,-46.62 171,-36.62 167.5,-46.62 174.5,-46.62\"/>\n",
       "</g>\n",
       "<!-- node6 -->\n",
       "<g id=\"node7\" class=\"node\">\n",
       "<title>node6</title>\n",
       "<text text-anchor=\"middle\" x=\"243\" y=\"-13.8\" font-family=\"Times,serif\" font-size=\"14.00\">NULL</text>\n",
       "</g>\n",
       "<!-- node2&#45;&gt;node6 -->\n",
       "<g id=\"edge6\" class=\"edge\">\n",
       "<title>node2&#45;&gt;node6</title>\n",
       "<path fill=\"none\" stroke=\"black\" d=\"M185.92,-74.5C195.11,-65.56 207.13,-53.87 217.77,-43.53\"/>\n",
       "<polygon fill=\"black\" stroke=\"black\" points=\"219.83,-46.43 224.57,-36.95 214.96,-41.41 219.83,-46.43\"/>\n",
       "</g>\n",
       "</g>\n",
       "</svg>\n"
      ],
      "text/plain": [
       "<graphviz.graphs.Digraph at 0x111ad9870>"
      ]
     },
     "metadata": {},
     "output_type": "display_data"
    }
   ],
   "source": [
    "display(arraybintree.get_digraph_simple())"
   ]
  },
  {
   "cell_type": "code",
   "execution_count": 17,
   "metadata": {},
   "outputs": [
    {
     "data": {
      "text/plain": [
       "37"
      ]
     },
     "execution_count": 17,
     "metadata": {},
     "output_type": "execute_result"
    }
   ],
   "source": [
    "arraybintree.get_data(\n",
    "    arraybintree.get_right_child_idx(arraybintree.get_left_child_idx(0))\n",
    ")"
   ]
  },
  {
   "cell_type": "code",
   "execution_count": 18,
   "metadata": {},
   "outputs": [],
   "source": [
    "arraybintree.array[5] = 98\n",
    "arraybintree.array[6] = 62"
   ]
  },
  {
   "cell_type": "code",
   "execution_count": 19,
   "metadata": {},
   "outputs": [
    {
     "name": "stdout",
     "output_type": "stream",
     "text": [
      "[   10     5    19 -9999    37    98    62]\n"
     ]
    }
   ],
   "source": [
    "print(arraybintree.array)"
   ]
  },
  {
   "cell_type": "code",
   "execution_count": 20,
   "metadata": {},
   "outputs": [
    {
     "data": {
      "image/svg+xml": [
       "<?xml version=\"1.0\" encoding=\"UTF-8\" standalone=\"no\"?>\n",
       "<!DOCTYPE svg PUBLIC \"-//W3C//DTD SVG 1.1//EN\"\n",
       " \"http://www.w3.org/Graphics/SVG/1.1/DTD/svg11.dtd\">\n",
       "<!-- Generated by graphviz version 8.1.0 (20230707.0739)\n",
       " -->\n",
       "<!-- Pages: 1 -->\n",
       "<svg width=\"278pt\" height=\"188pt\"\n",
       " viewBox=\"0.00 0.00 278.00 188.00\" xmlns=\"http://www.w3.org/2000/svg\" xmlns:xlink=\"http://www.w3.org/1999/xlink\">\n",
       "<g id=\"graph0\" class=\"graph\" transform=\"scale(1 1) rotate(0) translate(4 184)\">\n",
       "<polygon fill=\"white\" stroke=\"none\" points=\"-4,4 -4,-184 274,-184 274,4 -4,4\"/>\n",
       "<!-- node0 -->\n",
       "<g id=\"node1\" class=\"node\">\n",
       "<title>node0</title>\n",
       "<ellipse fill=\"none\" stroke=\"black\" cx=\"135\" cy=\"-162\" rx=\"27\" ry=\"18\"/>\n",
       "<text text-anchor=\"middle\" x=\"135\" y=\"-157.8\" font-family=\"Times,serif\" font-size=\"14.00\">10</text>\n",
       "</g>\n",
       "<!-- node1 -->\n",
       "<g id=\"node2\" class=\"node\">\n",
       "<title>node1</title>\n",
       "<ellipse fill=\"none\" stroke=\"black\" cx=\"99\" cy=\"-90\" rx=\"27\" ry=\"18\"/>\n",
       "<text text-anchor=\"middle\" x=\"99\" y=\"-85.8\" font-family=\"Times,serif\" font-size=\"14.00\">5</text>\n",
       "</g>\n",
       "<!-- node0&#45;&gt;node1 -->\n",
       "<g id=\"edge1\" class=\"edge\">\n",
       "<title>node0&#45;&gt;node1</title>\n",
       "<path fill=\"none\" stroke=\"black\" d=\"M126.65,-144.76C122.38,-136.46 117.08,-126.15 112.27,-116.79\"/>\n",
       "<polygon fill=\"black\" stroke=\"black\" points=\"114.99,-115.44 107.3,-108.15 108.77,-118.64 114.99,-115.44\"/>\n",
       "</g>\n",
       "<!-- node2 -->\n",
       "<g id=\"node3\" class=\"node\">\n",
       "<title>node2</title>\n",
       "<ellipse fill=\"none\" stroke=\"black\" cx=\"171\" cy=\"-90\" rx=\"27\" ry=\"18\"/>\n",
       "<text text-anchor=\"middle\" x=\"171\" y=\"-85.8\" font-family=\"Times,serif\" font-size=\"14.00\">19</text>\n",
       "</g>\n",
       "<!-- node0&#45;&gt;node2 -->\n",
       "<g id=\"edge2\" class=\"edge\">\n",
       "<title>node0&#45;&gt;node2</title>\n",
       "<path fill=\"none\" stroke=\"black\" d=\"M143.35,-144.76C147.62,-136.46 152.92,-126.15 157.73,-116.79\"/>\n",
       "<polygon fill=\"black\" stroke=\"black\" points=\"161.23,-118.64 162.7,-108.15 155.01,-115.44 161.23,-118.64\"/>\n",
       "</g>\n",
       "<!-- node3 -->\n",
       "<g id=\"node4\" class=\"node\">\n",
       "<title>node3</title>\n",
       "<text text-anchor=\"middle\" x=\"27\" y=\"-13.8\" font-family=\"Times,serif\" font-size=\"14.00\">NULL</text>\n",
       "</g>\n",
       "<!-- node1&#45;&gt;node3 -->\n",
       "<g id=\"edge3\" class=\"edge\">\n",
       "<title>node1&#45;&gt;node3</title>\n",
       "<path fill=\"none\" stroke=\"black\" d=\"M84.08,-74.5C74.89,-65.56 62.87,-53.87 52.23,-43.53\"/>\n",
       "<polygon fill=\"black\" stroke=\"black\" points=\"55.04,-41.41 45.43,-36.95 50.17,-46.43 55.04,-41.41\"/>\n",
       "</g>\n",
       "<!-- node4 -->\n",
       "<g id=\"node5\" class=\"node\">\n",
       "<title>node4</title>\n",
       "<ellipse fill=\"none\" stroke=\"black\" cx=\"99\" cy=\"-18\" rx=\"27\" ry=\"18\"/>\n",
       "<text text-anchor=\"middle\" x=\"99\" y=\"-13.8\" font-family=\"Times,serif\" font-size=\"14.00\">37</text>\n",
       "</g>\n",
       "<!-- node1&#45;&gt;node4 -->\n",
       "<g id=\"edge4\" class=\"edge\">\n",
       "<title>node1&#45;&gt;node4</title>\n",
       "<path fill=\"none\" stroke=\"black\" d=\"M99,-71.7C99,-64.24 99,-55.32 99,-46.97\"/>\n",
       "<polygon fill=\"black\" stroke=\"black\" points=\"102.5,-47.1 99,-37.1 95.5,-47.1 102.5,-47.1\"/>\n",
       "</g>\n",
       "<!-- node5 -->\n",
       "<g id=\"node6\" class=\"node\">\n",
       "<title>node5</title>\n",
       "<ellipse fill=\"none\" stroke=\"black\" cx=\"171\" cy=\"-18\" rx=\"27\" ry=\"18\"/>\n",
       "<text text-anchor=\"middle\" x=\"171\" y=\"-13.8\" font-family=\"Times,serif\" font-size=\"14.00\">98</text>\n",
       "</g>\n",
       "<!-- node2&#45;&gt;node5 -->\n",
       "<g id=\"edge5\" class=\"edge\">\n",
       "<title>node2&#45;&gt;node5</title>\n",
       "<path fill=\"none\" stroke=\"black\" d=\"M171,-71.7C171,-64.24 171,-55.32 171,-46.97\"/>\n",
       "<polygon fill=\"black\" stroke=\"black\" points=\"174.5,-47.1 171,-37.1 167.5,-47.1 174.5,-47.1\"/>\n",
       "</g>\n",
       "<!-- node6 -->\n",
       "<g id=\"node7\" class=\"node\">\n",
       "<title>node6</title>\n",
       "<ellipse fill=\"none\" stroke=\"black\" cx=\"243\" cy=\"-18\" rx=\"27\" ry=\"18\"/>\n",
       "<text text-anchor=\"middle\" x=\"243\" y=\"-13.8\" font-family=\"Times,serif\" font-size=\"14.00\">62</text>\n",
       "</g>\n",
       "<!-- node2&#45;&gt;node6 -->\n",
       "<g id=\"edge6\" class=\"edge\">\n",
       "<title>node2&#45;&gt;node6</title>\n",
       "<path fill=\"none\" stroke=\"black\" d=\"M185.92,-74.5C195.86,-64.83 209.12,-51.94 220.35,-41.02\"/>\n",
       "<polygon fill=\"black\" stroke=\"black\" points=\"222.37,-43.97 227.1,-34.49 217.49,-38.95 222.37,-43.97\"/>\n",
       "</g>\n",
       "</g>\n",
       "</svg>\n"
      ],
      "text/plain": [
       "<graphviz.graphs.Digraph at 0x111ad9270>"
      ]
     },
     "metadata": {},
     "output_type": "display_data"
    }
   ],
   "source": [
    "display(arraybintree.get_digraph_simple())"
   ]
  },
  {
   "cell_type": "code",
   "execution_count": 21,
   "metadata": {},
   "outputs": [],
   "source": [
    "arraybintree.array[3] = 25"
   ]
  },
  {
   "cell_type": "code",
   "execution_count": 22,
   "metadata": {},
   "outputs": [
    {
     "name": "stdout",
     "output_type": "stream",
     "text": [
      "[10  5 19 25 37 98 62]\n"
     ]
    }
   ],
   "source": [
    "print(arraybintree.array)"
   ]
  },
  {
   "cell_type": "code",
   "execution_count": 23,
   "metadata": {},
   "outputs": [
    {
     "data": {
      "image/svg+xml": [
       "<?xml version=\"1.0\" encoding=\"UTF-8\" standalone=\"no\"?>\n",
       "<!DOCTYPE svg PUBLIC \"-//W3C//DTD SVG 1.1//EN\"\n",
       " \"http://www.w3.org/Graphics/SVG/1.1/DTD/svg11.dtd\">\n",
       "<!-- Generated by graphviz version 8.1.0 (20230707.0739)\n",
       " -->\n",
       "<!-- Pages: 1 -->\n",
       "<svg width=\"278pt\" height=\"188pt\"\n",
       " viewBox=\"0.00 0.00 278.00 188.00\" xmlns=\"http://www.w3.org/2000/svg\" xmlns:xlink=\"http://www.w3.org/1999/xlink\">\n",
       "<g id=\"graph0\" class=\"graph\" transform=\"scale(1 1) rotate(0) translate(4 184)\">\n",
       "<polygon fill=\"white\" stroke=\"none\" points=\"-4,4 -4,-184 274,-184 274,4 -4,4\"/>\n",
       "<!-- node0 -->\n",
       "<g id=\"node1\" class=\"node\">\n",
       "<title>node0</title>\n",
       "<ellipse fill=\"none\" stroke=\"black\" cx=\"135\" cy=\"-162\" rx=\"27\" ry=\"18\"/>\n",
       "<text text-anchor=\"middle\" x=\"135\" y=\"-157.8\" font-family=\"Times,serif\" font-size=\"14.00\">10</text>\n",
       "</g>\n",
       "<!-- node1 -->\n",
       "<g id=\"node2\" class=\"node\">\n",
       "<title>node1</title>\n",
       "<ellipse fill=\"none\" stroke=\"black\" cx=\"99\" cy=\"-90\" rx=\"27\" ry=\"18\"/>\n",
       "<text text-anchor=\"middle\" x=\"99\" y=\"-85.8\" font-family=\"Times,serif\" font-size=\"14.00\">5</text>\n",
       "</g>\n",
       "<!-- node0&#45;&gt;node1 -->\n",
       "<g id=\"edge1\" class=\"edge\">\n",
       "<title>node0&#45;&gt;node1</title>\n",
       "<path fill=\"none\" stroke=\"black\" d=\"M126.65,-144.76C122.38,-136.46 117.08,-126.15 112.27,-116.79\"/>\n",
       "<polygon fill=\"black\" stroke=\"black\" points=\"114.99,-115.44 107.3,-108.15 108.77,-118.64 114.99,-115.44\"/>\n",
       "</g>\n",
       "<!-- node2 -->\n",
       "<g id=\"node3\" class=\"node\">\n",
       "<title>node2</title>\n",
       "<ellipse fill=\"none\" stroke=\"black\" cx=\"171\" cy=\"-90\" rx=\"27\" ry=\"18\"/>\n",
       "<text text-anchor=\"middle\" x=\"171\" y=\"-85.8\" font-family=\"Times,serif\" font-size=\"14.00\">19</text>\n",
       "</g>\n",
       "<!-- node0&#45;&gt;node2 -->\n",
       "<g id=\"edge2\" class=\"edge\">\n",
       "<title>node0&#45;&gt;node2</title>\n",
       "<path fill=\"none\" stroke=\"black\" d=\"M143.35,-144.76C147.62,-136.46 152.92,-126.15 157.73,-116.79\"/>\n",
       "<polygon fill=\"black\" stroke=\"black\" points=\"161.23,-118.64 162.7,-108.15 155.01,-115.44 161.23,-118.64\"/>\n",
       "</g>\n",
       "<!-- node3 -->\n",
       "<g id=\"node4\" class=\"node\">\n",
       "<title>node3</title>\n",
       "<ellipse fill=\"none\" stroke=\"black\" cx=\"27\" cy=\"-18\" rx=\"27\" ry=\"18\"/>\n",
       "<text text-anchor=\"middle\" x=\"27\" y=\"-13.8\" font-family=\"Times,serif\" font-size=\"14.00\">25</text>\n",
       "</g>\n",
       "<!-- node1&#45;&gt;node3 -->\n",
       "<g id=\"edge3\" class=\"edge\">\n",
       "<title>node1&#45;&gt;node3</title>\n",
       "<path fill=\"none\" stroke=\"black\" d=\"M84.08,-74.5C74.14,-64.83 60.88,-51.94 49.65,-41.02\"/>\n",
       "<polygon fill=\"black\" stroke=\"black\" points=\"52.51,-38.95 42.9,-34.49 47.63,-43.97 52.51,-38.95\"/>\n",
       "</g>\n",
       "<!-- node4 -->\n",
       "<g id=\"node5\" class=\"node\">\n",
       "<title>node4</title>\n",
       "<ellipse fill=\"none\" stroke=\"black\" cx=\"99\" cy=\"-18\" rx=\"27\" ry=\"18\"/>\n",
       "<text text-anchor=\"middle\" x=\"99\" y=\"-13.8\" font-family=\"Times,serif\" font-size=\"14.00\">37</text>\n",
       "</g>\n",
       "<!-- node1&#45;&gt;node4 -->\n",
       "<g id=\"edge4\" class=\"edge\">\n",
       "<title>node1&#45;&gt;node4</title>\n",
       "<path fill=\"none\" stroke=\"black\" d=\"M99,-71.7C99,-64.24 99,-55.32 99,-46.97\"/>\n",
       "<polygon fill=\"black\" stroke=\"black\" points=\"102.5,-47.1 99,-37.1 95.5,-47.1 102.5,-47.1\"/>\n",
       "</g>\n",
       "<!-- node5 -->\n",
       "<g id=\"node6\" class=\"node\">\n",
       "<title>node5</title>\n",
       "<ellipse fill=\"none\" stroke=\"black\" cx=\"171\" cy=\"-18\" rx=\"27\" ry=\"18\"/>\n",
       "<text text-anchor=\"middle\" x=\"171\" y=\"-13.8\" font-family=\"Times,serif\" font-size=\"14.00\">98</text>\n",
       "</g>\n",
       "<!-- node2&#45;&gt;node5 -->\n",
       "<g id=\"edge5\" class=\"edge\">\n",
       "<title>node2&#45;&gt;node5</title>\n",
       "<path fill=\"none\" stroke=\"black\" d=\"M171,-71.7C171,-64.24 171,-55.32 171,-46.97\"/>\n",
       "<polygon fill=\"black\" stroke=\"black\" points=\"174.5,-47.1 171,-37.1 167.5,-47.1 174.5,-47.1\"/>\n",
       "</g>\n",
       "<!-- node6 -->\n",
       "<g id=\"node7\" class=\"node\">\n",
       "<title>node6</title>\n",
       "<ellipse fill=\"none\" stroke=\"black\" cx=\"243\" cy=\"-18\" rx=\"27\" ry=\"18\"/>\n",
       "<text text-anchor=\"middle\" x=\"243\" y=\"-13.8\" font-family=\"Times,serif\" font-size=\"14.00\">62</text>\n",
       "</g>\n",
       "<!-- node2&#45;&gt;node6 -->\n",
       "<g id=\"edge6\" class=\"edge\">\n",
       "<title>node2&#45;&gt;node6</title>\n",
       "<path fill=\"none\" stroke=\"black\" d=\"M185.92,-74.5C195.86,-64.83 209.12,-51.94 220.35,-41.02\"/>\n",
       "<polygon fill=\"black\" stroke=\"black\" points=\"222.37,-43.97 227.1,-34.49 217.49,-38.95 222.37,-43.97\"/>\n",
       "</g>\n",
       "</g>\n",
       "</svg>\n"
      ],
      "text/plain": [
       "<graphviz.graphs.Digraph at 0x111ada1d0>"
      ]
     },
     "metadata": {},
     "output_type": "display_data"
    }
   ],
   "source": [
    "display(arraybintree.get_digraph_simple())"
   ]
  },
  {
   "cell_type": "code",
   "execution_count": 24,
   "metadata": {},
   "outputs": [
    {
     "data": {
      "text/plain": [
       "[10, 5, 25, 37, 19, 98, 62]"
      ]
     },
     "execution_count": 24,
     "metadata": {},
     "output_type": "execute_result"
    }
   ],
   "source": [
    "arraybintree.get_preorder()"
   ]
  },
  {
   "cell_type": "code",
   "execution_count": 25,
   "metadata": {},
   "outputs": [
    {
     "data": {
      "text/plain": [
       "[25, 5, 37, 10, 98, 19, 62]"
      ]
     },
     "execution_count": 25,
     "metadata": {},
     "output_type": "execute_result"
    }
   ],
   "source": [
    "arraybintree.get_inorder()"
   ]
  },
  {
   "cell_type": "code",
   "execution_count": 27,
   "metadata": {},
   "outputs": [
    {
     "data": {
      "text/plain": [
       "[25, 37, 5, 98, 62, 19, 10]"
      ]
     },
     "execution_count": 27,
     "metadata": {},
     "output_type": "execute_result"
    }
   ],
   "source": [
    "arraybintree.get_postorder()"
   ]
  },
  {
   "cell_type": "markdown",
   "metadata": {},
   "source": [
    "### *Binary Tree* dengan *pointer* (*linked binary tree*)"
   ]
  },
  {
   "cell_type": "code",
   "execution_count": 17,
   "metadata": {},
   "outputs": [],
   "source": [
    "class BintreeNode:\n",
    "    def __init__(self, data, left=None, right=None):\n",
    "        self.data = data\n",
    "        self.left = left\n",
    "        self.right = right"
   ]
  },
  {
   "cell_type": "code",
   "execution_count": 41,
   "metadata": {},
   "outputs": [],
   "source": [
    "class LinkedBintree:\n",
    "    def __init__(self):\n",
    "        self.root = None\n",
    "\n",
    "    def is_empty(self):\n",
    "        if self.root == None:\n",
    "            return True\n",
    "        else:\n",
    "            return False\n",
    "\n",
    "    def get_root_data(self):\n",
    "        if self.is_empty():\n",
    "            print(\"Error get_root_data: tree sedang kosong\")\n",
    "            return None\n",
    "        else:\n",
    "            return self.root.data\n",
    "\n",
    "    def set_root_data(self, newdata):\n",
    "        if self.is_empty():\n",
    "            self.root = BintreeNode(newdata)\n",
    "        else:\n",
    "            self.root.data = newdata\n",
    "\n",
    "    # preorder: tengah, kiri, kanan\n",
    "    def get_preorder(self, current=None, result=None, get_addresses=False):\n",
    "        is_starting_node = False\n",
    "        if result == None:\n",
    "            is_starting_node = True\n",
    "            result = []\n",
    "            current = self.root\n",
    "\n",
    "        if current != None:\n",
    "            # tengah\n",
    "            if (not get_addresses):\n",
    "                result.append(current.data)\n",
    "            else:\n",
    "                result.append(current)\n",
    "\n",
    "            # kiri\n",
    "            if current.left != None:\n",
    "                self.get_preorder(current.left, result=result)\n",
    "            \n",
    "            # kanan\n",
    "            if current.right != None:\n",
    "                self.get_preorder(current.right, result=result)\n",
    "\n",
    "        if is_starting_node:\n",
    "            return result\n",
    "\n",
    "    # inorder: kiri, tengah, kanan\n",
    "    def get_inorder(self, current=None, result=None, get_addresses=False):\n",
    "        is_starting_node = False\n",
    "        if result == None:\n",
    "            is_starting_node = True\n",
    "            result = []\n",
    "            current = self.root\n",
    "\n",
    "        if current != None:\n",
    "            # kiri\n",
    "            if current.left != None:\n",
    "                self.get_inorder(current.left, result=result)\n",
    "            \n",
    "            # tengah\n",
    "            if (not get_addresses):\n",
    "                result.append(current.data)\n",
    "            else:\n",
    "                result.append(current)\n",
    "\n",
    "            # kanan\n",
    "            if current.right != None:\n",
    "                self.get_inorder(current.right, result=result)\n",
    "\n",
    "        if is_starting_node:\n",
    "            return result\n",
    "\n",
    "    # postorder: kiri, kanan, tengah\n",
    "    def get_postorder(self, current=None, result=None, get_addresses=False):\n",
    "        is_starting_node = False\n",
    "        if result == None:\n",
    "            is_starting_node = True\n",
    "            result = []\n",
    "            current = self.root\n",
    "\n",
    "        if current != None:\n",
    "            # kiri\n",
    "            if current.left != None:\n",
    "                self.get_postorder(current.left, result=result)\n",
    "            \n",
    "            # kanan\n",
    "            if current.right != None:\n",
    "                self.get_postorder(current.right, result=result)\n",
    "\n",
    "            # tengah\n",
    "            if (not get_addresses):\n",
    "                result.append(current.data)\n",
    "            else:\n",
    "                result.append(current)\n",
    "\n",
    "        if is_starting_node:\n",
    "            return result\n",
    "\n",
    "    # berdasarkan algoritma preorder traversal :D\n",
    "    def get_digraph_simple(self, current=None, node_name=None, result=None):\n",
    "        is_starting_node = False\n",
    "        if result == None:\n",
    "            is_starting_node = True\n",
    "            result = gv.Digraph()\n",
    "            current = self.root\n",
    "            node_name = \"root\"\n",
    "        \n",
    "        if current != None:\n",
    "            # tengah\n",
    "            result.node(node_name, label=str(current.data))\n",
    "\n",
    "            # kiri\n",
    "            left_name = node_name + \"->left\"\n",
    "            result.edge(node_name, left_name)\n",
    "            self.get_digraph_simple(\n",
    "                current=current.left, node_name=left_name, result=result\n",
    "            )\n",
    "            \n",
    "            # kanan\n",
    "            right_name = node_name + \"->right\"\n",
    "            self.get_digraph_simple(\n",
    "                current=current.right, node_name=right_name, result=result\n",
    "            )\n",
    "            result.edge(node_name, right_name)\n",
    "        else:\n",
    "            result.node(node_name, label=\"NULL\", shape=\"none\")\n",
    "        \n",
    "        if is_starting_node:\n",
    "            return result"
   ]
  },
  {
   "cell_type": "code",
   "execution_count": 42,
   "metadata": {},
   "outputs": [],
   "source": [
    "linkedbintree = LinkedBintree()"
   ]
  },
  {
   "cell_type": "code",
   "execution_count": 43,
   "metadata": {},
   "outputs": [
    {
     "name": "stdout",
     "output_type": "stream",
     "text": [
      "None\n"
     ]
    }
   ],
   "source": [
    "print(linkedbintree.root)"
   ]
  },
  {
   "cell_type": "code",
   "execution_count": 44,
   "metadata": {},
   "outputs": [],
   "source": [
    "linkedbintree.root = BintreeNode(26)"
   ]
  },
  {
   "cell_type": "code",
   "execution_count": 45,
   "metadata": {},
   "outputs": [
    {
     "name": "stdout",
     "output_type": "stream",
     "text": [
      "<__main__.BintreeNode object at 0x1152357b0>\n"
     ]
    }
   ],
   "source": [
    "print(linkedbintree.root)"
   ]
  },
  {
   "cell_type": "code",
   "execution_count": 46,
   "metadata": {},
   "outputs": [
    {
     "name": "stdout",
     "output_type": "stream",
     "text": [
      "26\n"
     ]
    }
   ],
   "source": [
    "print(linkedbintree.root.data)"
   ]
  },
  {
   "cell_type": "code",
   "execution_count": 47,
   "metadata": {},
   "outputs": [],
   "source": [
    "linkedbintree.root.left = BintreeNode(89)\n",
    "linkedbintree.root.right = BintreeNode(54)"
   ]
  },
  {
   "cell_type": "code",
   "execution_count": 48,
   "metadata": {},
   "outputs": [
    {
     "data": {
      "image/svg+xml": [
       "<?xml version=\"1.0\" encoding=\"UTF-8\" standalone=\"no\"?>\n",
       "<!DOCTYPE svg PUBLIC \"-//W3C//DTD SVG 1.1//EN\"\n",
       " \"http://www.w3.org/Graphics/SVG/1.1/DTD/svg11.dtd\">\n",
       "<!-- Generated by graphviz version 8.1.0 (20230707.0739)\n",
       " -->\n",
       "<!-- Pages: 1 -->\n",
       "<svg width=\"278pt\" height=\"188pt\"\n",
       " viewBox=\"0.00 0.00 278.00 188.00\" xmlns=\"http://www.w3.org/2000/svg\" xmlns:xlink=\"http://www.w3.org/1999/xlink\">\n",
       "<g id=\"graph0\" class=\"graph\" transform=\"scale(1 1) rotate(0) translate(4 184)\">\n",
       "<polygon fill=\"white\" stroke=\"none\" points=\"-4,4 -4,-184 274,-184 274,4 -4,4\"/>\n",
       "<!-- root -->\n",
       "<g id=\"node1\" class=\"node\">\n",
       "<title>root</title>\n",
       "<ellipse fill=\"none\" stroke=\"black\" cx=\"135\" cy=\"-162\" rx=\"27\" ry=\"18\"/>\n",
       "<text text-anchor=\"middle\" x=\"135\" y=\"-157.8\" font-family=\"Times,serif\" font-size=\"14.00\">26</text>\n",
       "</g>\n",
       "<!-- root&#45;&gt;left -->\n",
       "<g id=\"node2\" class=\"node\">\n",
       "<title>root&#45;&gt;left</title>\n",
       "<ellipse fill=\"none\" stroke=\"black\" cx=\"99\" cy=\"-90\" rx=\"27\" ry=\"18\"/>\n",
       "<text text-anchor=\"middle\" x=\"99\" y=\"-85.8\" font-family=\"Times,serif\" font-size=\"14.00\">89</text>\n",
       "</g>\n",
       "<!-- root&#45;&gt;root&#45;&gt;left -->\n",
       "<g id=\"edge1\" class=\"edge\">\n",
       "<title>root&#45;&gt;root&#45;&gt;left</title>\n",
       "<path fill=\"none\" stroke=\"black\" d=\"M126.65,-144.76C122.38,-136.46 117.08,-126.15 112.27,-116.79\"/>\n",
       "<polygon fill=\"black\" stroke=\"black\" points=\"114.99,-115.44 107.3,-108.15 108.77,-118.64 114.99,-115.44\"/>\n",
       "</g>\n",
       "<!-- root&#45;&gt;right -->\n",
       "<g id=\"node5\" class=\"node\">\n",
       "<title>root&#45;&gt;right</title>\n",
       "<ellipse fill=\"none\" stroke=\"black\" cx=\"171\" cy=\"-90\" rx=\"27\" ry=\"18\"/>\n",
       "<text text-anchor=\"middle\" x=\"171\" y=\"-85.8\" font-family=\"Times,serif\" font-size=\"14.00\">54</text>\n",
       "</g>\n",
       "<!-- root&#45;&gt;root&#45;&gt;right -->\n",
       "<g id=\"edge6\" class=\"edge\">\n",
       "<title>root&#45;&gt;root&#45;&gt;right</title>\n",
       "<path fill=\"none\" stroke=\"black\" d=\"M143.35,-144.76C147.62,-136.46 152.92,-126.15 157.73,-116.79\"/>\n",
       "<polygon fill=\"black\" stroke=\"black\" points=\"161.23,-118.64 162.7,-108.15 155.01,-115.44 161.23,-118.64\"/>\n",
       "</g>\n",
       "<!-- root&#45;&gt;left&#45;&gt;left -->\n",
       "<g id=\"node3\" class=\"node\">\n",
       "<title>root&#45;&gt;left&#45;&gt;left</title>\n",
       "<text text-anchor=\"middle\" x=\"27\" y=\"-13.8\" font-family=\"Times,serif\" font-size=\"14.00\">NULL</text>\n",
       "</g>\n",
       "<!-- root&#45;&gt;left&#45;&gt;root&#45;&gt;left&#45;&gt;left -->\n",
       "<g id=\"edge2\" class=\"edge\">\n",
       "<title>root&#45;&gt;left&#45;&gt;root&#45;&gt;left&#45;&gt;left</title>\n",
       "<path fill=\"none\" stroke=\"black\" d=\"M84.08,-74.5C74.89,-65.56 62.87,-53.87 52.23,-43.53\"/>\n",
       "<polygon fill=\"black\" stroke=\"black\" points=\"55.04,-41.41 45.43,-36.95 50.17,-46.43 55.04,-41.41\"/>\n",
       "</g>\n",
       "<!-- root&#45;&gt;left&#45;&gt;right -->\n",
       "<g id=\"node4\" class=\"node\">\n",
       "<title>root&#45;&gt;left&#45;&gt;right</title>\n",
       "<text text-anchor=\"middle\" x=\"99\" y=\"-13.8\" font-family=\"Times,serif\" font-size=\"14.00\">NULL</text>\n",
       "</g>\n",
       "<!-- root&#45;&gt;left&#45;&gt;root&#45;&gt;left&#45;&gt;right -->\n",
       "<g id=\"edge3\" class=\"edge\">\n",
       "<title>root&#45;&gt;left&#45;&gt;root&#45;&gt;left&#45;&gt;right</title>\n",
       "<path fill=\"none\" stroke=\"black\" d=\"M99,-71.7C99,-64.13 99,-55.06 99,-46.59\"/>\n",
       "<polygon fill=\"black\" stroke=\"black\" points=\"102.5,-46.62 99,-36.62 95.5,-46.62 102.5,-46.62\"/>\n",
       "</g>\n",
       "<!-- root&#45;&gt;right&#45;&gt;left -->\n",
       "<g id=\"node6\" class=\"node\">\n",
       "<title>root&#45;&gt;right&#45;&gt;left</title>\n",
       "<text text-anchor=\"middle\" x=\"171\" y=\"-13.8\" font-family=\"Times,serif\" font-size=\"14.00\">NULL</text>\n",
       "</g>\n",
       "<!-- root&#45;&gt;right&#45;&gt;root&#45;&gt;right&#45;&gt;left -->\n",
       "<g id=\"edge4\" class=\"edge\">\n",
       "<title>root&#45;&gt;right&#45;&gt;root&#45;&gt;right&#45;&gt;left</title>\n",
       "<path fill=\"none\" stroke=\"black\" d=\"M171,-71.7C171,-64.13 171,-55.06 171,-46.59\"/>\n",
       "<polygon fill=\"black\" stroke=\"black\" points=\"174.5,-46.62 171,-36.62 167.5,-46.62 174.5,-46.62\"/>\n",
       "</g>\n",
       "<!-- root&#45;&gt;right&#45;&gt;right -->\n",
       "<g id=\"node7\" class=\"node\">\n",
       "<title>root&#45;&gt;right&#45;&gt;right</title>\n",
       "<text text-anchor=\"middle\" x=\"243\" y=\"-13.8\" font-family=\"Times,serif\" font-size=\"14.00\">NULL</text>\n",
       "</g>\n",
       "<!-- root&#45;&gt;right&#45;&gt;root&#45;&gt;right&#45;&gt;right -->\n",
       "<g id=\"edge5\" class=\"edge\">\n",
       "<title>root&#45;&gt;right&#45;&gt;root&#45;&gt;right&#45;&gt;right</title>\n",
       "<path fill=\"none\" stroke=\"black\" d=\"M185.92,-74.5C195.11,-65.56 207.13,-53.87 217.77,-43.53\"/>\n",
       "<polygon fill=\"black\" stroke=\"black\" points=\"219.83,-46.43 224.57,-36.95 214.96,-41.41 219.83,-46.43\"/>\n",
       "</g>\n",
       "</g>\n",
       "</svg>\n"
      ],
      "text/plain": [
       "<graphviz.graphs.Digraph at 0x115236680>"
      ]
     },
     "metadata": {},
     "output_type": "display_data"
    }
   ],
   "source": [
    "display(linkedbintree.get_digraph_simple())"
   ]
  },
  {
   "cell_type": "code",
   "execution_count": 49,
   "metadata": {},
   "outputs": [],
   "source": [
    "linkedbintree.root.left.right = BintreeNode(43)"
   ]
  },
  {
   "cell_type": "code",
   "execution_count": 50,
   "metadata": {},
   "outputs": [
    {
     "data": {
      "image/svg+xml": [
       "<?xml version=\"1.0\" encoding=\"UTF-8\" standalone=\"no\"?>\n",
       "<!DOCTYPE svg PUBLIC \"-//W3C//DTD SVG 1.1//EN\"\n",
       " \"http://www.w3.org/Graphics/SVG/1.1/DTD/svg11.dtd\">\n",
       "<!-- Generated by graphviz version 8.1.0 (20230707.0739)\n",
       " -->\n",
       "<!-- Pages: 1 -->\n",
       "<svg width=\"278pt\" height=\"260pt\"\n",
       " viewBox=\"0.00 0.00 278.00 260.00\" xmlns=\"http://www.w3.org/2000/svg\" xmlns:xlink=\"http://www.w3.org/1999/xlink\">\n",
       "<g id=\"graph0\" class=\"graph\" transform=\"scale(1 1) rotate(0) translate(4 256)\">\n",
       "<polygon fill=\"white\" stroke=\"none\" points=\"-4,4 -4,-256 274,-256 274,4 -4,4\"/>\n",
       "<!-- root -->\n",
       "<g id=\"node1\" class=\"node\">\n",
       "<title>root</title>\n",
       "<ellipse fill=\"none\" stroke=\"black\" cx=\"135\" cy=\"-234\" rx=\"27\" ry=\"18\"/>\n",
       "<text text-anchor=\"middle\" x=\"135\" y=\"-229.8\" font-family=\"Times,serif\" font-size=\"14.00\">26</text>\n",
       "</g>\n",
       "<!-- root&#45;&gt;left -->\n",
       "<g id=\"node2\" class=\"node\">\n",
       "<title>root&#45;&gt;left</title>\n",
       "<ellipse fill=\"none\" stroke=\"black\" cx=\"99\" cy=\"-162\" rx=\"27\" ry=\"18\"/>\n",
       "<text text-anchor=\"middle\" x=\"99\" y=\"-157.8\" font-family=\"Times,serif\" font-size=\"14.00\">89</text>\n",
       "</g>\n",
       "<!-- root&#45;&gt;root&#45;&gt;left -->\n",
       "<g id=\"edge1\" class=\"edge\">\n",
       "<title>root&#45;&gt;root&#45;&gt;left</title>\n",
       "<path fill=\"none\" stroke=\"black\" d=\"M126.65,-216.76C122.38,-208.46 117.08,-198.15 112.27,-188.79\"/>\n",
       "<polygon fill=\"black\" stroke=\"black\" points=\"114.99,-187.44 107.3,-180.15 108.77,-190.64 114.99,-187.44\"/>\n",
       "</g>\n",
       "<!-- root&#45;&gt;right -->\n",
       "<g id=\"node7\" class=\"node\">\n",
       "<title>root&#45;&gt;right</title>\n",
       "<ellipse fill=\"none\" stroke=\"black\" cx=\"171\" cy=\"-162\" rx=\"27\" ry=\"18\"/>\n",
       "<text text-anchor=\"middle\" x=\"171\" y=\"-157.8\" font-family=\"Times,serif\" font-size=\"14.00\">54</text>\n",
       "</g>\n",
       "<!-- root&#45;&gt;root&#45;&gt;right -->\n",
       "<g id=\"edge8\" class=\"edge\">\n",
       "<title>root&#45;&gt;root&#45;&gt;right</title>\n",
       "<path fill=\"none\" stroke=\"black\" d=\"M143.35,-216.76C147.62,-208.46 152.92,-198.15 157.73,-188.79\"/>\n",
       "<polygon fill=\"black\" stroke=\"black\" points=\"161.23,-190.64 162.7,-180.15 155.01,-187.44 161.23,-190.64\"/>\n",
       "</g>\n",
       "<!-- root&#45;&gt;left&#45;&gt;left -->\n",
       "<g id=\"node3\" class=\"node\">\n",
       "<title>root&#45;&gt;left&#45;&gt;left</title>\n",
       "<text text-anchor=\"middle\" x=\"27\" y=\"-85.8\" font-family=\"Times,serif\" font-size=\"14.00\">NULL</text>\n",
       "</g>\n",
       "<!-- root&#45;&gt;left&#45;&gt;root&#45;&gt;left&#45;&gt;left -->\n",
       "<g id=\"edge2\" class=\"edge\">\n",
       "<title>root&#45;&gt;left&#45;&gt;root&#45;&gt;left&#45;&gt;left</title>\n",
       "<path fill=\"none\" stroke=\"black\" d=\"M84.08,-146.5C74.89,-137.56 62.87,-125.87 52.23,-115.53\"/>\n",
       "<polygon fill=\"black\" stroke=\"black\" points=\"55.04,-113.41 45.43,-108.95 50.17,-118.43 55.04,-113.41\"/>\n",
       "</g>\n",
       "<!-- root&#45;&gt;left&#45;&gt;right -->\n",
       "<g id=\"node4\" class=\"node\">\n",
       "<title>root&#45;&gt;left&#45;&gt;right</title>\n",
       "<ellipse fill=\"none\" stroke=\"black\" cx=\"99\" cy=\"-90\" rx=\"27\" ry=\"18\"/>\n",
       "<text text-anchor=\"middle\" x=\"99\" y=\"-85.8\" font-family=\"Times,serif\" font-size=\"14.00\">43</text>\n",
       "</g>\n",
       "<!-- root&#45;&gt;left&#45;&gt;root&#45;&gt;left&#45;&gt;right -->\n",
       "<g id=\"edge5\" class=\"edge\">\n",
       "<title>root&#45;&gt;left&#45;&gt;root&#45;&gt;left&#45;&gt;right</title>\n",
       "<path fill=\"none\" stroke=\"black\" d=\"M99,-143.7C99,-136.24 99,-127.32 99,-118.97\"/>\n",
       "<polygon fill=\"black\" stroke=\"black\" points=\"102.5,-119.1 99,-109.1 95.5,-119.1 102.5,-119.1\"/>\n",
       "</g>\n",
       "<!-- root&#45;&gt;left&#45;&gt;right&#45;&gt;left -->\n",
       "<g id=\"node5\" class=\"node\">\n",
       "<title>root&#45;&gt;left&#45;&gt;right&#45;&gt;left</title>\n",
       "<text text-anchor=\"middle\" x=\"63\" y=\"-13.8\" font-family=\"Times,serif\" font-size=\"14.00\">NULL</text>\n",
       "</g>\n",
       "<!-- root&#45;&gt;left&#45;&gt;right&#45;&gt;root&#45;&gt;left&#45;&gt;right&#45;&gt;left -->\n",
       "<g id=\"edge3\" class=\"edge\">\n",
       "<title>root&#45;&gt;left&#45;&gt;right&#45;&gt;root&#45;&gt;left&#45;&gt;right&#45;&gt;left</title>\n",
       "<path fill=\"none\" stroke=\"black\" d=\"M90.65,-72.76C86.44,-64.58 81.23,-54.45 76.47,-45.2\"/>\n",
       "<polygon fill=\"black\" stroke=\"black\" points=\"79.24,-43.93 71.55,-36.63 73.02,-47.13 79.24,-43.93\"/>\n",
       "</g>\n",
       "<!-- root&#45;&gt;left&#45;&gt;right&#45;&gt;right -->\n",
       "<g id=\"node6\" class=\"node\">\n",
       "<title>root&#45;&gt;left&#45;&gt;right&#45;&gt;right</title>\n",
       "<text text-anchor=\"middle\" x=\"135\" y=\"-13.8\" font-family=\"Times,serif\" font-size=\"14.00\">NULL</text>\n",
       "</g>\n",
       "<!-- root&#45;&gt;left&#45;&gt;right&#45;&gt;root&#45;&gt;left&#45;&gt;right&#45;&gt;right -->\n",
       "<g id=\"edge4\" class=\"edge\">\n",
       "<title>root&#45;&gt;left&#45;&gt;right&#45;&gt;root&#45;&gt;left&#45;&gt;right&#45;&gt;right</title>\n",
       "<path fill=\"none\" stroke=\"black\" d=\"M107.35,-72.76C111.56,-64.58 116.77,-54.45 121.53,-45.2\"/>\n",
       "<polygon fill=\"black\" stroke=\"black\" points=\"124.98,-47.13 126.45,-36.63 118.76,-43.93 124.98,-47.13\"/>\n",
       "</g>\n",
       "<!-- root&#45;&gt;right&#45;&gt;left -->\n",
       "<g id=\"node8\" class=\"node\">\n",
       "<title>root&#45;&gt;right&#45;&gt;left</title>\n",
       "<text text-anchor=\"middle\" x=\"171\" y=\"-85.8\" font-family=\"Times,serif\" font-size=\"14.00\">NULL</text>\n",
       "</g>\n",
       "<!-- root&#45;&gt;right&#45;&gt;root&#45;&gt;right&#45;&gt;left -->\n",
       "<g id=\"edge6\" class=\"edge\">\n",
       "<title>root&#45;&gt;right&#45;&gt;root&#45;&gt;right&#45;&gt;left</title>\n",
       "<path fill=\"none\" stroke=\"black\" d=\"M171,-143.7C171,-136.13 171,-127.06 171,-118.59\"/>\n",
       "<polygon fill=\"black\" stroke=\"black\" points=\"174.5,-118.62 171,-108.62 167.5,-118.62 174.5,-118.62\"/>\n",
       "</g>\n",
       "<!-- root&#45;&gt;right&#45;&gt;right -->\n",
       "<g id=\"node9\" class=\"node\">\n",
       "<title>root&#45;&gt;right&#45;&gt;right</title>\n",
       "<text text-anchor=\"middle\" x=\"243\" y=\"-85.8\" font-family=\"Times,serif\" font-size=\"14.00\">NULL</text>\n",
       "</g>\n",
       "<!-- root&#45;&gt;right&#45;&gt;root&#45;&gt;right&#45;&gt;right -->\n",
       "<g id=\"edge7\" class=\"edge\">\n",
       "<title>root&#45;&gt;right&#45;&gt;root&#45;&gt;right&#45;&gt;right</title>\n",
       "<path fill=\"none\" stroke=\"black\" d=\"M185.92,-146.5C195.11,-137.56 207.13,-125.87 217.77,-115.53\"/>\n",
       "<polygon fill=\"black\" stroke=\"black\" points=\"219.83,-118.43 224.57,-108.95 214.96,-113.41 219.83,-118.43\"/>\n",
       "</g>\n",
       "</g>\n",
       "</svg>\n"
      ],
      "text/plain": [
       "<graphviz.graphs.Digraph at 0x115236fe0>"
      ]
     },
     "metadata": {},
     "output_type": "display_data"
    }
   ],
   "source": [
    "display(linkedbintree.get_digraph_simple())"
   ]
  },
  {
   "cell_type": "code",
   "execution_count": 51,
   "metadata": {},
   "outputs": [
    {
     "name": "stdout",
     "output_type": "stream",
     "text": [
      "43\n"
     ]
    }
   ],
   "source": [
    "print(linkedbintree.root.left.right.data)"
   ]
  },
  {
   "cell_type": "code",
   "execution_count": 52,
   "metadata": {},
   "outputs": [],
   "source": [
    "linkedbintree.root.left.left = BintreeNode(11)\n",
    "linkedbintree.root.right.left = BintreeNode(72)\n",
    "linkedbintree.root.right.right = BintreeNode(35)"
   ]
  },
  {
   "cell_type": "code",
   "execution_count": 53,
   "metadata": {},
   "outputs": [
    {
     "data": {
      "image/svg+xml": [
       "<?xml version=\"1.0\" encoding=\"UTF-8\" standalone=\"no\"?>\n",
       "<!DOCTYPE svg PUBLIC \"-//W3C//DTD SVG 1.1//EN\"\n",
       " \"http://www.w3.org/Graphics/SVG/1.1/DTD/svg11.dtd\">\n",
       "<!-- Generated by graphviz version 8.1.0 (20230707.0739)\n",
       " -->\n",
       "<!-- Pages: 1 -->\n",
       "<svg width=\"566pt\" height=\"260pt\"\n",
       " viewBox=\"0.00 0.00 566.00 260.00\" xmlns=\"http://www.w3.org/2000/svg\" xmlns:xlink=\"http://www.w3.org/1999/xlink\">\n",
       "<g id=\"graph0\" class=\"graph\" transform=\"scale(1 1) rotate(0) translate(4 256)\">\n",
       "<polygon fill=\"white\" stroke=\"none\" points=\"-4,4 -4,-256 562,-256 562,4 -4,4\"/>\n",
       "<!-- root -->\n",
       "<g id=\"node1\" class=\"node\">\n",
       "<title>root</title>\n",
       "<ellipse fill=\"none\" stroke=\"black\" cx=\"279\" cy=\"-234\" rx=\"27\" ry=\"18\"/>\n",
       "<text text-anchor=\"middle\" x=\"279\" y=\"-229.8\" font-family=\"Times,serif\" font-size=\"14.00\">26</text>\n",
       "</g>\n",
       "<!-- root&#45;&gt;left -->\n",
       "<g id=\"node2\" class=\"node\">\n",
       "<title>root&#45;&gt;left</title>\n",
       "<ellipse fill=\"none\" stroke=\"black\" cx=\"207\" cy=\"-162\" rx=\"27\" ry=\"18\"/>\n",
       "<text text-anchor=\"middle\" x=\"207\" y=\"-157.8\" font-family=\"Times,serif\" font-size=\"14.00\">89</text>\n",
       "</g>\n",
       "<!-- root&#45;&gt;root&#45;&gt;left -->\n",
       "<g id=\"edge1\" class=\"edge\">\n",
       "<title>root&#45;&gt;root&#45;&gt;left</title>\n",
       "<path fill=\"none\" stroke=\"black\" d=\"M264.08,-218.5C254.14,-208.83 240.88,-195.94 229.65,-185.02\"/>\n",
       "<polygon fill=\"black\" stroke=\"black\" points=\"232.51,-182.95 222.9,-178.49 227.63,-187.97 232.51,-182.95\"/>\n",
       "</g>\n",
       "<!-- root&#45;&gt;right -->\n",
       "<g id=\"node9\" class=\"node\">\n",
       "<title>root&#45;&gt;right</title>\n",
       "<ellipse fill=\"none\" stroke=\"black\" cx=\"351\" cy=\"-162\" rx=\"27\" ry=\"18\"/>\n",
       "<text text-anchor=\"middle\" x=\"351\" y=\"-157.8\" font-family=\"Times,serif\" font-size=\"14.00\">54</text>\n",
       "</g>\n",
       "<!-- root&#45;&gt;root&#45;&gt;right -->\n",
       "<g id=\"edge14\" class=\"edge\">\n",
       "<title>root&#45;&gt;root&#45;&gt;right</title>\n",
       "<path fill=\"none\" stroke=\"black\" d=\"M293.92,-218.5C303.86,-208.83 317.12,-195.94 328.35,-185.02\"/>\n",
       "<polygon fill=\"black\" stroke=\"black\" points=\"330.37,-187.97 335.1,-178.49 325.49,-182.95 330.37,-187.97\"/>\n",
       "</g>\n",
       "<!-- root&#45;&gt;left&#45;&gt;left -->\n",
       "<g id=\"node3\" class=\"node\">\n",
       "<title>root&#45;&gt;left&#45;&gt;left</title>\n",
       "<ellipse fill=\"none\" stroke=\"black\" cx=\"99\" cy=\"-90\" rx=\"27\" ry=\"18\"/>\n",
       "<text text-anchor=\"middle\" x=\"99\" y=\"-85.8\" font-family=\"Times,serif\" font-size=\"14.00\">11</text>\n",
       "</g>\n",
       "<!-- root&#45;&gt;left&#45;&gt;root&#45;&gt;left&#45;&gt;left -->\n",
       "<g id=\"edge2\" class=\"edge\">\n",
       "<title>root&#45;&gt;left&#45;&gt;root&#45;&gt;left&#45;&gt;left</title>\n",
       "<path fill=\"none\" stroke=\"black\" d=\"M188.19,-148.81C171.33,-137.88 146.38,-121.71 127.15,-109.24\"/>\n",
       "<polygon fill=\"black\" stroke=\"black\" points=\"129.25,-105.79 118.96,-103.29 125.45,-111.66 129.25,-105.79\"/>\n",
       "</g>\n",
       "<!-- root&#45;&gt;left&#45;&gt;right -->\n",
       "<g id=\"node6\" class=\"node\">\n",
       "<title>root&#45;&gt;left&#45;&gt;right</title>\n",
       "<ellipse fill=\"none\" stroke=\"black\" cx=\"207\" cy=\"-90\" rx=\"27\" ry=\"18\"/>\n",
       "<text text-anchor=\"middle\" x=\"207\" y=\"-85.8\" font-family=\"Times,serif\" font-size=\"14.00\">43</text>\n",
       "</g>\n",
       "<!-- root&#45;&gt;left&#45;&gt;root&#45;&gt;left&#45;&gt;right -->\n",
       "<g id=\"edge7\" class=\"edge\">\n",
       "<title>root&#45;&gt;left&#45;&gt;root&#45;&gt;left&#45;&gt;right</title>\n",
       "<path fill=\"none\" stroke=\"black\" d=\"M207,-143.7C207,-136.24 207,-127.32 207,-118.97\"/>\n",
       "<polygon fill=\"black\" stroke=\"black\" points=\"210.5,-119.1 207,-109.1 203.5,-119.1 210.5,-119.1\"/>\n",
       "</g>\n",
       "<!-- root&#45;&gt;left&#45;&gt;left&#45;&gt;left -->\n",
       "<g id=\"node4\" class=\"node\">\n",
       "<title>root&#45;&gt;left&#45;&gt;left&#45;&gt;left</title>\n",
       "<text text-anchor=\"middle\" x=\"27\" y=\"-13.8\" font-family=\"Times,serif\" font-size=\"14.00\">NULL</text>\n",
       "</g>\n",
       "<!-- root&#45;&gt;left&#45;&gt;left&#45;&gt;root&#45;&gt;left&#45;&gt;left&#45;&gt;left -->\n",
       "<g id=\"edge3\" class=\"edge\">\n",
       "<title>root&#45;&gt;left&#45;&gt;left&#45;&gt;root&#45;&gt;left&#45;&gt;left&#45;&gt;left</title>\n",
       "<path fill=\"none\" stroke=\"black\" d=\"M84.08,-74.5C74.89,-65.56 62.87,-53.87 52.23,-43.53\"/>\n",
       "<polygon fill=\"black\" stroke=\"black\" points=\"55.04,-41.41 45.43,-36.95 50.17,-46.43 55.04,-41.41\"/>\n",
       "</g>\n",
       "<!-- root&#45;&gt;left&#45;&gt;left&#45;&gt;right -->\n",
       "<g id=\"node5\" class=\"node\">\n",
       "<title>root&#45;&gt;left&#45;&gt;left&#45;&gt;right</title>\n",
       "<text text-anchor=\"middle\" x=\"99\" y=\"-13.8\" font-family=\"Times,serif\" font-size=\"14.00\">NULL</text>\n",
       "</g>\n",
       "<!-- root&#45;&gt;left&#45;&gt;left&#45;&gt;root&#45;&gt;left&#45;&gt;left&#45;&gt;right -->\n",
       "<g id=\"edge4\" class=\"edge\">\n",
       "<title>root&#45;&gt;left&#45;&gt;left&#45;&gt;root&#45;&gt;left&#45;&gt;left&#45;&gt;right</title>\n",
       "<path fill=\"none\" stroke=\"black\" d=\"M99,-71.7C99,-64.13 99,-55.06 99,-46.59\"/>\n",
       "<polygon fill=\"black\" stroke=\"black\" points=\"102.5,-46.62 99,-36.62 95.5,-46.62 102.5,-46.62\"/>\n",
       "</g>\n",
       "<!-- root&#45;&gt;left&#45;&gt;right&#45;&gt;left -->\n",
       "<g id=\"node7\" class=\"node\">\n",
       "<title>root&#45;&gt;left&#45;&gt;right&#45;&gt;left</title>\n",
       "<text text-anchor=\"middle\" x=\"171\" y=\"-13.8\" font-family=\"Times,serif\" font-size=\"14.00\">NULL</text>\n",
       "</g>\n",
       "<!-- root&#45;&gt;left&#45;&gt;right&#45;&gt;root&#45;&gt;left&#45;&gt;right&#45;&gt;left -->\n",
       "<g id=\"edge5\" class=\"edge\">\n",
       "<title>root&#45;&gt;left&#45;&gt;right&#45;&gt;root&#45;&gt;left&#45;&gt;right&#45;&gt;left</title>\n",
       "<path fill=\"none\" stroke=\"black\" d=\"M198.65,-72.76C194.44,-64.58 189.23,-54.45 184.47,-45.2\"/>\n",
       "<polygon fill=\"black\" stroke=\"black\" points=\"187.24,-43.93 179.55,-36.63 181.02,-47.13 187.24,-43.93\"/>\n",
       "</g>\n",
       "<!-- root&#45;&gt;left&#45;&gt;right&#45;&gt;right -->\n",
       "<g id=\"node8\" class=\"node\">\n",
       "<title>root&#45;&gt;left&#45;&gt;right&#45;&gt;right</title>\n",
       "<text text-anchor=\"middle\" x=\"243\" y=\"-13.8\" font-family=\"Times,serif\" font-size=\"14.00\">NULL</text>\n",
       "</g>\n",
       "<!-- root&#45;&gt;left&#45;&gt;right&#45;&gt;root&#45;&gt;left&#45;&gt;right&#45;&gt;right -->\n",
       "<g id=\"edge6\" class=\"edge\">\n",
       "<title>root&#45;&gt;left&#45;&gt;right&#45;&gt;root&#45;&gt;left&#45;&gt;right&#45;&gt;right</title>\n",
       "<path fill=\"none\" stroke=\"black\" d=\"M215.35,-72.76C219.56,-64.58 224.77,-54.45 229.53,-45.2\"/>\n",
       "<polygon fill=\"black\" stroke=\"black\" points=\"232.98,-47.13 234.45,-36.63 226.76,-43.93 232.98,-47.13\"/>\n",
       "</g>\n",
       "<!-- root&#45;&gt;right&#45;&gt;left -->\n",
       "<g id=\"node10\" class=\"node\">\n",
       "<title>root&#45;&gt;right&#45;&gt;left</title>\n",
       "<ellipse fill=\"none\" stroke=\"black\" cx=\"351\" cy=\"-90\" rx=\"27\" ry=\"18\"/>\n",
       "<text text-anchor=\"middle\" x=\"351\" y=\"-85.8\" font-family=\"Times,serif\" font-size=\"14.00\">72</text>\n",
       "</g>\n",
       "<!-- root&#45;&gt;right&#45;&gt;root&#45;&gt;right&#45;&gt;left -->\n",
       "<g id=\"edge8\" class=\"edge\">\n",
       "<title>root&#45;&gt;right&#45;&gt;root&#45;&gt;right&#45;&gt;left</title>\n",
       "<path fill=\"none\" stroke=\"black\" d=\"M351,-143.7C351,-136.24 351,-127.32 351,-118.97\"/>\n",
       "<polygon fill=\"black\" stroke=\"black\" points=\"354.5,-119.1 351,-109.1 347.5,-119.1 354.5,-119.1\"/>\n",
       "</g>\n",
       "<!-- root&#45;&gt;right&#45;&gt;right -->\n",
       "<g id=\"node13\" class=\"node\">\n",
       "<title>root&#45;&gt;right&#45;&gt;right</title>\n",
       "<ellipse fill=\"none\" stroke=\"black\" cx=\"459\" cy=\"-90\" rx=\"27\" ry=\"18\"/>\n",
       "<text text-anchor=\"middle\" x=\"459\" y=\"-85.8\" font-family=\"Times,serif\" font-size=\"14.00\">35</text>\n",
       "</g>\n",
       "<!-- root&#45;&gt;right&#45;&gt;root&#45;&gt;right&#45;&gt;right -->\n",
       "<g id=\"edge13\" class=\"edge\">\n",
       "<title>root&#45;&gt;right&#45;&gt;root&#45;&gt;right&#45;&gt;right</title>\n",
       "<path fill=\"none\" stroke=\"black\" d=\"M369.81,-148.81C386.67,-137.88 411.62,-121.71 430.85,-109.24\"/>\n",
       "<polygon fill=\"black\" stroke=\"black\" points=\"432.55,-111.66 439.04,-103.29 428.75,-105.79 432.55,-111.66\"/>\n",
       "</g>\n",
       "<!-- root&#45;&gt;right&#45;&gt;left&#45;&gt;left -->\n",
       "<g id=\"node11\" class=\"node\">\n",
       "<title>root&#45;&gt;right&#45;&gt;left&#45;&gt;left</title>\n",
       "<text text-anchor=\"middle\" x=\"315\" y=\"-13.8\" font-family=\"Times,serif\" font-size=\"14.00\">NULL</text>\n",
       "</g>\n",
       "<!-- root&#45;&gt;right&#45;&gt;left&#45;&gt;root&#45;&gt;right&#45;&gt;left&#45;&gt;left -->\n",
       "<g id=\"edge9\" class=\"edge\">\n",
       "<title>root&#45;&gt;right&#45;&gt;left&#45;&gt;root&#45;&gt;right&#45;&gt;left&#45;&gt;left</title>\n",
       "<path fill=\"none\" stroke=\"black\" d=\"M342.65,-72.76C338.44,-64.58 333.23,-54.45 328.47,-45.2\"/>\n",
       "<polygon fill=\"black\" stroke=\"black\" points=\"331.24,-43.93 323.55,-36.63 325.02,-47.13 331.24,-43.93\"/>\n",
       "</g>\n",
       "<!-- root&#45;&gt;right&#45;&gt;left&#45;&gt;right -->\n",
       "<g id=\"node12\" class=\"node\">\n",
       "<title>root&#45;&gt;right&#45;&gt;left&#45;&gt;right</title>\n",
       "<text text-anchor=\"middle\" x=\"387\" y=\"-13.8\" font-family=\"Times,serif\" font-size=\"14.00\">NULL</text>\n",
       "</g>\n",
       "<!-- root&#45;&gt;right&#45;&gt;left&#45;&gt;root&#45;&gt;right&#45;&gt;left&#45;&gt;right -->\n",
       "<g id=\"edge10\" class=\"edge\">\n",
       "<title>root&#45;&gt;right&#45;&gt;left&#45;&gt;root&#45;&gt;right&#45;&gt;left&#45;&gt;right</title>\n",
       "<path fill=\"none\" stroke=\"black\" d=\"M359.35,-72.76C363.56,-64.58 368.77,-54.45 373.53,-45.2\"/>\n",
       "<polygon fill=\"black\" stroke=\"black\" points=\"376.98,-47.13 378.45,-36.63 370.76,-43.93 376.98,-47.13\"/>\n",
       "</g>\n",
       "<!-- root&#45;&gt;right&#45;&gt;right&#45;&gt;left -->\n",
       "<g id=\"node14\" class=\"node\">\n",
       "<title>root&#45;&gt;right&#45;&gt;right&#45;&gt;left</title>\n",
       "<text text-anchor=\"middle\" x=\"459\" y=\"-13.8\" font-family=\"Times,serif\" font-size=\"14.00\">NULL</text>\n",
       "</g>\n",
       "<!-- root&#45;&gt;right&#45;&gt;right&#45;&gt;root&#45;&gt;right&#45;&gt;right&#45;&gt;left -->\n",
       "<g id=\"edge11\" class=\"edge\">\n",
       "<title>root&#45;&gt;right&#45;&gt;right&#45;&gt;root&#45;&gt;right&#45;&gt;right&#45;&gt;left</title>\n",
       "<path fill=\"none\" stroke=\"black\" d=\"M459,-71.7C459,-64.13 459,-55.06 459,-46.59\"/>\n",
       "<polygon fill=\"black\" stroke=\"black\" points=\"462.5,-46.62 459,-36.62 455.5,-46.62 462.5,-46.62\"/>\n",
       "</g>\n",
       "<!-- root&#45;&gt;right&#45;&gt;right&#45;&gt;right -->\n",
       "<g id=\"node15\" class=\"node\">\n",
       "<title>root&#45;&gt;right&#45;&gt;right&#45;&gt;right</title>\n",
       "<text text-anchor=\"middle\" x=\"531\" y=\"-13.8\" font-family=\"Times,serif\" font-size=\"14.00\">NULL</text>\n",
       "</g>\n",
       "<!-- root&#45;&gt;right&#45;&gt;right&#45;&gt;root&#45;&gt;right&#45;&gt;right&#45;&gt;right -->\n",
       "<g id=\"edge12\" class=\"edge\">\n",
       "<title>root&#45;&gt;right&#45;&gt;right&#45;&gt;root&#45;&gt;right&#45;&gt;right&#45;&gt;right</title>\n",
       "<path fill=\"none\" stroke=\"black\" d=\"M473.92,-74.5C483.11,-65.56 495.13,-53.87 505.77,-43.53\"/>\n",
       "<polygon fill=\"black\" stroke=\"black\" points=\"507.83,-46.43 512.57,-36.95 502.96,-41.41 507.83,-46.43\"/>\n",
       "</g>\n",
       "</g>\n",
       "</svg>\n"
      ],
      "text/plain": [
       "<graphviz.graphs.Digraph at 0x115236740>"
      ]
     },
     "metadata": {},
     "output_type": "display_data"
    }
   ],
   "source": [
    "display(linkedbintree.get_digraph_simple())"
   ]
  },
  {
   "cell_type": "code",
   "execution_count": 54,
   "metadata": {},
   "outputs": [
    {
     "data": {
      "text/plain": [
       "[26, 89, 11, 43, 54, 72, 35]"
      ]
     },
     "execution_count": 54,
     "metadata": {},
     "output_type": "execute_result"
    }
   ],
   "source": [
    "linkedbintree.get_preorder()"
   ]
  },
  {
   "cell_type": "code",
   "execution_count": 55,
   "metadata": {},
   "outputs": [
    {
     "data": {
      "text/plain": [
       "[11, 89, 43, 26, 72, 54, 35]"
      ]
     },
     "execution_count": 55,
     "metadata": {},
     "output_type": "execute_result"
    }
   ],
   "source": [
    "linkedbintree.get_inorder()"
   ]
  },
  {
   "cell_type": "code",
   "execution_count": 56,
   "metadata": {},
   "outputs": [
    {
     "data": {
      "text/plain": [
       "[11, 43, 89, 72, 35, 54, 26]"
      ]
     },
     "execution_count": 56,
     "metadata": {},
     "output_type": "execute_result"
    }
   ],
   "source": [
    "linkedbintree.get_postorder()"
   ]
  },
  {
   "cell_type": "markdown",
   "metadata": {},
   "source": [
    "## (TODO) `LinkedBintree` dari *preorder*, *inorder*, dan/atau *postorder*"
   ]
  },
  {
   "cell_type": "markdown",
   "metadata": {},
   "source": [
    "### (TODO) `LinkedBintree` dari *preorder* dan *inorder*"
   ]
  },
  {
   "cell_type": "code",
   "execution_count": null,
   "metadata": {},
   "outputs": [],
   "source": [
    "def linkedbintree_from_preorder_inorder(\n",
    "        preorder, inorder, current_root=None, is_starting_node=True\n",
    "    ):\n",
    "    # 1. Di antara semua elemen inorder, mana yang paling kiri di preorder?\n",
    "    # Simpan index inorder nya\n",
    "    selesai = False\n",
    "    for elemen_preorder in preorder:\n",
    "        # lihat tiap elemen preorder dari kiri ke kanan,\n",
    "        # dan untuk tiap elemen preorder, periksa satu-satu apakah sama dengan\n",
    "        # salah satu elemen inorder\n",
    "        inorder_idx = 0\n",
    "        while (inorder_idx < len(inorder)) and (not selesai):\n",
    "            if inorder[inorder_idx] == elemen_preorder:\n",
    "                selesai = True\n",
    "            else:\n",
    "                inorder_idx += 1\n",
    "        if selesai:\n",
    "            break\n",
    "    \n",
    "    # 2. Buatlah node dengan data di index tersebut di inorder.\n",
    "    # Kalau belum ada root (karena LinkedBintree belum dibentuk sama sekali),\n",
    "    # buatlah objek LinkedBintree dengan rootnya adalah node tersebut\n",
    "    if is_starting_node:\n",
    "        result = LinkedBintree()\n",
    "        current_root = BintreeNode(preorder[0])\n",
    "        result.root = current_root\n",
    "    else:\n",
    "        current_root = BintreeNode(inorder[inorder_idx])\n",
    "\n",
    "    # 3. Pisah inorder menjadi dua bagian,\n",
    "    # yaitu sebelah kiri dari elemen inorder_idx dan sebelah kanan darinya\n",
    "    inorder_left = inorder[:inorder_idx]\n",
    "    inorder_right = inorder[(inorder_idx+1):]\n",
    "\n",
    "    current_root.left = linkedbintree_from_preorder_inorder(\n",
    "        preorder, inorder_left, current_root.left, # perlu revisi\n",
    "        is_starting_node=False\n",
    "    )\n",
    "    current_root.right = linkedbintree_from_preorder_inorder(\n",
    "        preorder, inorder_right, current_root.right, # perlu revisi\n",
    "        is_starting_node=False\n",
    "    )\n",
    "\n",
    "    if is_starting_node:\n",
    "        return result\n",
    "    else:\n",
    "        return current_root"
   ]
  },
  {
   "cell_type": "markdown",
   "metadata": {},
   "source": [
    "### (TODO) `LinkedBintree` dari *postorder* dan *inorder*"
   ]
  },
  {
   "cell_type": "markdown",
   "metadata": {},
   "source": [
    "### (TODO) `LinkedBintree` dari *preorder* dan *postorder*"
   ]
  },
  {
   "cell_type": "markdown",
   "metadata": {},
   "source": [
    "## (TODO) *Binary Search Tree* (BST)"
   ]
  },
  {
   "cell_type": "markdown",
   "metadata": {},
   "source": [
    "*Binary Search Tree* (BST) adalah *binary tree* dengan beberapa sifat dan fitur tambahan. Sehingga, untuk implementasi BST, kita cukup menambahkan beberapa *method* ke `class` *binary tree* yang sudah dibuat. Daripada mengetik ulang semua *method* yang sudah dibuat di `class` *binary tree*, kita bisa menerapkan salah satu prinsip OOP yaitu *inheritance*, agar langsung mewariskan semua fitur yang sudah dibuat di implementasi *binary tree*."
   ]
  },
  {
   "cell_type": "markdown",
   "metadata": {},
   "source": [
    "### (TODO) BST dengan *array*"
   ]
  },
  {
   "cell_type": "code",
   "execution_count": null,
   "metadata": {},
   "outputs": [],
   "source": [
    "class ArrayBST(ArrayBintree):\n",
    "    def __init__(self, dtype, height, emptydata=-9999):\n",
    "        # menggunakan __init__ dari parent class,\n",
    "        # melalui super() yaitu parent class\n",
    "        super().__init__(dtype, height, emptydata)\n",
    "    \n",
    "    # semua method dari ArrayBintree otomatis sudah terdefinisi\n",
    "\n",
    "    # (TODO) convert binary tree jadi BST\n",
    "\n",
    "    # (TODO) insertion, deletion"
   ]
  },
  {
   "cell_type": "markdown",
   "metadata": {},
   "source": [
    "### (TODO) BST dengan *pointer* (*linked* BST)"
   ]
  },
  {
   "cell_type": "code",
   "execution_count": null,
   "metadata": {},
   "outputs": [],
   "source": [
    "class LinkedBST(LinkedBintree):\n",
    "    def __init__(self):\n",
    "        # menggunakan __init__ dari parent class,\n",
    "        # melalui super() yaitu parent class\n",
    "        super().__init__()\n",
    "    \n",
    "    # semua method dari LinkedBintree otomatis sudah terdefinisi\n",
    "\n",
    "    # (TODO) convert binary tree jadi BST\n",
    "\n",
    "    # (TODO) insertion, deletion"
   ]
  },
  {
   "cell_type": "markdown",
   "metadata": {},
   "source": [
    "## (TODO) (Pengayaan) *$m$-ary tree*"
   ]
  },
  {
   "cell_type": "code",
   "execution_count": null,
   "metadata": {},
   "outputs": [],
   "source": []
  }
 ],
 "metadata": {
  "kernelspec": {
   "display_name": "Python 3",
   "language": "python",
   "name": "python3"
  },
  "language_info": {
   "codemirror_mode": {
    "name": "ipython",
    "version": 3
   },
   "file_extension": ".py",
   "mimetype": "text/x-python",
   "name": "python",
   "nbconvert_exporter": "python",
   "pygments_lexer": "ipython3",
   "version": "3.10.11"
  }
 },
 "nbformat": 4,
 "nbformat_minor": 2
}
