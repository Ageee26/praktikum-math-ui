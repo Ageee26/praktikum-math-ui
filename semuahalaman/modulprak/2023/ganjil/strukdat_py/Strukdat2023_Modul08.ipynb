{
 "cells": [
  {
   "cell_type": "markdown",
   "metadata": {},
   "source": [
    "# Modul 8 Struktur Data: *Binary Tree*, *binary search tree* (BST), dan *$m$-ary tree*,"
   ]
  },
  {
   "cell_type": "markdown",
   "metadata": {},
   "source": [
    "Kembali ke [Struktur Data (dengan Python)](strukdat2023.qmd)"
   ]
  },
  {
   "cell_type": "code",
   "execution_count": 2,
   "metadata": {},
   "outputs": [],
   "source": [
    "import numpy as np\n",
    "import graphviz as gv"
   ]
  },
  {
   "cell_type": "markdown",
   "metadata": {},
   "source": [
    "## *Binary Tree* dengan *array*"
   ]
  },
  {
   "cell_type": "code",
   "execution_count": null,
   "metadata": {},
   "outputs": [],
   "source": [
    "class ArrayBintree:\n",
    "    def __init__(self, dtype, height, emptydata=-1):\n",
    "        self.dtype = dtype\n",
    "        self.height = height\n",
    "        self.array = np.empty(2**(height+1) - 1, dtype=dtype)\n",
    "        self.emptydata = emptydata\n",
    "    \n",
    "    def get_root(self):\n",
    "        root_data = self.array[0]\n",
    "        if root_data == self.emptydata:\n",
    "            return None\n",
    "        else:\n",
    "            return root_data\n",
    "    \n",
    "    def set_root(self, newdata):\n",
    "        self.array[0] = newdata"
   ]
  },
  {
   "cell_type": "markdown",
   "metadata": {},
   "source": [
    "## *Binary Tree* dengan *pointer*"
   ]
  },
  {
   "cell_type": "code",
   "execution_count": 1,
   "metadata": {},
   "outputs": [],
   "source": [
    "class BintreeNode:\n",
    "    def __init__(self, data, left=None, right=None):\n",
    "        self.data = data\n",
    "        self.left = left\n",
    "        self.right = right"
   ]
  },
  {
   "cell_type": "code",
   "execution_count": null,
   "metadata": {},
   "outputs": [],
   "source": []
  }
 ],
 "metadata": {
  "kernelspec": {
   "display_name": "Python 3",
   "language": "python",
   "name": "python3"
  },
  "language_info": {
   "codemirror_mode": {
    "name": "ipython",
    "version": 3
   },
   "file_extension": ".py",
   "mimetype": "text/x-python",
   "name": "python",
   "nbconvert_exporter": "python",
   "pygments_lexer": "ipython3",
   "version": "3.10.11"
  }
 },
 "nbformat": 4,
 "nbformat_minor": 2
}
