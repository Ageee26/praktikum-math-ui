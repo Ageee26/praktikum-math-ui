{
 "cells": [
  {
   "cell_type": "markdown",
   "metadata": {},
   "source": [
    "# Modul 9a Struktur Data: *A-B Tree* dan variasinya (*B-Tree*, *2-3 Tree*, dsb)"
   ]
  },
  {
   "cell_type": "markdown",
   "metadata": {},
   "source": [
    "Kembali ke [Struktur Data (dengan Python)](strukdat2023.qmd)"
   ]
  },
  {
   "cell_type": "code",
   "execution_count": 1,
   "metadata": {},
   "outputs": [],
   "source": [
    "import numpy as np\n",
    "import graphviz as gv"
   ]
  },
  {
   "cell_type": "markdown",
   "metadata": {},
   "source": [
    "## Implementasi *A-B Tree* dengan *pointer*"
   ]
  },
  {
   "cell_type": "markdown",
   "metadata": {},
   "source": [
    "*A-B Tree*, terkadang disebut $(a,b)$-*tree* di mana $a, b \\in \\mathbb{Z}$ dengan $2 \\le a \\le \\frac{b+1}{2}$, adalah sejenis *tree* yang memenuhi sifat-sifat berikut:\n",
    "\n",
    "* Tiap *node* bisa menyimpan sejumlah *key* (atau data), maksimal sebanyak $(b-1)$\n",
    "\n",
    "* *Root* (kalau tidak kosong) menyimpan minimal satu *key*\n",
    "\n",
    "* Semua *node* selain *root* menyimpan sejumlah *key*, minimal sebanyak $(a-1)$\n",
    "\n",
    "* Tiap *node* bisa memiliki sejumlah *child*, maksimal sebanyak $b$\n",
    "\n",
    "* *Root* diharapkan memiliki minimal dua *child*\n",
    "\n",
    "* Tiap *internal node* (yaitu selain *leaf* dan *root*) memiliki sejumlah *child*, minimal sebanyak $a$\n",
    "\n",
    "* Semua *leaf node* ada di level yang sama"
   ]
  },
  {
   "cell_type": "code",
   "execution_count": null,
   "metadata": {},
   "outputs": [],
   "source": [
    "class ABtreeNode:\n",
    "    def __init__(self, b, key_dtype=object, emptydata=None):\n",
    "        self.keys = np.empty(b-1, dtype=key_dtype)\n",
    "        self.children = np.empty(b, dtype=ABtreeNode) # menyimpan pointer\n",
    "        self.emptydata = emptydata\n",
    "        for i in range(len(self.keys)):\n",
    "            self.keys[i] = emptydata\n",
    "\n",
    "    def is_key_idx_empty(self, idx):\n",
    "        if self.keys[idx] == self.emptydata:\n",
    "            return True\n",
    "        else:\n",
    "            return False\n",
    "\n",
    "    def get_nonempty_keys_amount(self):\n",
    "        all_keys_amount = len(self.keys)\n",
    "        n = 0\n",
    "        while (n < all_keys_amount) and (self.keys[n] != self.emptydata):\n",
    "            n += 1\n",
    "        return n"
   ]
  },
  {
   "cell_type": "code",
   "execution_count": null,
   "metadata": {},
   "outputs": [],
   "source": [
    "class LinkedABtree:\n",
    "    def __init__(self, a, b, key_dtype=object, emptydata=None):\n",
    "        self.root = None\n",
    "        self.a = a\n",
    "        self.b = b\n",
    "        self.key_dtype = key_dtype\n",
    "        self.emptydata = emptydata\n",
    "    \n",
    "    def is_empty(self):\n",
    "        if self.root == None:\n",
    "            return True\n",
    "        else:\n",
    "            return False\n",
    "    \n",
    "    def search(self, x):\n",
    "        if self.is_empty():\n",
    "            print(\"Error search: tree kosong\")\n",
    "            return None\n",
    "        temp = self.root\n",
    "        i = 0\n",
    "        n = temp.get_nonempty_keys_amount()\n",
    "        while (temp != None):\n",
    "            if (self.keys[i] == x):\n",
    "                return x\n",
    "            elif (i == 0 and x < self.keys[i]):\n",
    "                temp = temp.children[0]\n",
    "                i = 0\n",
    "                if (temp != None):\n",
    "                    n = temp.get_nonempty_keys_amount()\n",
    "            elif (i == n-1) or (self.keys[i] < x and x < self.keys[i+1]):\n",
    "                temp = temp.children[i+1]\n",
    "                i = 0\n",
    "                if (temp != None):\n",
    "                    n = temp.get_nonempty_keys_amount()\n",
    "            else:\n",
    "                i += 1\n",
    "        # tidak ditemukan\n",
    "        return None\n",
    "\n",
    "    def insert(self, newdata, right_biased=False):\n",
    "        self.root = self.insert_rec(newdata, right_biased=right_biased,\n",
    "                                    current=self.root)\n",
    "    def insert_rec(self, newdata, right_biased, current):\n",
    "        if current == None:\n",
    "            newnode = ABtreeNode(b=self.b, key_dtype=self.key_dtype,\n",
    "                                 emptydata=self.emptydata)\n",
    "            newnode.keys[0] = newdata\n",
    "            return newnode\n",
    "        n = current.get_nonempty_keys_amount()\n",
    "        if (n < len(current.keys)):\n",
    "            current.keys[n] = newdata\n",
    "            return current\n",
    "        pass # n == len(current.keys), then split node?\n",
    "\n",
    "    def delete(self, x):\n",
    "        pass"
   ]
  },
  {
   "cell_type": "markdown",
   "metadata": {},
   "source": [
    "## *B-Tree* sebagai kasus khusus dari *A-B Tree*"
   ]
  },
  {
   "cell_type": "markdown",
   "metadata": {},
   "source": [
    "*B-Tree*, berorder misalnya m, adalah sejenis *A-B Tree* atau $(a,b)$-*tree* dengan\n",
    "\n",
    "$$b=m$$\n",
    "$$a = \\left\\lceil \\frac{b}{2} \\right\\rceil = \\left\\lceil \\frac{m}{2} \\right\\rceil$$"
   ]
  },
  {
   "cell_type": "markdown",
   "metadata": {},
   "source": [
    "Sehingga, untuk implementasi *B-Tree*, kita tinggal meng-*inherit* dari `LinkedABtree` dan memilih nilai a dan b yang sesuai berdasarkan nilai m yang diberikan."
   ]
  },
  {
   "cell_type": "code",
   "execution_count": null,
   "metadata": {},
   "outputs": [],
   "source": [
    "class LinkedBtree(LinkedABtree):\n",
    "    def __init__(self, m):\n",
    "        self.b = m\n",
    "        self.a = int(np.ceil(m/2))\n",
    "    \n",
    "    def get_m(self):\n",
    "        return self.b\n",
    "\n",
    "    def set_m(self, new_m):\n",
    "        self.b = new_m\n",
    "        self.a = int(np.ceil(new_m/2))"
   ]
  },
  {
   "cell_type": "markdown",
   "metadata": {},
   "source": [
    "## Variasi *B-Tree*"
   ]
  },
  {
   "cell_type": "markdown",
   "metadata": {},
   "source": [
    "### *2-3 Tree*"
   ]
  },
  {
   "cell_type": "markdown",
   "metadata": {},
   "source": [
    "*2-3 Tree* adalah suatu *B-Tree* dengan $m=3$.\n",
    "\n",
    "(Lebih umumnya, *2-3 Tree* atau $(2,3)$-*tree* adalah suatu *A-B Tree* dengan $a=2$ dan $b=3$.)"
   ]
  },
  {
   "cell_type": "code",
   "execution_count": null,
   "metadata": {},
   "outputs": [],
   "source": [
    "class Linked23Tree(LinkedBtree):\n",
    "    def __init__(self):\n",
    "        super().__init__(m=3)\n",
    "    \n",
    "    # nonaktifkan fitur memasang nilai m dari LinkedBtree\n",
    "    def set_m(self, new_m):\n",
    "        print(\"Error 2-3 Tree: nilai m=3 tidak boleh diubah\")"
   ]
  },
  {
   "cell_type": "markdown",
   "metadata": {},
   "source": [
    "### *2-4 Tree*"
   ]
  },
  {
   "cell_type": "markdown",
   "metadata": {},
   "source": [
    "*2-4 Tree*, terkadang juga disebut *2-3-4 Tree*, adalah suatu *B-Tree* dengan $m=4$.\n",
    "\n",
    "(Lebih umumnya, *2-4 Tree* atau $(2,4)$-*tree* adalah suatu *A-B Tree* dengan $a=2$ dan $b=4$.)"
   ]
  },
  {
   "cell_type": "code",
   "execution_count": null,
   "metadata": {},
   "outputs": [],
   "source": [
    "class Linked24Tree(LinkedBtree):\n",
    "    def __init__(self):\n",
    "        super().__init__(m=4)\n",
    "    \n",
    "    # nonaktifkan fitur memasang nilai m dari LinkedBtree\n",
    "    def set_m(self, new_m):\n",
    "        print(\"Error 2-4 Tree: nilai m=4 tidak boleh diubah\")"
   ]
  }
 ],
 "metadata": {
  "kernelspec": {
   "display_name": "Python 3",
   "language": "python",
   "name": "python3"
  },
  "language_info": {
   "codemirror_mode": {
    "name": "ipython",
    "version": 3
   },
   "file_extension": ".py",
   "mimetype": "text/x-python",
   "name": "python",
   "nbconvert_exporter": "python",
   "pygments_lexer": "ipython3",
   "version": "3.10.11"
  }
 },
 "nbformat": 4,
 "nbformat_minor": 2
}
