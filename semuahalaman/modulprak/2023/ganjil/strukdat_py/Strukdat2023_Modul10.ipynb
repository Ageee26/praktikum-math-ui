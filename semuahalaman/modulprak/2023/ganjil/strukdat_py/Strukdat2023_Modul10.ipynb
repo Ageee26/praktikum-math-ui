{
 "cells": [
  {
   "cell_type": "markdown",
   "metadata": {},
   "source": [
    "# Modul 10 Struktur Data: Pengantar *database* dengan SQLite"
   ]
  },
  {
   "cell_type": "markdown",
   "metadata": {},
   "source": [
    "Kembali ke [Struktur Data (dengan Python)](strukdat2023.qmd)"
   ]
  },
  {
   "cell_type": "markdown",
   "metadata": {},
   "source": [
    "Selamat datang di praktikum terakhir Struktur Data tahun 2023 ini :)"
   ]
  },
  {
   "cell_type": "markdown",
   "metadata": {},
   "source": [
    "Agak berbeda dengan beberapa praktikum sebelumnya, kali ini, kita akan membahas tentang *database* (terkadang disebut \"basis data\") menggunakan yang namanya SQLite."
   ]
  },
  {
   "cell_type": "markdown",
   "metadata": {},
   "source": [
    "Sebelum kita mulai, singkat cerita:\n",
    "\n",
    "* Suatu *database* adalah tempat menyimpan sekumpulan data yang saling berhubungan\n",
    "\n",
    "* *Database* biasanya berupa sekumpulan tabel yang saling berkaitan. Jenis *database* ini disebut ***relational database***\n",
    "\n",
    "* Untuk mengelola suatu *database*, digunakan yang namanya *database management system* (DBMS). Khusus *relational database*, ada istilah *relational database management system* (RBDMS)\n",
    "\n",
    "* Salah satu RDBMS yang sering digunakan adalah SQLite, terutama untuk *relational database* yang tidak terlalu besar\n",
    "\n",
    "* SQLite bisa dioperasikan melalui Python, dengan *module*/*package* `sqlite3` yang harusnya sudah terinstal bersama Python (kalau belum, bisa diinstal dengan `conda install sqlite3` dan/atau `pip install sqlite3`)\n",
    "\n",
    "* *File extension* atau akhiran nama *file* untuk suatu *database* SQLite adalah `.db`"
   ]
  },
  {
   "cell_type": "code",
   "execution_count": 1,
   "metadata": {},
   "outputs": [],
   "source": [
    "import sqlite3"
   ]
  },
  {
   "cell_type": "code",
   "execution_count": null,
   "metadata": {},
   "outputs": [],
   "source": []
  }
 ],
 "metadata": {
  "kernelspec": {
   "display_name": "Python 3",
   "language": "python",
   "name": "python3"
  },
  "language_info": {
   "codemirror_mode": {
    "name": "ipython",
    "version": 3
   },
   "file_extension": ".py",
   "mimetype": "text/x-python",
   "name": "python",
   "nbconvert_exporter": "python",
   "pygments_lexer": "ipython3",
   "version": "3.10.11"
  }
 },
 "nbformat": 4,
 "nbformat_minor": 2
}
