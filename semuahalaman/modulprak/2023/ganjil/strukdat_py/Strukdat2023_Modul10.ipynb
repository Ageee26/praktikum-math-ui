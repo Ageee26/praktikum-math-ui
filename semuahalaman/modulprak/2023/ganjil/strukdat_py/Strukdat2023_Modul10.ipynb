{
 "cells": [
  {
   "cell_type": "markdown",
   "metadata": {},
   "source": [
    "# Modul 10 Struktur Data: Pengantar *database* dengan SQLite"
   ]
  },
  {
   "cell_type": "markdown",
   "metadata": {},
   "source": [
    "Kembali ke [Struktur Data (dengan Python)](strukdat2023.qmd)"
   ]
  },
  {
   "cell_type": "markdown",
   "metadata": {},
   "source": [
    "Selamat datang di praktikum terakhir Struktur Data tahun 2023 ini :)"
   ]
  },
  {
   "cell_type": "markdown",
   "metadata": {},
   "source": [
    "Agak berbeda dengan beberapa praktikum sebelumnya, kali ini, kita akan membahas tentang *database* (terkadang disebut \"basis data\") menggunakan yang namanya SQLite."
   ]
  },
  {
   "cell_type": "markdown",
   "metadata": {},
   "source": [
    "Sebelum kita mulai, singkat cerita:\n",
    "\n",
    "* Suatu *database* adalah tempat menyimpan sekumpulan data yang saling berhubungan\n",
    "\n",
    "* *Database* biasanya berupa sekumpulan tabel yang saling berkaitan. Jenis *database* ini disebut ***relational database***\n",
    "\n",
    "* Untuk mengelola suatu *database*, digunakan yang namanya *database management system* (DBMS). Khusus *relational database*, ada istilah *relational database management system* (RDBMS)\n",
    "\n",
    "* Salah satu RDBMS yang sering digunakan adalah SQLite, terutama untuk *relational database* yang tidak terlalu besar\n",
    "\n",
    "* SQLite bisa dioperasikan melalui Python, dengan *module*/*package* `sqlite3` yang harusnya sudah terinstal bersama Python (kalau belum, bisa diinstal dengan `pip install sqlite3`, tapi jangan lupa `conda install sqlite` terlebih dahulu kalau menggunakan Anaconda)\n",
    "\n",
    "* *File extension* atau akhiran nama *file* untuk suatu *database* SQLite bisa berupa `.db` atau `.sqlite` atau lebih spesifiknya `.sqlite3`\n",
    "\n",
    "* Pada tiap *database*, bisa dilakukan yang namanya *querying*, yaitu melakukan *filtering* untuk memperoleh data yang memenuhi kriteria yang kita tentukan\n",
    "\n",
    "* Sudah ada bahasa bernama SQL (*Structured Querying Language*) yang terstandarisasi untuk melakukan *querying* (maupun modifikasi) pada *relational database*, apapun RDBMS yang digunakan"
   ]
  },
  {
   "cell_type": "code",
   "execution_count": 1,
   "metadata": {},
   "outputs": [],
   "source": [
    "import sqlite3"
   ]
  },
  {
   "cell_type": "markdown",
   "metadata": {},
   "source": [
    "Membuat *database* baru (atau membuka *database* yang sudah ada, kalau ada) dengan nama *file* yang ditentukan"
   ]
  },
  {
   "cell_type": "code",
   "execution_count": 25,
   "metadata": {},
   "outputs": [],
   "source": [
    "conn = sqlite3.connect(\"pasar.sqlite3\")"
   ]
  },
  {
   "cell_type": "code",
   "execution_count": 26,
   "metadata": {},
   "outputs": [],
   "source": [
    "cur = conn.cursor()"
   ]
  },
  {
   "cell_type": "code",
   "execution_count": 27,
   "metadata": {},
   "outputs": [],
   "source": [
    "cur.execute(\"\"\"CREATE TABLE IF NOT EXISTS tabel_produk (\n",
    "    ProductID INTEGER PRIMARY KEY NOT NULL,\n",
    "    Nama TEXT,\n",
    "    Stok INTEGER,\n",
    "    BeratKG REAL,\n",
    "    HargaRibuRupiah REAL\n",
    ")\"\"\")\n",
    "\n",
    "# Menyimpan hasil eksekusi SQL\n",
    "conn.commit()"
   ]
  },
  {
   "cell_type": "markdown",
   "metadata": {},
   "source": [
    "*Storage class* atau \"kategori tipe data\" di SQLite ada lima:\n",
    "\n",
    "* NULL\n",
    "\n",
    "* INTEGER\n",
    "\n",
    "* REAL\n",
    "\n",
    "* TEXT\n",
    "\n",
    "* BLOB (untuk data lainnya)"
   ]
  },
  {
   "cell_type": "code",
   "execution_count": 28,
   "metadata": {},
   "outputs": [],
   "source": [
    "# Menutup koneksi\n",
    "conn.close()"
   ]
  },
  {
   "cell_type": "markdown",
   "metadata": {},
   "source": [
    "Menambahkan data ke *database*"
   ]
  },
  {
   "cell_type": "code",
   "execution_count": 29,
   "metadata": {},
   "outputs": [],
   "source": [
    "conn = sqlite3.connect(\"pasar.sqlite3\")\n",
    "cur = conn.cursor()\n",
    "\n",
    "cur.execute(\"INSERT INTO tabel_produk VALUES (123, 'Apel', 10, 0.2, 3.5)\")\n",
    "conn.commit()\n",
    "\n",
    "cur.execute(\"INSERT INTO tabel_produk VALUES (456, 'Jeruk', 15, 0.15, 2.1)\")\n",
    "conn.commit()\n",
    "\n",
    "cur.execute(\"INSERT INTO tabel_produk VALUES (789, 'Pisang', 40, 0.05, 1.25)\")\n",
    "conn.commit()\n",
    "\n",
    "conn.close()"
   ]
  },
  {
   "cell_type": "markdown",
   "metadata": {},
   "source": [
    "Melihat semua data yang ada di *database*"
   ]
  },
  {
   "cell_type": "code",
   "execution_count": 30,
   "metadata": {},
   "outputs": [
    {
     "name": "stdout",
     "output_type": "stream",
     "text": [
      "[(123, 'Apel', 10, 0.2, 3.5), (456, 'Jeruk', 15, 0.15, 2.1), (789, 'Pisang', 40, 0.05, 1.25)]\n"
     ]
    }
   ],
   "source": [
    "conn = sqlite3.connect(\"pasar.sqlite3\")\n",
    "cur = conn.cursor()\n",
    "\n",
    "cur.execute(\"SELECT * FROM tabel_produk\")\n",
    "print(cur.fetchall())\n",
    "\n",
    "conn.close()"
   ]
  },
  {
   "cell_type": "code",
   "execution_count": 31,
   "metadata": {},
   "outputs": [
    {
     "name": "stdout",
     "output_type": "stream",
     "text": [
      "[(123, 'Apel', 10, 0.2, 3.5), (456, 'Jeruk', 15, 0.15, 2.1), (789, 'Pisang', 40, 0.05, 1.25)]\n"
     ]
    }
   ],
   "source": [
    "conn = sqlite3.connect(\"pasar.sqlite3\")\n",
    "cur = conn.cursor()\n",
    "\n",
    "cur.execute(\"SELECT * FROM tabel_produk\")\n",
    "semua_baris = cur.fetchall()\n",
    "print(semua_baris)\n",
    "\n",
    "conn.close()"
   ]
  },
  {
   "cell_type": "code",
   "execution_count": 32,
   "metadata": {},
   "outputs": [
    {
     "name": "stdout",
     "output_type": "stream",
     "text": [
      "(123, 'Apel', 10, 0.2, 3.5)\n",
      "(456, 'Jeruk', 15, 0.15, 2.1)\n",
      "(789, 'Pisang', 40, 0.05, 1.25)\n"
     ]
    }
   ],
   "source": [
    "conn = sqlite3.connect(\"pasar.sqlite3\")\n",
    "cur = conn.cursor()\n",
    "\n",
    "cur.execute(\"SELECT * FROM tabel_produk\")\n",
    "semua_baris = cur.fetchall()\n",
    "for baris in semua_baris:\n",
    "    print(baris)\n",
    "\n",
    "conn.close()"
   ]
  },
  {
   "cell_type": "markdown",
   "metadata": {},
   "source": [
    "Melihat kolom-kolom tertentu saja"
   ]
  },
  {
   "cell_type": "code",
   "execution_count": 35,
   "metadata": {},
   "outputs": [
    {
     "name": "stdout",
     "output_type": "stream",
     "text": [
      "[(123, 'Apel'), (456, 'Jeruk'), (789, 'Pisang')]\n"
     ]
    }
   ],
   "source": [
    "conn = sqlite3.connect(\"pasar.sqlite3\")\n",
    "cur = conn.cursor()\n",
    "\n",
    "cur.execute(\"SELECT ProductID, Nama FROM tabel_produk\")\n",
    "print(cur.fetchall())\n",
    "\n",
    "conn.close()"
   ]
  },
  {
   "cell_type": "code",
   "execution_count": 36,
   "metadata": {},
   "outputs": [
    {
     "name": "stdout",
     "output_type": "stream",
     "text": [
      "[('Apel', 10), ('Jeruk', 15), ('Pisang', 40)]\n"
     ]
    }
   ],
   "source": [
    "conn = sqlite3.connect(\"pasar.sqlite3\")\n",
    "cur = conn.cursor()\n",
    "\n",
    "cur.execute(\"SELECT Nama, Stok FROM tabel_produk\")\n",
    "print(cur.fetchall())\n",
    "\n",
    "conn.close()"
   ]
  },
  {
   "cell_type": "code",
   "execution_count": 38,
   "metadata": {},
   "outputs": [
    {
     "name": "stdout",
     "output_type": "stream",
     "text": [
      "[('Apel', 0.2, 3.5), ('Jeruk', 0.15, 2.1), ('Pisang', 0.05, 1.25)]\n"
     ]
    }
   ],
   "source": [
    "conn = sqlite3.connect(\"pasar.sqlite3\")\n",
    "cur = conn.cursor()\n",
    "\n",
    "cur.execute(\"SELECT Nama, BeratKG, HargaRibuRupiah FROM tabel_produk\")\n",
    "print(cur.fetchall())\n",
    "\n",
    "conn.close()"
   ]
  },
  {
   "cell_type": "markdown",
   "metadata": {},
   "source": [
    "Menambahkan data"
   ]
  },
  {
   "cell_type": "code",
   "execution_count": 39,
   "metadata": {},
   "outputs": [],
   "source": [
    "conn = sqlite3.connect(\"pasar.sqlite3\")\n",
    "cur = conn.cursor()\n",
    "\n",
    "data_baru = [\n",
    "    (987, 'Brokoli', 70, 0.05, 1.5),\n",
    "    (321, 'Wortel', 30, 0.1, 1.8),\n",
    "    (135, 'Stroberi', 120, 0.04, 2)\n",
    "]\n",
    "\n",
    "cur.executemany(\"INSERT INTO tabel_produk VALUES (?, ?, ?, ?, ?)\", data_baru)\n",
    "conn.commit()\n",
    "\n",
    "conn.close()"
   ]
  },
  {
   "cell_type": "code",
   "execution_count": 40,
   "metadata": {},
   "outputs": [
    {
     "name": "stdout",
     "output_type": "stream",
     "text": [
      "[(123, 'Apel', 10, 0.2, 3.5), (135, 'Stroberi', 120, 0.04, 2.0), (321, 'Wortel', 30, 0.1, 1.8), (456, 'Jeruk', 15, 0.15, 2.1), (789, 'Pisang', 40, 0.05, 1.25), (987, 'Brokoli', 70, 0.05, 1.5)]\n"
     ]
    }
   ],
   "source": [
    "conn = sqlite3.connect(\"pasar.sqlite3\")\n",
    "cur = conn.cursor()\n",
    "\n",
    "cur.execute(\"SELECT * FROM tabel_produk\")\n",
    "print(cur.fetchall())\n",
    "\n",
    "conn.close()"
   ]
  },
  {
   "cell_type": "code",
   "execution_count": 42,
   "metadata": {},
   "outputs": [
    {
     "name": "stdout",
     "output_type": "stream",
     "text": [
      "(123, 'Apel', 10, 0.2, 3.5)\n",
      "(135, 'Stroberi', 120, 0.04, 2.0)\n",
      "(321, 'Wortel', 30, 0.1, 1.8)\n",
      "(456, 'Jeruk', 15, 0.15, 2.1)\n",
      "(789, 'Pisang', 40, 0.05, 1.25)\n",
      "(987, 'Brokoli', 70, 0.05, 1.5)\n"
     ]
    }
   ],
   "source": [
    "conn = sqlite3.connect(\"pasar.sqlite3\")\n",
    "cur = conn.cursor()\n",
    "\n",
    "cur.execute(\"SELECT * FROM tabel_produk\")\n",
    "semua_baris = cur.fetchall()\n",
    "for baris in semua_baris:\n",
    "    print(baris)\n",
    "\n",
    "conn.close()"
   ]
  },
  {
   "cell_type": "markdown",
   "metadata": {},
   "source": [
    "*Querying*"
   ]
  },
  {
   "cell_type": "code",
   "execution_count": 44,
   "metadata": {},
   "outputs": [
    {
     "name": "stdout",
     "output_type": "stream",
     "text": [
      "(123, 'Apel', 10, 0.2, 3.5)\n",
      "(321, 'Wortel', 30, 0.1, 1.8)\n",
      "(456, 'Jeruk', 15, 0.15, 2.1)\n",
      "(789, 'Pisang', 40, 0.05, 1.25)\n"
     ]
    }
   ],
   "source": [
    "conn = sqlite3.connect(\"pasar.sqlite3\")\n",
    "cur = conn.cursor()\n",
    "\n",
    "cur.execute(\"SELECT * FROM tabel_produk WHERE Stok < 50\")\n",
    "semua_baris = cur.fetchall()\n",
    "for baris in semua_baris:\n",
    "    print(baris)\n",
    "\n",
    "conn.close()"
   ]
  },
  {
   "cell_type": "code",
   "execution_count": 45,
   "metadata": {},
   "outputs": [
    {
     "name": "stdout",
     "output_type": "stream",
     "text": [
      "(123, 'Apel', 10, 0.2, 3.5)\n",
      "(456, 'Jeruk', 15, 0.15, 2.1)\n"
     ]
    }
   ],
   "source": [
    "conn = sqlite3.connect(\"pasar.sqlite3\")\n",
    "cur = conn.cursor()\n",
    "\n",
    "cur.execute(\"SELECT * FROM tabel_produk WHERE HargaRibuRupiah > 2\")\n",
    "semua_baris = cur.fetchall()\n",
    "for baris in semua_baris:\n",
    "    print(baris)\n",
    "\n",
    "conn.close()"
   ]
  },
  {
   "cell_type": "code",
   "execution_count": 47,
   "metadata": {},
   "outputs": [
    {
     "name": "stdout",
     "output_type": "stream",
     "text": [
      "(135, 'Stroberi', 120, 0.04, 2.0)\n"
     ]
    }
   ],
   "source": [
    "conn = sqlite3.connect(\"pasar.sqlite3\")\n",
    "cur = conn.cursor()\n",
    "\n",
    "cur.execute(\"SELECT * FROM tabel_produk WHERE Nama == 'Stroberi'\")\n",
    "semua_baris = cur.fetchall()\n",
    "for baris in semua_baris:\n",
    "    print(baris)\n",
    "\n",
    "conn.close()"
   ]
  },
  {
   "cell_type": "code",
   "execution_count": 48,
   "metadata": {},
   "outputs": [
    {
     "name": "stdout",
     "output_type": "stream",
     "text": [
      "(987, 'Brokoli', 70, 0.05, 1.5)\n"
     ]
    }
   ],
   "source": [
    "conn = sqlite3.connect(\"pasar.sqlite3\")\n",
    "cur = conn.cursor()\n",
    "\n",
    "cur.execute(\"SELECT * FROM tabel_produk WHERE ProductID == 987\")\n",
    "semua_baris = cur.fetchall()\n",
    "for baris in semua_baris:\n",
    "    print(baris)\n",
    "\n",
    "conn.close()"
   ]
  },
  {
   "cell_type": "code",
   "execution_count": 51,
   "metadata": {},
   "outputs": [
    {
     "name": "stdout",
     "output_type": "stream",
     "text": [
      "(456, 'Jeruk', 15, 0.15, 2.1)\n"
     ]
    }
   ],
   "source": [
    "conn = sqlite3.connect(\"pasar.sqlite3\")\n",
    "cur = conn.cursor()\n",
    "\n",
    "cur.execute(\"SELECT * FROM tabel_produk WHERE ProductID LIKE '45%'\")\n",
    "semua_baris = cur.fetchall()\n",
    "for baris in semua_baris:\n",
    "    print(baris)\n",
    "\n",
    "conn.close()"
   ]
  },
  {
   "cell_type": "code",
   "execution_count": 53,
   "metadata": {},
   "outputs": [
    {
     "name": "stdout",
     "output_type": "stream",
     "text": [
      "(789, 'Pisang', 40, 0.05, 1.25)\n"
     ]
    }
   ],
   "source": [
    "conn = sqlite3.connect(\"pasar.sqlite3\")\n",
    "cur = conn.cursor()\n",
    "\n",
    "cur.execute(\"SELECT * FROM tabel_produk WHERE ProductID LIKE '%9'\")\n",
    "semua_baris = cur.fetchall()\n",
    "for baris in semua_baris:\n",
    "    print(baris)\n",
    "\n",
    "conn.close()"
   ]
  },
  {
   "cell_type": "code",
   "execution_count": 52,
   "metadata": {},
   "outputs": [
    {
     "name": "stdout",
     "output_type": "stream",
     "text": [
      "(123, 'Apel', 10, 0.2, 3.5)\n",
      "(135, 'Stroberi', 120, 0.04, 2.0)\n"
     ]
    }
   ],
   "source": [
    "conn = sqlite3.connect(\"pasar.sqlite3\")\n",
    "cur = conn.cursor()\n",
    "\n",
    "cur.execute(\"SELECT * FROM tabel_produk WHERE ProductID LIKE '1%'\")\n",
    "semua_baris = cur.fetchall()\n",
    "for baris in semua_baris:\n",
    "    print(baris)\n",
    "\n",
    "conn.close()"
   ]
  },
  {
   "cell_type": "code",
   "execution_count": 55,
   "metadata": {},
   "outputs": [
    {
     "name": "stdout",
     "output_type": "stream",
     "text": [
      "(123, 'Apel', 10, 0.2, 3.5)\n"
     ]
    }
   ],
   "source": [
    "conn = sqlite3.connect(\"pasar.sqlite3\")\n",
    "cur = conn.cursor()\n",
    "\n",
    "cur.execute(\"SELECT * FROM tabel_produk WHERE (Stok < 50) AND (ProductID LIKE '1%')\")\n",
    "semua_baris = cur.fetchall()\n",
    "for baris in semua_baris:\n",
    "    print(baris)\n",
    "\n",
    "conn.close()"
   ]
  },
  {
   "cell_type": "code",
   "execution_count": 66,
   "metadata": {},
   "outputs": [
    {
     "name": "stdout",
     "output_type": "stream",
     "text": [
      "(123, 'Apel', 10, 0.2, 3.5)\n",
      "(456, 'Jeruk', 15, 0.15, 2.1)\n"
     ]
    }
   ],
   "source": [
    "conn = sqlite3.connect(\"pasar.sqlite3\")\n",
    "cur = conn.cursor()\n",
    "\n",
    "cur.execute(\"SELECT * FROM tabel_produk WHERE (Stok <= 10) OR (HargaRibuRupiah > 2)\")\n",
    "semua_baris = cur.fetchall()\n",
    "for baris in semua_baris:\n",
    "    print(baris)\n",
    "\n",
    "conn.close()"
   ]
  },
  {
   "cell_type": "markdown",
   "metadata": {},
   "source": [
    "Update data"
   ]
  },
  {
   "cell_type": "code",
   "execution_count": 67,
   "metadata": {},
   "outputs": [],
   "source": [
    "conn = sqlite3.connect(\"pasar.sqlite3\")\n",
    "cur = conn.cursor()\n",
    "\n",
    "cur.execute(\"UPDATE tabel_produk SET Stok = 200 WHERE ProductID == 123\")\n",
    "conn.commit()\n",
    "\n",
    "conn.close()"
   ]
  },
  {
   "cell_type": "code",
   "execution_count": 68,
   "metadata": {},
   "outputs": [
    {
     "name": "stdout",
     "output_type": "stream",
     "text": [
      "(123, 'Apel', 200, 0.2, 3.5)\n",
      "(135, 'Stroberi', 120, 0.04, 2.0)\n",
      "(321, 'Wortel', 30, 0.1, 1.8)\n",
      "(456, 'Jeruk', 15, 0.15, 2.1)\n",
      "(789, 'Pisang', 40, 0.05, 1.25)\n",
      "(987, 'Brokoli', 70, 0.05, 1.5)\n"
     ]
    }
   ],
   "source": [
    "conn = sqlite3.connect(\"pasar.sqlite3\")\n",
    "cur = conn.cursor()\n",
    "\n",
    "cur.execute(\"SELECT * FROM tabel_produk\")\n",
    "semua_baris = cur.fetchall()\n",
    "for baris in semua_baris:\n",
    "    print(baris)\n",
    "\n",
    "conn.close()"
   ]
  },
  {
   "cell_type": "code",
   "execution_count": 69,
   "metadata": {},
   "outputs": [],
   "source": [
    "conn = sqlite3.connect(\"pasar.sqlite3\")\n",
    "cur = conn.cursor()\n",
    "\n",
    "cur.execute(\"UPDATE tabel_produk SET Nama = 'Jeruk nipis' WHERE ProductID == 456\")\n",
    "conn.commit()\n",
    "\n",
    "conn.close()"
   ]
  },
  {
   "cell_type": "code",
   "execution_count": 70,
   "metadata": {},
   "outputs": [
    {
     "name": "stdout",
     "output_type": "stream",
     "text": [
      "(123, 'Apel', 200, 0.2, 3.5)\n",
      "(135, 'Stroberi', 120, 0.04, 2.0)\n",
      "(321, 'Wortel', 30, 0.1, 1.8)\n",
      "(456, 'Jeruk nipis', 15, 0.15, 2.1)\n",
      "(789, 'Pisang', 40, 0.05, 1.25)\n",
      "(987, 'Brokoli', 70, 0.05, 1.5)\n"
     ]
    }
   ],
   "source": [
    "conn = sqlite3.connect(\"pasar.sqlite3\")\n",
    "cur = conn.cursor()\n",
    "\n",
    "cur.execute(\"SELECT * FROM tabel_produk\")\n",
    "semua_baris = cur.fetchall()\n",
    "for baris in semua_baris:\n",
    "    print(baris)\n",
    "\n",
    "conn.close()"
   ]
  },
  {
   "cell_type": "code",
   "execution_count": 71,
   "metadata": {},
   "outputs": [],
   "source": [
    "conn = sqlite3.connect(\"pasar.sqlite3\")\n",
    "cur = conn.cursor()\n",
    "\n",
    "cur.execute(\"UPDATE tabel_produk SET HargaRibuRupiah = 2.5 WHERE ProductID == 321\")\n",
    "conn.commit()\n",
    "\n",
    "conn.close()"
   ]
  },
  {
   "cell_type": "code",
   "execution_count": 72,
   "metadata": {},
   "outputs": [
    {
     "name": "stdout",
     "output_type": "stream",
     "text": [
      "(123, 'Apel', 200, 0.2, 3.5)\n",
      "(135, 'Stroberi', 120, 0.04, 2.0)\n",
      "(321, 'Wortel', 30, 0.1, 2.5)\n",
      "(456, 'Jeruk nipis', 15, 0.15, 2.1)\n",
      "(789, 'Pisang', 40, 0.05, 1.25)\n",
      "(987, 'Brokoli', 70, 0.05, 1.5)\n"
     ]
    }
   ],
   "source": [
    "conn = sqlite3.connect(\"pasar.sqlite3\")\n",
    "cur = conn.cursor()\n",
    "\n",
    "cur.execute(\"SELECT * FROM tabel_produk\")\n",
    "semua_baris = cur.fetchall()\n",
    "for baris in semua_baris:\n",
    "    print(baris)\n",
    "\n",
    "conn.close()"
   ]
  },
  {
   "cell_type": "code",
   "execution_count": 73,
   "metadata": {},
   "outputs": [],
   "source": [
    "conn = sqlite3.connect(\"pasar.sqlite3\")\n",
    "cur = conn.cursor()\n",
    "\n",
    "cur.execute(\"UPDATE tabel_produk SET Stok = 10 WHERE ProductID == 789\")\n",
    "conn.commit()\n",
    "\n",
    "conn.close()"
   ]
  },
  {
   "cell_type": "code",
   "execution_count": 74,
   "metadata": {},
   "outputs": [
    {
     "name": "stdout",
     "output_type": "stream",
     "text": [
      "(123, 'Apel', 200, 0.2, 3.5)\n",
      "(135, 'Stroberi', 120, 0.04, 2.0)\n",
      "(321, 'Wortel', 30, 0.1, 2.5)\n",
      "(456, 'Jeruk nipis', 15, 0.15, 2.1)\n",
      "(789, 'Pisang', 10, 0.05, 1.25)\n",
      "(987, 'Brokoli', 70, 0.05, 1.5)\n"
     ]
    }
   ],
   "source": [
    "conn = sqlite3.connect(\"pasar.sqlite3\")\n",
    "cur = conn.cursor()\n",
    "\n",
    "cur.execute(\"SELECT * FROM tabel_produk\")\n",
    "semua_baris = cur.fetchall()\n",
    "for baris in semua_baris:\n",
    "    print(baris)\n",
    "\n",
    "conn.close()"
   ]
  },
  {
   "cell_type": "markdown",
   "metadata": {},
   "source": [
    "Hapus baris"
   ]
  },
  {
   "cell_type": "code",
   "execution_count": 75,
   "metadata": {},
   "outputs": [],
   "source": [
    "conn = sqlite3.connect(\"pasar.sqlite3\")\n",
    "cur = conn.cursor()\n",
    "\n",
    "cur.execute(\"DELETE FROM tabel_produk WHERE ProductID == 789\")\n",
    "conn.commit()\n",
    "\n",
    "conn.close()"
   ]
  },
  {
   "cell_type": "code",
   "execution_count": 76,
   "metadata": {},
   "outputs": [
    {
     "name": "stdout",
     "output_type": "stream",
     "text": [
      "(123, 'Apel', 200, 0.2, 3.5)\n",
      "(135, 'Stroberi', 120, 0.04, 2.0)\n",
      "(321, 'Wortel', 30, 0.1, 2.5)\n",
      "(456, 'Jeruk nipis', 15, 0.15, 2.1)\n",
      "(987, 'Brokoli', 70, 0.05, 1.5)\n"
     ]
    }
   ],
   "source": [
    "conn = sqlite3.connect(\"pasar.sqlite3\")\n",
    "cur = conn.cursor()\n",
    "\n",
    "cur.execute(\"SELECT * FROM tabel_produk\")\n",
    "semua_baris = cur.fetchall()\n",
    "for baris in semua_baris:\n",
    "    print(baris)\n",
    "\n",
    "conn.close()"
   ]
  },
  {
   "cell_type": "markdown",
   "metadata": {},
   "source": [
    "Urutan menampilkan"
   ]
  },
  {
   "cell_type": "code",
   "execution_count": 77,
   "metadata": {},
   "outputs": [
    {
     "name": "stdout",
     "output_type": "stream",
     "text": [
      "(123, 'Apel', 200, 0.2, 3.5)\n",
      "(987, 'Brokoli', 70, 0.05, 1.5)\n",
      "(456, 'Jeruk nipis', 15, 0.15, 2.1)\n",
      "(135, 'Stroberi', 120, 0.04, 2.0)\n",
      "(321, 'Wortel', 30, 0.1, 2.5)\n"
     ]
    }
   ],
   "source": [
    "conn = sqlite3.connect(\"pasar.sqlite3\")\n",
    "cur = conn.cursor()\n",
    "\n",
    "cur.execute(\"SELECT * FROM tabel_produk ORDER BY Nama\")\n",
    "semua_baris = cur.fetchall()\n",
    "for baris in semua_baris:\n",
    "    print(baris)\n",
    "\n",
    "conn.close()"
   ]
  },
  {
   "cell_type": "code",
   "execution_count": 78,
   "metadata": {},
   "outputs": [
    {
     "name": "stdout",
     "output_type": "stream",
     "text": [
      "(321, 'Wortel', 30, 0.1, 2.5)\n",
      "(135, 'Stroberi', 120, 0.04, 2.0)\n",
      "(456, 'Jeruk nipis', 15, 0.15, 2.1)\n",
      "(987, 'Brokoli', 70, 0.05, 1.5)\n",
      "(123, 'Apel', 200, 0.2, 3.5)\n"
     ]
    }
   ],
   "source": [
    "conn = sqlite3.connect(\"pasar.sqlite3\")\n",
    "cur = conn.cursor()\n",
    "\n",
    "cur.execute(\"SELECT * FROM tabel_produk ORDER BY Nama DESC\")\n",
    "semua_baris = cur.fetchall()\n",
    "for baris in semua_baris:\n",
    "    print(baris)\n",
    "\n",
    "conn.close()"
   ]
  },
  {
   "cell_type": "code",
   "execution_count": 79,
   "metadata": {},
   "outputs": [
    {
     "name": "stdout",
     "output_type": "stream",
     "text": [
      "(123, 'Apel', 200, 0.2, 3.5)\n",
      "(987, 'Brokoli', 70, 0.05, 1.5)\n",
      "(456, 'Jeruk nipis', 15, 0.15, 2.1)\n",
      "(135, 'Stroberi', 120, 0.04, 2.0)\n",
      "(321, 'Wortel', 30, 0.1, 2.5)\n"
     ]
    }
   ],
   "source": [
    "conn = sqlite3.connect(\"pasar.sqlite3\")\n",
    "cur = conn.cursor()\n",
    "\n",
    "cur.execute(\"SELECT * FROM tabel_produk ORDER BY Nama ASC\")\n",
    "semua_baris = cur.fetchall()\n",
    "for baris in semua_baris:\n",
    "    print(baris)\n",
    "\n",
    "conn.close()"
   ]
  },
  {
   "cell_type": "code",
   "execution_count": 80,
   "metadata": {},
   "outputs": [
    {
     "name": "stdout",
     "output_type": "stream",
     "text": [
      "(135, 'Stroberi', 120, 0.04, 2.0)\n",
      "(987, 'Brokoli', 70, 0.05, 1.5)\n",
      "(321, 'Wortel', 30, 0.1, 2.5)\n",
      "(456, 'Jeruk nipis', 15, 0.15, 2.1)\n",
      "(123, 'Apel', 200, 0.2, 3.5)\n"
     ]
    }
   ],
   "source": [
    "conn = sqlite3.connect(\"pasar.sqlite3\")\n",
    "cur = conn.cursor()\n",
    "\n",
    "cur.execute(\"SELECT * FROM tabel_produk ORDER BY BeratKG\")\n",
    "semua_baris = cur.fetchall()\n",
    "for baris in semua_baris:\n",
    "    print(baris)\n",
    "\n",
    "conn.close()"
   ]
  },
  {
   "cell_type": "code",
   "execution_count": 81,
   "metadata": {},
   "outputs": [
    {
     "name": "stdout",
     "output_type": "stream",
     "text": [
      "(987, 'Brokoli', 70, 0.05, 1.5)\n",
      "(135, 'Stroberi', 120, 0.04, 2.0)\n",
      "(456, 'Jeruk nipis', 15, 0.15, 2.1)\n",
      "(321, 'Wortel', 30, 0.1, 2.5)\n",
      "(123, 'Apel', 200, 0.2, 3.5)\n"
     ]
    }
   ],
   "source": [
    "conn = sqlite3.connect(\"pasar.sqlite3\")\n",
    "cur = conn.cursor()\n",
    "\n",
    "cur.execute(\"SELECT * FROM tabel_produk ORDER BY HargaRibuRupiah\")\n",
    "semua_baris = cur.fetchall()\n",
    "for baris in semua_baris:\n",
    "    print(baris)\n",
    "\n",
    "conn.close()"
   ]
  },
  {
   "cell_type": "code",
   "execution_count": 82,
   "metadata": {},
   "outputs": [
    {
     "name": "stdout",
     "output_type": "stream",
     "text": [
      "(123, 'Apel', 200, 0.2, 3.5)\n",
      "(321, 'Wortel', 30, 0.1, 2.5)\n",
      "(456, 'Jeruk nipis', 15, 0.15, 2.1)\n",
      "(135, 'Stroberi', 120, 0.04, 2.0)\n",
      "(987, 'Brokoli', 70, 0.05, 1.5)\n"
     ]
    }
   ],
   "source": [
    "conn = sqlite3.connect(\"pasar.sqlite3\")\n",
    "cur = conn.cursor()\n",
    "\n",
    "cur.execute(\"SELECT * FROM tabel_produk ORDER BY HargaRibuRupiah DESC\")\n",
    "semua_baris = cur.fetchall()\n",
    "for baris in semua_baris:\n",
    "    print(baris)\n",
    "\n",
    "conn.close()"
   ]
  },
  {
   "cell_type": "code",
   "execution_count": 83,
   "metadata": {},
   "outputs": [
    {
     "name": "stdout",
     "output_type": "stream",
     "text": [
      "(123, 'Apel', 200, 0.2, 3.5)\n",
      "(321, 'Wortel', 30, 0.1, 2.5)\n",
      "(456, 'Jeruk nipis', 15, 0.15, 2.1)\n"
     ]
    }
   ],
   "source": [
    "conn = sqlite3.connect(\"pasar.sqlite3\")\n",
    "cur = conn.cursor()\n",
    "\n",
    "cur.execute(\"SELECT * FROM tabel_produk ORDER BY HargaRibuRupiah DESC LIMIT 3\")\n",
    "semua_baris = cur.fetchall()\n",
    "for baris in semua_baris:\n",
    "    print(baris)\n",
    "\n",
    "conn.close()"
   ]
  },
  {
   "cell_type": "code",
   "execution_count": 85,
   "metadata": {},
   "outputs": [
    {
     "name": "stdout",
     "output_type": "stream",
     "text": [
      "(123, 'Apel', 200, 0.2, 3.5)\n",
      "(135, 'Stroberi', 120, 0.04, 2.0)\n",
      "(321, 'Wortel', 30, 0.1, 2.5)\n"
     ]
    }
   ],
   "source": [
    "conn = sqlite3.connect(\"pasar.sqlite3\")\n",
    "cur = conn.cursor()\n",
    "\n",
    "cur.execute(\"SELECT * FROM tabel_produk ORDER BY ProductID LIMIT 3\")\n",
    "semua_baris = cur.fetchall()\n",
    "for baris in semua_baris:\n",
    "    print(baris)\n",
    "\n",
    "conn.close()"
   ]
  },
  {
   "cell_type": "code",
   "execution_count": 86,
   "metadata": {},
   "outputs": [
    {
     "name": "stdout",
     "output_type": "stream",
     "text": [
      "(123, 'Apel', 200, 0.2, 3.5)\n",
      "(135, 'Stroberi', 120, 0.04, 2.0)\n",
      "(321, 'Wortel', 30, 0.1, 2.5)\n"
     ]
    }
   ],
   "source": [
    "conn = sqlite3.connect(\"pasar.sqlite3\")\n",
    "cur = conn.cursor()\n",
    "\n",
    "cur.execute(\"SELECT * FROM tabel_produk LIMIT 3\")\n",
    "semua_baris = cur.fetchall()\n",
    "for baris in semua_baris:\n",
    "    print(baris)\n",
    "\n",
    "conn.close()"
   ]
  },
  {
   "cell_type": "code",
   "execution_count": 87,
   "metadata": {},
   "outputs": [
    {
     "name": "stdout",
     "output_type": "stream",
     "text": [
      "(123, 'Apel', 200, 0.2, 3.5)\n",
      "(135, 'Stroberi', 120, 0.04, 2.0)\n",
      "(321, 'Wortel', 30, 0.1, 2.5)\n",
      "(456, 'Jeruk nipis', 15, 0.15, 2.1)\n",
      "(987, 'Brokoli', 70, 0.05, 1.5)\n"
     ]
    }
   ],
   "source": [
    "conn = sqlite3.connect(\"pasar.sqlite3\")\n",
    "cur = conn.cursor()\n",
    "\n",
    "cur.execute(\"SELECT * FROM tabel_produk ORDER BY ProductID\")\n",
    "semua_baris = cur.fetchall()\n",
    "for baris in semua_baris:\n",
    "    print(baris)\n",
    "\n",
    "conn.close()"
   ]
  },
  {
   "cell_type": "code",
   "execution_count": 88,
   "metadata": {},
   "outputs": [
    {
     "name": "stdout",
     "output_type": "stream",
     "text": [
      "(123, 'Apel', 200, 0.2, 3.5)\n",
      "(135, 'Stroberi', 120, 0.04, 2.0)\n",
      "(321, 'Wortel', 30, 0.1, 2.5)\n",
      "(456, 'Jeruk nipis', 15, 0.15, 2.1)\n",
      "(987, 'Brokoli', 70, 0.05, 1.5)\n"
     ]
    }
   ],
   "source": [
    "conn = sqlite3.connect(\"pasar.sqlite3\")\n",
    "cur = conn.cursor()\n",
    "\n",
    "cur.execute(\"SELECT * FROM tabel_produk\")\n",
    "semua_baris = cur.fetchall()\n",
    "for baris in semua_baris:\n",
    "    print(baris)\n",
    "\n",
    "conn.close()"
   ]
  },
  {
   "cell_type": "code",
   "execution_count": null,
   "metadata": {},
   "outputs": [],
   "source": []
  }
 ],
 "metadata": {
  "kernelspec": {
   "display_name": "Python 3",
   "language": "python",
   "name": "python3"
  },
  "language_info": {
   "codemirror_mode": {
    "name": "ipython",
    "version": 3
   },
   "file_extension": ".py",
   "mimetype": "text/x-python",
   "name": "python",
   "nbconvert_exporter": "python",
   "pygments_lexer": "ipython3",
   "version": "3.10.11"
  }
 },
 "nbformat": 4,
 "nbformat_minor": 2
}
