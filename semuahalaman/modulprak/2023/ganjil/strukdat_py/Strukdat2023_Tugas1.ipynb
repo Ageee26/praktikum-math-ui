{
 "cells": [
  {
   "cell_type": "markdown",
   "metadata": {},
   "source": [
    "# Tugas 1 Praktikum Struktur Data"
   ]
  },
  {
   "cell_type": "markdown",
   "metadata": {},
   "source": [
    "Kembali ke [Struktur Data (dengan Python)](strukdat2023.qmd)"
   ]
  },
  {
   "cell_type": "markdown",
   "metadata": {},
   "source": [
    "## Soal:"
   ]
  },
  {
   "cell_type": "markdown",
   "metadata": {},
   "source": [
    "1. Menambahkan elemen *array* ke ujung *linked list*\n",
    "    \n",
    "    a. Diberikan suatu *linked list* dan suatu *array* atau *list*, buatlah fungsi `add_array_to_sllist` yang menambahkan masing-masing elemen *array* atau *list* tersebut ke ujung *linked list*.\n",
    "    \n",
    "    b. Mengingat bahwa insertion pada ujung *linked list* adalah O(n), bagaimana kompleksitas waktu (*time complexity*) dari fungsi yang Anda buat? Berikan argumen atas jawaban Anda (tidak harus berupa tabel *running time*, boleh berupa paragraf).\n",
    "    \n",
    "    Nilai maksimal apabila Anda berhasil membuat fungsi yang O(n).\n",
    "\n",
    "    Contoh yang berhasil:\n",
    "\n",
    "    ```\n",
    "    >>> linkedlist1 = SLList()\n",
    "    >>> linkedlist1.head = Node(89)\n",
    "    >>> linkedlist1.head.next = Node(43)\n",
    "    >>> array1 = np.array([64, -12, 35, 98])\n",
    "    >>> add_array_to_sllist(linkedlist1, array1)\n",
    "    >>> linkedlist1.print_all()\n",
    "    head -> 89 -> 43 -> 64 -> -12 -> 35 -> 98 -> None\n",
    "    ```"
   ]
  },
  {
   "cell_type": "markdown",
   "metadata": {},
   "source": [
    "2. *Linked list* menjadi *array*\n",
    "\n",
    "    Diberikan suatu *linked list*, buatlah fungsi `sllist_to_array` yang mengubahnya menjadi *array*. Nilai maksimal apabila definisi fungsi tidak melibatkan fitur `.append` maupun list/set/tuple comprehension.\n",
    "\n",
    "    Contoh yang berhasil:\n",
    "\n",
    "    ```\n",
    "    >>> linkedlist1 = SLList()\n",
    "    >>> array1 = np.array([10, 30, -47, 73])\n",
    "    >>> add_array_to_sllist(linkedlist1, array1)\n",
    "    >>> array2 = sllist_to_array(linkedlist1)\n",
    "    >>> print(array2)\n",
    "    [ 10  30 -47  73]\n",
    "    ```"
   ]
  },
  {
   "cell_type": "markdown",
   "metadata": {},
   "source": [
    "3. *Sorting* pada *linked list*\n",
    "    \n",
    "    a. Diberikan suatu *linked list*, buatlah fungsi `get_sorted_sllist` yang mengembalikan (`return`) hasil mengurut *linked list* tersebut, di mana *node* dengan nilai data terkecil lah yang ditunjuk oleh *head* (sedangkan *node* dengan data terbesar ada di ujung *linked list*).\n",
    "    \n",
    "    b. Bagaimana kompleksitas waktu (*time complexity*) dari fungsi yang Anda buat? Berikan argumen atas jawaban Anda (tidak harus berupa tabel *running time*, boleh berupa paragraf).\n",
    "\n",
    "    Nilai maksimal apabila Anda berhasil membuat fungsi yang O(n log n)."
   ]
  },
  {
   "cell_type": "markdown",
   "metadata": {},
   "source": [
    "4. fungsi nomor (1), (2), (3) dijadikan method di class linked list"
   ]
  },
  {
   "cell_type": "markdown",
   "metadata": {},
   "source": [
    "5. Tambahkan fitur baru di definisi class *linked list* agar dua *linked list* bisa \"ditambahkan\". Berikut contoh yang berhasil:\n",
    "\n",
    "    ```\n",
    "    >>> linkedlist1 = SLList()\n",
    "    >>> linkedlist1.add_array([9, 6, 2, 7])\n",
    "    >>> linkedlist2 = SLList()\n",
    "    >>> linkedlist2.add_array([10, 58, 3, 45])\n",
    "    >>> linkedlist3 = linkedlist1 + linkedlist2\n",
    "    >>> linkedlist3.print_all()\n",
    "    head -> 9 -> 6 -> 2 -> 7 -> 10 -> 58 -> 3 -> 45 -> None\n",
    "    ```\n",
    "\n",
    "    Hint: gunakan *operator overloading*."
   ]
  },
  {
   "cell_type": "code",
   "execution_count": null,
   "metadata": {},
   "outputs": [],
   "source": []
  }
 ],
 "metadata": {
  "language_info": {
   "name": "python"
  }
 },
 "nbformat": 4,
 "nbformat_minor": 2
}
