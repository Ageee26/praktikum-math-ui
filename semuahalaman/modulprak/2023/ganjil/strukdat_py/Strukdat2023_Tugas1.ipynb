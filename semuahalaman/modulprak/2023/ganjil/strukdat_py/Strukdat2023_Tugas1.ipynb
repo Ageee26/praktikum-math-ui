{
 "cells": [
  {
   "cell_type": "markdown",
   "metadata": {},
   "source": [
    "# Tugas 1 Praktikum Struktur Data"
   ]
  },
  {
   "cell_type": "markdown",
   "metadata": {},
   "source": [
    "Kembali ke [Struktur Data (dengan Python)](strukdat2023.qmd)"
   ]
  },
  {
   "cell_type": "markdown",
   "metadata": {},
   "source": [
    "## Petunjuk umum:"
   ]
  },
  {
   "cell_type": "markdown",
   "metadata": {},
   "source": [
    "1. Kerjakan secara individu.\n",
    "\n",
    "2. Kerjakan tugas ini menggunakan bahasa pemrograman Python dengan *file format* berupa *interactive Python notebook* (yaitu *file* berbentuk .ipynb BUKAN .py), yang bisa dibuat misalnya menggunakan Jupyter Notebook atau Google Colaboratory.\n",
    "\n",
    "3. **Harap sertakan penjelasan untuk setiap variabel yang digunakan dan setiap proses secara singkat** di sebelah (atas/bawah/kanan) barisnya (dengan comment, `#`). Selain itu, **sertakan juga penjelasan kode** (yang bisa mencakupi idenya apa, bagaimana cara eksekusinya, atau tentang algoritma yang digunakan) **pada *cell* di sebelah (atas/bawah) kode**.\n",
    "\n",
    "4. Format nama *file* untuk Tugas 1 ini adalah:\n",
    "\n",
    "    Kelas SIAK_Tugas1PrakStrukdat_Nama Lengkap_NPM.ipynb\n",
    "\n",
    "    Contoh penamaan yang benar:\n",
    "\n",
    "    Kelas C_Tugas1PrakStrukdat_Charles Antony Richard Hoare_2234567890.ipynb\n",
    "\n",
    "5. Pengumpulan Tugas 1 dilakukan ke Google Forms berikut ini (otw)\n",
    "\n",
    "6. Apabila ada yang ingin direvisi setelah pengumpulan, lakukan pengumpulan ulang di Google Forms yang sama, tambahkan keterangan bahwa ada revisi, dan tambahkan kata “revisi” pada bagian akhir nama file, contohnya menjadi\n",
    "\n",
    "    Kelas C_Tugas1PrakStrukdat_Charles Antony Richard Hoare_2234567890_revisi.ipynb\n",
    "\n",
    "    Kelas C_Tugas1PrakStrukdat_Charles Antony Richard Hoare_2234567890_revisi2.ipynb\n",
    "\n",
    "    Kelas C_Tugas1PrakStrukdat_Charles Antony Richard Hoare_2234567890_revisi3.ipynb\n",
    "\n",
    "    (Revisi boleh dilakukan berkali-kali.)\n",
    "\n",
    "7. Tenggat waktu (*deadline*) pengumpulan Tugas 1 ini adalah **Rabu, 1 November 2023, 23.59 WIB**.\n",
    "\n",
    "8. Sesuai standar Universitas Indonesia, **plagiarisme dilarang keras** dan bisa menyebabkan nilai tugas praktikum **menjadi nol untuk semua pihak yang terlibat, tanpa peringatan apapun.**\n",
    "\n",
    "9. *Module* atau *package* Python yang boleh digunakan (di-*import*) untuk Tugas 1 ini hanyalah numpy dan graphviz. Apabila Anda berniat ingin menggunakan *module* lain, harap konfirmasikan ke narahubung terlebih dahulu (bisa saja diperbolehkan).\n",
    "\n",
    "10. Narahubung untuk Tugas 1 Praktikum Struktur Data adalah:\n",
    "\n",
    "    Bisma Rohpanca Joyosumarto (ID LINE: bisma_joyosumarto)\n",
    "    \n",
    "    Silakan hubungi narahubung di atas apabila ada yang ingin ditanyakan atau dikonfirmasikan."
   ]
  },
  {
   "cell_type": "markdown",
   "metadata": {},
   "source": [
    "## Soal:"
   ]
  },
  {
   "cell_type": "markdown",
   "metadata": {},
   "source": [
    "Kerjakan empat soal berikut ini di dalam satu *file* `.ipynb` yang sama."
   ]
  },
  {
   "cell_type": "markdown",
   "metadata": {},
   "source": [
    "1. Menambahkan elemen *array* ke ujung *linked list*\n",
    "    \n",
    "    a. Diberikan suatu *linked list* dan suatu *array* atau *list*, buatlah fungsi `add_array_to_sllist` yang menambahkan masing-masing elemen *array* atau *list* tersebut ke ujung *linked list*.\n",
    "    \n",
    "    b. Mengingat bahwa insertion pada ujung *linked list* adalah O(n), bagaimana kompleksitas waktu (*time complexity*) dari fungsi yang Anda buat? Berikan argumen atas jawaban Anda (tidak harus berupa tabel *running time*, boleh berupa paragraf).\n",
    "    \n",
    "    Nilai maksimal apabila Anda berhasil membuat fungsi yang O(n).\n",
    "\n",
    "    Contoh penggunaan fungsi:\n",
    "\n",
    "    ```\n",
    "    >>> linkedlist1 = SLList()\n",
    "    >>> linkedlist1.head = Node(89)\n",
    "    >>> linkedlist1.head.next = Node(43)\n",
    "    >>> array1 = np.array([64, -12, 35, 98])\n",
    "    >>> add_array_to_sllist(linkedlist1, array1)\n",
    "    >>> linkedlist1.print_all()\n",
    "    head -> 89 -> 43 -> 64 -> -12 -> 35 -> 98 -> None\n",
    "    ```"
   ]
  },
  {
   "cell_type": "markdown",
   "metadata": {},
   "source": [
    "2. *Linked list* menjadi *array*\n",
    "\n",
    "    Diberikan suatu *linked list*, buatlah fungsi `sllist_to_array` yang mengubahnya menjadi *array*. Nilai maksimal apabila definisi fungsi tidak melibatkan fitur `.append` maupun list/set/tuple comprehension.\n",
    "\n",
    "    Contoh yang berhasil:\n",
    "\n",
    "    ```\n",
    "    >>> linkedlist1 = SLList()\n",
    "    >>> array1 = np.array([10, 30, -47, 73])\n",
    "    >>> add_array_to_sllist(linkedlist1, array1)\n",
    "    >>> array2 = sllist_to_array(linkedlist1)\n",
    "    >>> print(array2)\n",
    "    [ 10  30 -47  73]\n",
    "    ```"
   ]
  },
  {
   "cell_type": "markdown",
   "metadata": {},
   "source": [
    "3. Membuat *method*\n",
    "\n",
    "    Modifikasi definisi class *linked list* agar fungsi yang telah Anda buat di soal nomor 1 dan 2 bisa digunakan sebagai *method*, misalnya bernama `add_array` dan `to_array`.\n",
    "\n",
    "    Contoh yang berhasil:\n",
    "\n",
    "    ```\n",
    "    >>> linkedlist1 = SLList()\n",
    "    >>> array1 = np.array([81, -45, -27, 39])\n",
    "    >>> linkedlist1.add_array(array1)\n",
    "    >>> array2 = linkedlist2.to_array()\n",
    "    >>> print(array2)\n",
    "    [ 81 -45 -27  39]"
   ]
  },
  {
   "cell_type": "markdown",
   "metadata": {},
   "source": [
    "4. Penggabungan *linked list* dengan `+`\n",
    "\n",
    "    Tambahkan fitur baru di definisi class *linked list* agar dua *linked list* bisa \"ditambahkan\". Berikut contoh yang berhasil:\n",
    "\n",
    "    ```\n",
    "    >>> linkedlist1 = SLList()\n",
    "    >>> linkedlist1.add_array([9, 6, 2, 7])\n",
    "    >>> linkedlist2 = SLList()\n",
    "    >>> linkedlist2.add_array([10, 58, 3, 45])\n",
    "    >>> linkedlist3 = linkedlist1 + linkedlist2\n",
    "    >>> linkedlist3.print_all()\n",
    "    head -> 9 -> 6 -> 2 -> 7 -> 10 -> 58 -> 3 -> 45 -> None\n",
    "    ```\n",
    "\n",
    "    Hint: gunakan *operator overloading*."
   ]
  }
 ],
 "metadata": {
  "language_info": {
   "name": "python"
  }
 },
 "nbformat": 4,
 "nbformat_minor": 2
}
