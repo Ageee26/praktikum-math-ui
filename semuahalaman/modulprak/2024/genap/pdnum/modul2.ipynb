{
 "cells": [
  {
   "cell_type": "markdown",
   "metadata": {
    "collapsed": false
   },
   "source": [
    "# Modul 2 Persamaan Diferensial Numerik"
   ]
  },
  {
   "cell_type": "markdown",
   "metadata": {
    "collapsed": false
   },
   "source": [
    "Kembali ke [Persamaan Diferensial Numerik](./pdnum2024genap.qmd)"
   ]
  },
  {
   "cell_type": "markdown",
   "metadata": {
    "collapsed": false
   },
   "source": [
    "## Plotting Fungsi"
   ]
  },
  {
   "cell_type": "markdown",
   "metadata": {
    "collapsed": false
   },
   "source": [
    "Sebelum mulai mempelajari metode-metode untuk menyelesaikan persamaan diferensial secara numerik, kita akan membahas terlebih dahulu tentang teknis *plotting* fungsi, juga sedikit tambahan materi mengenai fungsi."
   ]
  },
  {
   "cell_type": "markdown",
   "metadata": {
    "collapsed": false
   },
   "source": [
    "Misalnya kita punya fungsi $g(x)=2x$, suatu fungsi matematis (terkadang disebut \"pure function\" di dunia pemrograman). Ada dua cara untuk mendefinisikannya di Octave."
   ]
  },
  {
   "cell_type": "markdown",
   "metadata": {
    "collapsed": false
   },
   "source": [
    "Cara pertama, yang sudah dibahas di pertemuan sebelumnya, adalah menggunakan keyword `function`:"
   ]
  },
  {
   "cell_type": "code",
   "execution_count": 9,
   "metadata": {
    "collapsed": false
   },
   "outputs": [
   ],
   "source": [
    "function y = g(x)\n",
    "  y = 2*x;\n",
    "endfunction"
   ]
  },
  {
   "cell_type": "markdown",
   "metadata": {
    "collapsed": false
   },
   "source": [
    "Sehingga bisa dipanggil:"
   ]
  },
  {
   "cell_type": "code",
   "execution_count": 10,
   "metadata": {
    "collapsed": false
   },
   "outputs": [
    {
     "name": "stdout",
     "output_type": "stream",
     "text": [
      "ans = 6\r\n"
     ]
    }
   ],
   "source": [
    "g(3)"
   ]
  },
  {
   "cell_type": "markdown",
   "metadata": {
    "collapsed": false
   },
   "source": [
    "Cara kedua, yang lebih praktis, adalah dengan membuat yang namanya ***anonymous function***. Perhatikan *syntax* berikut:"
   ]
  },
  {
   "cell_type": "code",
   "execution_count": 12,
   "metadata": {
    "collapsed": false
   },
   "outputs": [
    {
     "name": "stdout",
     "output_type": "stream",
     "text": [
      "ans = 6\r\n"
     ]
    }
   ],
   "source": [
    "g = @(x) 2*x;\n",
    "g(3)"
   ]
  },
  {
   "cell_type": "markdown",
   "metadata": {
    "collapsed": false
   },
   "source": [
    "Terlihat lebih sederhana, dan cukup mirip dengan penulisan matematis $g(x)=2x$. Sebutannya *anonymous function* karena sebenarnya fungsinya tidak memiliki nama yang tetap, kebetulan saja kali ini bisa diakses melalui variabel `g` yang menyimpannya. Secara umum, penulisannya adalah seperti berikut: \n",
    "\n",
    "```octave\n",
    "nama_fungsi = @(input1, input2, ..., input_terakhir) rumus;\n",
    "```"
   ]
  },
  {
   "cell_type": "markdown",
   "metadata": {
    "collapsed": false
   },
   "source": [
    "Sehingga misalnya kita bisa menuliskan fungsi $h(x,y) = x^2 + y^3$, lalu menghitung $h(4,5)$, sebagai berikut:"
   ]
  },
  {
   "cell_type": "code",
   "execution_count": 13,
   "metadata": {
    "collapsed": false
   },
   "outputs": [
    {
     "name": "stdout",
     "output_type": "stream",
     "text": [
      "ans = 141\r\n"
     ]
    }
   ],
   "source": [
    "h = @(x,y) x^2 + y^3;\n",
    "h(4,5)"
   ]
  },
  {
   "cell_type": "markdown",
   "metadata": {
    "collapsed": false
   },
   "source": [
    "Selanjutnya, kita akan membahas tentang *plotting*.\n",
    "\n",
    "Misalkan kita memiliki titik-titik $(0,0)$, $(\\frac{\\pi}{2},1)$, $(\\pi,0)$, dan $(\\frac{3\\pi}{2},-1)$. Kita bisa membuat dua *array*, yaitu satu *array* yang menyimpan tiap nilai x, dan satu lagi untuk menyimpan tiap nilai y.\n",
    "\n",
    "Kemudian, kita bisa menggambar *plot* yang menyambung titik-titik tersebut dengan fungsi `plot`:"
   ]
  },
  {
   "cell_type": "code",
   "execution_count": 15,
   "metadata": {
    "collapsed": false
   },
   "outputs": [
    {
     "data": {
      "image/png": "[encoded data removed]",
      "text/plain": [
       "<IPython.core.display.Image object>"
      ]
     },
     "execution_count": 15,
     "metadata": {
     },
     "output_type": "execute_result"
    }
   ],
   "source": [
    "x = [0, pi/2, pi, 3*pi/2];\n",
    "y = [0, 1, 0, -1];\n",
    "plot(x,y)"
   ]
  },
  {
   "cell_type": "markdown",
   "metadata": {
    "collapsed": false
   },
   "source": [
    "Titik-titik tersebut sebenarnya adalah hasil dari fungsi $\\sin(x)$ yang diterapkan pada nilai $x=0, \\frac{\\pi}{2}, \\pi, \\frac{3\\pi}{2}$.\n",
    "\n",
    "Sebenarnya, kita bisa saja hanya membuat *array* nilai x, kemudian memperoleh *array* nilai y dengan memasukkan *array* x ke dalam fungsi $\\sin(x)$, agar tiap nilai pada *array* x diterapkan fungsi $\\sin(x)$. Penerapan fungsi pada tiap elemen *array* seperti itu sering disebut ***broadcasting***."
   ]
  },
  {
   "cell_type": "code",
   "execution_count": 21,
   "metadata": {
    "collapsed": false
   },
   "outputs": [
    {
     "data": {
      "image/png": "[encoded data removed]",
      "text/plain": [
       "<IPython.core.display.Image object>"
      ]
     },
     "execution_count": 21,
     "metadata": {
     },
     "output_type": "execute_result"
    }
   ],
   "source": [
    "x = [0, pi/2, pi, 3*pi/2];\n",
    "y = sin(x);\n",
    "plot(x,y)"
   ]
  },
  {
   "cell_type": "markdown",
   "metadata": {
    "collapsed": false
   },
   "source": [
    "Untuk plot yang menyambung-nyambung titik-titik, plotnya sudah bagus. Namun, bagaimana kalau misalnya kita ingin membuat *plot* fungsi $\\sin(x)$ itu sendiri, misalnya pada interval $[0,5]$?"
   ]
  },
  {
   "cell_type": "markdown",
   "metadata": {
    "collapsed": false
   },
   "source": [
    "Caranya, kita tinggal memperbanyak titik di *array* x tersebut, agar lebih presisi. Makin banyak titiknya, makin akurat gambarnya.\n",
    "\n",
    "Tenang saja, kita tidak perlu pegal-pegal mengetik titik-titik $[0, 0.1, 0.2, ..., 4.9, 5]$. Di Octave, ada *syntax* untuk membuat *array* dari titik-titik pada interval $[a,b]$ dengan *step size* $h$, yaitu sebagai berikut:\n",
    "\n",
    "```octave\n",
    "nama_array = a : h : b\n",
    "```"
   ]
  },
  {
   "cell_type": "markdown",
   "metadata": {
    "collapsed": false
   },
   "source": [
    "Misalnya, untuk menyimpan titik-titik pada interval $[0,5]$ dengan *step size* 0.1, ketik:"
   ]
  },
  {
   "cell_type": "code",
   "execution_count": 22,
   "metadata": {
    "collapsed": false
   },
   "outputs": [
    {
     "name": "stdout",
     "output_type": "stream",
     "text": [
      "x =\r\n",
      "\r\n",
      " Columns 1 through 8:\r\n",
      "\r\n",
      "         0    0.1000    0.2000    0.3000    0.4000    0.5000    0.6000    0.7000\r\n",
      "\r\n",
      " Columns 9 through 16:\r\n",
      "\r\n",
      "    0.8000    0.9000    1.0000    1.1000    1.2000    1.3000    1.4000    1.5000\r\n",
      "\r\n",
      " Columns 17 through 24:\r\n",
      "\r\n",
      "    1.6000    1.7000    1.8000    1.9000    2.0000    2.1000    2.2000    2.3000\r\n",
      "\r\n",
      " Columns 25 through 32:\r\n",
      "\r\n",
      "    2.4000    2.5000    2.6000    2.7000    2.8000    2.9000    3.0000    3.1000\r\n",
      "\r\n",
      " Columns 33 through 40:\r\n",
      "\r\n",
      "    3.2000    3.3000    3.4000    3.5000    3.6000    3.7000    3.8000    3.9000\r\n",
      "\r\n",
      " Columns 41 through 48:\r\n",
      "\r\n",
      "    4.0000    4.1000    4.2000    4.3000    4.4000    4.5000    4.6000    4.7000\r\n",
      "\r\n",
      " Columns 49 through 51:\r\n",
      "\r\n",
      "    4.8000    4.9000    5.0000\r\n",
      "\r\n"
     ]
    }
   ],
   "source": [
    "x = 0 : 0.1 : 5"
   ]
  },
  {
   "cell_type": "markdown",
   "metadata": {
    "collapsed": false
   },
   "source": [
    "Sehingga, kita bisa membuat *plot* $\\sin(x)$ pada interval $[0,5]$ seperti berikut:"
   ]
  },
  {
   "cell_type": "code",
   "execution_count": 23,
   "metadata": {
    "collapsed": false
   },
   "outputs": [
    {
     "data": {
      "image/png": "[encoded data removed]",
      "text/plain": [
       "<IPython.core.display.Image object>"
      ]
     },
     "execution_count": 23,
     "metadata": {
     },
     "output_type": "execute_result"
    }
   ],
   "source": [
    "x = 0 : 0.1 : 5;\n",
    "y = sin(x);\n",
    "plot(x,y)"
   ]
  },
  {
   "cell_type": "markdown",
   "metadata": {
    "collapsed": false
   },
   "source": [
    "Warnanya bisa ditentukan, misal menjadi merah ('r'), hijau ('g'), atau biru ('b'), dengan menambah keterangan di `plot`"
   ]
  },
  {
   "cell_type": "code",
   "execution_count": 31,
   "metadata": {
    "collapsed": false
   },
   "outputs": [
    {
     "data": {
      "image/png": "[encoded data removed]",
      "text/plain": [
       "<IPython.core.display.Image object>"
      ]
     },
     "execution_count": 31,
     "metadata": {
     },
     "output_type": "execute_result"
    }
   ],
   "source": [
    "x = 0 : 0.1 : 5;\n",
    "y = sin(x);\n",
    "plot(x, y, 'r')"
   ]
  },
  {
   "cell_type": "markdown",
   "metadata": {
    "collapsed": false
   },
   "source": [
    "Kalau mau, kita bisa mem-*plot* titik-titiknya saja (tanpa disambung-sambung), menggunakan `scatter`:"
   ]
  },
  {
   "cell_type": "code",
   "execution_count": 24,
   "metadata": {
    "collapsed": false
   },
   "outputs": [
    {
     "data": {
      "image/png": "[encoded data removed]",
      "text/plain": [
       "<IPython.core.display.Image object>"
      ]
     },
     "execution_count": 24,
     "metadata": {
     },
     "output_type": "execute_result"
    }
   ],
   "source": [
    "x = 0 : 0.1 : 5;\n",
    "y = sin(x);\n",
    "scatter(x,y)"
   ]
  },
  {
   "cell_type": "markdown",
   "metadata": {
    "collapsed": false
   },
   "source": [
    "Seperti di `plot`, kita juga bisa menentukan warna di `scatter`:"
   ]
  },
  {
   "cell_type": "code",
   "execution_count": 32,
   "metadata": {
    "collapsed": false
   },
   "outputs": [
    {
     "data": {
      "image/png": "[encoded data removed]",
      "text/plain": [
       "<IPython.core.display.Image object>"
      ]
     },
     "execution_count": 32,
     "metadata": {
     },
     "output_type": "execute_result"
    }
   ],
   "source": [
    "x = 0 : 0.1 : 5;\n",
    "y = sin(x);\n",
    "scatter(x, y, 'g')"
   ]
  },
  {
   "cell_type": "markdown",
   "metadata": {
    "collapsed": false
   },
   "source": [
    "Kita coba contoh lain yuk! Misalnya kita ingin membuat *plot* dari fungsi $f(x) = x^3$ pada interval $[-1,1]$. Kita bisa coba definisikan fungsinya dulu, lalu buat *array* x dan y nya:"
   ]
  },
  {
   "cell_type": "code",
   "execution_count": 26,
   "metadata": {
    "collapsed": false
   },
   "outputs": [
    {
     "name": "stdout",
     "output_type": "stream",
     "text": [
      "error: for x^y, only square matrix arguments are permitted and one argument must be scalar.  Use .^ for elementwise power.\r\n",
      "error: called from\r\n",
      "    @<anonymous> at line 1 column 11\r\n"
     ]
    }
   ],
   "source": [
    "f = @(x) x^3;\n",
    "x = 0 : 0.1 : 5;\n",
    "y = f(x);"
   ]
  },
  {
   "cell_type": "markdown",
   "metadata": {
    "collapsed": false
   },
   "source": [
    "Lho, kok error?\n",
    "\n",
    "Perhatikan bahwa kita memasukkan *array* x ke dalam fungsi $f(x) = x^3$. Untuk contoh yang tadi, fungsi $\\sin(x)$, ketika kita memasukkan *array* x, Octave paham bahwa tiap nilai pada *array* perlu diterapkan fungsi $\\sin$.\n",
    "\n",
    "Namun, kali ini, Octave melihat bahwa ada *array* yang dipangkatkan tiga. Octave memandang *array* sebagai matriks dengan satu baris saja (atau satu kolom saja), sehingga Octave mencoba melakukan parpangkatan matriks. Padahal, syarat perpangkatan matriks adalah matriksnya harus persegi. *Array* ini bukanlah matriks persegi, sehingga jadilah *error*."
   ]
  },
  {
   "cell_type": "markdown",
   "metadata": {
    "collapsed": false
   },
   "source": [
    "Lalu, bagaimana cara memberi tahu Octave bahwa perpangkatan yang kita maksud adalah perpangkatan per elemen (*elementwise*)?\n",
    "\n",
    "Ada *syntax* khusus untuk itu, yaitu menggunakan `.^` daripada `^`\n",
    "\n",
    "Mari kita coba lagi, kali ini membuat *plot* dengan *step size* 0.05:"
   ]
  },
  {
   "cell_type": "code",
   "execution_count": 30,
   "metadata": {
    "collapsed": false
   },
   "outputs": [
    {
     "data": {
      "image/png": "[encoded data removed]",
      "text/plain": [
       "<IPython.core.display.Image object>"
      ]
     },
     "execution_count": 30,
     "metadata": {
     },
     "output_type": "execute_result"
    }
   ],
   "source": [
    "f = @(x) x.^3;\n",
    "x = -1 : 0.05 : 1;\n",
    "y = f(x);\n",
    "plot(x,y)"
   ]
  },
  {
   "cell_type": "markdown",
   "metadata": {
    "collapsed": false
   },
   "source": [
    "Bagaimana kalau kita mau *plot* lebih dari satu fungsi? Kita tetap membuat satu *array* x saja, lalu membuat *array* y untuk tiap fungsi, seperti berikut:"
   ]
  },
  {
   "cell_type": "code",
   "execution_count": 35,
   "metadata": {
    "collapsed": false
   },
   "outputs": [
    {
     "data": {
      "image/png": "[encoded data removed]",
      "text/plain": [
       "<IPython.core.display.Image object>"
      ]
     },
     "execution_count": 35,
     "metadata": {
     },
     "output_type": "execute_result"
    }
   ],
   "source": [
    "x = -1 : 0.05 : 1;\n",
    "y1 = sin(x);\n",
    "y2 = cos(x);\n",
    "y3 = tan(x);\n",
    "hold on;\n",
    "plot(x, y1, 'r');\n",
    "plot(x, y2, 'g');\n",
    "plot(x, y3, 'b');"
   ]
  },
  {
   "cell_type": "markdown",
   "metadata": {
    "collapsed": false
   },
   "source": [
    "Ada baris `hold on`. Apa itu?\n",
    "\n",
    "Baris itu memastikan bahwa semua plot tetap di satu window yang sama, sehingga di satu gambar yang sama (daripada terpisah-pisah).\n",
    "\n",
    "(Kalian bisa coba, kalau tidak ada baris `hold on`, maka plot fungsi $\\sin$, $\\cos$, dan $\\tan$ akan terpisah semua)\n",
    "\n",
    "Nantinya, kalian juga bisa menambahkan baris `hold off` kalau kalian ingin plot selanjutnya buka di window yang baru lagi."
   ]
  },
  {
   "cell_type": "markdown",
   "metadata": {
    "collapsed": false
   },
   "source": [
    "Kita juga bisa menambahkan legenda (*legend*) atau keterangan, seperti berikut. Tuliskan keterangannya secara berurutan, sesuai dengan urutan mem-*plot* fungsi."
   ]
  },
  {
   "cell_type": "code",
   "execution_count": 36,
   "metadata": {
    "collapsed": false
   },
   "outputs": [
    {
     "data": {
      "image/png": "[encoded data removed]",
      "text/plain": [
       "<IPython.core.display.Image object>"
      ]
     },
     "execution_count": 36,
     "metadata": {
     },
     "output_type": "execute_result"
    }
   ],
   "source": [
    "x = -1 : 0.05 : 1;\n",
    "y1 = sin(x);\n",
    "y2 = cos(x);\n",
    "y3 = tan(x);\n",
    "hold on;\n",
    "plot(x, y1, 'r');\n",
    "plot(x, y2, 'g');\n",
    "plot(x, y3, 'b');\n",
    "legend(\"Sinus\", \"Kosinus\", \"Tangen\");"
   ]
  },
  {
   "cell_type": "markdown",
   "metadata": {
    "collapsed": false
   },
   "source": [
    "Sedikit tambahan, kita bisa menyimpan fungsi ke dalam sejenis *array* yang khusus (sehingga bisa diakses melalui indeks), yang bernama ***cell array***.\n",
    "\n",
    "Misalnya kita ingin menyimpan fungsi $f(x)=3x^2$, $g(x)=6$ (fungsi konstan), dan $h(x,y) = \\sin(x) + \\cos(y)$, di dalam satu *cell array* bernama `array_fungsi`. Penulisannya menggunakan kurung kurawal `{` `}` dan indeksnya juga menggunakan kurung kurawal, seperti berikut:"
   ]
  },
  {
   "cell_type": "code",
   "execution_count": 40,
   "metadata": {
    "collapsed": false
   },
   "outputs": [
    {
     "name": "stdout",
     "output_type": "stream",
     "text": [
      "ans = 2\r\n"
     ]
    }
   ],
   "source": [
    "f = @(x) 3 * x.^2;\n",
    "g = @(x) 6;\n",
    "h = @(x,y) sin(x) + cos(y);\n",
    "array_fungsi = {f, g, h};\n",
    "\n",
    "array_fungsi{3}(pi/2, 0)"
   ]
  },
  {
   "cell_type": "markdown",
   "metadata": {
    "collapsed": false
   },
   "source": [
    "Perhatikan bahwa kita bisa mengindeks *cell array* tersebut untuk memperoleh suatu fungsi yang kemudian langsung bisa dipanggil. Misalnya, dipilih indeks ketiga yaitu fungsi $h(x,y)$, kemudian langsung dipanggil dengan $x=\\frac{\\pi}{2}$ dan $y=0$."
   ]
  },
  {
   "cell_type": "markdown",
   "metadata": {
    "collapsed": false
   },
   "source": [
    "Sebenarnya, *cell array* ini adalah *array* biasa yang bisa menyimpan apapun (tidak seperti *array* biasa yang hanya bisa menyimpan nilai numerik)."
   ]
  },
  {
   "cell_type": "code",
   "execution_count": 41,
   "metadata": {
    "collapsed": false
   },
   "outputs": [
    {
     "name": "stdout",
     "output_type": "stream",
     "text": [
      "ans = 24\r\n"
     ]
    }
   ],
   "source": [
    "test_cell = {9, 8, 7};\n",
    "test_cell{2} * 3"
   ]
  },
  {
   "cell_type": "markdown",
   "metadata": {
    "collapsed": false
   },
   "source": [
    "Namun, *broadcasting* tidak berlaku pada *cell array*, sehingga *cell array* jarang digunakan (toh Octave paling sering digunakan untuk perhitungan numerik).\n",
    "\n",
    "*Array* biasa dan *cell array* di Octave, bagaikan *array* numpy dan *list* di Python."
   ]
  },
  {
   "cell_type": "markdown",
   "metadata": {
    "collapsed": false
   },
   "source": [
    "## Metode Euler"
   ]
  },
  {
   "cell_type": "markdown",
   "metadata": {
    "collapsed": false
   },
   "source": [
    "Metode Euler adalah metode paling dasar dalam mencari solusi dari permasalahan nilai awal dari suatu PD. Metode ini dikembangkan dari Teorema Taylor:\n",
    "\n",
    "$$\n",
    "y\\left(t_{i+1}\\right)=y\\left(t_i\\right)+\\left(t_{i+1}-t_I\\right) y^{\\prime}\\left(t_i\\right)+\\cdots\n",
    "$$"
   ]
  },
  {
   "cell_type": "markdown",
   "metadata": {
    "collapsed": false
   },
   "source": [
    "Misalkan kita mempunyai suatu persamaan diferensial dengan nilai awal:\n",
    "\n",
    "$$y^{\\prime}=f(t, y), a \\leq t \\leq b$$\n",
    "$$y(a)=\\alpha$$\n",
    "\n",
    "\n",
    "maka solusi secara numeriknya adalah $w_i= y(t_i)$, dengan:\n",
    "\n",
    "$$w_1=\\alpha$$\n",
    "$$w_{i+1}=w_i+h f\\left(t_i, w_i\\right), \\quad i=1,2, \\ldots, N$$\n",
    "\n",
    "dengan $N+1\\in \\mathbb{N}$ menyatakan banyaknya titik nantinya.\n",
    "\n",
    "Solusi kita akan berupa titik yang nantinya dapat menggunakan interpolasi untuk nilai yang tidak dimuat di $w_i$"
   ]
  },
  {
   "cell_type": "markdown",
   "metadata": {
    "collapsed": false
   },
   "source": [
    "Metode Euler juga bisa ditulis:\n",
    "\n",
    "$$w_1=\\alpha$$\n",
    "\n",
    "diikuti iterasi untuk $i=1,2, \\ldots, N$,\n",
    "\n",
    "$$m_1 = f\\left(t_i, w_i\\right)$$\n",
    "$$w_{i+1}=w_i+h m_1$$"
   ]
  },
  {
   "cell_type": "markdown",
   "metadata": {
    "collapsed": false
   },
   "source": [
    "Algoritma untuk metode Euler adalah sebagai berikut:"
   ]
  },
  {
   "cell_type": "code",
   "execution_count": 3,
   "metadata": {
    "collapsed": false
   },
   "outputs": [
   ],
   "source": [
    "function [t, w] = euler(f, a, b, N, alpha)\n",
    "  h = (b - a) / N;\n",
    "  t = zeros(N + 1, 1);\n",
    "  w = zeros(N + 1, 1);\n",
    "  t(1) = a;\n",
    "  w(1) = alpha;\n",
    "  for i = 1 : N\n",
    "    t(i + 1) = t(i) + h;\n",
    "    m1 = f(t(i), w(i));\n",
    "    w(i + 1) = w(i) + h * m1;\n",
    "  endfor\n",
    "endfunction"
   ]
  },
  {
   "cell_type": "markdown",
   "metadata": {
    "collapsed": false
   },
   "source": [
    "Di sini, inputnya adalah:\n",
    "\n",
    "- $f(t,y)$ merupakan fungsi dalam bentuk PDB orde 1 $y' = f(t,y)$\n",
    "- a dan b berturut-turut batas bawah dan batas atas dari $t$\n",
    "- $N$ merupakan pembagi untuk step size, di mana $N+1$ yang digunakan sebagai banyaknya titik, dan\n",
    "- alpha merupakan nilai awal"
   ]
  },
  {
   "cell_type": "markdown",
   "metadata": {
    "collapsed": false
   },
   "source": [
    "Sekarang akan kita coba gunakan untuk menyelesaikan suatu MNA (masalah nilai awal) PDB orde 1. Misal diberikan MNA sebagai berikut:\n",
    "\n",
    "$$y^{\\prime}=y-t^2+1$$\n",
    "$$0 \\leq t \\leq 2$$\n",
    "$$y(0)=0.5$$\n",
    "\n",
    "maka kita dapat mendefinisikan\n",
    "\n",
    "- `f = @(t, y) y-t^2+1`,\n",
    "- a=0,\n",
    "- b=2, dan\n",
    "- alpha $=0.5$\n",
    "\n",
    "(@ disini menyatakan fungsi anonim yang cara kerjanya mirip dengan fungsi lambda pada Python), sehingga untuk $N=10$, diperoleh kode sebagai berikut:"
   ]
  },
  {
   "cell_type": "code",
   "execution_count": 4,
   "metadata": {
    "collapsed": false
   },
   "outputs": [
   ],
   "source": [
    "f = @(t, y) (y-t^2 + 1);\n",
    "a = 0;\n",
    "b = 2;\n",
    "N = 10;\n",
    "alpha= 0.5;\n",
    "[t_euler, w_euler] = euler(f, a, b, N, alpha);"
   ]
  },
  {
   "cell_type": "code",
   "execution_count": 5,
   "metadata": {
    "collapsed": false
   },
   "outputs": [
    {
     "name": "stdout",
     "output_type": "stream",
     "text": [
      "ans =\r\n",
      "\r\n",
      "        0   0.5000\r\n",
      "   0.2000   0.8000\r\n",
      "   0.4000   1.1520\r\n",
      "   0.6000   1.5504\r\n",
      "   0.8000   1.9885\r\n",
      "   1.0000   2.4582\r\n",
      "   1.2000   2.9498\r\n",
      "   1.4000   3.4518\r\n",
      "   1.6000   3.9501\r\n",
      "   1.8000   4.4282\r\n",
      "   2.0000   4.8658\r\n",
      "\r\n"
     ]
    }
   ],
   "source": [
    "[t_euler, w_euler]"
   ]
  },
  {
   "cell_type": "markdown",
   "metadata": {
    "collapsed": false
   },
   "source": [
    "Untuk visualisasinya, kita akan membuat plot dari hasil yang kita peroleh. Sebagai referensi, solusi eksak dari MNA tersebut adalah\n",
    "\n",
    "$$y(t)=(t+1)^2- 0.5 e^t$$"
   ]
  },
  {
   "cell_type": "markdown",
   "metadata": {
    "collapsed": false
   },
   "source": [
    "Kita tambahkan kode berikut pada file:"
   ]
  },
  {
   "cell_type": "code",
   "execution_count": 6,
   "metadata": {
    "collapsed": false
   },
   "outputs": [
    {
     "name": "stdout",
     "output_type": "stream",
     "text": [
      "warning: fplot: FCN is not a vectorized function which reduces performance"
     ]
    },
    {
     "name": "stdout",
     "output_type": "stream",
     "text": [
      "\r"
     ]
    },
    {
     "name": "stdout",
     "output_type": "stream",
     "text": [
      "\n",
      "warning: called from"
     ]
    },
    {
     "name": "stdout",
     "output_type": "stream",
     "text": [
      "\r"
     ]
    },
    {
     "name": "stdout",
     "output_type": "stream",
     "text": [
      "\n",
      "    fplot at line 180 column 5"
     ]
    },
    {
     "name": "stdout",
     "output_type": "stream",
     "text": [
      "\r"
     ]
    },
    {
     "name": "stdout",
     "output_type": "stream",
     "text": [
      "\n"
     ]
    },
    {
     "name": "stdout",
     "output_type": "stream",
     "text": [
      "\r\n"
     ]
    },
    {
     "data": {
      "image/png": "[encoded data removed]",
      "text/plain": [
       "<IPython.core.display.Image object>"
      ]
     },
     "execution_count": 6,
     "metadata": {
     },
     "output_type": "execute_result"
    }
   ],
   "source": [
    "sln = @(t) (t + 1)^2 - 0.5 * exp(t);\n",
    "fplot(sln, [0, 2], 'b');\n",
    "hold on;\n",
    "scatter(t_euler, w_euler, 'r');\n",
    "legend('Solusi eksak', 'Metode Euler');\n",
    "title(\"Metode Euler\");"
   ]
  },
  {
   "cell_type": "markdown",
   "metadata": {
    "collapsed": false
   },
   "source": [
    "Saat dijalankan, akan muncul jendela pop-up yang berisi plot yang telah dibuat."
   ]
  },
  {
   "cell_type": "markdown",
   "metadata": {
    "collapsed": false
   },
   "source": [
    "![](./pdnum2_Picture1.png)"
   ]
  },
  {
   "cell_type": "markdown",
   "metadata": {
    "collapsed": false
   },
   "source": [
    "Penjelasan:\n",
    "\n",
    "* sln berisi fungsi referensi kita untuk di-plot dan dibandingkan.\n",
    "* fplot(f, [a, b]) akan menampilkan plot dari suatu fungsi f dengan domain [a, b]. Argumen tambahan ‘b’ memberi warna biru pada plot.\n",
    "* hold on akan menahan plot yang ada agar kita bisa menampilkan banyak plot sekaligus.\n",
    "* scatter(x, y) akan menampilkan x-y scatter plot.\n",
    "* legend memberi legenda/keterangan pada plot yang telah dibuat. Legenda tersebut dimasukkan berurutan mulai dari plot yang didefinsikan terlebih dahulu\n",
    "* title memberi judul pada plot"
   ]
  },
  {
   "cell_type": "markdown",
   "metadata": {
    "collapsed": false
   },
   "source": [
    "## Metode Taylor orde $n$"
   ]
  },
  {
   "cell_type": "markdown",
   "metadata": {
    "collapsed": false
   },
   "source": [
    "$$w_0 = \\alpha$$\n",
    "\n",
    "\\begin{align*}\n",
    "T^{(n)} \\left(t_i, w_i\\right) &= f\\left(t_i, w_i\\right) + \\frac{h}{2}f'\\left(t_i, w_i\\right) + \\cdots + \\frac{h^{n-1}}{n!} f^{\\left(n-1\\right)} \\left(t_i,w_i\\right) \\\\\n",
    "&= \\sum_{j=1}^{n} \\frac{h^{j-1}}{j!} f^{\\left(j-1\\right)} \\left(t_i,w_i\\right) \\\\\n",
    "&= f\\left(t_i,w_i\\right) + \\sum_{j=2}^{n} \\frac{h^{j-1}}{j!} f^{\\left(j-1\\right)} \\left(t_i,w_i\\right)\n",
    "\\end{align*}\n",
    "\n",
    "$$w_{i+1} = w_i + hT^{(n)} \\left(t_i, w_i\\right) $$"
   ]
  },
  {
   "cell_type": "code",
   "execution_count": 14,
   "metadata": {
    "collapsed": false
   },
   "outputs": [
   ],
   "source": [
    "function [t, w] = taylor(f, fp, a, b, N, alpha)\n",
    "  h = (b - a) / N;\n",
    "  n = length(fp) + 1;\n",
    "  t = zeros(n + 1, 1);\n",
    "  w = zeros(n + 1, 1);\n",
    "  t(1) = a;\n",
    "  w(1) = alpha;\n",
    "  for i = 1 : N\n",
    "    t(i + 1) = t(i) + h;\n",
    "    \n",
    "    T = f(t(i), w(i));\n",
    "    for j = 2 : n\n",
    "      T += h^(j-1) * fp{j-1}(t(i),w(i)) / factorial(j);\n",
    "    endfor\n",
    "    \n",
    "    w(i + 1) = w(i) + h * T;\n",
    "  endfor\n",
    "endfunction"
   ]
  },
  {
   "cell_type": "markdown",
   "metadata": {
    "collapsed": false
   },
   "source": [
    "Contoh penggunaan:"
   ]
  },
  {
   "cell_type": "markdown",
   "metadata": {
    "collapsed": false
   },
   "source": [
    "Misalkan diberikan MNA sebagai berikut:\n",
    "\n",
    "$$y' = y - t^2 + 1$$\n",
    "$$0 \\le t \\le 2$$\n",
    "$$y(0) = 0.5$$"
   ]
  },
  {
   "cell_type": "code",
   "execution_count": 15,
   "metadata": {
    "collapsed": false
   },
   "outputs": [
    {
     "name": "stdout",
     "output_type": "stream",
     "text": [
      "ans =\r\n",
      "\r\n",
      "        0   0.5000\r\n",
      "   0.2000   0.8293\r\n",
      "   0.4000   1.2141\r\n",
      "   0.6000   1.6489\r\n",
      "   0.8000   2.1272\r\n",
      "   1.0000   2.6409\r\n",
      "   1.2000   3.1800\r\n",
      "   1.4000   3.7324\r\n",
      "   1.6000   4.2835\r\n",
      "   1.8000   4.8152\r\n",
      "   2.0000   5.3056\r\n",
      "\r\n"
     ]
    }
   ],
   "source": [
    "% contoh pakai: subbab 5.3 example 1b (orde 4)\n",
    "\n",
    "% f(t_i, w_i)\n",
    "f0 = @(t,y) y - t^2 + 1;\n",
    "\n",
    "% f'(t_i, w_i)\n",
    "f1 = @(t,y) y - t^2 + 1 - 2*t;\n",
    "\n",
    "% f''(t_i, w_i)\n",
    "f2 = @(t,y) y - t^2 - 2*t - 1;\n",
    "\n",
    "% f'''(t_i, w_i)\n",
    "f3 = @(t,y) y - t^2 - 2*t - 1;\n",
    "\n",
    "% hitung pada interval [0,2], N=10, y(0)=alpha=0.5\n",
    "[t, w] = taylor(f0, {f1, f2, f3}, 0, 2, 10, 0.5);\n",
    "% otomatis Taylor orde 4 karena ada tiga\n",
    "% fungsi turunan f1, f2, f3 yang diinput di cell\n",
    "\n",
    "% bandingkan dengan Tabel 5.4\n",
    "[t, w]"
   ]
  },
  {
   "cell_type": "markdown",
   "metadata": {
    "collapsed": false
   },
   "source": [
    "## Metode Runge-Kutta dan variasinya"
   ]
  },
  {
   "cell_type": "markdown",
   "metadata": {
    "collapsed": false
   },
   "source": [
    "### Orde 2: Metode Midpoint"
   ]
  },
  {
   "cell_type": "markdown",
   "metadata": {
    "collapsed": false
   },
   "source": [
    "$$w_1=\\alpha$$\n",
    "$$w_{i+1}=w_i+h f\\left(t_i+\\frac{h}{2}, w_i+\\frac{h}{2} f\\left(t_i, w_i\\right)\\right)$$"
   ]
  },
  {
   "cell_type": "markdown",
   "metadata": {
    "collapsed": false
   },
   "source": [
    "bisa juga ditulis,\n",
    "\n",
    "$$w_1=\\alpha$$\n",
    "$$m_1 = f\\left(t_i, w_i\\right)$$\n",
    "$$w_{i+1}=w_i+h f\\left(t_i+\\frac{h}{2}, w_i+\\frac{h}{2} m_1\\right)$$\n",
    "\n",
    "atau bahkan,\n",
    "\n",
    "$$w_1=\\alpha$$\n",
    "$$m_1 = f\\left(t_i, w_i\\right)$$\n",
    "$$m_2 = f\\left(t_i+\\frac{h}{2}, w_i+\\frac{h}{2} m_1\\right)$$\n",
    "$$w_{i+1}=w_i+h m_2$$"
   ]
  },
  {
   "cell_type": "code",
   "execution_count": 7,
   "metadata": {
    "collapsed": false
   },
   "outputs": [
   ],
   "source": [
    "function [t, w] = midpoint(f, a, b, N, alpha)\n",
    "  h = (b - a) / N;\n",
    "  t = zeros(N + 1, 1);\n",
    "  w = zeros(N + 1, 1);\n",
    "  t(1) = a;\n",
    "  w(1) = alpha;\n",
    "  for i = 1 : N\n",
    "    t(i + 1) = t(i) + h;\n",
    "    m1 = f(t(i), w(i));\n",
    "    m2 = f(t(i) + (h / 2), w(i) + (h / 2) * m1);\n",
    "    w(i + 1) = w(i) + h * m2;\n",
    "  endfor\n",
    "endfunction"
   ]
  },
  {
   "cell_type": "markdown",
   "metadata": {
    "collapsed": false
   },
   "source": [
    "### Orde 2: Metode *Modified Euler*"
   ]
  },
  {
   "cell_type": "markdown",
   "metadata": {
    "collapsed": false
   },
   "source": [
    "$$w_1=\\alpha$$\n",
    "$$w_{i+1}=w_i+\\frac{h}{2}\\left(f\\left(t_i, w_i\\right)+f\\left(t_{i+1}, w_i+h f\\left(t_i, w_i\\right)\\right)\\right)$$"
   ]
  },
  {
   "cell_type": "markdown",
   "metadata": {
    "collapsed": false
   },
   "source": [
    "bisa juga ditulis,\n",
    "\n",
    "$$w_1=\\alpha$$\n",
    "$$m_1 = f\\left(t_i, w_i\\right)$$\n",
    "$$w_{i+1}=w_i+\\frac{h}{2}\\left(m_1+f\\left(t_{i+1}, w_i+h m_1\\right)\\right)$$\n",
    "\n",
    "atau bahkan,\n",
    "\n",
    "$$w_1=\\alpha$$\n",
    "$$m_1 = f\\left(t_i, w_i\\right)$$\n",
    "$$m_2 = f\\left(t_{i+1}, w_i+h m_1\\right)$$\n",
    "$$w_{i+1}=w_i+\\frac{h}{2}\\left(m_1+m_2\\right)$$"
   ]
  },
  {
   "cell_type": "code",
   "execution_count": 8,
   "metadata": {
    "collapsed": false
   },
   "outputs": [
   ],
   "source": [
    "function [t, w] = modified_euler(f, a, b, N, alpha)\n",
    "  h = (b - a) / N;\n",
    "  t = zeros(N + 1, 1);\n",
    "  w = zeros(N + 1, 1);\n",
    "  t(1) = a;\n",
    "  w(1) = alpha;\n",
    "  for i = 1 : N\n",
    "    t(i + 1) = t(i) + h;\n",
    "    m1 = f(t(i), w(i));\n",
    "    m2 = f(t(i + 1), w(i) + h * m1);\n",
    "    w(i + 1) = w(i) + h * (m1 + m2) / 2;\n",
    "  endfor\n",
    "endfunction"
   ]
  },
  {
   "cell_type": "markdown",
   "metadata": {
    "collapsed": false
   },
   "source": [
    "### Orde 3: Metode Heun"
   ]
  },
  {
   "cell_type": "markdown",
   "metadata": {
    "collapsed": false
   },
   "source": [
    "$$w_1=\\alpha$$\n",
    "$$w_{i+1}=w_i+\\frac{h}{4}\\left(f\\left(t_i, w_i\\right)+3 f\\left(t_i+\\frac{2 h}{3}, w_i+\\frac{2 h}{3} f\\left(t_i+\\frac{h}{3}, w_i+\\frac{h}{3} f\\left(t_i, w_i\\right)\\right)\\right)\\right)$$"
   ]
  },
  {
   "cell_type": "markdown",
   "metadata": {
    "collapsed": false
   },
   "source": [
    "bisa juga ditulis,\n",
    "\n",
    "$$w_1=\\alpha$$\n",
    "$$m_1 = f\\left(t_i, w_i\\right)$$\n",
    "$$w_{i+1}=w_i+\\frac{h}{4}\\left(m_1+3 f\\left(t_i+\\frac{2 h}{3}, w_i+\\frac{2 h}{3} f\\left(t_i+\\frac{h}{3}, w_i+\\frac{h}{3} m_1\\right)\\right)\\right)$$\n",
    "\n",
    "atau,\n",
    "\n",
    "$$w_1=\\alpha$$\n",
    "$$m_1 = f\\left(t_i, w_i\\right)$$\n",
    "$$m_2 = f\\left(t_i+\\frac{h}{3}, w_i+\\frac{h}{3} m_1\\right)$$\n",
    "$$w_{i+1}=w_i+\\frac{h}{4}\\left(m_1+3 f\\left(t_i+\\frac{2 h}{3}, w_i+\\frac{2 h}{3} m_2\\right)\\right)$$\n",
    "\n",
    "atau bahkan,\n",
    "\n",
    "$$w_1=\\alpha$$\n",
    "$$m_1 = f\\left(t_i, w_i\\right)$$\n",
    "$$m_2 = f\\left(t_i+\\frac{h}{3}, w_i+\\frac{h}{3} m_1\\right)$$\n",
    "$$m_3 = f\\left(t_i+\\frac{2 h}{3}, w_i+\\frac{2 h}{3} m_2\\right)$$\n",
    "$$w_{i+1}=w_i+\\frac{h}{4}\\left(m_1+3 m_3\\right)$$"
   ]
  },
  {
   "cell_type": "code",
   "execution_count": 9,
   "metadata": {
    "collapsed": false
   },
   "outputs": [
   ],
   "source": [
    "function [t, w] = heun(f, a, b, N, alpha)\n",
    "  h = (b - a) / N;\n",
    "  t = zeros(N + 1, 1);\n",
    "  w = zeros(N + 1, 1);\n",
    "  t(1) = a;\n",
    "  w(1) = alpha;\n",
    "  for i = 1 : N\n",
    "    t(i + 1) = t(i) + h;\n",
    "    m1 = f(t(i), w(i));\n",
    "    m2 = f(t(i) + (h / 3), w(i) + (h / 3) * m1);\n",
    "    m3 = f(t(i) + (2 * h / 3), w(i) + (2 * h / 3) * m2);\n",
    "    w(i + 1) = w(i) + (h / 4) * (m1 + 3 * m3);\n",
    "  endfor\n",
    "endfunction"
   ]
  },
  {
   "cell_type": "markdown",
   "metadata": {
    "collapsed": false
   },
   "source": [
    "### Metode Runge-Kutta orde 4"
   ]
  },
  {
   "cell_type": "markdown",
   "metadata": {
    "collapsed": false
   },
   "source": [
    "$$w_1=\\alpha$$\n",
    "$$k_1=h f\\left(t_i, w_i\\right)$$\n",
    "$$k_2=h f\\left(t_i+\\frac{h}{2}, w_i+\\frac{k_1}{2}\\right)$$\n",
    "$$k_3=h f\\left(t_i+\\frac{h}{2}, w_i+\\frac{k_2}{2}\\right)$$\n",
    "$$k_4=h f\\left(t_{i+1}, w_i+k_3\\right)$$\n",
    "$$w_{i+1}=w_i+\\frac{1}{6}\\left(k_1+2 k_2+2 k_3+k_4\\right)$$"
   ]
  },
  {
   "cell_type": "code",
   "execution_count": 10,
   "metadata": {
    "collapsed": false
   },
   "outputs": [
   ],
   "source": [
    "function [t, w] = rko4(f, a, b, N, alpha)\n",
    "  h = (b - a) / N;\n",
    "  t = zeros(N + 1, 1);\n",
    "  w = zeros(N + 1, 1);\n",
    "  t(1) = a;\n",
    "  w(1) = alpha;\n",
    "  for i = 1 : N\n",
    "    t(i + 1) = t(i) + h;\n",
    "    k1 = h * f(t(i), w(i));\n",
    "    k2 = h * f(t(i) + (h / 2), w(i) + (k1 / 2));\n",
    "    k3 = h * f(t(i) + (h / 2), w(i) + (k2 / 2));\n",
    "    k4 = h * f(t(i + 1), w(i) + k3);\n",
    "    w(i + 1) = w(i) + (k1 + 2 * k2 + 2 * k3 + k4) / 6;\n",
    "  endfor\n",
    "endfunction"
   ]
  },
  {
   "cell_type": "markdown",
   "metadata": {
    "collapsed": false
   },
   "source": [
    "### Contoh penggunaan"
   ]
  },
  {
   "cell_type": "markdown",
   "metadata": {
    "collapsed": false
   },
   "source": [
    "Misalkan diberikan MNA sebagai berikut:\n",
    "\n",
    "$$y' = y - t^2 + 1$$\n",
    "$$0 \\le t \\le 2$$\n",
    "$$y(0) = 0.5$$"
   ]
  },
  {
   "cell_type": "code",
   "execution_count": 24,
   "metadata": {
    "collapsed": false
   },
   "outputs": [
   ],
   "source": [
    "f = @(t, y) (y - t .^ 2 + 1);\n",
    "a = 0;\n",
    "b = 2;\n",
    "alpha = 0.5;\n",
    "[t1, w1] = midpoint(f, a, b, 10, alpha);\n",
    "[t2, w2] = modified_euler(f, a, b, 10, alpha);\n",
    "[t3, w3] = heun(f, a, b, 10, alpha);\n",
    "[t4, w4] = rko4(f, a, b, 10, alpha);\n",
    "\n",
    "sln = @(t) (t + 1) .^ 2 - 0.5 * exp(t);\n",
    "\n",
    "t5 = linspace(a, b, 11);\n",
    "w5 = sln(t5);"
   ]
  },
  {
   "cell_type": "code",
   "execution_count": 25,
   "metadata": {
    "collapsed": false
   },
   "outputs": [
    {
     "name": "stdout",
     "output_type": "stream",
     "text": [
      "ans =\r\n",
      "\r\n",
      "        0   0.5000   0.5000   0.5000   0.5000   0.5000\r\n",
      "   0.2000   0.8280   0.8260   0.8292   0.8293   0.8293\r\n",
      "   0.4000   1.2114   1.2069   1.2140   1.2141   1.2141\r\n",
      "   0.6000   1.6447   1.6372   1.6488   1.6489   1.6489\r\n",
      "   0.8000   2.1213   2.1102   2.1270   2.1272   2.1272\r\n",
      "   1.0000   2.6332   2.6177   2.6406   2.6408   2.6409\r\n",
      "   1.2000   3.1705   3.1496   3.1796   3.1799   3.1799\r\n",
      "   1.4000   3.7212   3.6937   3.7320   3.7323   3.7324\r\n",
      "   1.6000   4.2706   4.2351   4.2830   4.2834   4.2835\r\n",
      "   1.8000   4.8010   4.7556   4.8147   4.8151   4.8152\r\n",
      "   2.0000   5.2904   5.2331   5.3050   5.3054   5.3055\r\n",
      "\r\n"
     ]
    }
   ],
   "source": [
    "[t1, w1, w2, w3, w4, w5']"
   ]
  },
  {
   "cell_type": "code",
   "execution_count": 0,
   "metadata": {
    "collapsed": false
   },
   "outputs": [
   ],
   "source": [
    "fplot(sln, [0, 2], 'k');\n",
    "hold on;\n",
    "scatter(t1, w1, 'r');\n",
    "scatter(t2, w2, 'g');\n",
    "scatter(t3, w3, 'b');\n",
    "scatter(t4, w4, 'm');\n",
    "legend('Fungsi eksak', 'Midpoint', 'Modified Euler', 'Heun',\n",
    "'Runge-Kutta orde 4');\n",
    "legend(\"location\", \"northwest\");\n",
    "title('Perbandingan metode Runge-Kutta');"
   ]
  },
  {
   "cell_type": "markdown",
   "metadata": {
    "collapsed": false
   },
   "source": [
    "![](./pdnum2_Picture2.png)"
   ]
  },
  {
   "cell_type": "code",
   "execution_count": 0,
   "metadata": {
    "collapsed": false
   },
   "outputs": [
   ],
   "source": [
   ]
  }
 ],
 "metadata": {
  "kernelspec": {
   "argv": [
    "python3",
    "-E",
    "-m",
    "octave_kernel",
    "-f",
    "{connection_file}"
   ],
   "display_name": "Octave 8.2",
   "env": {
   },
   "language": "octave",
   "metadata": {
    "cocalc": {
     "description": "A programming language for scientific computing.",
     "priority": 10,
     "url": "https://octave.org/"
    }
   },
   "name": "octave-8.2",
   "resource_dir": "/ext/jupyter/kernels/octave-8.2"
  },
  "language_info": {
   "file_extension": ".m",
   "help_links": [
    {
     "text": "GNU Octave",
     "url": "https://www.gnu.org/software/octave/support.html"
    },
    {
     "text": "Octave Kernel",
     "url": "https://github.com/Calysto/octave_kernel"
    },
    {
     "text": "MetaKernel Magics",
     "url": "https://metakernel.readthedocs.io/en/latest/source/README.html"
    }
   ],
   "mimetype": "text/x-octave",
   "name": "octave",
   "version": "8.2.0"
  }
 },
 "nbformat": 4,
 "nbformat_minor": 4
}