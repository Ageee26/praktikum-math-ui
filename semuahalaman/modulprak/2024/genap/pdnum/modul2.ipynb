{
 "cells": [
  {
   "cell_type": "markdown",
   "metadata": {
    "collapsed": false
   },
   "source": [
    "# Modul 2 Persamaan Diferensial Numerik"
   ]
  },
  {
   "cell_type": "markdown",
   "metadata": {
    "collapsed": false
   },
   "source": [
    "## Metode Euler"
   ]
  },
  {
   "cell_type": "markdown",
   "metadata": {
    "collapsed": false
   },
   "source": [
    "Metode Euler metode paling dasar dalam mencari solusi dari permasalahan nilai awal dari suatu PD. Metode ini dikembangkan dari Teorema Taylor:\n",
    "\n",
    "$$\n",
    "y\\left(t_{i+1}\\right)=y\\left(t_i\\right)+\\left(t_{i+1}-t_I\\right) y^{\\prime}\\left(t_i\\right)+\\cdots\n",
    "$$"
   ]
  },
  {
   "cell_type": "markdown",
   "metadata": {
    "collapsed": false
   },
   "source": [
    "Misalkan kita mempunyai suatu persamaan diferensial dengan nilai awal:\n",
    "\n",
    "$$y^{\\prime}=f(t, y), a \\leq t \\leq b$$\n",
    "$$y(a)=\\alpha$$\n",
    "\n",
    "\n",
    "maka solusi secara numeriknya adalah $w_i= y(t_i)$, dengan:\n",
    "\n",
    "$$w_1=\\alpha$$\n",
    "$$w_{i+1}=w_i+h f\\left(t_i, w_i\\right), \\quad i=1,2, \\ldots, N$$\n",
    "\n",
    "dengan $N+1\\in \\mathbb{N}$ menyatakan banyaknya titik nantinya.\n",
    "\n",
    "Solusi kita akan berupa titik yang nantinya dapat menggunakan interpolasi untuk nilai yang tidak dimuat di $w_i$"
   ]
  },
  {
   "cell_type": "markdown",
   "metadata": {
    "collapsed": false
   },
   "source": [
    "Metode Euler juga bisa ditulis:\n",
    "\n",
    "$$w_1=\\alpha$$\n",
    "\n",
    "diikuti iterasi untuk $i=1,2, \\ldots, N$,\n",
    "\n",
    "$$m_1 = f\\left(t_i, w_i\\right)$$\n",
    "$$w_{i+1}=w_i+h m_1$$"
   ]
  },
  {
   "cell_type": "markdown",
   "metadata": {
    "collapsed": false
   },
   "source": [
    "Algoritma untuk metode Euler adalah sebagai berikut:"
   ]
  },
  {
   "cell_type": "code",
   "execution_count": 3,
   "metadata": {
    "collapsed": false
   },
   "outputs": [
   ],
   "source": [
    "function [t, w] = euler(f, a, b, N, alpha)\n",
    "  h = (b - a) / N;\n",
    "  t = zeros(N + 1, 1);\n",
    "  w = zeros(N + 1, 1);\n",
    "  t(1) = a;\n",
    "  w(1) = alpha;\n",
    "  for i = 1 : N\n",
    "    t(i + 1) = t(i) + h;\n",
    "    m1 = f(t(i), w(i));\n",
    "    w(i + 1) = w(i) + h * m1;\n",
    "  endfor\n",
    "endfunction"
   ]
  },
  {
   "cell_type": "markdown",
   "metadata": {
    "collapsed": false
   },
   "source": [
    "Di sini, inputnya adalah:\n",
    "\n",
    "- $f(t,y)$ merupakan fungsi dalam bentuk PDB orde 1 $y' = f(t,y)$\n",
    "- a dan b berturut-turut batas bawah dan batas atas dari $t$\n",
    "- $N$ merupakan pembagi untuk step size, di mana $N+1$ yang digunakan sebagai banyaknya titik, dan\n",
    "- alpha merupakan nilai awal"
   ]
  },
  {
   "cell_type": "markdown",
   "metadata": {
    "collapsed": false
   },
   "source": [
    "Sekarang akan kita coba gunakan untuk menyelesaikan suatu MNA (masalah nilai awal) PDB orde 1. Misal diberikan MNA sebagai berikut:\n",
    "\n",
    "$$y^{\\prime}=y-t^2+1$$\n",
    "$$0 \\leq t \\leq 2$$\n",
    "$$y(0)=0.5$$\n",
    "\n",
    "maka kita dapat mendefinisikan\n",
    "\n",
    "- `f = @(t, y) y-t^2+1`,\n",
    "- a=0,\n",
    "- b=2, dan\n",
    "- alpha $=0.5$\n",
    "\n",
    "(@ disini menyatakan fungsi anonim yang cara kerjanya mirip dengan fungsi lambda pada Python), sehingga untuk $N=10$, diperoleh kode sebagai berikut:"
   ]
  },
  {
   "cell_type": "code",
   "execution_count": 4,
   "metadata": {
    "collapsed": false
   },
   "outputs": [
   ],
   "source": [
    "f = @(t, y) (y-t^2 + 1);\n",
    "a = 0;\n",
    "b = 2;\n",
    "N = 10;\n",
    "alpha= 0.5;\n",
    "[t_euler, w_euler] = euler(f, a, b, N, alpha);"
   ]
  },
  {
   "cell_type": "code",
   "execution_count": 5,
   "metadata": {
    "collapsed": false
   },
   "outputs": [
    {
     "name": "stdout",
     "output_type": "stream",
     "text": [
      "ans =\r\n",
      "\r\n",
      "        0   0.5000\r\n",
      "   0.2000   0.8000\r\n",
      "   0.4000   1.1520\r\n",
      "   0.6000   1.5504\r\n",
      "   0.8000   1.9885\r\n",
      "   1.0000   2.4582\r\n",
      "   1.2000   2.9498\r\n",
      "   1.4000   3.4518\r\n",
      "   1.6000   3.9501\r\n",
      "   1.8000   4.4282\r\n",
      "   2.0000   4.8658\r\n",
      "\r\n"
     ]
    }
   ],
   "source": [
    "[t_euler, w_euler]"
   ]
  },
  {
   "cell_type": "markdown",
   "metadata": {
    "collapsed": false
   },
   "source": [
    "Untuk visualisasinya, kita akan membuat plot dari hasil yang kita peroleh. Sebagai referensi, solusi eksak dari MNA tersebut adalah\n",
    "\n",
    "$$y(t)=(t+1)^2- 0.5 e^t$$"
   ]
  },
  {
   "cell_type": "markdown",
   "metadata": {
    "collapsed": false
   },
   "source": [
    "Kita tambahkan kode berikut pada file:"
   ]
  },
  {
   "cell_type": "code",
   "execution_count": 6,
   "metadata": {
    "collapsed": false
   },
   "outputs": [
    {
     "name": "stdout",
     "output_type": "stream",
     "text": [
      "warning: fplot: FCN is not a vectorized function which reduces performance"
     ]
    },
    {
     "name": "stdout",
     "output_type": "stream",
     "text": [
      "\r"
     ]
    },
    {
     "name": "stdout",
     "output_type": "stream",
     "text": [
      "\n",
      "warning: called from"
     ]
    },
    {
     "name": "stdout",
     "output_type": "stream",
     "text": [
      "\r"
     ]
    },
    {
     "name": "stdout",
     "output_type": "stream",
     "text": [
      "\n",
      "    fplot at line 180 column 5"
     ]
    },
    {
     "name": "stdout",
     "output_type": "stream",
     "text": [
      "\r"
     ]
    },
    {
     "name": "stdout",
     "output_type": "stream",
     "text": [
      "\n"
     ]
    },
    {
     "name": "stdout",
     "output_type": "stream",
     "text": [
      "\r\n"
     ]
    },
    {
     "data": {
      "image/png": "[encoded data removed]",
      "text/plain": [
       "<IPython.core.display.Image object>"
      ]
     },
     "execution_count": 6,
     "metadata": {
     },
     "output_type": "execute_result"
    }
   ],
   "source": [
    "sln = @(t) (t + 1)^2 - 0.5 * exp(t);\n",
    "fplot(sln, [0, 2], 'b');\n",
    "hold on;\n",
    "scatter(t_euler, w_euler, 'r');\n",
    "legend('Solusi eksak', 'Metode Euler');\n",
    "title(\"Metode Euler\");"
   ]
  },
  {
   "cell_type": "markdown",
   "metadata": {
    "collapsed": false
   },
   "source": [
    "Saat dijalankan, akan muncul jendela pop-up yang berisi plot yang telah dibuat."
   ]
  },
  {
   "cell_type": "markdown",
   "metadata": {
    "collapsed": false
   },
   "source": [
    "![](./pdnum2_Picture1.png)"
   ]
  },
  {
   "cell_type": "markdown",
   "metadata": {
    "collapsed": false
   },
   "source": [
    "Penjelasan:\n",
    "\n",
    "* sln berisi fungsi referensi kita untuk di-plot dan dibandingkan.\n",
    "* fplot(f, [a, b]) akan menampilkan plot dari suatu fungsi f dengan domain [a, b]. Argumen tambahan ‘b’ memberi warna biru pada plot.\n",
    "* hold on akan menahan plot yang ada agar kita bisa menampilkan banyak plot sekaligus.\n",
    "* scatter(x, y) akan menampilkan x-y scatter plot.\n",
    "* legend memberi legenda/keterangan pada plot yang telah dibuat. Legenda tersebut dimasukkan berurutan mulai dari plot yang didefinsikan terlebih dahulu\n",
    "* title memberi judul pada plot"
   ]
  },
  {
   "cell_type": "markdown",
   "metadata": {
    "collapsed": false
   },
   "source": [
    "## Metode Taylor orde $n$"
   ]
  },
  {
   "cell_type": "markdown",
   "metadata": {
    "collapsed": false
   },
   "source": [
    "$$w_0 = \\alpha$$\n",
    "\n",
    "\\begin{align*}\n",
    "T^{(n)} \\left(t_i, w_i\\right) &= f\\left(t_i, w_i\\right) + \\frac{h}{2}f'\\left(t_i, w_i\\right) + \\cdots + \\frac{h^{n-1}}{n!} f^{\\left(n-1\\right)} \\left(t_i,w_i\\right) \\\\\n",
    "&= \\sum_{j=1}^{n} \\frac{h^{j-1}}{j!} f^{\\left(j-1\\right)} \\left(t_i,w_i\\right) \\\\\n",
    "&= f\\left(t_i,w_i\\right) + \\sum_{j=2}^{n} \\frac{h^{j-1}}{j!} f^{\\left(j-1\\right)} \\left(t_i,w_i\\right)\n",
    "\\end{align*}\n",
    "\n",
    "$$w_{i+1} = w_i + hT^{(n)} \\left(t_i, w_i\\right) $$"
   ]
  },
  {
   "cell_type": "code",
   "execution_count": 14,
   "metadata": {
    "collapsed": false
   },
   "outputs": [
   ],
   "source": [
    "function [t, w] = taylor(f, fp, a, b, N, alpha)\n",
    "  h = (b - a) / N;\n",
    "  n = length(fp) + 1;\n",
    "  t = zeros(n + 1, 1);\n",
    "  w = zeros(n + 1, 1);\n",
    "  t(1) = a;\n",
    "  w(1) = alpha;\n",
    "  for i = 1 : N\n",
    "    t(i + 1) = t(i) + h;\n",
    "    \n",
    "    T = f(t(i), w(i));\n",
    "    for j = 2 : n\n",
    "      T += h^(j-1) * fp{j-1}(t(i),w(i)) / factorial(j);\n",
    "    endfor\n",
    "    \n",
    "    w(i + 1) = w(i) + h * T;\n",
    "  endfor\n",
    "endfunction"
   ]
  },
  {
   "cell_type": "markdown",
   "metadata": {
    "collapsed": false
   },
   "source": [
    "Contoh penggunaan:"
   ]
  },
  {
   "cell_type": "markdown",
   "metadata": {
    "collapsed": false
   },
   "source": [
    "Misalkan diberikan MNA sebagai berikut:\n",
    "\n",
    "$$y' = y - t^2 + 1$$\n",
    "$$0 \\le t \\le 2$$\n",
    "$$y(0) = 0.5$$"
   ]
  },
  {
   "cell_type": "code",
   "execution_count": 15,
   "metadata": {
    "collapsed": false
   },
   "outputs": [
    {
     "name": "stdout",
     "output_type": "stream",
     "text": [
      "ans =\r\n",
      "\r\n",
      "        0   0.5000\r\n",
      "   0.2000   0.8293\r\n",
      "   0.4000   1.2141\r\n",
      "   0.6000   1.6489\r\n",
      "   0.8000   2.1272\r\n",
      "   1.0000   2.6409\r\n",
      "   1.2000   3.1800\r\n",
      "   1.4000   3.7324\r\n",
      "   1.6000   4.2835\r\n",
      "   1.8000   4.8152\r\n",
      "   2.0000   5.3056\r\n",
      "\r\n"
     ]
    }
   ],
   "source": [
    "% contoh pakai: subbab 5.3 example 1b (orde 4)\n",
    "\n",
    "% f(t_i, w_i)\n",
    "f0 = @(t,y) y - t^2 + 1;\n",
    "\n",
    "% f'(t_i, w_i)\n",
    "f1 = @(t,y) y - t^2 + 1 - 2*t;\n",
    "\n",
    "% f''(t_i, w_i)\n",
    "f2 = @(t,y) y - t^2 - 2*t - 1;\n",
    "\n",
    "% f'''(t_i, w_i)\n",
    "f3 = @(t,y) y - t^2 - 2*t - 1;\n",
    "\n",
    "% hitung pada interval [0,2], N=10, y(0)=alpha=0.5\n",
    "[t, w] = taylor(f0, {f1, f2, f3}, 0, 2, 10, 0.5);\n",
    "% otomatis Taylor orde 4 karena ada tiga\n",
    "% fungsi turunan f1, f2, f3 yang diinput di cell\n",
    "\n",
    "% bandingkan dengan Tabel 5.4\n",
    "[t, w]"
   ]
  },
  {
   "cell_type": "markdown",
   "metadata": {
    "collapsed": false
   },
   "source": [
    "## Metode Runge-Kutta dan variasinya"
   ]
  },
  {
   "cell_type": "markdown",
   "metadata": {
    "collapsed": false
   },
   "source": [
    "### Orde 2: Metode Midpoint"
   ]
  },
  {
   "cell_type": "markdown",
   "metadata": {
    "collapsed": false
   },
   "source": [
    "$$w_1=\\alpha$$\n",
    "$$w_{i+1}=w_i+h f\\left(t_i+\\frac{h}{2}, w_i+\\frac{h}{2} f\\left(t_i, w_i\\right)\\right)$$"
   ]
  },
  {
   "cell_type": "markdown",
   "metadata": {
    "collapsed": false
   },
   "source": [
    "bisa juga ditulis,\n",
    "\n",
    "$$w_1=\\alpha$$\n",
    "$$m_1 = f\\left(t_i, w_i\\right)$$\n",
    "$$w_{i+1}=w_i+h f\\left(t_i+\\frac{h}{2}, w_i+\\frac{h}{2} m_1\\right)$$\n",
    "\n",
    "atau bahkan,\n",
    "\n",
    "$$w_1=\\alpha$$\n",
    "$$m_1 = f\\left(t_i, w_i\\right)$$\n",
    "$$m_2 = f\\left(t_i+\\frac{h}{2}, w_i+\\frac{h}{2} m_1\\right)$$\n",
    "$$w_{i+1}=w_i+h m_2$$"
   ]
  },
  {
   "cell_type": "code",
   "execution_count": 7,
   "metadata": {
    "collapsed": false
   },
   "outputs": [
   ],
   "source": [
    "function [t, w] = midpoint(f, a, b, N, alpha)\n",
    "  h = (b - a) / N;\n",
    "  t = zeros(N + 1, 1);\n",
    "  w = zeros(N + 1, 1);\n",
    "  t(1) = a;\n",
    "  w(1) = alpha;\n",
    "  for i = 1 : N\n",
    "    t(i + 1) = t(i) + h;\n",
    "    m1 = f(t(i), w(i));\n",
    "    m2 = f(t(i) + (h / 2), w(i) + (h / 2) * m1);\n",
    "    w(i + 1) = w(i) + h * m2;\n",
    "  endfor\n",
    "endfunction"
   ]
  },
  {
   "cell_type": "markdown",
   "metadata": {
    "collapsed": false
   },
   "source": [
    "### Orde 2: Metode *Modified Euler*"
   ]
  },
  {
   "cell_type": "markdown",
   "metadata": {
    "collapsed": false
   },
   "source": [
    "$$w_1=\\alpha$$\n",
    "$$w_{i+1}=w_i+\\frac{h}{2}\\left(f\\left(t_i, w_i\\right)+f\\left(t_{i+1}, w_i+h f\\left(t_i, w_i\\right)\\right)\\right)$$"
   ]
  },
  {
   "cell_type": "markdown",
   "metadata": {
    "collapsed": false
   },
   "source": [
    "bisa juga ditulis,\n",
    "\n",
    "$$w_1=\\alpha$$\n",
    "$$m_1 = f\\left(t_i, w_i\\right)$$\n",
    "$$w_{i+1}=w_i+\\frac{h}{2}\\left(m_1+f\\left(t_{i+1}, w_i+h m_1\\right)\\right)$$\n",
    "\n",
    "atau bahkan,\n",
    "\n",
    "$$w_1=\\alpha$$\n",
    "$$m_1 = f\\left(t_i, w_i\\right)$$\n",
    "$$m_2 = f\\left(t_{i+1}, w_i+h m_1\\right)$$\n",
    "$$w_{i+1}=w_i+\\frac{h}{2}\\left(m_1+m_2\\right)$$"
   ]
  },
  {
   "cell_type": "code",
   "execution_count": 8,
   "metadata": {
    "collapsed": false
   },
   "outputs": [
   ],
   "source": [
    "function [t, w] = modified_euler(f, a, b, N, alpha)\n",
    "  h = (b - a) / N;\n",
    "  t = zeros(N + 1, 1);\n",
    "  w = zeros(N + 1, 1);\n",
    "  t(1) = a;\n",
    "  w(1) = alpha;\n",
    "  for i = 1 : N\n",
    "    t(i + 1) = t(i) + h;\n",
    "    m1 = f(t(i), w(i));\n",
    "    m2 = f(t(i + 1), w(i) + h * m1);\n",
    "    w(i + 1) = w(i) + h * (m1 + m2) / 2;\n",
    "  endfor\n",
    "endfunction"
   ]
  },
  {
   "cell_type": "markdown",
   "metadata": {
    "collapsed": false
   },
   "source": [
    "### Orde 3: Metode Heun"
   ]
  },
  {
   "cell_type": "markdown",
   "metadata": {
    "collapsed": false
   },
   "source": [
    "$$w_1=\\alpha$$\n",
    "$$w_{i+1}=w_i+\\frac{h}{4}\\left(f\\left(t_i, w_i\\right)+3 f\\left(t_i+\\frac{2 h}{3}, w_i+\\frac{2 h}{3} f\\left(t_i+\\frac{h}{3}, w_i+\\frac{h}{3} f\\left(t_i, w_i\\right)\\right)\\right)\\right)$$"
   ]
  },
  {
   "cell_type": "markdown",
   "metadata": {
    "collapsed": false
   },
   "source": [
    "bisa juga ditulis,\n",
    "\n",
    "$$w_1=\\alpha$$\n",
    "$$m_1 = f\\left(t_i, w_i\\right)$$\n",
    "$$w_{i+1}=w_i+\\frac{h}{4}\\left(m_1+3 f\\left(t_i+\\frac{2 h}{3}, w_i+\\frac{2 h}{3} f\\left(t_i+\\frac{h}{3}, w_i+\\frac{h}{3} m_1\\right)\\right)\\right)$$\n",
    "\n",
    "atau,\n",
    "\n",
    "$$w_1=\\alpha$$\n",
    "$$m_1 = f\\left(t_i, w_i\\right)$$\n",
    "$$m_2 = f\\left(t_i+\\frac{h}{3}, w_i+\\frac{h}{3} m_1\\right)$$\n",
    "$$w_{i+1}=w_i+\\frac{h}{4}\\left(m_1+3 f\\left(t_i+\\frac{2 h}{3}, w_i+\\frac{2 h}{3} m_2\\right)\\right)$$\n",
    "\n",
    "atau bahkan,\n",
    "\n",
    "$$w_1=\\alpha$$\n",
    "$$m_1 = f\\left(t_i, w_i\\right)$$\n",
    "$$m_2 = f\\left(t_i+\\frac{h}{3}, w_i+\\frac{h}{3} m_1\\right)$$\n",
    "$$m_3 = f\\left(t_i+\\frac{2 h}{3}, w_i+\\frac{2 h}{3} m_2\\right)$$\n",
    "$$w_{i+1}=w_i+\\frac{h}{4}\\left(m_1+3 m_3\\right)$$"
   ]
  },
  {
   "cell_type": "code",
   "execution_count": 9,
   "metadata": {
    "collapsed": false
   },
   "outputs": [
   ],
   "source": [
    "function [t, w] = heun(f, a, b, N, alpha)\n",
    "  h = (b - a) / N;\n",
    "  t = zeros(N + 1, 1);\n",
    "  w = zeros(N + 1, 1);\n",
    "  t(1) = a;\n",
    "  w(1) = alpha;\n",
    "  for i = 1 : N\n",
    "    t(i + 1) = t(i) + h;\n",
    "    m1 = f(t(i), w(i));\n",
    "    m2 = f(t(i) + (h / 3), w(i) + (h / 3) * m1);\n",
    "    m3 = f(t(i) + (2 * h / 3), w(i) + (2 * h / 3) * m2);\n",
    "    w(i + 1) = w(i) + (h / 4) * (m1 + 3 * m3);\n",
    "  endfor\n",
    "endfunction"
   ]
  },
  {
   "cell_type": "markdown",
   "metadata": {
    "collapsed": false
   },
   "source": [
    "### Metode Runge-Kutta orde 4"
   ]
  },
  {
   "cell_type": "markdown",
   "metadata": {
    "collapsed": false
   },
   "source": [
    "$$w_1=\\alpha$$\n",
    "$$k_1=h f\\left(t_i, w_i\\right)$$\n",
    "$$k_2=h f\\left(t_i+\\frac{h}{2}, w_i+\\frac{k_1}{2}\\right)$$\n",
    "$$k_3=h f\\left(t_i+\\frac{h}{2}, w_i+\\frac{k_2}{2}\\right)$$\n",
    "$$k_4=h f\\left(t_{i+1}, w_i+k_3\\right)$$\n",
    "$$w_{i+1}=w_i+\\frac{1}{6}\\left(k_1+2 k_2+2 k_3+k_4\\right)$$"
   ]
  },
  {
   "cell_type": "code",
   "execution_count": 10,
   "metadata": {
    "collapsed": false
   },
   "outputs": [
   ],
   "source": [
    "function [t, w] = rko4(f, a, b, N, alpha)\n",
    "  h = (b - a) / N;\n",
    "  t = zeros(N + 1, 1);\n",
    "  w = zeros(N + 1, 1);\n",
    "  t(1) = a;\n",
    "  w(1) = alpha;\n",
    "  for i = 1 : N\n",
    "    t(i + 1) = t(i) + h;\n",
    "    k1 = h * f(t(i), w(i));\n",
    "    k2 = h * f(t(i) + (h / 2), w(i) + (k1 / 2));\n",
    "    k3 = h * f(t(i) + (h / 2), w(i) + (k2 / 2));\n",
    "    k4 = h * f(t(i + 1), w(i) + k3);\n",
    "    w(i + 1) = w(i) + (k1 + 2 * k2 + 2 * k3 + k4) / 6;\n",
    "  endfor\n",
    "endfunction"
   ]
  },
  {
   "cell_type": "markdown",
   "metadata": {
    "collapsed": false
   },
   "source": [
    "### Contoh penggunaan"
   ]
  },
  {
   "cell_type": "markdown",
   "metadata": {
    "collapsed": false
   },
   "source": [
    "Misalkan diberikan MNA sebagai berikut:\n",
    "\n",
    "$$y' = y - t^2 + 1$$\n",
    "$$0 \\le t \\le 2$$\n",
    "$$y(0) = 0.5$$"
   ]
  },
  {
   "cell_type": "code",
   "execution_count": 24,
   "metadata": {
    "collapsed": false
   },
   "outputs": [
   ],
   "source": [
    "f = @(t, y) (y - t .^ 2 + 1);\n",
    "a = 0;\n",
    "b = 2;\n",
    "alpha = 0.5;\n",
    "[t1, w1] = midpoint(f, a, b, 10, alpha);\n",
    "[t2, w2] = modified_euler(f, a, b, 10, alpha);\n",
    "[t3, w3] = heun(f, a, b, 10, alpha);\n",
    "[t4, w4] = rko4(f, a, b, 10, alpha);\n",
    "\n",
    "sln = @(t) (t + 1) .^ 2 - 0.5 * exp(t);\n",
    "\n",
    "t5 = linspace(a, b, 11);\n",
    "w5 = sln(t5);"
   ]
  },
  {
   "cell_type": "code",
   "execution_count": 25,
   "metadata": {
    "collapsed": false
   },
   "outputs": [
    {
     "name": "stdout",
     "output_type": "stream",
     "text": [
      "ans =\r\n",
      "\r\n",
      "        0   0.5000   0.5000   0.5000   0.5000   0.5000\r\n",
      "   0.2000   0.8280   0.8260   0.8292   0.8293   0.8293\r\n",
      "   0.4000   1.2114   1.2069   1.2140   1.2141   1.2141\r\n",
      "   0.6000   1.6447   1.6372   1.6488   1.6489   1.6489\r\n",
      "   0.8000   2.1213   2.1102   2.1270   2.1272   2.1272\r\n",
      "   1.0000   2.6332   2.6177   2.6406   2.6408   2.6409\r\n",
      "   1.2000   3.1705   3.1496   3.1796   3.1799   3.1799\r\n",
      "   1.4000   3.7212   3.6937   3.7320   3.7323   3.7324\r\n",
      "   1.6000   4.2706   4.2351   4.2830   4.2834   4.2835\r\n",
      "   1.8000   4.8010   4.7556   4.8147   4.8151   4.8152\r\n",
      "   2.0000   5.2904   5.2331   5.3050   5.3054   5.3055\r\n",
      "\r\n"
     ]
    }
   ],
   "source": [
    "[t1, w1, w2, w3, w4, w5']"
   ]
  },
  {
   "cell_type": "code",
   "execution_count": 0,
   "metadata": {
    "collapsed": false
   },
   "outputs": [
   ],
   "source": [
    "fplot(sln, [0, 2], 'k');\n",
    "hold on;\n",
    "scatter(t1, w1, 'r');\n",
    "scatter(t2, w2, 'g');\n",
    "scatter(t3, w3, 'b');\n",
    "scatter(t4, w4, 'm');\n",
    "legend('Fungsi eksak', 'Midpoint', 'Modified Euler', 'Heun',\n",
    "'Runge-Kutta orde 4');\n",
    "legend(\"location\", \"northwest\");\n",
    "title('Perbandingan metode Runge-Kutta');"
   ]
  },
  {
   "cell_type": "markdown",
   "metadata": {
    "collapsed": false
   },
   "source": [
    "![](./pdnum2_Picture2.png)"
   ]
  },
  {
   "cell_type": "code",
   "execution_count": 0,
   "metadata": {
    "collapsed": false
   },
   "outputs": [
   ],
   "source": [
   ]
  }
 ],
 "metadata": {
  "kernelspec": {
   "argv": [
    "python3",
    "-E",
    "-m",
    "octave_kernel",
    "-f",
    "{connection_file}"
   ],
   "display_name": "Octave 8.2",
   "env": {
   },
   "language": "octave",
   "metadata": {
    "cocalc": {
     "description": "A programming language for scientific computing.",
     "priority": 10,
     "url": "https://octave.org/"
    }
   },
   "name": "octave-8.2",
   "resource_dir": "/ext/jupyter/kernels/octave-8.2"
  },
  "language_info": {
   "file_extension": ".m",
   "help_links": [
    {
     "text": "GNU Octave",
     "url": "https://www.gnu.org/software/octave/support.html"
    },
    {
     "text": "Octave Kernel",
     "url": "https://github.com/Calysto/octave_kernel"
    },
    {
     "text": "MetaKernel Magics",
     "url": "https://metakernel.readthedocs.io/en/latest/source/README.html"
    }
   ],
   "mimetype": "text/x-octave",
   "name": "octave",
   "version": "8.2.0"
  }
 },
 "nbformat": 4,
 "nbformat_minor": 4
}