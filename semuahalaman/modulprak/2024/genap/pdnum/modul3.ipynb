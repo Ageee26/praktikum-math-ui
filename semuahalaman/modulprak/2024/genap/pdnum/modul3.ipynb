{
 "cells": [
  {
   "cell_type": "markdown",
   "metadata": {
    "collapsed": false
   },
   "source": [
    "# Modul 3 Persamaan Diferensial Numerik"
   ]
  },
  {
   "cell_type": "markdown",
   "metadata": {
    "collapsed": false
   },
   "source": [
    "Kembali ke [Persamaan Diferensial Numerik](./pdnum2024genap.qmd)"
   ]
  },
  {
   "cell_type": "markdown",
   "metadata": {
    "collapsed": false
   },
   "source": [
    "## Format long"
   ]
  },
  {
   "cell_type": "code",
   "execution_count": 26,
   "metadata": {
    "collapsed": false
   },
   "outputs": [
    {
     "name": "stdout",
     "output_type": "stream",
     "text": [
      "ans = 0.7071\r\n"
     ]
    }
   ],
   "source": [
    "sin(pi/4)"
   ]
  },
  {
   "cell_type": "code",
   "execution_count": 27,
   "metadata": {
    "collapsed": false
   },
   "outputs": [
   ],
   "source": [
    "format long"
   ]
  },
  {
   "cell_type": "code",
   "execution_count": 28,
   "metadata": {
    "collapsed": false
   },
   "outputs": [
    {
     "name": "stdout",
     "output_type": "stream",
     "text": [
      "ans = 0.707106781186547\r\n"
     ]
    }
   ],
   "source": [
    "sin(pi/4)"
   ]
  },
  {
   "cell_type": "markdown",
   "metadata": {
    "collapsed": false
   },
   "source": [
    "Kembali ke default:"
   ]
  },
  {
   "cell_type": "code",
   "execution_count": 30,
   "metadata": {
    "collapsed": false
   },
   "outputs": [
   ],
   "source": [
    "format"
   ]
  },
  {
   "cell_type": "code",
   "execution_count": 31,
   "metadata": {
    "collapsed": false
   },
   "outputs": [
    {
     "name": "stdout",
     "output_type": "stream",
     "text": [
      "ans = 0.7071\r\n"
     ]
    }
   ],
   "source": [
    "sin(pi/4)"
   ]
  },
  {
   "cell_type": "markdown",
   "metadata": {
    "collapsed": false
   },
   "source": [
    "## Metode Runge-Kutta dan variasinya"
   ]
  },
  {
   "cell_type": "markdown",
   "metadata": {
    "collapsed": false
   },
   "source": [
    "### Orde 2: Metode Midpoint"
   ]
  },
  {
   "cell_type": "markdown",
   "metadata": {
    "collapsed": false
   },
   "source": [
    "$$w_1=\\alpha$$\n",
    "$$w_{i+1}=w_i+h f\\left(t_i+\\frac{h}{2}, w_i+\\frac{h}{2} f\\left(t_i, w_i\\right)\\right)$$"
   ]
  },
  {
   "cell_type": "markdown",
   "metadata": {
    "collapsed": false
   },
   "source": [
    "bisa juga ditulis,\n",
    "\n",
    "$$w_1=\\alpha$$\n",
    "$$m_1 = f\\left(t_i, w_i\\right)$$\n",
    "$$w_{i+1}=w_i+h f\\left(t_i+\\frac{h}{2}, w_i+\\frac{h}{2} m_1\\right)$$\n",
    "\n",
    "atau bahkan,\n",
    "\n",
    "$$w_1=\\alpha$$\n",
    "$$m_1 = f\\left(t_i, w_i\\right)$$\n",
    "$$m_2 = f\\left(t_i+\\frac{h}{2}, w_i+\\frac{h}{2} m_1\\right)$$\n",
    "$$w_{i+1}=w_i+h m_2$$"
   ]
  },
  {
   "cell_type": "code",
   "execution_count": 3,
   "metadata": {
    "collapsed": false
   },
   "outputs": [
   ],
   "source": [
    "function [t, w] = midpoint(f, a, b, N, alpha)\n",
    "  h = (b - a) / N;\n",
    "  t = zeros(N + 1, 1);\n",
    "  w = zeros(N + 1, 1);\n",
    "  t(1) = a;\n",
    "  w(1) = alpha;\n",
    "  for i = 1 : N\n",
    "    t(i + 1) = t(i) + h;\n",
    "    m1 = f(t(i), w(i));\n",
    "    m2 = f(t(i) + (h / 2), w(i) + (h / 2) * m1);\n",
    "    w(i + 1) = w(i) + h * m2;\n",
    "  endfor\n",
    "endfunction"
   ]
  },
  {
   "cell_type": "markdown",
   "metadata": {
    "collapsed": false
   },
   "source": [
    "Misalkan diberikan MNA sebagai berikut, yang ingin diselesaikan secara numerik dengan $N = 10$:\n",
    "\n",
    "$$y' = y - t^2 + 1$$\n",
    "$$0 \\le t \\le 2$$\n",
    "$$y(0) = 0.5$$\n",
    "\n",
    "yang kebetulan memiliki solusi eksak:\n",
    "\n",
    "$$y\\left(t\\right) = \\left( t + 1 \\right)^2 - 0.5 e^t$$"
   ]
  },
  {
   "cell_type": "markdown",
   "metadata": {
    "collapsed": false
   },
   "source": [
    "Contoh penggunaan:"
   ]
  },
  {
   "cell_type": "code",
   "execution_count": 32,
   "metadata": {
    "collapsed": false
   },
   "outputs": [
    {
     "name": "stdout",
     "output_type": "stream",
     "text": [
      "ans =\r\n",
      "\r\n",
      "        0   0.5000   0.5000        0\r\n",
      "   0.2000   0.8280   0.8293   0.0013\r\n",
      "   0.4000   1.2114   1.2141   0.0027\r\n",
      "   0.6000   1.6447   1.6489   0.0043\r\n",
      "   0.8000   2.1213   2.1272   0.0059\r\n",
      "   1.0000   2.6332   2.6409   0.0077\r\n",
      "   1.2000   3.1705   3.1799   0.0095\r\n",
      "   1.4000   3.7212   3.7324   0.0112\r\n",
      "   1.6000   4.2706   4.2835   0.0129\r\n",
      "   1.8000   4.8010   4.8152   0.0142\r\n",
      "   2.0000   5.2904   5.3055   0.0151\r\n",
      "\r\n"
     ]
    },
    {
     "data": {
      "image/png": "[encoded data removed]",
      "text/plain": [
       "<IPython.core.display.Image object>"
      ]
     },
     "execution_count": 32,
     "metadata": {
     },
     "output_type": "execute_result"
    }
   ],
   "source": [
    "f = @(t, y) (y - t .^ 2 + 1);\n",
    "a = 0;\n",
    "b = 2;\n",
    "alpha = 0.5;\n",
    "\n",
    "[t, w] = midpoint(f, a, b, 10, alpha);\n",
    "\n",
    "sln = @(t) (t + 1) .^ 2 - 0.5 * exp(t);\n",
    "y_eksak = sln(t);\n",
    "\n",
    "err_midpoint = abs(w - y_eksak);\n",
    "\n",
    "[t, w, y_eksak, err_midpoint]\n",
    "\n",
    "hold on;\n",
    "fplot(sln, [a, b], 'b');\n",
    "scatter(t, w, 500, 'r');\n",
    "legend(\"Solusi Eksak\", \"Metode Midpoint\");"
   ]
  },
  {
   "cell_type": "markdown",
   "metadata": {
    "collapsed": false
   },
   "source": [
    "### Orde 2: Metode *Modified Euler*"
   ]
  },
  {
   "cell_type": "markdown",
   "metadata": {
    "collapsed": false
   },
   "source": [
    "$$w_1=\\alpha$$\n",
    "$$w_{i+1}=w_i+\\frac{h}{2}\\left(f\\left(t_i, w_i\\right)+f\\left(t_{i+1}, w_i+h f\\left(t_i, w_i\\right)\\right)\\right)$$"
   ]
  },
  {
   "cell_type": "markdown",
   "metadata": {
    "collapsed": false
   },
   "source": [
    "bisa juga ditulis,\n",
    "\n",
    "$$w_1=\\alpha$$\n",
    "$$m_1 = f\\left(t_i, w_i\\right)$$\n",
    "$$w_{i+1}=w_i+\\frac{h}{2}\\left(m_1+f\\left(t_{i+1}, w_i+h m_1\\right)\\right)$$\n",
    "\n",
    "atau bahkan,\n",
    "\n",
    "$$w_1=\\alpha$$\n",
    "$$m_1 = f\\left(t_i, w_i\\right)$$\n",
    "$$m_2 = f\\left(t_{i+1}, w_i+h m_1\\right)$$\n",
    "$$w_{i+1}=w_i+\\frac{h}{2}\\left(m_1+m_2\\right)$$"
   ]
  },
  {
   "cell_type": "code",
   "execution_count": 12,
   "metadata": {
    "collapsed": false
   },
   "outputs": [
   ],
   "source": [
    "function [t, w] = modified_euler(f, a, b, N, alpha)\n",
    "  h = (b - a) / N;\n",
    "  t = zeros(N + 1, 1);\n",
    "  w = zeros(N + 1, 1);\n",
    "  t(1) = a;\n",
    "  w(1) = alpha;\n",
    "  for i = 1 : N\n",
    "    t(i + 1) = t(i) + h;\n",
    "    m1 = f(t(i), w(i));\n",
    "    m2 = f(t(i + 1), w(i) + h * m1);\n",
    "    w(i + 1) = w(i) + h * (m1 + m2) / 2;\n",
    "  endfor\n",
    "endfunction"
   ]
  },
  {
   "cell_type": "markdown",
   "metadata": {
    "collapsed": false
   },
   "source": [
    "Misalkan diberikan MNA sebagai berikut, yang ingin diselesaikan secara numerik dengan $N = 10$:\n",
    "\n",
    "$$y' = y - t^2 + 1$$\n",
    "$$0 \\le t \\le 2$$\n",
    "$$y(0) = 0.5$$\n",
    "\n",
    "dan misalkan solusi eksak tidak diketahui."
   ]
  },
  {
   "cell_type": "markdown",
   "metadata": {
    "collapsed": false
   },
   "source": [
    "Contoh penggunaan (perbandingan metode Runge-Kutta orde 2):"
   ]
  },
  {
   "cell_type": "code",
   "execution_count": 20,
   "metadata": {
    "collapsed": false
   },
   "outputs": [
    {
     "name": "stdout",
     "output_type": "stream",
     "text": [
      "ans =\r\n",
      "\r\n",
      "        0   0.5000   0.5000\r\n",
      "   0.2000   0.8280   0.8260\r\n",
      "   0.4000   1.2114   1.2069\r\n",
      "   0.6000   1.6447   1.6372\r\n",
      "   0.8000   2.1213   2.1102\r\n",
      "   1.0000   2.6332   2.6177\r\n",
      "   1.2000   3.1705   3.1496\r\n",
      "   1.4000   3.7212   3.6937\r\n",
      "   1.6000   4.2706   4.2351\r\n",
      "   1.8000   4.8010   4.7556\r\n",
      "   2.0000   5.2904   5.2331\r\n",
      "\r\n"
     ]
    },
    {
     "data": {
      "image/png": "[encoded data removed]",
      "text/plain": [
       "<IPython.core.display.Image object>"
      ]
     },
     "execution_count": 20,
     "metadata": {
     },
     "output_type": "execute_result"
    }
   ],
   "source": [
    "f = @(t, y) (y - t .^ 2 + 1);\n",
    "a = 0;\n",
    "b = 2;\n",
    "alpha = 0.5;\n",
    "\n",
    "[t1, w1] = midpoint(f, a, b, 10, alpha);\n",
    "[t2, w2] = modified_euler(f, a, b, 10, alpha);\n",
    "\n",
    "[t1, w1, w2]\n",
    "\n",
    "hold on;\n",
    "scatter(t1, w1, 500, 'r');\n",
    "scatter(t2, w2, 500, 'g');\n",
    "legend(\"Midpoint\", \"Modified Euler\");"
   ]
  },
  {
   "cell_type": "markdown",
   "metadata": {
    "collapsed": false
   },
   "source": [
    "Misalkan diketahui solusi eksak:\n",
    "\n",
    "$$y\\left(t\\right) = \\left( t + 1 \\right)^2 - 0.5 e^t$$\n",
    "\n",
    "Maka kita juga bisa menghitung *error* dari masing-masing metode."
   ]
  },
  {
   "cell_type": "code",
   "execution_count": 22,
   "metadata": {
    "collapsed": false
   },
   "outputs": [
    {
     "name": "stdout",
     "output_type": "stream",
     "text": [
      "ans =\r\n",
      "\r\n",
      "        0   0.5000   0.5000        0   0.5000        0\r\n",
      "   0.2000   0.8293   0.8280   0.0013   0.8260   0.0033\r\n",
      "   0.4000   1.2141   1.2114   0.0027   1.2069   0.0072\r\n",
      "   0.6000   1.6489   1.6447   0.0043   1.6372   0.0117\r\n",
      "   0.8000   2.1272   2.1213   0.0059   2.1102   0.0170\r\n",
      "   1.0000   2.6409   2.6332   0.0077   2.6177   0.0232\r\n",
      "   1.2000   3.1799   3.1705   0.0095   3.1496   0.0304\r\n",
      "   1.4000   3.7324   3.7212   0.0112   3.6937   0.0387\r\n",
      "   1.6000   4.2835   4.2706   0.0129   4.2351   0.0484\r\n",
      "   1.8000   4.8152   4.8010   0.0142   4.7556   0.0596\r\n",
      "   2.0000   5.3055   5.2904   0.0151   5.2331   0.0724\r\n",
      "\r\n"
     ]
    },
    {
     "data": {
      "image/png": "[encoded data removed]",
      "text/plain": [
       "<IPython.core.display.Image object>"
      ]
     },
     "execution_count": 22,
     "metadata": {
     },
     "output_type": "execute_result"
    }
   ],
   "source": [
    "f = @(t, y) (y - t .^ 2 + 1);\n",
    "a = 0;\n",
    "b = 2;\n",
    "alpha = 0.5;\n",
    "\n",
    "[t1, w1] = midpoint(f, a, b, 10, alpha);\n",
    "[t2, w2] = modified_euler(f, a, b, 10, alpha);\n",
    "\n",
    "sln = @(t) (t + 1) .^ 2 - 0.5 * exp(t);\n",
    "y_eksak = sln(t1);\n",
    "\n",
    "err1 = abs(y_eksak - w1);\n",
    "err2 = abs(y_eksak - w2);\n",
    "\n",
    "[t1, y_eksak, w1, err1, w2, err2]\n",
    "\n",
    "hold on;\n",
    "fplot(sln, [0, 2], 'b');\n",
    "scatter(t1, w1, 500, 'r');\n",
    "scatter(t2, w2, 500, 'g');\n",
    "legend(\"Solusi Eksak\", \"Midpoint\", \"Modified Euler\");"
   ]
  },
  {
   "cell_type": "markdown",
   "metadata": {
    "collapsed": false
   },
   "source": [
    "### Orde 3: Metode Heun"
   ]
  },
  {
   "cell_type": "markdown",
   "metadata": {
    "collapsed": false
   },
   "source": [
    "$$w_1=\\alpha$$\n",
    "$$w_{i+1}=w_i+\\frac{h}{4}\\left(f\\left(t_i, w_i\\right)+3 f\\left(t_i+\\frac{2 h}{3}, w_i+\\frac{2 h}{3} f\\left(t_i+\\frac{h}{3}, w_i+\\frac{h}{3} f\\left(t_i, w_i\\right)\\right)\\right)\\right)$$"
   ]
  },
  {
   "cell_type": "markdown",
   "metadata": {
    "collapsed": false
   },
   "source": [
    "bisa juga ditulis,\n",
    "\n",
    "$$w_1=\\alpha$$\n",
    "$$m_1 = f\\left(t_i, w_i\\right)$$\n",
    "$$w_{i+1}=w_i+\\frac{h}{4}\\left(m_1+3 f\\left(t_i+\\frac{2 h}{3}, w_i+\\frac{2 h}{3} f\\left(t_i+\\frac{h}{3}, w_i+\\frac{h}{3} m_1\\right)\\right)\\right)$$\n",
    "\n",
    "atau,\n",
    "\n",
    "$$w_1=\\alpha$$\n",
    "$$m_1 = f\\left(t_i, w_i\\right)$$\n",
    "$$m_2 = f\\left(t_i+\\frac{h}{3}, w_i+\\frac{h}{3} m_1\\right)$$\n",
    "$$w_{i+1}=w_i+\\frac{h}{4}\\left(m_1+3 f\\left(t_i+\\frac{2 h}{3}, w_i+\\frac{2 h}{3} m_2\\right)\\right)$$\n",
    "\n",
    "atau bahkan,\n",
    "\n",
    "$$w_1=\\alpha$$\n",
    "$$m_1 = f\\left(t_i, w_i\\right)$$\n",
    "$$m_2 = f\\left(t_i+\\frac{h}{3}, w_i+\\frac{h}{3} m_1\\right)$$\n",
    "$$m_3 = f\\left(t_i+\\frac{2 h}{3}, w_i+\\frac{2 h}{3} m_2\\right)$$\n",
    "$$w_{i+1}=w_i+\\frac{h}{4}\\left(m_1+3 m_3\\right)$$"
   ]
  },
  {
   "cell_type": "code",
   "execution_count": 24,
   "metadata": {
    "collapsed": false
   },
   "outputs": [
   ],
   "source": [
    "function [t, w] = heun(f, a, b, N, alpha)\n",
    "  h = (b - a) / N;\n",
    "  t = zeros(N + 1, 1);\n",
    "  w = zeros(N + 1, 1);\n",
    "  t(1) = a;\n",
    "  w(1) = alpha;\n",
    "  for i = 1 : N\n",
    "    t(i + 1) = t(i) + h;\n",
    "    m1 = f(t(i), w(i));\n",
    "    m2 = f(t(i) + (h / 3), w(i) + (h / 3) * m1);\n",
    "    m3 = f(t(i) + (2 * h / 3), w(i) + (2 * h / 3) * m2);\n",
    "    w(i + 1) = w(i) + (h / 4) * (m1 + 3 * m3);\n",
    "  endfor\n",
    "endfunction"
   ]
  },
  {
   "cell_type": "markdown",
   "metadata": {
    "collapsed": false
   },
   "source": [
    "Misalkan diberikan MNA sebagai berikut, yang ingin diselesaikan secara numerik dengan $N = 10$:\n",
    "\n",
    "$$y' = y - t^2 + 1$$\n",
    "$$0 \\le t \\le 2$$\n",
    "$$y(0) = 0.5$$\n",
    "\n",
    "yang kebetulan memiliki solusi eksak:\n",
    "\n",
    "$$y\\left(t\\right) = \\left( t + 1 \\right)^2 - 0.5 e^t$$"
   ]
  },
  {
   "cell_type": "markdown",
   "metadata": {
    "collapsed": false
   },
   "source": [
    "Contoh penggunaan:"
   ]
  },
  {
   "cell_type": "code",
   "execution_count": 25,
   "metadata": {
    "collapsed": false
   },
   "outputs": [
    {
     "name": "stdout",
     "output_type": "stream",
     "text": [
      "ans =\r\n",
      "\r\n",
      "        0   0.5000   0.5000        0\r\n",
      "   0.2000   0.8292   0.8293   0.0001\r\n",
      "   0.4000   1.2140   1.2141   0.0001\r\n",
      "   0.6000   1.6488   1.6489   0.0002\r\n",
      "   0.8000   2.1270   2.1272   0.0002\r\n",
      "   1.0000   2.6406   2.6409   0.0003\r\n",
      "   1.2000   3.1796   3.1799   0.0004\r\n",
      "   1.4000   3.7320   3.7324   0.0004\r\n",
      "   1.6000   4.2830   4.2835   0.0005\r\n",
      "   1.8000   4.8147   4.8152   0.0005\r\n",
      "   2.0000   5.3050   5.3055   0.0005\r\n",
      "\r\n"
     ]
    },
    {
     "data": {
      "image/png": "[encoded data removed]",
      "text/plain": [
       "<IPython.core.display.Image object>"
      ]
     },
     "execution_count": 25,
     "metadata": {
     },
     "output_type": "execute_result"
    }
   ],
   "source": [
    "f = @(t, y) (y - t .^ 2 + 1);\n",
    "a = 0;\n",
    "b = 2;\n",
    "alpha = 0.5;\n",
    "\n",
    "[t, w] = heun(f, a, b, 10, alpha);\n",
    "\n",
    "sln = @(t) (t + 1) .^ 2 - 0.5 * exp(t);\n",
    "y_eksak = sln(t);\n",
    "\n",
    "err_heun = abs(w - y_eksak);\n",
    "\n",
    "[t, w, y_eksak, err_heun]\n",
    "\n",
    "hold on;\n",
    "fplot(sln, [a, b], 'b');\n",
    "scatter(t, w, 500, 'r');\n",
    "legend(\"Solusi Eksak\", \"Metode Heun\");"
   ]
  },
  {
   "cell_type": "markdown",
   "metadata": {
    "collapsed": false
   },
   "source": [
    "Ternyata errornya sangat kecil! KIta bisa melihat errornya dengan lebih detail/presisi, dengan menggunakan `format long`"
   ]
  },
  {
   "cell_type": "code",
   "execution_count": 33,
   "metadata": {
    "collapsed": false
   },
   "outputs": [
    {
     "name": "stdout",
     "output_type": "stream",
     "text": [
      "ans =\r\n",
      "\r\n",
      "                   0   0.500000000000000   0.500000000000000                   0\r\n",
      "   0.200000000000000   0.829244444444444   0.829298620919915   0.000054176475471\r\n",
      "   0.400000000000000   1.213974992592593   1.214087651179365   0.000112658586772\r\n",
      "   0.600000000000000   1.648765902064198   1.648940599804746   0.000174697740548\r\n",
      "   0.800000000000000   2.126990532832184   2.127229535753766   0.000239002921582\r\n",
      "   1.000000000000000   2.640555548543485   2.640859085770478   0.000303537226992\r\n",
      "   1.200000000000000   3.179576287732221   3.179941538631727   0.000365250899506\r\n",
      "   1.400000000000000   3.731980283861397   3.732400016577663   0.000419732716265\r\n",
      "   1.600000000000000   4.283023031133831   4.283483787802441   0.000460756668610\r\n",
      "   1.800000000000000   4.814696573135897   4.815176267793527   0.000479694657630\r\n",
      "   2.000000000000000   5.305007192434419   5.305471950534676   0.000464758100256\r\n",
      "\r\n"
     ]
    },
    {
     "data": {
      "image/png": "[encoded data removed]",
      "text/plain": [
       "<IPython.core.display.Image object>"
      ]
     },
     "execution_count": 33,
     "metadata": {
     },
     "output_type": "execute_result"
    }
   ],
   "source": [
    "f = @(t, y) (y - t .^ 2 + 1);\n",
    "a = 0;\n",
    "b = 2;\n",
    "alpha = 0.5;\n",
    "\n",
    "[t, w] = heun(f, a, b, 10, alpha);\n",
    "\n",
    "sln = @(t) (t + 1) .^ 2 - 0.5 * exp(t);\n",
    "y_eksak = sln(t);\n",
    "\n",
    "err_heun = abs(w - y_eksak);\n",
    "\n",
    "format long; % pasang format output menjadi panjang (lebih presisi)\n",
    "[t, w, y_eksak, err_heun]\n",
    "format; % kembali ke ukuran default\n",
    "\n",
    "hold on;\n",
    "fplot(sln, [a, b], 'b');\n",
    "scatter(t, w, 500, 'r');\n",
    "legend(\"Solusi Eksak\", \"Metode Heun\");"
   ]
  },
  {
   "cell_type": "markdown",
   "metadata": {
    "collapsed": false
   },
   "source": [
    "### Metode Runge-Kutta orde 4"
   ]
  },
  {
   "cell_type": "markdown",
   "metadata": {
    "collapsed": false
   },
   "source": [
    "$$w_1=\\alpha$$\n",
    "$$k_1=h f\\left(t_i, w_i\\right)$$\n",
    "$$k_2=h f\\left(t_i+\\frac{h}{2}, w_i+\\frac{k_1}{2}\\right)$$\n",
    "$$k_3=h f\\left(t_i+\\frac{h}{2}, w_i+\\frac{k_2}{2}\\right)$$\n",
    "$$k_4=h f\\left(t_{i+1}, w_i+k_3\\right)$$\n",
    "$$w_{i+1}=w_i+\\frac{1}{6}\\left(k_1+2 k_2+2 k_3+k_4\\right)$$"
   ]
  },
  {
   "cell_type": "code",
   "execution_count": 35,
   "metadata": {
    "collapsed": false
   },
   "outputs": [
   ],
   "source": [
    "function [t, w] = rko4(f, a, b, N, alpha)\n",
    "  h = (b - a) / N;\n",
    "  t = zeros(N + 1, 1);\n",
    "  w = zeros(N + 1, 1);\n",
    "  t(1) = a;\n",
    "  w(1) = alpha;\n",
    "  for i = 1 : N\n",
    "    t(i + 1) = t(i) + h;\n",
    "    k1 = h * f(t(i), w(i));\n",
    "    k2 = h * f(t(i) + (h / 2), w(i) + (k1 / 2));\n",
    "    k3 = h * f(t(i) + (h / 2), w(i) + (k2 / 2));\n",
    "    k4 = h * f(t(i + 1), w(i) + k3);\n",
    "    w(i + 1) = w(i) + (k1 + 2 * k2 + 2 * k3 + k4) / 6;\n",
    "  endfor\n",
    "endfunction"
   ]
  },
  {
   "cell_type": "markdown",
   "metadata": {
    "collapsed": false
   },
   "source": [
    "Misalkan diberikan MNA sebagai berikut, yang ingin diselesaikan secara numerik dengan $N = 10$:\n",
    "\n",
    "$$y' = y - t^2 + 1$$\n",
    "$$0 \\le t \\le 2$$\n",
    "$$y(0) = 0.5$$\n",
    "\n",
    "yang kebetulan memiliki solusi eksak:\n",
    "\n",
    "$$y\\left(t\\right) = \\left( t + 1 \\right)^2 - 0.5 e^t$$"
   ]
  },
  {
   "cell_type": "code",
   "execution_count": 36,
   "metadata": {
    "collapsed": false
   },
   "outputs": [
    {
     "name": "stdout",
     "output_type": "stream",
     "text": [
      "ans =\r\n",
      "\r\n",
      "                   0   0.500000000000000   0.500000000000000                   0\r\n",
      "   0.200000000000000   0.829293333333333   0.829298620919915   0.000005287586582\r\n",
      "   0.400000000000000   1.214076210666667   1.214087651179365   0.000011440512698\r\n",
      "   0.600000000000000   1.648922017041600   1.648940599804746   0.000018582763146\r\n",
      "   0.800000000000000   2.127202684947944   2.127229535753766   0.000026850805823\r\n",
      "   1.000000000000000   2.640822692728752   2.640859085770478   0.000036393041726\r\n",
      "   1.200000000000000   3.179894170232231   3.179941538631727   0.000047368399497\r\n",
      "   1.400000000000000   3.732340072854980   3.732400016577663   0.000059943722683\r\n",
      "   1.600000000000000   4.283409498318406   4.283483787802441   0.000074289484035\r\n",
      "   1.800000000000000   4.815085694579435   4.815176267793527   0.000090573214092\r\n",
      "   2.000000000000000   5.305363000692655   5.305471950534676   0.000108949842021\r\n",
      "\r\n"
     ]
    },
    {
     "data": {
      "image/png": "[encoded data removed]",
      "text/plain": [
       "<IPython.core.display.Image object>"
      ]
     },
     "execution_count": 36,
     "metadata": {
     },
     "output_type": "execute_result"
    }
   ],
   "source": [
    "f = @(t, y) (y - t .^ 2 + 1);\n",
    "a = 0;\n",
    "b = 2;\n",
    "alpha = 0.5;\n",
    "\n",
    "[t, w] = rko4(f, a, b, 10, alpha);\n",
    "\n",
    "sln = @(t) (t + 1) .^ 2 - 0.5 * exp(t);\n",
    "y_eksak = sln(t);\n",
    "\n",
    "err_rko4 = abs(w - y_eksak);\n",
    "\n",
    "format long; % pasang format output menjadi panjang (lebih presisi)\n",
    "[t, w, y_eksak, err_rko4]\n",
    "format; % kembali ke ukuran default\n",
    "\n",
    "hold on;\n",
    "fplot(sln, [a, b], 'b');\n",
    "scatter(t, w, 500, 'r');\n",
    "legend(\"Solusi Eksak\", \"Metode Runge-Kutta orde 4\");"
   ]
  },
  {
   "cell_type": "markdown",
   "metadata": {
    "collapsed": false
   },
   "source": [
    "### Perbandingan metode Runge-Kutta orde 2, 3, 4"
   ]
  },
  {
   "cell_type": "markdown",
   "metadata": {
    "collapsed": false
   },
   "source": [
    "Misalkan diberikan MNA sebagai berikut, yang ingin diselesaikan secara numerik dengan $N = 10$:\n",
    "\n",
    "$$y' = y - t^2 + 1$$\n",
    "$$0 \\le t \\le 2$$\n",
    "$$y(0) = 0.5$$\n",
    "\n",
    "yang kebetulan memiliki solusi eksak:\n",
    "\n",
    "$$y\\left(t\\right) = \\left( t + 1 \\right)^2 - 0.5 e^t$$"
   ]
  },
  {
   "cell_type": "code",
   "execution_count": 37,
   "metadata": {
    "collapsed": false
   },
   "outputs": [
   ],
   "source": [
    "f = @(t, y) (y - t .^ 2 + 1);\n",
    "a = 0;\n",
    "b = 2;\n",
    "alpha = 0.5;\n",
    "\n",
    "[t1, w1] = midpoint(f, a, b, 10, alpha);\n",
    "[t2, w2] = modified_euler(f, a, b, 10, alpha);\n",
    "[t3, w3] = heun(f, a, b, 10, alpha);\n",
    "[t4, w4] = rko4(f, a, b, 10, alpha);\n",
    "\n",
    "sln = @(t) (t + 1) .^ 2 - 0.5 * exp(t);\n",
    "y_eksak = sln(t1);"
   ]
  },
  {
   "cell_type": "code",
   "execution_count": 39,
   "metadata": {
    "collapsed": false
   },
   "outputs": [
    {
     "name": "stdout",
     "output_type": "stream",
     "text": [
      "ans =\r\n",
      "\r\n",
      "        0   0.5000   0.5000   0.5000   0.5000   0.5000\r\n",
      "   0.2000   0.8280   0.8260   0.8292   0.8293   0.8293\r\n",
      "   0.4000   1.2114   1.2069   1.2140   1.2141   1.2141\r\n",
      "   0.6000   1.6447   1.6372   1.6488   1.6489   1.6489\r\n",
      "   0.8000   2.1213   2.1102   2.1270   2.1272   2.1272\r\n",
      "   1.0000   2.6332   2.6177   2.6406   2.6408   2.6409\r\n",
      "   1.2000   3.1705   3.1496   3.1796   3.1799   3.1799\r\n",
      "   1.4000   3.7212   3.6937   3.7320   3.7323   3.7324\r\n",
      "   1.6000   4.2706   4.2351   4.2830   4.2834   4.2835\r\n",
      "   1.8000   4.8010   4.7556   4.8147   4.8151   4.8152\r\n",
      "   2.0000   5.2904   5.2331   5.3050   5.3054   5.3055\r\n",
      "\r\n"
     ]
    }
   ],
   "source": [
    "[t1, w1, w2, w3, w4, y_eksak]"
   ]
  },
  {
   "cell_type": "code",
   "execution_count": 40,
   "metadata": {
    "collapsed": false
   },
   "outputs": [
    {
     "data": {
      "image/png": "[encoded data removed]",
      "text/plain": [
       "<IPython.core.display.Image object>"
      ]
     },
     "execution_count": 40,
     "metadata": {
     },
     "output_type": "execute_result"
    }
   ],
   "source": [
    "hold on;\n",
    "fplot(sln, [0, 2], 'k');\n",
    "scatter(t1, w1, 'r');\n",
    "scatter(t2, w2, 'g');\n",
    "scatter(t3, w3, 'b');\n",
    "scatter(t4, w4, 'm');\n",
    "legend('Fungsi eksak', 'Midpoint', 'Modified Euler', 'Heun', 'Runge-Kutta orde 4');\n",
    "legend(\"location\", \"northwest\");\n",
    "title('Perbandingan metode Runge-Kutta orde 2, 3, 4');"
   ]
  },
  {
   "cell_type": "markdown",
   "metadata": {
    "collapsed": false
   },
   "source": [
    "![](./pdnum2_Picture2.png)"
   ]
  },
  {
   "cell_type": "markdown",
   "metadata": {
    "collapsed": false
   },
   "source": [
    "## Metode Multistep Eksplisit: Metode $n$-step Adams-Bashforth"
   ]
  },
  {
   "cell_type": "markdown",
   "metadata": {
    "collapsed": false
   },
   "source": [
    "Metode-metode sebelumnya, seperi Euler, Runge-Kutta, dan kawan-kawannya adalah metode jenis one-step, karena di tiap iterasinya kita hanya menggunakan informasi dari satu nilai $t_{i}$. Berikut kita akan mulai membahas mengenai metode multistep, di mana kita menggunakan lebih dari satu nilai $t_{i}$ untuk membuat aproksimasi.\n",
    "\n",
    "Terdapat dua jenis metode multistep, yaitu:\n",
    "\n",
    "- Multistep eksplisit, di mana kita mengaproksimasi nilai pada $t_{i+1}$ menggunakan nilai $t$ sebelumnya.\n",
    "\n",
    "- Multistep implisit, di mana kita mengaproksimasi nilai pada $t_{i+1}$ menggunakan nilai pada $t$ sebelumnya, sekaligus nilai pada $t_{i+1}$ itu sendiri."
   ]
  },
  {
   "cell_type": "markdown",
   "metadata": {
    "collapsed": false
   },
   "source": [
    "Metode multistep eksplisit yang akan kita bahas adalah **metode $n$-step Adams-Bashforth.**\n",
    "\n",
    "Metode $n$-step Adams-Bashforth menggunakan $n$ titik sebelumnya untuk mengaproksimasi nilai. Karena metode ini adalah metode multistep, maka $n$ nilai awalnya pun harus diperoleh terlebih dahulu. Misal kita ingin menggunakan metode Adams-Bashforth orde 3 , maka $w_{1}, w_{2}$, dan $w_{3}$ harus ada terlebih dahulu sebelum dilanjutkan ke metode Adams-Bashforth. Nilai-nilai awal tersebut dapat diperoleh dari metode-metode one-step sebelumnya, seperti metode Runge-Kutta (biasanya digunakan metode Runge-Kutta orde 4).\n",
    "\n",
    "Berikut rumus untuk metode $n$-step Adams-Bashforth, masing-masing sesuai dengan jumlah step nya."
   ]
  },
  {
   "cell_type": "markdown",
   "metadata": {
    "collapsed": false
   },
   "source": [
    "### Two-step Adams-Bashforth"
   ]
  },
  {
   "cell_type": "markdown",
   "metadata": {
    "collapsed": false
   },
   "source": [
    "$$\n",
    "\\begin{gathered}\n",
    "w_{0}=\\alpha, \\quad w_{1}=\\alpha_{1}, \\\\\n",
    "w_{i+1}=w_{i}+\\frac{h}{2}\\left[3 f\\left(t_{i}, w_{i}\\right)-f\\left(t_{i-1}, w_{i-1}\\right)\\right]\n",
    "\\end{gathered}\n",
    "$$"
   ]
  },
  {
   "cell_type": "markdown",
   "metadata": {
    "collapsed": false
   },
   "source": [
    "Bisa ditulis:\n",
    "\n",
    "$$\n",
    "\\begin{gathered}\n",
    "w_{1}=\\alpha, \\\\\n",
    "w_{2}=\\alpha_1 \\hspace{0.2cm} \\text{(hitung dengan metode Runge-Kutta orde 4)}, \\\\\n",
    "m_1 = f\\left(t_{i}, w_{i}\\right) \\\\\n",
    "m_2 = f\\left(t_{i-1}, w_{i-1}\\right) \\\\\n",
    "w_{i+1}=w_{i}+\\frac{h}{2}\\left[3 m_1-m_2\\right]\n",
    "\\end{gathered}\n",
    "$$"
   ]
  },
  {
   "cell_type": "code",
   "execution_count": 43,
   "metadata": {
    "collapsed": false
   },
   "outputs": [
   ],
   "source": [
    "function [t, w] = adams_bashforth2(f, a, b, N, alpha)\n",
    "  % Inisiasi variabel awal\n",
    "  h = (b - a) / N;\n",
    "  t = zeros(N + 1, 1);\n",
    "  w = zeros(N + 1, 1);\n",
    "  t(1) = a;\n",
    "  w(1) = alpha;\n",
    "  \n",
    "  % Hitung w(2) menggunakan metode Runge-Kutta orde 4\n",
    "  i = 1;\n",
    "  t(i + 1) = t(i) + h;\n",
    "  k1 = h * f(t(i), w(i));\n",
    "  k2 = h * f(t(i) + (h/2), w(i) + (k1/2));\n",
    "  k3 = h * f(t(i) + (h/2), w(i) + (k2/2));\n",
    "  k4 = h * f(t(i + 1), w(i) + k3);\n",
    "  w(i+1) = w(i) + (k1 + 2*k2 + 2*k3 + k4) / 6;\n",
    "  \n",
    "  % Algoritma utama Adams-Bashforth orde 2\n",
    "  for i = 2 : N\n",
    "    t(i + 1) = t(i) + h;\n",
    "    m1 = f(t(i), w(i));\n",
    "    m2 = f(t(i-1), w(i-1));\n",
    "    w(i+1) = w(i) + (h/2) * (3*m1 - m2);\n",
    "  endfor\n",
    "endfunction"
   ]
  },
  {
   "cell_type": "markdown",
   "metadata": {
    "collapsed": false
   },
   "source": [
    "Misalkan diberikan MNA sebagai berikut, yang ingin diselesaikan secara numerik dengan $N = 10$:\n",
    "\n",
    "$$y' = y - t^2 + 1$$\n",
    "$$0 \\le t \\le 2$$\n",
    "$$y(0) = 0.5$$\n",
    "\n",
    "yang kebetulan memiliki solusi eksak:\n",
    "\n",
    "$$y\\left(t\\right) = \\left( t + 1 \\right)^2 - 0.5 e^t$$"
   ]
  },
  {
   "cell_type": "markdown",
   "metadata": {
    "collapsed": false
   },
   "source": [
    "Contoh penggunaan:"
   ]
  },
  {
   "cell_type": "code",
   "execution_count": 46,
   "metadata": {
    "collapsed": false
   },
   "outputs": [
    {
     "name": "stdout",
     "output_type": "stream",
     "text": [
      "ans =\r\n",
      "\r\n",
      "        0   0.5000   0.5000        0\r\n",
      "   0.2000   0.8293   0.8293   0.0000\r\n",
      "   0.4000   1.2161   1.2141   0.0020\r\n",
      "   0.6000   1.6540   1.6489   0.0050\r\n",
      "   0.8000   2.1366   2.1272   0.0093\r\n",
      "   1.0000   2.6561   2.6409   0.0153\r\n",
      "   1.2000   3.2033   3.1799   0.0234\r\n",
      "   1.4000   3.7667   3.7324   0.0343\r\n",
      "   1.6000   4.3324   4.2835   0.0489\r\n",
      "   1.8000   4.8834   4.8152   0.0682\r\n",
      "   2.0000   5.3992   5.3055   0.0937\r\n",
      "\r\n"
     ]
    },
    {
     "data": {
      "image/png": "[encoded data removed]",
      "text/plain": [
       "<IPython.core.display.Image object>"
      ]
     },
     "execution_count": 46,
     "metadata": {
     },
     "output_type": "execute_result"
    }
   ],
   "source": [
    "f = @(t, y) y - t .^ 2 + 1;\n",
    "a = 0;\n",
    "b = 2;\n",
    "alpha = 0.5;\n",
    "N = 10;\n",
    "\n",
    "[t, w] = adams_bashforth2(f, a, b, N, alpha);\n",
    "\n",
    "sln = @(t) (t + 1) .^ 2 - 0.5 * exp(t);\n",
    "y_eksak = sln(t);\n",
    "\n",
    "err_ab2 = abs(y_eksak - w);\n",
    "\n",
    "[t, w, y_eksak, err_ab2]\n",
    "\n",
    "hold on;\n",
    "fplot(sln, [0, 2], 'b');\n",
    "scatter(t1, w1, 'r');"
   ]
  },
  {
   "cell_type": "markdown",
   "metadata": {
    "collapsed": false
   },
   "source": [
    "### Three-step Adams-Bashforth"
   ]
  },
  {
   "cell_type": "markdown",
   "metadata": {
    "collapsed": false
   },
   "source": [
    "$$\n",
    "\\begin{gathered}\n",
    "w_{0}=\\alpha, \\quad w_{1}=\\alpha_{1}, \\quad w_{2}=\\alpha_{2}, \\\\\n",
    "w_{i+1}=w_{i}+\\frac{h}{12}\\left[23 f\\left(t_{i}, w_{i}\\right)-16 f\\left(t_{i-1}, w_{i-1}\\right)+5 f\\left(t_{i-2}, w_{i-2}\\right)\\right]\n",
    "\\end{gathered}\n",
    "$$"
   ]
  },
  {
   "cell_type": "markdown",
   "metadata": {
    "collapsed": false
   },
   "source": [
    "Bisa ditulis:\n",
    "\n",
    "$$\n",
    "\\begin{gathered}\n",
    "w_{1}=\\alpha, \\\\\n",
    "w_{2}=\\alpha_{1}, \\quad w_{3}=\\alpha_{2}, \\\\\n",
    "m_1 = f\\left(t_{i}, w_{i}\\right) \\\\\n",
    "m_2 = f\\left(t_{i-1}, w_{i-1}\\right) \\\\\n",
    "m_3 = f\\left(t_{i-2}, w_{i-2}\\right) \\\\\n",
    "w_{i+1}=w_{i}+\\frac{h}{12}\\left[23 m_1-16 m_2+5 m_3\\right]\n",
    "\\end{gathered}\n",
    "$$"
   ]
  },
  {
   "cell_type": "code",
   "execution_count": 0,
   "metadata": {
    "collapsed": false
   },
   "outputs": [
   ],
   "source": [
    "function [t, w] = adams_bashforth3(f, a, b, N, alpha)\n",
    "  % Inisiasi variabel awal\n",
    "  h = (b - a) / N;\n",
    "  t = zeros(N + 1, 1);\n",
    "  w = zeros(N + 1, 1);\n",
    "  t(1) = a;\n",
    "  w(1) = alpha;\n",
    "  \n",
    "  % Hitung w(2), w(3) menggunakan metode Runge-Kutta orde 4\n",
    "  for i = 1 : 2\n",
    "      t(i + 1) = t(i) + h;\n",
    "      k1 = h * f(t(i), w(i));\n",
    "      k2 = h * f(t(i) + (h/2), w(i) + (k1/2));\n",
    "      k3 = h * f(t(i) + (h/2), w(i) + (k2/2));\n",
    "      k4 = h * f(t(i + 1), w(i) + k3);\n",
    "      w(i+1) = w(i) + (k1 + 2*k2 + 2*k3 + k4) / 6;\n",
    "  endfor\n",
    "  \n",
    "  % Algoritma utama Adams-Bashforth orde 3\n",
    "  for i = 3 : N\n",
    "    t(i + 1) = t(i) + h;\n",
    "    m1 = f(t(i), w(i));\n",
    "    m2 = f(t(i-1), w(i-1));\n",
    "    m3 = f(t(i-2), w(i-2));\n",
    "    w(i+1) = w(i) + (h/12) * (23*m1 - 16*m2 + 5*m3);\n",
    "  endfor\n",
    "endfunction"
   ]
  },
  {
   "cell_type": "markdown",
   "metadata": {
    "collapsed": false
   },
   "source": [
    "### Four-step Adams-Bashforth"
   ]
  },
  {
   "cell_type": "markdown",
   "metadata": {
    "collapsed": false
   },
   "source": [
    "$$\n",
    "\\begin{gathered}\n",
    "w_{0}=\\alpha, \\quad w_{1}=\\alpha_{1}, \\quad w_{2}=\\alpha_{2}, \\quad w_{3}=\\alpha_{3} \\\\\n",
    "w_{i+1}=w_{i}+\\frac{h}{24}\\left[55 f\\left(t_{i}, w_{i}\\right)-59 f\\left(t_{i-1}, w_{i-1}\\right)+37 f\\left(t_{i-2}, w_{i-2}\\right)-9 f\\left(t_{i-3}, w_{i-3}\\right)\\right]\n",
    "\\end{gathered}\n",
    "$$"
   ]
  },
  {
   "cell_type": "markdown",
   "metadata": {
    "collapsed": false
   },
   "source": [
    "Bisa ditulis:\n",
    "\n",
    "$$\n",
    "\\begin{gathered}\n",
    "w_{1}=\\alpha, \\\\\n",
    "w_{2}=\\alpha_{1}, \\quad w_{3}=\\alpha_{2}, \\quad w_{4}=\\alpha_{3} \\\\\n",
    "m_1 = f\\left(t_{i}, w_{i}\\right) \\\\\n",
    "m_2 = f\\left(t_{i-1}, w_{i-1}\\right) \\\\\n",
    "m_3 = f\\left(t_{i-2}, w_{i-2}\\right) \\\\\n",
    "m_4 = f\\left(t_{i-3}, w_{i-3}\\right) \\\\\n",
    "w_{i+1}=w_{i}+\\frac{h}{24}\\left[55 m_1-59 m_2+37 m_3-9 m_4\\right]\n",
    "\\end{gathered}\n",
    "$$"
   ]
  },
  {
   "cell_type": "code",
   "execution_count": 48,
   "metadata": {
    "collapsed": false
   },
   "outputs": [
   ],
   "source": [
    "function [t, w] = adams_bashforth4(f, a, b, N, alpha)\n",
    "  % Inisiasi variabel awal\n",
    "  h = (b - a) / N;\n",
    "  t = zeros(N + 1, 1);\n",
    "  w = zeros(N + 1, 1);\n",
    "  t(1) = a;\n",
    "  w(1) = alpha;\n",
    "  \n",
    "  % Hitung w(2), w(3), w(4) menggunakan metode Runge-Kutta orde 4\n",
    "  for i = 1 : 3\n",
    "      t(i + 1) = t(i) + h;\n",
    "      k1 = h * f(t(i), w(i));\n",
    "      k2 = h * f(t(i) + (h/2), w(i) + (k1/2));\n",
    "      k3 = h * f(t(i) + (h/2), w(i) + (k2/2));\n",
    "      k4 = h * f(t(i + 1), w(i) + k3);\n",
    "      w(i+1) = w(i) + (k1 + 2*k2 + 2*k3 + k4) / 6;\n",
    "  endfor\n",
    "  \n",
    "  % Algoritma utama Adams-Bashforth orde 4\n",
    "  for i = 4 : N\n",
    "    t(i + 1) = t(i) + h;\n",
    "    m1 = f(t(i), w(i));\n",
    "    m2 = f(t(i-1), w(i-1));\n",
    "    m3 = f(t(i-2), w(i-2));\n",
    "    m4 = f(t(i-3), w(i-3));\n",
    "    w(i+1) = w(i) + (h/24) * (55*m1 - 59*m2 + 37*m3 - 9*m4);\n",
    "  endfor\n",
    "endfunction"
   ]
  },
  {
   "cell_type": "markdown",
   "metadata": {
    "collapsed": false
   },
   "source": [
    "### Five-step Adams-Bashforth"
   ]
  },
  {
   "cell_type": "markdown",
   "metadata": {
    "collapsed": false
   },
   "source": [
    "$$\n",
    "\\begin{gathered}\n",
    "w_{0}=\\alpha, \\quad w_{1}=\\alpha_{1}, \\quad w_{2}=\\alpha_{2}, \\quad w_{3}=\\alpha_{3}, \\quad w_{4}=\\alpha_{4}, \\\\\n",
    "w_{i+1}=w_{i}+\\frac{h}{720}\\left[1901 f\\left(t_{i}, w_{i}\\right)-2774 f\\left(t_{i-1}, w_{i-1}\\right)+2616 f\\left(t_{i-2}, w_{i-2}\\right)\\right. \\\\\n",
    "\\left.-1274 f\\left(t_{i-3}, w_{i-3}\\right)+251 f\\left(t_{i-4}, w_{i-4}\\right)\\right]\n",
    "\\end{gathered}\n",
    "$$"
   ]
  },
  {
   "cell_type": "markdown",
   "metadata": {
    "collapsed": false
   },
   "source": [
    "Bisa ditulis:\n",
    "\n",
    "$$\n",
    "\\begin{gathered}\n",
    "w_{1}=\\alpha, \\\\\n",
    "w_{2}=\\alpha_{1}, \\quad w_{3}=\\alpha_{2}, \\quad w_{4}=\\alpha_{3}, \\quad w_{5}=\\alpha_{4}, \\\\\n",
    "m_1 = f\\left(t_{i}, w_{i}\\right) \\\\\n",
    "m_2 = f\\left(t_{i-1}, w_{i-1}\\right) \\\\\n",
    "m_3 = f\\left(t_{i-2}, w_{i-2}\\right) \\\\\n",
    "m_4 = f\\left(t_{i-3}, w_{i-3}\\right) \\\\\n",
    "m_5 = f\\left(t_{i-4}, w_{i-4}\\right) \\\\\n",
    "w_{i+1}=w_{i}+\\frac{h}{720}\\left[1901 m_1-2774 m_2+2616 m_3\\right. \\\\\n",
    "\\left.-1274 m_4+251 m_5\\right]\n",
    "\\end{gathered}\n",
    "$$"
   ]
  },
  {
   "cell_type": "code",
   "execution_count": 0,
   "metadata": {
    "collapsed": false
   },
   "outputs": [
   ],
   "source": [
    "function [t, w] = adams_bashforth4(f, a, b, N, alpha)\n",
    "  % Inisiasi variabel awal\n",
    "  h = (b - a) / N;\n",
    "  t = zeros(N + 1, 1);\n",
    "  w = zeros(N + 1, 1);\n",
    "  t(1) = a;\n",
    "  w(1) = alpha;\n",
    "  \n",
    "  % Hitung w(2), ..., w(5) menggunakan metode Runge-Kutta orde 4\n",
    "  for i = 1 : 4\n",
    "      t(i + 1) = t(i) + h;\n",
    "      k1 = h * f(t(i), w(i));\n",
    "      k2 = h * f(t(i) + (h/2), w(i) + (k1/2));\n",
    "      k3 = h * f(t(i) + (h/2), w(i) + (k2/2));\n",
    "      k4 = h * f(t(i + 1), w(i) + k3);\n",
    "      w(i+1) = w(i) + (k1 + 2*k2 + 2*k3 + k4) / 6;\n",
    "  endfor\n",
    "  \n",
    "  % Algoritma utama Adams-Bashforth orde 5\n",
    "  for i = 5 : N\n",
    "    t(i + 1) = t(i) + h;\n",
    "    m1 = f(t(i), w(i));\n",
    "    m2 = f(t(i-1), w(i-1));\n",
    "    m3 = f(t(i-2), w(i-2));\n",
    "    m4 = f(t(i-3), w(i-3));\n",
    "    m5 = f(t(i-4), w(i-4));\n",
    "    w(i+1) = w(i) + (h/720) * (1901*m1 - 2774*m2 + 2616*m3 -1274*m4 +251*m5);\n",
    "  endfor\n",
    "endfunction"
   ]
  }
 ],
 "metadata": {
  "kernelspec": {
   "argv": [
    "python3",
    "-E",
    "-m",
    "octave_kernel",
    "-f",
    "{connection_file}"
   ],
   "display_name": "Octave 8.2",
   "env": {
   },
   "language": "octave",
   "metadata": {
    "cocalc": {
     "description": "A programming language for scientific computing.",
     "priority": 10,
     "url": "https://octave.org/"
    }
   },
   "name": "octave-8.2",
   "resource_dir": "/ext/jupyter/kernels/octave-8.2"
  },
  "language_info": {
   "file_extension": ".m",
   "help_links": [
    {
     "text": "GNU Octave",
     "url": "https://www.gnu.org/software/octave/support.html"
    },
    {
     "text": "Octave Kernel",
     "url": "https://github.com/Calysto/octave_kernel"
    },
    {
     "text": "MetaKernel Magics",
     "url": "https://metakernel.readthedocs.io/en/latest/source/README.html"
    }
   ],
   "mimetype": "text/x-octave",
   "name": "octave",
   "version": "8.2.0"
  }
 },
 "nbformat": 4,
 "nbformat_minor": 4
}