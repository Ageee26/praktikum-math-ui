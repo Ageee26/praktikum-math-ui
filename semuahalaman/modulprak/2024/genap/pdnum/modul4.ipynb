{
 "cells": [
  {
   "cell_type": "markdown",
   "metadata": {},
   "source": [
    "# Modul 4 Persamaan Diferensial Numerik"
   ]
  },
  {
   "cell_type": "markdown",
   "metadata": {},
   "source": [
    "Kembali ke [Persamaan Diferensial Numerik](./pdnum2024genap.qmd)"
   ]
  },
  {
   "cell_type": "markdown",
   "metadata": {},
   "source": [
    "## Metode Multistep Eksplisit: Metode $n$-step Adams-Bashforth"
   ]
  },
  {
   "cell_type": "markdown",
   "metadata": {},
   "source": [
    "Metode-metode sebelumnya, seperi Euler, Runge-Kutta, dan kawan-kawannya adalah metode jenis one-step, karena di tiap iterasinya kita hanya menggunakan informasi dari satu nilai $t_{i}$. Berikut kita akan mulai membahas mengenai metode multistep, di mana kita menggunakan lebih dari satu nilai $t_{i}$ untuk membuat aproksimasi.\n",
    "\n",
    "Terdapat dua jenis metode multistep, yaitu:\n",
    "\n",
    "- Multistep eksplisit, di mana kita mengaproksimasi nilai pada $t_{i+1}$ menggunakan nilai $t$ sebelumnya.\n",
    "\n",
    "- Multistep implisit, di mana kita mengaproksimasi nilai pada $t_{i+1}$ menggunakan nilai pada $t$ sebelumnya, sekaligus nilai pada $t_{i+1}$ itu sendiri."
   ]
  },
  {
   "cell_type": "markdown",
   "metadata": {},
   "source": [
    "Metode multistep eksplisit yang akan kita bahas adalah **metode $n$-step Adams-Bashforth.**\n",
    "\n",
    "Metode $n$-step Adams-Bashforth menggunakan $n$ titik sebelumnya untuk mengaproksimasi nilai. Karena metode ini adalah metode multistep, maka $n$ nilai awalnya pun harus diperoleh terlebih dahulu. Misal kita ingin menggunakan metode Adams-Bashforth orde 3 , maka $w_{1}, w_{2}$, dan $w_{3}$ harus ada terlebih dahulu sebelum dilanjutkan ke metode Adams-Bashforth. Nilai-nilai awal tersebut dapat diperoleh dari metode-metode one-step sebelumnya, seperti metode Runge-Kutta (biasanya digunakan metode Runge-Kutta orde 4).\n",
    "\n",
    "Berikut rumus untuk metode $n$-step Adams-Bashforth, masing-masing sesuai dengan jumlah step nya."
   ]
  },
  {
   "cell_type": "markdown",
   "metadata": {},
   "source": [
    "### Two-step Adams-Bashforth"
   ]
  },
  {
   "cell_type": "markdown",
   "metadata": {},
   "source": [
    "$$\n",
    "\\begin{gathered}\n",
    "w_{0}=\\alpha, \\quad w_{1}=\\alpha_{1}, \\\\\n",
    "w_{i+1}=w_{i}+\\frac{h}{2}\\left[3 f\\left(t_{i}, w_{i}\\right)-f\\left(t_{i-1}, w_{i-1}\\right)\\right]\n",
    "\\end{gathered}\n",
    "$$"
   ]
  },
  {
   "cell_type": "markdown",
   "metadata": {},
   "source": [
    "Bisa ditulis:\n",
    "\n",
    "$$\n",
    "\\begin{gathered}\n",
    "w_{1}=\\alpha, \\\\\n",
    "w_{2}=\\alpha_1 \\hspace{0.2cm} \\text{(hitung dengan metode Runge-Kutta orde 4)}, \\\\\n",
    "m_1 = f\\left(t_{i}, w_{i}\\right) \\\\\n",
    "m_2 = f\\left(t_{i-1}, w_{i-1}\\right) \\\\\n",
    "w_{i+1}=w_{i}+\\frac{h}{2}\\left[3 m_1-m_2\\right]\n",
    "\\end{gathered}\n",
    "$$"
   ]
  },
  {
   "cell_type": "code",
   "execution_count": null,
   "metadata": {},
   "outputs": [],
   "source": [
    "function [t, w] = adams_bashforth2(f, a, b, N, alpha)\n",
    "  % Inisiasi variabel awal\n",
    "  h = (b - a) / N;\n",
    "  t = zeros(N + 1, 1);\n",
    "  w = zeros(N + 1, 1);\n",
    "  t(1) = a;\n",
    "  w(1) = alpha;\n",
    "  \n",
    "  % Hitung w(2) menggunakan metode Runge-Kutta orde 4\n",
    "  i = 1;\n",
    "  t(i + 1) = t(i) + h;\n",
    "  k1 = h * f(t(i), w(i));\n",
    "  k2 = h * f(t(i) + (h/2), w(i) + (k1/2));\n",
    "  k3 = h * f(t(i) + (h/2), w(i) + (k2/2));\n",
    "  k4 = h * f(t(i + 1), w(i) + k3);\n",
    "  w(i+1) = w(i) + (k1 + 2*k2 + 2*k3 + k4) / 6;\n",
    "  \n",
    "  % Algoritma utama Adams-Bashforth orde 2\n",
    "  for i = 2 : N\n",
    "    t(i + 1) = t(i) + h;\n",
    "    m1 = f(t(i), w(i));\n",
    "    m2 = f(t(i-1), w(i-1));\n",
    "    w(i+1) = w(i) + (h/2) * (3*m1 - m2);\n",
    "  endfor\n",
    "endfunction"
   ]
  },
  {
   "cell_type": "markdown",
   "metadata": {},
   "source": [
    "Misalkan diberikan MNA sebagai berikut, yang ingin diselesaikan secara numerik dengan $N = 10$:\n",
    "\n",
    "$$y' = y - t^2 + 1$$\n",
    "$$0 \\le t \\le 2$$\n",
    "$$y(0) = 0.5$$\n",
    "\n",
    "yang kebetulan memiliki solusi eksak:\n",
    "\n",
    "$$y\\left(t\\right) = \\left( t + 1 \\right)^2 - 0.5 e^t$$"
   ]
  },
  {
   "cell_type": "markdown",
   "metadata": {},
   "source": [
    "Contoh penggunaan:"
   ]
  },
  {
   "cell_type": "code",
   "execution_count": null,
   "metadata": {},
   "outputs": [
    {
     "name": "stdout",
     "output_type": "stream",
     "text": [
      "ans =\r\n",
      "\r\n",
      "        0   0.5000   0.5000        0\r\n",
      "   0.2000   0.8293   0.8293   0.0000\r\n",
      "   0.4000   1.2161   1.2141   0.0020\r\n",
      "   0.6000   1.6540   1.6489   0.0050\r\n",
      "   0.8000   2.1366   2.1272   0.0093\r\n",
      "   1.0000   2.6561   2.6409   0.0153\r\n",
      "   1.2000   3.2033   3.1799   0.0234\r\n",
      "   1.4000   3.7667   3.7324   0.0343\r\n",
      "   1.6000   4.3324   4.2835   0.0489\r\n",
      "   1.8000   4.8834   4.8152   0.0682\r\n",
      "   2.0000   5.3992   5.3055   0.0937\r\n",
      "\r\n"
     ]
    },
    {
     "data": {
      "image/png": "[encoded data removed]",
      "text/plain": [
       "<IPython.core.display.Image object>"
      ]
     },
     "metadata": {},
     "output_type": "display_data"
    }
   ],
   "source": [
    "f = @(t, y) y - t .^ 2 + 1;\n",
    "a = 0;\n",
    "b = 2;\n",
    "alpha = 0.5;\n",
    "N = 10;\n",
    "\n",
    "[t, w] = adams_bashforth2(f, a, b, N, alpha);\n",
    "\n",
    "sln = @(t) (t + 1) .^ 2 - 0.5 * exp(t);\n",
    "y_eksak = sln(t);\n",
    "\n",
    "err_ab2 = abs(y_eksak - w);\n",
    "\n",
    "[t, w, y_eksak, err_ab2]\n",
    "\n",
    "hold on;\n",
    "fplot(sln, [0, 2], 'b');\n",
    "scatter(t1, w1, 'r');"
   ]
  },
  {
   "cell_type": "markdown",
   "metadata": {},
   "source": [
    "### Three-step Adams-Bashforth"
   ]
  },
  {
   "cell_type": "markdown",
   "metadata": {},
   "source": [
    "$$\n",
    "\\begin{gathered}\n",
    "w_{0}=\\alpha, \\quad w_{1}=\\alpha_{1}, \\quad w_{2}=\\alpha_{2}, \\\\\n",
    "w_{i+1}=w_{i}+\\frac{h}{12}\\left[23 f\\left(t_{i}, w_{i}\\right)-16 f\\left(t_{i-1}, w_{i-1}\\right)+5 f\\left(t_{i-2}, w_{i-2}\\right)\\right]\n",
    "\\end{gathered}\n",
    "$$"
   ]
  },
  {
   "cell_type": "markdown",
   "metadata": {},
   "source": [
    "Bisa ditulis:\n",
    "\n",
    "$$\n",
    "\\begin{gathered}\n",
    "w_{1}=\\alpha, \\\\\n",
    "w_{2}=\\alpha_{1}, \\quad w_{3}=\\alpha_{2}, \\\\\n",
    "m_1 = f\\left(t_{i}, w_{i}\\right) \\\\\n",
    "m_2 = f\\left(t_{i-1}, w_{i-1}\\right) \\\\\n",
    "m_3 = f\\left(t_{i-2}, w_{i-2}\\right) \\\\\n",
    "w_{i+1}=w_{i}+\\frac{h}{12}\\left[23 m_1-16 m_2+5 m_3\\right]\n",
    "\\end{gathered}\n",
    "$$"
   ]
  },
  {
   "cell_type": "code",
   "execution_count": null,
   "metadata": {},
   "outputs": [],
   "source": [
    "function [t, w] = adams_bashforth3(f, a, b, N, alpha)\n",
    "  % Inisiasi variabel awal\n",
    "  h = (b - a) / N;\n",
    "  t = zeros(N + 1, 1);\n",
    "  w = zeros(N + 1, 1);\n",
    "  t(1) = a;\n",
    "  w(1) = alpha;\n",
    "  \n",
    "  % Hitung w(2), w(3) menggunakan metode Runge-Kutta orde 4\n",
    "  for i = 1 : 2\n",
    "      t(i + 1) = t(i) + h;\n",
    "      k1 = h * f(t(i), w(i));\n",
    "      k2 = h * f(t(i) + (h/2), w(i) + (k1/2));\n",
    "      k3 = h * f(t(i) + (h/2), w(i) + (k2/2));\n",
    "      k4 = h * f(t(i + 1), w(i) + k3);\n",
    "      w(i+1) = w(i) + (k1 + 2*k2 + 2*k3 + k4) / 6;\n",
    "  endfor\n",
    "  \n",
    "  % Algoritma utama Adams-Bashforth orde 3\n",
    "  for i = 3 : N\n",
    "    t(i + 1) = t(i) + h;\n",
    "    m1 = f(t(i), w(i));\n",
    "    m2 = f(t(i-1), w(i-1));\n",
    "    m3 = f(t(i-2), w(i-2));\n",
    "    w(i+1) = w(i) + (h/12) * (23*m1 - 16*m2 + 5*m3);\n",
    "  endfor\n",
    "endfunction"
   ]
  },
  {
   "cell_type": "markdown",
   "metadata": {},
   "source": [
    "### Four-step Adams-Bashforth"
   ]
  },
  {
   "cell_type": "markdown",
   "metadata": {},
   "source": [
    "$$\n",
    "\\begin{gathered}\n",
    "w_{0}=\\alpha, \\quad w_{1}=\\alpha_{1}, \\quad w_{2}=\\alpha_{2}, \\quad w_{3}=\\alpha_{3} \\\\\n",
    "w_{i+1}=w_{i}+\\frac{h}{24}\\left[55 f\\left(t_{i}, w_{i}\\right)-59 f\\left(t_{i-1}, w_{i-1}\\right)+37 f\\left(t_{i-2}, w_{i-2}\\right)-9 f\\left(t_{i-3}, w_{i-3}\\right)\\right]\n",
    "\\end{gathered}\n",
    "$$"
   ]
  },
  {
   "cell_type": "markdown",
   "metadata": {},
   "source": [
    "Bisa ditulis:\n",
    "\n",
    "$$\n",
    "\\begin{gathered}\n",
    "w_{1}=\\alpha, \\\\\n",
    "w_{2}=\\alpha_{1}, \\quad w_{3}=\\alpha_{2}, \\quad w_{4}=\\alpha_{3} \\\\\n",
    "m_1 = f\\left(t_{i}, w_{i}\\right) \\\\\n",
    "m_2 = f\\left(t_{i-1}, w_{i-1}\\right) \\\\\n",
    "m_3 = f\\left(t_{i-2}, w_{i-2}\\right) \\\\\n",
    "m_4 = f\\left(t_{i-3}, w_{i-3}\\right) \\\\\n",
    "w_{i+1}=w_{i}+\\frac{h}{24}\\left[55 m_1-59 m_2+37 m_3-9 m_4\\right]\n",
    "\\end{gathered}\n",
    "$$"
   ]
  },
  {
   "cell_type": "code",
   "execution_count": null,
   "metadata": {},
   "outputs": [],
   "source": [
    "function [t, w] = adams_bashforth4(f, a, b, N, alpha)\n",
    "  % Inisiasi variabel awal\n",
    "  h = (b - a) / N;\n",
    "  t = zeros(N + 1, 1);\n",
    "  w = zeros(N + 1, 1);\n",
    "  t(1) = a;\n",
    "  w(1) = alpha;\n",
    "  \n",
    "  % Hitung w(2), w(3), w(4) menggunakan metode Runge-Kutta orde 4\n",
    "  for i = 1 : 3\n",
    "      t(i + 1) = t(i) + h;\n",
    "      k1 = h * f(t(i), w(i));\n",
    "      k2 = h * f(t(i) + (h/2), w(i) + (k1/2));\n",
    "      k3 = h * f(t(i) + (h/2), w(i) + (k2/2));\n",
    "      k4 = h * f(t(i + 1), w(i) + k3);\n",
    "      w(i+1) = w(i) + (k1 + 2*k2 + 2*k3 + k4) / 6;\n",
    "  endfor\n",
    "  \n",
    "  % Algoritma utama Adams-Bashforth orde 4\n",
    "  for i = 4 : N\n",
    "    t(i + 1) = t(i) + h;\n",
    "    m1 = f(t(i), w(i));\n",
    "    m2 = f(t(i-1), w(i-1));\n",
    "    m3 = f(t(i-2), w(i-2));\n",
    "    m4 = f(t(i-3), w(i-3));\n",
    "    w(i+1) = w(i) + (h/24) * (55*m1 - 59*m2 + 37*m3 - 9*m4);\n",
    "  endfor\n",
    "endfunction"
   ]
  },
  {
   "cell_type": "markdown",
   "metadata": {},
   "source": [
    "### Five-step Adams-Bashforth"
   ]
  },
  {
   "cell_type": "markdown",
   "metadata": {},
   "source": [
    "$$\n",
    "\\begin{gathered}\n",
    "w_{0}=\\alpha, \\quad w_{1}=\\alpha_{1}, \\quad w_{2}=\\alpha_{2}, \\quad w_{3}=\\alpha_{3}, \\quad w_{4}=\\alpha_{4}, \\\\\n",
    "w_{i+1}=w_{i}+\\frac{h}{720}\\left[1901 f\\left(t_{i}, w_{i}\\right)-2774 f\\left(t_{i-1}, w_{i-1}\\right)+2616 f\\left(t_{i-2}, w_{i-2}\\right)\\right. \\\\\n",
    "\\left.-1274 f\\left(t_{i-3}, w_{i-3}\\right)+251 f\\left(t_{i-4}, w_{i-4}\\right)\\right]\n",
    "\\end{gathered}\n",
    "$$"
   ]
  },
  {
   "cell_type": "markdown",
   "metadata": {},
   "source": [
    "Bisa ditulis:\n",
    "\n",
    "$$\n",
    "\\begin{gathered}\n",
    "w_{1}=\\alpha, \\\\\n",
    "w_{2}=\\alpha_{1}, \\quad w_{3}=\\alpha_{2}, \\quad w_{4}=\\alpha_{3}, \\quad w_{5}=\\alpha_{4}, \\\\\n",
    "m_1 = f\\left(t_{i}, w_{i}\\right) \\\\\n",
    "m_2 = f\\left(t_{i-1}, w_{i-1}\\right) \\\\\n",
    "m_3 = f\\left(t_{i-2}, w_{i-2}\\right) \\\\\n",
    "m_4 = f\\left(t_{i-3}, w_{i-3}\\right) \\\\\n",
    "m_5 = f\\left(t_{i-4}, w_{i-4}\\right) \\\\\n",
    "w_{i+1}=w_{i}+\\frac{h}{720}\\left[1901 m_1-2774 m_2+2616 m_3\\right. \\\\\n",
    "\\left.-1274 m_4+251 m_5\\right]\n",
    "\\end{gathered}\n",
    "$$"
   ]
  },
  {
   "cell_type": "code",
   "execution_count": null,
   "metadata": {},
   "outputs": [],
   "source": [
    "function [t, w] = adams_bashforth4(f, a, b, N, alpha)\n",
    "  % Inisiasi variabel awal\n",
    "  h = (b - a) / N;\n",
    "  t = zeros(N + 1, 1);\n",
    "  w = zeros(N + 1, 1);\n",
    "  t(1) = a;\n",
    "  w(1) = alpha;\n",
    "  \n",
    "  % Hitung w(2), ..., w(5) menggunakan metode Runge-Kutta orde 4\n",
    "  for i = 1 : 4\n",
    "      t(i + 1) = t(i) + h;\n",
    "      k1 = h * f(t(i), w(i));\n",
    "      k2 = h * f(t(i) + (h/2), w(i) + (k1/2));\n",
    "      k3 = h * f(t(i) + (h/2), w(i) + (k2/2));\n",
    "      k4 = h * f(t(i + 1), w(i) + k3);\n",
    "      w(i+1) = w(i) + (k1 + 2*k2 + 2*k3 + k4) / 6;\n",
    "  endfor\n",
    "  \n",
    "  % Algoritma utama Adams-Bashforth orde 5\n",
    "  for i = 5 : N\n",
    "    t(i + 1) = t(i) + h;\n",
    "    m1 = f(t(i), w(i));\n",
    "    m2 = f(t(i-1), w(i-1));\n",
    "    m3 = f(t(i-2), w(i-2));\n",
    "    m4 = f(t(i-3), w(i-3));\n",
    "    m5 = f(t(i-4), w(i-4));\n",
    "    w(i+1) = w(i) + (h/720) * (1901*m1 - 2774*m2 + 2616*m3 -1274*m4 +251*m5);\n",
    "  endfor\n",
    "endfunction"
   ]
  }
 ],
 "metadata": {
  "kernelspec": {
   "display_name": "Octave",
   "language": "octave",
   "name": "octave"
  },
  "language_info": {
   "name": "octave"
  }
 },
 "nbformat": 4,
 "nbformat_minor": 2
}
