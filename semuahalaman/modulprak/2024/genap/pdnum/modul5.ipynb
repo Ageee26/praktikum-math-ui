{
 "cells": [
  {
   "cell_type": "markdown",
   "id": "553187d2",
   "metadata": {},
   "source": [
    "# Modul 5 Persamaan Diferensial Numerik: Metode Multistep"
   ]
  },
  {
   "cell_type": "markdown",
   "id": "855fb8b8",
   "metadata": {},
   "source": [
    "Kembali ke [Persamaan Diferensial Numerik](./pdnum2024genap.qmd)"
   ]
  },
  {
   "cell_type": "markdown",
   "id": "d749d4be",
   "metadata": {},
   "source": [
    "## Sistem Persamaan Diferensial"
   ]
  },
  {
   "cell_type": "markdown",
   "id": "e11beea3",
   "metadata": {},
   "source": [
    "### Bentuk umum"
   ]
  },
  {
   "cell_type": "markdown",
   "id": "b991d8aa",
   "metadata": {},
   "source": [
    "Bentuk umum sistem Persamaan Diferensial:\n",
    "\n",
    "$u'_1 = f_1(t,u_1,u_2,...,u_m)$\n",
    "\n",
    "$u'_2 = f_2(t,u_1,u_2,...,u_m)$\n",
    "\n",
    "$...$\n",
    "\n",
    "$u'_m = f_m(t,u_1,u_2,...,u_m)$\n",
    "\n",
    "dengan:\n",
    "\n",
    "$a \\leq t \\leq b$\n",
    "\n",
    "$u_1(a)=a_1, u_2(a)=a_2, ..., u_m(a)=a_m$ (initial value)"
   ]
  },
  {
   "cell_type": "markdown",
   "id": "8e7be02b",
   "metadata": {},
   "source": [
    "Bentuk umum algoritma metode untuk sistem PDB orde 1"
   ]
  },
  {
   "cell_type": "markdown",
   "id": "1810b255",
   "metadata": {},
   "source": [
    "```\n",
    "for i = 1 : N do\n",
    "    for R in (rumus-rumus untuk iterasi ke-i) do\n",
    "        for j = 1 : m do\n",
    "            Hitung R dengan f_j\n",
    "        endfor\n",
    "    endfor\n",
    "endfor\n",
    "```"
   ]
  },
  {
   "cell_type": "markdown",
   "id": "8c5fb9cd",
   "metadata": {},
   "source": [
    "Misalnya, apabila ada lima rumus (seperti dalam metode Runge-Kutta orde 4), algoritma untuk sistem menjadi:"
   ]
  },
  {
   "cell_type": "markdown",
   "id": "4bffa948",
   "metadata": {},
   "source": [
    "```\n",
    "for i = 1 : N do\n",
    "    for j = 1 : m do\n",
    "        Hitung Rumus1 dengan f_j\n",
    "    endfor\n",
    "\n",
    "    for j = 1 : m do\n",
    "        Hitung Rumus2 dengan f_j\n",
    "    endfor\n",
    "\n",
    "    for j = 1 : m do\n",
    "        Hitung Rumus3 dengan f_j\n",
    "    endfor\n",
    "\n",
    "    for j = 1 : m do\n",
    "        Hitung Rumus4 dengan f_j\n",
    "    endfor\n",
    "\n",
    "    for j = 1 : m do\n",
    "        Hitung Rumus5 dengan f_j\n",
    "    endfor\n",
    "endfor\n",
    "```"
   ]
  },
  {
   "cell_type": "markdown",
   "id": "09b0a81c",
   "metadata": {},
   "source": [
    "Apabila misalnya rumus pada iterasi 1, 2, 3 berbeda dengan rumus pada iterasi 4+ (seperti untuk metode Adams predictor-corrector orde 4), algoritma untuk sistem bisa seperti berikut:"
   ]
  },
  {
   "cell_type": "markdown",
   "id": "ce53f09b",
   "metadata": {},
   "source": [
    "```\n",
    "for i = 1 : 3 do\n",
    "    for j = 1 : m do\n",
    "        Hitung Rumus1 dengan f_j\n",
    "    endfor\n",
    "\n",
    "    for j = 1 : m do\n",
    "        Hitung Rumus2 dengan f_j\n",
    "    endfor\n",
    "\n",
    "    for j = 1 : m do\n",
    "        Hitung Rumus3 dengan f_j\n",
    "    endfor\n",
    "\n",
    "    for j = 1 : m do\n",
    "        Hitung Rumus4 dengan f_j\n",
    "    endfor\n",
    "\n",
    "    for j = 1 : m do\n",
    "        Hitung Rumus5 dengan f_j\n",
    "    endfor \n",
    "endfor\n",
    "\n",
    "for i = 4 : N do\n",
    "    for j = 1 : m do\n",
    "        Hitung Rumus1 dengan f_j\n",
    "    endfor\n",
    "\n",
    "    for j = 1 : m do\n",
    "        Hitung Rumus2 dengan f_j\n",
    "    endfor\n",
    "endfor\n",
    "```"
   ]
  },
  {
   "attachments": {},
   "cell_type": "markdown",
   "id": "b7a1e915",
   "metadata": {},
   "source": [
    "### Function file: (fourth-order) Runge-Kutta for systems\n",
    "\n",
    "Pada modul ini, akan dibahas mengenai metode Runge-Kutta untuk menyelesaikan sistem persamaan diferensial. Berikut merupakan code dari metode Runge-Kutta untuk sistem persamaan diferensial pada Octave yang perlu disimpan pada function file."
   ]
  },
  {
   "cell_type": "markdown",
   "id": "ea65837c",
   "metadata": {},
   "source": [
    "Untuk dua PDB:"
   ]
  },
  {
   "cell_type": "code",
   "execution_count": null,
   "id": "28b472ae",
   "metadata": {},
   "outputs": [],
   "source": [
    "function [t, w1, w2] = rko4_sys2(f1, f2, a, b, n, alph1, alph2)\n",
    "  h = (b - a)/n;\n",
    "  t = w1 = w2 = [];\n",
    "  t(1) = a;\n",
    "  w1(1) = alph1;\n",
    "  w2(1) = alph2;\n",
    "  for i = 1:n\n",
    "    k11 = h * f1(t(i), w1(i), w2(i));\n",
    "    k12 = h * f2(t(i), w1(i), w2(i));\n",
    "\n",
    "    k21 = h * f1((t(i)+(h/2)), (w1(i)+(k11/2)), (w2(i)+(k12/2)));\n",
    "    k22 = h * f2((t(i)+(h/2)), (w1(i)+(k11/2)), (w2(i)+(k12/2)));\n",
    "\n",
    "    k31 = h * f1((t(i)+(h/2)), (w1(i)+(k21/2)), (w2(i)+(k22/2)));\n",
    "    k32 = h * f2((t(i)+(h/2)), (w1(i)+(k21/2)), (w2(i)+(k22/2)));\n",
    "\n",
    "    k41 = h * f1((t(i)+h), (w1(i)+k31), (w2(i)+k32));\n",
    "    k42 = h * f2((t(i)+h), (w1(i)+k31), (w2(i)+k32));\n",
    "\n",
    "    w1(i+1) = w1(i) + (k11 + 2*k21 + 2*k31 + k41)/6;\n",
    "    w2(i+1) = w2(i) + (k12 + 2*k22 + 2*k32 + k42)/6;\n",
    "    t(i+1) = a + i*h;\n",
    "  endfor\n",
    "endfunction"
   ]
  },
  {
   "cell_type": "markdown",
   "id": "2877edf3",
   "metadata": {},
   "source": [
    "Untuk m PDB:"
   ]
  },
  {
   "cell_type": "code",
   "execution_count": 3,
   "id": "c7217818",
   "metadata": {},
   "outputs": [],
   "source": [
    "function [t, w] = rko4_sysm(cell_f, a, b, N, alphas)\n",
    "  m = length(cell_f);\n",
    "\n",
    "  h = (b - a) / N;\n",
    "  t = zeros(N + 1, 1);\n",
    "  w = zeros(m, N + 1);\n",
    "  t(1) = a;\n",
    "  w(:, 1) = alphas;\n",
    "\n",
    "  k1 = zeros(m, 1);\n",
    "  k2 = zeros(m, 1);\n",
    "  k3 = zeros(m, 1);\n",
    "  k4 = zeros(m, 1);\n",
    "  for i = 1 : N\n",
    "    t(i + 1) = t(i) + h;\n",
    "\n",
    "    for j = 1 : m\n",
    "      k1(j) = h * cell_f{j}(t(i), w(:, i));\n",
    "    endfor\n",
    "\n",
    "    for j = 1 : m\n",
    "      k2(j) = h * cell_f{j}(t(i) + (h / 2), w(:, i) + (k1 / 2));\n",
    "    endfor\n",
    "\n",
    "    for j = 1 : m\n",
    "      k3(j) = h * cell_f{j}(t(i) + (h / 2), w(:, i) + (k2 / 2));\n",
    "    endfor\n",
    "\n",
    "    for j = 1 : m\n",
    "      k4(j) = h * cell_f{j}(t(i + 1), w(:, i) + k3);\n",
    "    endfor\n",
    "\n",
    "    for j = 1 : m\n",
    "      w(j, i + 1) = w(j, i) + (k1(j) + 2 * k2(j) + 2 * k3(j) + k4(j)) / 6;\n",
    "    endfor\n",
    "  endfor\n",
    "endfunction"
   ]
  },
  {
   "cell_type": "markdown",
   "id": "b9626b74",
   "metadata": {},
   "source": [
    "### Contoh sistem PD\n",
    "\n",
    "$u'_1 = -4u_1+3u_2+6, \\;u_1(0)=0$\n",
    "\n",
    "$u'_2 = -2.4u_1+1.6u_2+3.6, \\;u_2(0)=0$\n",
    "\n",
    "Akan diuji dengan $h=0.1$ dan $0\\leq t \\leq 0.5$\n",
    "\n",
    "Solusi eksak:\n",
    "\n",
    "$u_1(t)=-3.375e^{-2t}+1.875e^{-0.4t}+1.5$\n",
    "\n",
    "$u_2(t) = -2.25e^{-2t}+2.25e^{-0.4t}$"
   ]
  },
  {
   "cell_type": "markdown",
   "id": "f1687c55",
   "metadata": {},
   "source": [
    "Berikut adalah code script file untuk menjalankan function metode Runge-Kutta untuk sistem PD di atas (menggunakan yang khusus dua persamaan):"
   ]
  },
  {
   "cell_type": "code",
   "execution_count": null,
   "id": "ee5e5b89",
   "metadata": {},
   "outputs": [],
   "source": [
    "f1 = @(t, y1, y2) (-4*y1 + 3*y2 + 6);\n",
    "f2 = @(t, y1, y2) (-2.4*y1 + 1.6*y2 + 3.6);\n",
    "\n",
    "a = 0;\n",
    "b = 0.5;\n",
    "n = 5;\n",
    "alph1 = 0;\n",
    "alph2 = 0;\n",
    "\n",
    "[t, w1, w2] = rko4_sys2(f1, f2, a, b, n, alph1, alph2);\n",
    "\n",
    "sln1 = @(t) (-3.375*exp(-2*t) + 1.875*exp(-0.4*t) + 1.5);\n",
    "sln2 = @(t) (-2.25*exp(-2*t) + 2.25*exp(-0.4*t));\n",
    "\n",
    "w1ex = w2ex = [];\n",
    "for i = 1:length(t)\n",
    "  w1ex(i) = sln1(t(i));\n",
    "  w2ex(i) = sln2(t(i));\n",
    "endfor\n",
    "\n",
    "[t', w1', w2', w1ex', w2ex']\n",
    "\n",
    "hold on;\n",
    "fplot(sln1, [0, 0.5], 'r');\n",
    "fplot(sln2, [0, 0.5], 'b');\n",
    "scatter(t, w1, 'r');\n",
    "scatter(t, w2, 'b');\n",
    "legend('u1', 'u2');\n",
    "legend('location', 'northwest');"
   ]
  },
  {
   "attachments": {
    "image-3.png": {
     "image/png": "[encoded data removed]"
    },
    "image.png": {
     "image/png": "[encoded data removed]"
    }
   },
   "cell_type": "markdown",
   "id": "8a9a91df",
   "metadata": {},
   "source": [
    "Jika kita run script file tersebut, maka program akan mengeluarkan dua macam output, yaitu tabel serta plot perbandingan solusi eksak dan aproksimasi seperti di bawah ini:\n",
    "\n",
    "![image.png](attachment:image.png)\n",
    "\n",
    "![image-3.png](attachment:image-3.png)"
   ]
  },
  {
   "cell_type": "markdown",
   "id": "69b4a65e",
   "metadata": {},
   "source": [
    "Berikut conoth script file menggunakan kode yang untuk m persamaan."
   ]
  },
  {
   "cell_type": "code",
   "execution_count": 5,
   "id": "cacaa6c1",
   "metadata": {},
   "outputs": [
    {
     "name": "stdout",
     "output_type": "stream",
     "text": [
      "ans =\n",
      "\n",
      "        0        0        0        0        0\n",
      "   0.1000   0.5383   0.3196   0.5383   0.3196\n",
      "   0.2000   0.9685   0.5688   0.9685   0.5688\n",
      "   0.3000   1.3107   0.7607   1.3107   0.7607\n",
      "   0.4000   1.5813   0.9063   1.5813   0.9063\n",
      "   0.5000   1.7935   1.0144   1.7935   1.0144\n",
      "\n"
     ]
    },
    {
     "data": {
      "image/png": "[encoded data removed]",
      "text/plain": [
       "<IPython.core.display.Image object>"
      ]
     },
     "metadata": {},
     "output_type": "display_data"
    }
   ],
   "source": [
    "f1 = @(t, y) (-4*y(1) + 3*y(2) + 6);\n",
    "f2 = @(t, y) (-2.4*y(1) + 1.6*y(2) + 3.6);\n",
    "\n",
    "a = 0;\n",
    "b = 0.5;\n",
    "N = 5;\n",
    "alpha1 = 0;\n",
    "alpha2 = 0;\n",
    "\n",
    "[t, w] = rko4_sysm({f1, f2}, a, b, N, [alpha1, alpha2]);\n",
    "\n",
    "sln1 = @(t) (-3.375*exp(-2*t) + 1.875*exp(-0.4*t) + 1.5);\n",
    "sln2 = @(t) (-2.25*exp(-2*t) + 2.25*exp(-0.4*t));\n",
    "\n",
    "w1ex = zeros(N+1, 1);\n",
    "w2ex = zeros(N+1, 1);\n",
    "for i = 1:length(t)\n",
    "  w1ex(i) = sln1(t(i));\n",
    "  w2ex(i) = sln2(t(i));\n",
    "endfor\n",
    "\n",
    "[t, w', w1ex, w2ex]\n",
    "\n",
    "hold on;\n",
    "fplot(sln1, [0, 0.5], 'r');\n",
    "fplot(sln2, [0, 0.5], 'b');\n",
    "scatter(t, w(1, :), 'r');\n",
    "scatter(t, w(2, :), 'b');\n",
    "legend('u1', 'u2');\n",
    "legend('location', 'northwest');"
   ]
  },
  {
   "cell_type": "markdown",
   "id": "bbcad4d4",
   "metadata": {},
   "source": [
    "Sebenarnya, kita bisa saja menampilkan dua plot yang terpisah, menggunakan perintah `figure`"
   ]
  },
  {
   "cell_type": "code",
   "execution_count": 8,
   "id": "f522418f",
   "metadata": {},
   "outputs": [
    {
     "name": "stdout",
     "output_type": "stream",
     "text": [
      "ans =\n",
      "\n",
      "        0        0        0        0        0\n",
      "   0.1000   0.5383   0.3196   0.5383   0.3196\n",
      "   0.2000   0.9685   0.5688   0.9685   0.5688\n",
      "   0.3000   1.3107   0.7607   1.3107   0.7607\n",
      "   0.4000   1.5813   0.9063   1.5813   0.9063\n",
      "   0.5000   1.7935   1.0144   1.7935   1.0144\n",
      "\n"
     ]
    },
    {
     "data": {
      "image/png": "[encoded data removed]",
      "text/plain": [
       "<IPython.core.display.Image object>"
      ]
     },
     "metadata": {},
     "output_type": "display_data"
    },
    {
     "data": {
      "image/png": "[encoded data removed]",
      "text/plain": [
       "<IPython.core.display.Image object>"
      ]
     },
     "metadata": {},
     "output_type": "display_data"
    }
   ],
   "source": [
    "f1 = @(t, y) (-4*y(1) + 3*y(2) + 6);\n",
    "f2 = @(t, y) (-2.4*y(1) + 1.6*y(2) + 3.6);\n",
    "\n",
    "a = 0;\n",
    "b = 0.5;\n",
    "N = 5;\n",
    "alpha1 = 0;\n",
    "alpha2 = 0;\n",
    "\n",
    "[t, w] = rko4_sysm({f1, f2}, a, b, N, [alpha1, alpha2]);\n",
    "\n",
    "sln1 = @(t) (-3.375*exp(-2*t) + 1.875*exp(-0.4*t) + 1.5);\n",
    "sln2 = @(t) (-2.25*exp(-2*t) + 2.25*exp(-0.4*t));\n",
    "\n",
    "w1ex = zeros(N+1, 1);\n",
    "w2ex = zeros(N+1, 1);\n",
    "for i = 1:length(t)\n",
    "  w1ex(i) = sln1(t(i));\n",
    "  w2ex(i) = sln2(t(i));\n",
    "endfor\n",
    "\n",
    "[t, w', w1ex, w2ex]\n",
    "\n",
    "figure;\n",
    "hold on;\n",
    "fplot(sln1, [0, 0.5], 'g');\n",
    "scatter(t, w(1, :), 'r');\n",
    "title(\"Aproksimasi u1\");\n",
    "legend(\"u1 (eksak)\", \"w1,j (aproksimasi)\")\n",
    "legend('location', 'northwest');\n",
    "\n",
    "figure;\n",
    "hold on;\n",
    "fplot(sln2, [0, 0.5], 'g');\n",
    "scatter(t, w(2, :), 'b');\n",
    "title(\"Aproksimasi u2\");\n",
    "legend(\"u2 (eksak)\", \"w2,j (aproksimasi)\")\n",
    "legend('location', 'northwest');"
   ]
  },
  {
   "cell_type": "markdown",
   "id": "33468a2d",
   "metadata": {},
   "source": [
    "## Linear Shooting Method"
   ]
  },
  {
   "cell_type": "markdown",
   "id": "e5dec773",
   "metadata": {},
   "source": [
    "### Bentuk Umum\n",
    "Linear Shooting merupakan metode untuk menyelesaikan masalah PD berbentuk:\n",
    "\n",
    "$-y'' + p(x)y' + q(x)y + r(x) = 0, \\;a\\leq x\\leq b$\n",
    "\n",
    "$y(a)=\\alpha, \\;y(b)=\\beta$"
   ]
  },
  {
   "cell_type": "markdown",
   "id": "f312d251",
   "metadata": {},
   "source": [
    "### Function File\n",
    "\n",
    "```octave\n",
    "function [x_i, w_1i, w_2i] = linshoot(p, q, r, a, b, n, alpha, beta)\n",
    "  h = (b - a)/n;\n",
    "  u = [alpha ; 0];\n",
    "  v = [0 ; 1];\n",
    "  x_i = w_1i = w_2i = [];\n",
    "  for i = 1:n\n",
    "    x = a + (i-1)*h;\n",
    "\n",
    "    k_11 = h * u(2,i);\n",
    "    k_12 = h * (p(x)*u(2,i) + q(x)*u(1,i) + r(x));\n",
    "\n",
    "    k_21 = h * (u(2,i)+(k_12/2));\n",
    "    k_22 = h * (p(x+(h/2))*(u(2,i)+(k_12/2)) + q(x+(h/2))*(u(1,i)+(k_11/2)) + r(x+(h/2)));\n",
    "\n",
    "    k_31 = h * (u(2,i)+(k_22/2));\n",
    "    k_32 = h * (p(x+(h/2))*(u(2,i)+(k_22/2)) + q(x+(h/2))*(u(1,i)+(k_21/2)) + r(x+(h/2)));\n",
    "\n",
    "    k_41 = h * (u(2,i)+k_32);\n",
    "    k_42 = h * (p(x+h)*(u(2,i)+k_32) + q(x+h)*(u(1,i)+k_31) + r(x+h));\n",
    "\n",
    "    u(1,i+1) = u(1,i) + ((k_11 + 2*k_21 + 2*k_31 + k_41)/6);\n",
    "    u(2,i+1) = u(2,i) + ((k_12 + 2*k_22 + 2*k_32 + k_42)/6);\n",
    "\n",
    "    kp_11 = h * v(2,i);\n",
    "    kp_12 = h * (p(x)*v(2,i) + q(x)*v(1,i));\n",
    "\n",
    "    kp_21 = h * (v(2,i) + (kp_12/2));\n",
    "    kp_22 = h * (p(x+(h/2))*(v(2,i)+(kp_12/2)) + q(x+(h/2))*(v(1,i)+(kp_11/2)));\n",
    "\n",
    "    kp_31 = h * (v(2,i)+(kp_22/2));\n",
    "    kp_32 = h * (p(x+(h/2))*(v(2,i)+(kp_22/2)) + q(x+(h/2))*(v(1,i)+(kp_21/2)));\n",
    "\n",
    "    kp_41 = h * (v(2,i)+kp_32);\n",
    "    kp_42 = h * (p(x+h)*(v(2,i)+kp_32) + q(x+h)*(v(1,i)+kp_31));\n",
    "\n",
    "    v(1,i+1) = v(1,i) + (kp_11 + 2*kp_21 + 2*kp_31 + kp_41)/6;\n",
    "    v(2,i+1) = v(2,i) + (kp_12 + 2*kp_22 + 2*kp_32 + kp_42)/6;\n",
    "  endfor\n",
    "\n",
    "  w = [alpha ; ((beta - u(1,(n+1))) / v(1,(n+1)))];\n",
    "  x_i(1) = a;\n",
    "  w_1i(1) = w(1,1);\n",
    "  w_2i(1) = w(2,1);\n",
    "\n",
    "  for i = 2:(n+1)\n",
    "    W1 = u(1,i) + w(2,1)*v(1,i);\n",
    "    W2 = u(2,i) + w(2,1)*v(2,i);\n",
    "    x = a + (i-1)*h;\n",
    "    x_i(i) = x;\n",
    "    w_1i(i) = W1;\n",
    "    w_2i(i) = W2;\n",
    "  endfor\n",
    "endfunction\n",
    "```"
   ]
  },
  {
   "cell_type": "markdown",
   "id": "4afef6dc",
   "metadata": {},
   "source": [
    "### Contoh Linear Shooting\n",
    "\n",
    "$y'' = -\\frac{2}{x}y' + \\frac{2}{x^2}y + \\frac{\\sin(\\ln(x))}{x^2}, \\; 1\\leq x\\leq 2$\n",
    "\n",
    "$y(1)=1,\\; y(2)=2$\n",
    "\n",
    "dengan $n=10$\n",
    "\n",
    "dan solusi eksak:\n",
    "\n",
    "$y=c_1x+\\frac{c_2}{x^2} - \\frac{3}{10}\\sin(\\ln(x))-\\frac{1}{10}cos(\\ln(x))$\n",
    "\n",
    "$c_2 = \\frac{1}{70}(8-12\\sin(\\ln(2)) - 4\\cos(\\ln(2)))$\n",
    "\n",
    "$c_1 = \\frac{11}{10}-c_2$"
   ]
  },
  {
   "cell_type": "markdown",
   "id": "15c34f93",
   "metadata": {},
   "source": [
    "Berikut code script file untuk permasalahan di atas menggunakan metode linear shooting:\n",
    "\n",
    "```octave\n",
    "p = @(x) (-2*(x^(-1)));\n",
    "q = @(x) (2*(x^(-2)));\n",
    "r = @(x) (sin(log(x))*(x^(-2)));\n",
    "a = 1;\n",
    "b = 2;\n",
    "alph = 1;\n",
    "bet = 2;\n",
    "\n",
    "[xi, w1i, w2i] = linshoot(p, q, r, a, b, 10, alph, bet);\n",
    "\n",
    "c2 = (8-12*sin(log(2)) - 4*cos(log(2)))/70;\n",
    "c1 = (11/10) - c2;\n",
    "sln = @(x) (c1*x + (c2*x^(-2)) - (3/10)*sin(log(x)) - (1/10)*cos(log(x)));\n",
    "w = [];\n",
    "for i = 1:length(xi)\n",
    "  w(i) = sln(xi(i));\n",
    "endfor\n",
    "\n",
    "[xi', w1i', w']\n",
    "\n",
    "hold on;\n",
    "fplot(sln, [1,2], 'k');\n",
    "scatter(xi, w1i, '-r');\n",
    "legend('Eksak', 'Aproksimasi');\n",
    "legend('location', 'northwest');\n",
    "```"
   ]
  },
  {
   "attachments": {
    "image-2.png": {
     "image/png": "[encoded data removed]"
    },
    "image.png": {
     "image/png": "[encoded data removed]"
    }
   },
   "cell_type": "markdown",
   "id": "ade89591",
   "metadata": {},
   "source": [
    "Jika kita run script file tersebut, maka program akan mengeluarkan dua macam output, yaitu tabel serta plot perbandingan solusi eksak dan aproksimasi seperti di bawah ini:\n",
    "\n",
    "![image.png](attachment:image.png)\n",
    "\n",
    "![image-2.png](attachment:image-2.png)"
   ]
  },
  {
   "cell_type": "markdown",
   "id": "31aea0f7",
   "metadata": {},
   "source": [
    "## Nonlinear Shooting Method"
   ]
  },
  {
   "cell_type": "markdown",
   "id": "6cfadfb8",
   "metadata": {},
   "source": [
    "### Bentuk umum\n",
    "\n",
    "Nonlinear Shooting digunakan untuk menyelesaikan masalah PD berbentuk:\n",
    "\n",
    "$y'' = f(x, y, y'), \\; a\\leq x \\leq b$\n",
    "\n",
    "$y(a)=\\alpha, \\; y(b)=\\beta$\n",
    "\n",
    "dimana, $f$ merupakan fungsi nonlinear"
   ]
  },
  {
   "cell_type": "markdown",
   "id": "10d99dbe",
   "metadata": {},
   "source": [
    "### Function file\n",
    "\n",
    "```octave\n",
    "function [x_i, w_1i, w_2i] = nonlinshoot(f, fy, fyp, a, b, n, alpha, beta, m, tol)  % m adalah maksimum iterasi\n",
    "  h = (b - a)/n;\n",
    "  k = 1;\n",
    "  tk = (beta - alpha)/(b - a);\n",
    "  x_i = w_1i = w_2i = [];\n",
    "  while k <= m\n",
    "    w = [alpha;tk];\n",
    "    u = [0,1];\n",
    "    for i = 1:n\n",
    "      x = a + (i-1)*h;\n",
    "\n",
    "      k_11 = h*w(2,i);\n",
    "      k_12 = h*f(x, w(1,i), w(2,i));\n",
    "\n",
    "      k_21 = h*(w(2,i)+(k_12/2));\n",
    "      k_22 = h*f((x+(h/2)), (w(1,i)+(k_11/2)), (w(2,i)+(k_12/2)));\n",
    "\n",
    "      k_31 = h*(w(2,i)+(k_22/2));\n",
    "      k_32 = h*f((x+(h/2)), (w(1,i)+(k_21/2)), (w(2,i)+(k_22/2)));\n",
    "\n",
    "      k_41 = h*(w(2,i)+k_32);\n",
    "      k_42 = h*f((x+h), (w(1,i)+k_31), (w(2,i)+k_32));\n",
    "\n",
    "      w(1,i+1) = w(1,i) + ((k_11 + 2*k_21 + 2*k_31 + k_41)/6);\n",
    "      w(2,i+1) = w(2,i) + ((k_12 + 2*k_22 + 2*k_32 + k_42)/6);\n",
    "\n",
    "      kp_11 = h*u(2);\n",
    "      kp_12 = h*(fy(x, w(1,i), w(2,i))*u(1) + fyp(x, w(1,i), w(2,i))*u(2));\n",
    "\n",
    "      kp_21 = h*(u(2) + (kp_12/2));\n",
    "      kp_22 = h*(fy((x+(h/2)), w(1,i), w(2,i))*u(1) + fyp((x+(h/2)), w(1,i), w(2,i))*(u(2) + (kp_12/2)));\n",
    "\n",
    "      kp_31 = h*(u(2)+(kp_22/2));\n",
    "      kp_32 = h*(fy((x+(h/2)), w(1,i), w(2,i))*(u(1) + (kp_21/2)) + fyp((x+(h/2)), w(1,i), w(2,i))*(u(2) + (kp_22/2)));\n",
    "\n",
    "      kp_41 = h*(u(2)+kp_32);\n",
    "      kp_42 = h*(fy((x+h), w(1,i), w(2,i))*(u(1)+kp_31) + fyp((x+h), w(1,i), w(2,i))*(u(2) + kp_32));\n",
    "\n",
    "      u(1) = u(1) + (kp_11 + 2*kp_21 + 2*kp_31 + kp_41)/6;\n",
    "      u(2) = u(2) + (kp_12 + 2*kp_22 + 2*kp_32 + kp_42)/6;\n",
    "    endfor\n",
    "\n",
    "  if abs(w(1,n+1) - beta) <= tol       % jika sudah mencapai batas toleransi maka program berhenti\n",
    "    for i = 1:(n+1)\n",
    "      x = a+(i-1)*h;\n",
    "      x_i(i) = x;\n",
    "      w_1i(i) = w(1,i);\n",
    "      w_2i(i) = w(2,i);\n",
    "    endfor\n",
    "    return\n",
    "  endif\n",
    "  tk = tk-((w(1,n+1) - beta)/u(1));\n",
    "  k = k + 1;\n",
    "  endwhile\n",
    "  disp('max iteration')\n",
    "endfunction\n",
    "```"
   ]
  },
  {
   "cell_type": "markdown",
   "id": "c10c713e",
   "metadata": {},
   "source": [
    "### Contoh Nonlinear Shooting\n",
    "\n",
    "$y'' = \\frac{1}{8}(32+2x^3-yy'), \\; 1\\leq x \\leq 3$\n",
    "\n",
    "$y(1) = 17, \\; y(3)=43/3$\n",
    "\n",
    "dengan $n=20$, $m=10$, dan toleransi $=10^{-5}$\n",
    "\n",
    "dan solusi eksak:\n",
    "\n",
    "$y(x)=x^2 + \\frac{16}{x}$"
   ]
  },
  {
   "cell_type": "markdown",
   "id": "dd8895b2",
   "metadata": {},
   "source": [
    "Berikut code script file untuk permasalahan di atas menggunakan metode linear shooting:\n",
    "\n",
    "```octave\n",
    "f = @(x, y, yp) ((1/8)*(32 + 2*x^3 - y*yp));\n",
    "fy = @(x, y, yp) (-yp/8);\n",
    "fyp = @(x, y, yp) (-y/8);\n",
    "a = 1;\n",
    "b = 3;\n",
    "n = 20;\n",
    "alph = 17;\n",
    "bet = 43/3;\n",
    "m = 10;\n",
    "tol = 10^(-5);\n",
    "\n",
    "[xi, w1i, w2i] = nonlinshoot(f, fy, fyp, a, b, n, alph, bet, m, tol);\n",
    "\n",
    "sln = @(x) ((x^2) + (16/x));\n",
    "w = [];\n",
    "for i = 1:length(xi)\n",
    "  w(i) = sln(xi(i));\n",
    "endfor\n",
    "\n",
    "[xi', w1i', w']\n",
    "\n",
    "hold on;\n",
    "fplot(sln, [1,3], 'k');\n",
    "scatter(xi, w1i, 'r');\n",
    "legend('Eksak', 'Aproksimasi');\n",
    "```"
   ]
  },
  {
   "attachments": {
    "image-2.png": {
     "image/png": "[encoded data removed]"
    },
    "image.png": {
     "image/png": "[encoded data removed]"
    }
   },
   "cell_type": "markdown",
   "id": "658bfbfe",
   "metadata": {},
   "source": [
    "Jika kita run script file tersebut, maka program akan mengeluarkan dua macam output, yaitu tabel serta plot perbandingan solusi eksak dan aproksimasi seperti di bawah ini:\n",
    "\n",
    "![image.png](attachment:image.png)\n",
    "\n",
    "![image-2.png](attachment:image-2.png)"
   ]
  }
 ],
 "metadata": {
  "kernelspec": {
   "display_name": "Octave",
   "language": "octave",
   "name": "octave"
  },
  "language_info": {
   "file_extension": ".m",
   "help_links": [
    {
     "text": "GNU Octave",
     "url": "https://www.gnu.org/software/octave/support.html"
    },
    {
     "text": "Octave Kernel",
     "url": "https://github.com/Calysto/octave_kernel"
    },
    {
     "text": "MetaKernel Magics",
     "url": "https://metakernel.readthedocs.io/en/latest/source/README.html"
    }
   ],
   "mimetype": "text/x-octave",
   "name": "octave",
   "version": "6.2.0"
  }
 },
 "nbformat": 4,
 "nbformat_minor": 5
}
